{
 "cells": [
  {
   "cell_type": "code",
   "execution_count": 1,
   "id": "3169127f-e8f5-45d3-897c-d57eee0ffe34",
   "metadata": {},
   "outputs": [],
   "source": [
    "class ListNode:\n",
    "    \n",
    "    def __init__(self, val=0, next=None):\n",
    "        self.val = val\n",
    "        self.next = next"
   ]
  },
  {
   "cell_type": "code",
   "execution_count": null,
   "id": "7378b5c3-31a6-4fbb-b29e-1973c306c49b",
   "metadata": {},
   "outputs": [],
   "source": [
    "\n",
    "class Solution:\n",
    "\n",
    "    def addTwoNumbers(self, \n",
    "                      l1: Optional[ListNode], \n",
    "                      l2: Optional[ListNode]) -> Optional[ListNode]:\n",
    "\n",
    "\n",
    "        carry = 0\n",
    "        dummy = ListNode(-1)\n",
    "        tail = dummy.next\n",
    "\n",
    "        while l1 or l2 or carry:\n",
    "            \n",
    "            l1_val = l1.val if l1 else 0\n",
    "            l2_val = l2.val if l2 else 0\n",
    "\n",
    "            v = l1_val + l2_val + carry\n",
    "\n",
    "            carry = v "
   ]
  }
 ],
 "metadata": {
  "kernelspec": {
   "display_name": "llms",
   "language": "python",
   "name": "llms"
  },
  "language_info": {
   "codemirror_mode": {
    "name": "ipython",
    "version": 3
   },
   "file_extension": ".py",
   "mimetype": "text/x-python",
   "name": "python",
   "nbconvert_exporter": "python",
   "pygments_lexer": "ipython3",
   "version": "3.10.10"
  }
 },
 "nbformat": 4,
 "nbformat_minor": 5
}
