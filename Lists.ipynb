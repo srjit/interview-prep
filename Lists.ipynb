{
 "cells": [
  {
   "cell_type": "code",
   "execution_count": 26,
   "id": "a151c2ee-530e-4da5-98e8-051dc726af98",
   "metadata": {},
   "outputs": [
    {
     "data": {
      "text/plain": [
       "0"
      ]
     },
     "execution_count": 26,
     "metadata": {},
     "output_type": "execute_result"
    }
   ],
   "source": [
    "class Solution:\n",
    "    \n",
    "    def compareVersion(self, version1: str, version2: str) -> int:\n",
    "\n",
    "        _v1 = [int(x) for x in version1.split(\".\")]\n",
    "        _v2 = [int(x) for x in version2.split(\".\")]\n",
    "\n",
    "        maxlen = max(len(_v1), len(_v2))\n",
    "        _v1 = _v1 + [0] * (maxlen - len(_v1))\n",
    "        _v2 = _v2 + [0] * (maxlen - len(_v2))\n",
    "\n",
    "        v1 = int(\"\".join([str(x) for x in _v1]))\n",
    "        v2 = int(\"\".join([str(x) for x in _v2]))\n",
    "        \n",
    "        diff = v1 - v2\n",
    "        if diff == 0:\n",
    "            return 0\n",
    "        elif diff > 0:\n",
    "            return -1\n",
    "        return 1\n",
    "\n",
    "\n",
    "Solution().compareVersion(\"1.01\", \"1.001\")"
   ]
  },
  {
   "cell_type": "code",
   "execution_count": 28,
   "id": "b74a7635-f6d4-4d05-8c8c-483c21cf9d3d",
   "metadata": {},
   "outputs": [],
   "source": [
    "from typing import List"
   ]
  },
  {
   "cell_type": "code",
   "execution_count": 30,
   "id": "d4f1506f-e4fc-4d7a-ae0a-6cb02b8657bc",
   "metadata": {},
   "outputs": [],
   "source": [
    "class Solution:\n",
    "    def numRescueBoats(self, people: List[int], limit: int) -> int:\n",
    "        \n",
    "        people.sort()\n",
    "        l, r = 0, len(people)-1\n",
    "        res = 0\n",
    "        while l <= r:\n",
    "            if people[l]+people[r] <= limit:\n",
    "                r-=1\n",
    "                l+=1\n",
    "            else:\n",
    "                r-=1\n",
    "            res+=1\n",
    "        return res"
   ]
  },
  {
   "cell_type": "code",
   "execution_count": 22,
   "id": "0f0c4d3b-d73d-4a41-966e-7d4ac409d439",
   "metadata": {},
   "outputs": [
    {
     "data": {
      "text/plain": [
       "(0.4, 2, 5)"
      ]
     },
     "execution_count": 22,
     "metadata": {},
     "output_type": "execute_result"
    }
   ],
   "source": [
    "from typing import List\n",
    "from collections import deque\n",
    "\n",
    "class Solution:\n",
    "    def kthSmallestPrimeFraction(self, arr: List[int], k: int) -> List[int]:\n",
    "\n",
    "        q = []\n",
    "        arr.sort()\n",
    "        i, j = 0, len(arr)-1\n",
    "\n",
    "        _min = 1\n",
    "        for i in range(len(arr)-1):\n",
    "            for j in range(i, len(arr)):\n",
    "                frac = arr[i]/arr[j]\n",
    "                #tmp = min(frac, _min)\n",
    "                q.append((frac, arr[i], arr[j]))\n",
    "\n",
    "        q.sort(key=lambda x: x[0])\n",
    "        return [q[k-1][1], q[k-1][2]] \n",
    "                \n",
    "\n",
    "Solution().kthSmallestPrimeFraction([1,2,3,5], k=3)"
   ]
  },
  {
   "cell_type": "code",
   "execution_count": 6,
   "id": "4dd355a4-b708-4cf9-8209-49e3e28a8050",
   "metadata": {},
   "outputs": [
    {
     "data": {
      "text/plain": [
       "['0->2', '4->5', '7']"
      ]
     },
     "execution_count": 6,
     "metadata": {},
     "output_type": "execute_result"
    }
   ],
   "source": [
    "from typing import List\n",
    "\n",
    "class Solution:\n",
    "    def summaryRanges(self, nums: List[int]) -> List[str]:\n",
    "        \n",
    "        ranges = []\n",
    "        start = nums[0]\n",
    "        nums.append(-1)\n",
    "        \n",
    "        for i in range(1,len(nums)):\n",
    "            \n",
    "            if nums[i] != (nums[i-1] + 1):\n",
    "                \n",
    "                end = nums[i-1]\n",
    "                if start == end:\n",
    "                    ranges.append(str(nums[i-1]))\n",
    "                else:\n",
    "                    ranges.append(str(start) + \"->\" + str(end))\n",
    "                start = nums[i]\n",
    "            \n",
    "        return ranges\n",
    "\n",
    "\n",
    "Solution().summaryRanges([0,1,2,4,5,7])"
   ]
  },
  {
   "cell_type": "code",
   "execution_count": 39,
   "id": "d24e3108-895e-4149-a671-04b1fb6785e4",
   "metadata": {},
   "outputs": [],
   "source": [
    "# Definition for singly-linked list.\n",
    "from typing import Optional\n",
    "\n",
    "class ListNode:\n",
    "    def __init__(self, val=0, next=None):\n",
    "        self.val = val\n",
    "        self.next = next\n",
    "        \n",
    "class Solution:\n",
    "    def rotateRight(self, head: Optional[ListNode], k: int) -> Optional[ListNode]:\n",
    "        \n",
    "        if not head:\n",
    "            return head\n",
    "\n",
    "        dummy = ListNode(0)\n",
    "        dummy.next = head\n",
    "\n",
    "        limit = 0\n",
    "        while head:\n",
    "            head = head.next\n",
    "            limit += 1\n",
    "\n",
    "        rotations = k % limit\n",
    "\n",
    "        if rotations == 0:\n",
    "            return dummy.next\n",
    "            \n",
    "        cnt = 1\n",
    "        head = dummy.next\n",
    "        while cnt != limit-rotations:\n",
    "            head = head.next\n",
    "            cnt += 1\n",
    "        new = head.next\n",
    "        head.next = None\n",
    "\n",
    "        op_dummy = ListNode(0)\n",
    "        op_dummy.next = new        \n",
    "        while new.next:\n",
    "            new = new.next\n",
    "        \n",
    "        new.next = dummy.next\n",
    "        return op_dummy.next\n",
    "            \n",
    "\n",
    "op = Solution().rotateRight(ListNode(1, None), k=1)"
   ]
  },
  {
   "cell_type": "code",
   "execution_count": 41,
   "id": "35c532da-1945-4413-bf84-9992084d18a6",
   "metadata": {},
   "outputs": [],
   "source": [
    "op.next"
   ]
  },
  {
   "cell_type": "code",
   "execution_count": 62,
   "id": "afbf9fbf-8b5e-43b9-a8b8-bafa6a303709",
   "metadata": {},
   "outputs": [],
   "source": [
    "# Definition for singly-linked list.\n",
    "from typing import Optional\n",
    "\n",
    "class ListNode:\n",
    "    def __init__(self, val=0, next=None):\n",
    "        self.val = val\n",
    "        self.next = next\n",
    "        \n",
    "class Solution:\n",
    "    \n",
    "    def deleteDuplicates(self, head: Optional[ListNode]) -> Optional[ListNode]:\n",
    "\n",
    "        if not head or not head.next:\n",
    "            return head\n",
    "        \n",
    "        dummy = ListNode()\n",
    "        dummy.next = head\n",
    "\n",
    "        prev = dummy\n",
    "        curr = head\n",
    "\n",
    "        while curr and curr.next:\n",
    "\n",
    "            if curr.val == curr.next.val:\n",
    "                while curr.next and curr.val == curr.next.val:\n",
    "                    curr = curr.next\n",
    "                prev.next = curr.next\n",
    "                curr = curr.next\n",
    "            else:\n",
    "                prev = curr\n",
    "                curr = curr.next\n",
    "\n",
    "        return dummy.next\n",
    "\n",
    "# [1,2,3,3,4,4,5]\n",
    "#op = Solution().deleteDuplicates(ListNode(1, ListNode(2, ListNode(3, ListNode(3, ListNode(4, ListNode(4, ListNode(5, None))))))))\n",
    "op = Solution().deleteDuplicates(ListNode(1, ListNode(2, ListNode(3, ListNode(3, ListNode(3, ListNode(4, ListNode(4, ListNode(5, None)))))))))"
   ]
  },
  {
   "cell_type": "code",
   "execution_count": 66,
   "id": "6a480301-7d9e-4342-873e-4dbbaf4abd4b",
   "metadata": {},
   "outputs": [
    {
     "data": {
      "text/plain": [
       "5"
      ]
     },
     "execution_count": 66,
     "metadata": {},
     "output_type": "execute_result"
    }
   ],
   "source": [
    "op.next.next.val"
   ]
  },
  {
   "cell_type": "code",
   "execution_count": null,
   "id": "7b108f96-e809-4ad8-8f59-c6edf77cf714",
   "metadata": {},
   "outputs": [],
   "source": []
  }
 ],
 "metadata": {
  "kernelspec": {
   "display_name": "Python 3 (ipykernel)",
   "language": "python",
   "name": "python3"
  },
  "language_info": {
   "codemirror_mode": {
    "name": "ipython",
    "version": 3
   },
   "file_extension": ".py",
   "mimetype": "text/x-python",
   "name": "python",
   "nbconvert_exporter": "python",
   "pygments_lexer": "ipython3",
   "version": "3.10.10"
  }
 },
 "nbformat": 4,
 "nbformat_minor": 5
}
