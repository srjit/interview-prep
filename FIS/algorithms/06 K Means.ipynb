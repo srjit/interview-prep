{
 "cells": [
  {
   "cell_type": "code",
   "execution_count": 6,
   "id": "f33ae755-f111-4d55-b01f-857c56796e7b",
   "metadata": {},
   "outputs": [],
   "source": [
    "actual = [1, 1, 1, 0, 1, 0, 1, 1]\n",
    "predicted = [1, 1, 1, 0, 0, 1, 1, 1]"
   ]
  },
  {
   "cell_type": "code",
   "execution_count": 9,
   "id": "b1c2336d-5409-4332-9574-5da2e40b9bb5",
   "metadata": {},
   "outputs": [
    {
     "data": {
      "text/plain": [
       "([[5, 1], [1, 1]], 0.8333333333333334, 0.5)"
      ]
     },
     "execution_count": 9,
     "metadata": {},
     "output_type": "execute_result"
    }
   ],
   "source": [
    "def confusion_matrix(a, p):\n",
    "\n",
    "    tp = tn = fp = fn = 0\n",
    "\n",
    "    \n",
    "    for i, x in enumerate(a):\n",
    "        if x == 1:\n",
    "            if p[i] == 1:\n",
    "                tp += 1\n",
    "            else:\n",
    "                fn += 1\n",
    "        if x == 0:\n",
    "            if p[i] == 0:\n",
    "                tn += 1\n",
    "            else:\n",
    "                fp += 1\n",
    "\n",
    "    sensitivity = tp / (tp+fn) if (tp+fn != 0) else 0\n",
    "    specificity = tn / (fp + tn) if (tn+fp != 0) else 0\n",
    "    \n",
    "    return [[tp, fn],[fp, tn]], sensitivity, specificity\n",
    "\n",
    "\n",
    "matrix = confusion_matrix(actual, predicted)    \n",
    "matrix        "
   ]
  },
  {
   "cell_type": "code",
   "execution_count": null,
   "id": "53f8de06-6faa-4dbc-a61f-b107581a481f",
   "metadata": {},
   "outputs": [],
   "source": [
    "            predicted\n",
    "            |pos|neg|\n",
    "        ----\n",
    "        pos: tp | fn\n",
    "actual  -------------\n",
    "        neg: fp | tn\n",
    "\n",
    "\n",
    "# False positive : Type 1 error\n",
    "# False negative : Type 2 error"
   ]
  },
  {
   "cell_type": "code",
   "execution_count": null,
   "id": "59884d0b-171b-4efe-8ba1-8511911e1a3d",
   "metadata": {},
   "outputs": [],
   "source": [
    "## Sensitivity or recall\n",
    "\n",
    " --> tp / (tp+fn)  # predicted true positives / (true positives) + (false negatives)\n",
    "\n",
    "\n",
    "# true positives / predicted positives\n",
    "\n",
    "## Specificity\n",
    "\n",
    " --> tn/(tn+fp)  # true negatives / (true negatives + false)\n",
    "\n",
    "# true negatives / predicted negatives\n",
    "\n",
    "## Precision\n",
    "\n",
    " --> tp / (tp+fp)\n",
    "\n",
    "\n",
    "\n",
    " "
   ]
  },
  {
   "cell_type": "code",
   "execution_count": 11,
   "id": "eecdb7b4-38ae-463d-8371-88daacce8b7e",
   "metadata": {},
   "outputs": [
    {
     "name": "stdout",
     "output_type": "stream",
     "text": [
      "            value  rolling_sum\n",
      "date                          \n",
      "2023-01-01      0          1.0\n",
      "2023-01-02      1          2.0\n",
      "2023-01-03      2          3.0\n",
      "2023-01-04      3          4.0\n",
      "2023-01-05      4          5.0\n",
      "...           ...          ...\n",
      "2023-04-06     95         30.0\n",
      "2023-04-07     96         30.0\n",
      "2023-04-08     97         30.0\n",
      "2023-04-09     98         30.0\n",
      "2023-04-10     99         30.0\n",
      "\n",
      "[100 rows x 2 columns]\n"
     ]
    }
   ],
   "source": [
    "import pandas as pd\n",
    "\n",
    "# Sample DataFrame with datetime index\n",
    "data = {\n",
    "    'date': pd.date_range(start='2023-01-01', periods=100, freq='D'),\n",
    "    'value': range(100)\n",
    "}\n",
    "df = pd.DataFrame(data)\n",
    "df.set_index('date', inplace=True)\n",
    "\n",
    "# Create a 30-day rolling window and calculate the sum for each window\n",
    "df['rolling_sum'] = df['value'].rolling('30D').count()\n",
    "\n",
    "print(df)\n"
   ]
  },
  {
   "cell_type": "code",
   "execution_count": null,
   "id": "01de5e03-0439-4ebe-b847-210e7d5f0354",
   "metadata": {},
   "outputs": [],
   "source": []
  }
 ],
 "metadata": {
  "kernelspec": {
   "display_name": "Python 3 (ipykernel)",
   "language": "python",
   "name": "python3"
  },
  "language_info": {
   "codemirror_mode": {
    "name": "ipython",
    "version": 3
   },
   "file_extension": ".py",
   "mimetype": "text/x-python",
   "name": "python",
   "nbconvert_exporter": "python",
   "pygments_lexer": "ipython3",
   "version": "3.10.10"
  }
 },
 "nbformat": 4,
 "nbformat_minor": 5
}
