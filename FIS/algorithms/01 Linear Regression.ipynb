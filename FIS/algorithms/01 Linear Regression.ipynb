{
 "cells": [
  {
   "cell_type": "code",
   "execution_count": 1,
   "id": "a5752904-7502-45b6-a455-1dcb95673532",
   "metadata": {},
   "outputs": [],
   "source": [
    "import numpy as np"
   ]
  },
  {
   "cell_type": "code",
   "execution_count": 2,
   "id": "5d558dad-3a9c-4a14-b27c-c1fc0b96d50a",
   "metadata": {},
   "outputs": [
    {
     "data": {
      "text/plain": [
       "array([[1. , 1. , 3. , 2. ],\n",
       "       [1. , 2. , 3. , 2.2]])"
      ]
     },
     "execution_count": 2,
     "metadata": {},
     "output_type": "execute_result"
    }
   ],
   "source": [
    "X = np.array([[1, 3, 2], [2, 3, 2.2]])\n",
    "np.ones(len(X))\n",
    "\n",
    "np.c_[np.ones((X.shape[0], 1)), X]"
   ]
  },
  {
   "cell_type": "code",
   "execution_count": 3,
   "id": "ee52f2af-2907-4484-9448-a2e51d3e3d30",
   "metadata": {},
   "outputs": [
    {
     "data": {
      "text/plain": [
       "array([[1. , 3. , 2. ],\n",
       "       [2. , 3. , 2.2]])"
      ]
     },
     "execution_count": 3,
     "metadata": {},
     "output_type": "execute_result"
    }
   ],
   "source": [
    "X"
   ]
  },
  {
   "cell_type": "code",
   "execution_count": 4,
   "id": "4447d48e-1507-477c-af31-c4d53a2bc2d3",
   "metadata": {},
   "outputs": [
    {
     "data": {
      "text/plain": [
       "array([[1. , 1. , 3. , 2. ],\n",
       "       [1. , 2. , 3. , 2.2]])"
      ]
     },
     "execution_count": 4,
     "metadata": {},
     "output_type": "execute_result"
    }
   ],
   "source": [
    "np.c_[np.ones((X.shape[0], 1)), X]"
   ]
  },
  {
   "cell_type": "code",
   "execution_count": 5,
   "id": "c87068a0-f0df-46e7-9161-000075e34b2a",
   "metadata": {},
   "outputs": [],
   "source": [
    "class LinearRegression:\n",
    "\n",
    "    def __init__(self):\n",
    "        self.weights = None\n",
    "\n",
    "    def fit(self, X, y):\n",
    "\n",
    "        # this will be new X; adding 1 for the bias term\n",
    "        X_b = np.c_[np.ones((X.shape[0], 1)), X]\n",
    "\n",
    "        self.weights = np.linalg.inv(X_b.T.dot(X_b)).dot(X_b.T).dot(y)\n",
    "\n",
    "\n",
    "    def predict(self, X):\n",
    "        \n",
    "        X_b = np.c_[np.ones((X.shape[0], 1)), X]\n",
    "        return X_b.dot(self.weights)\n",
    "\n",
    "X = np.array([[1], [2], [3], [4], [5]])  # Feature (input)\n",
    "y = np.array([3, 7, 9, 11, 13])  \n",
    "\n",
    "lr = LinearRegression()    \n",
    "lr.fit(X, y)\n",
    "predictions = lr.predict(X)"
   ]
  },
  {
   "cell_type": "code",
   "execution_count": 6,
   "id": "405cdaee-4742-4e1f-bd77-88731c016a2b",
   "metadata": {},
   "outputs": [
    {
     "data": {
      "text/plain": [
       "array([ 3.8,  6.2,  8.6, 11. , 13.4])"
      ]
     },
     "execution_count": 6,
     "metadata": {},
     "output_type": "execute_result"
    }
   ],
   "source": [
    "predictions"
   ]
  },
  {
   "cell_type": "code",
   "execution_count": 7,
   "id": "90a2491e-8891-452e-a5d8-a79255a84046",
   "metadata": {},
   "outputs": [
    {
     "name": "stdout",
     "output_type": "stream",
     "text": [
      "Predictions: [ 3.8  6.2  8.6 11.  13.4]\n",
      "Weights: [1.4 2.4]\n"
     ]
    }
   ],
   "source": [
    "print(\"Predictions:\", predictions)\n",
    "print(\"Weights:\", lr.weights)"
   ]
  },
  {
   "cell_type": "code",
   "execution_count": 20,
   "id": "f7dc987f-9821-477a-926f-1470c84c961a",
   "metadata": {},
   "outputs": [],
   "source": [
    "##\n",
    "\n",
    "class LinearRegression2:\n",
    "\n",
    "    def __init__(self, iterations=10, learning_rate=0.001):\n",
    "\n",
    "        self.weights = None\n",
    "        self.iterations = iterations\n",
    "        self.learning_rate = learning_rate\n",
    "\n",
    "    \n",
    "    def fit(self, X, y):\n",
    "\n",
    "        X_b = np.c_[np.ones((X.shape[0], 1)), X]\n",
    "        \n",
    "        self.weights = np.zeros(X_b.shape[1])\n",
    "        for _ in range(self.iterations):\n",
    "\n",
    "            predictions = X_b.dot(self.weights)\n",
    "            error = predictions - y\n",
    "            \n",
    "            # 2/m (X * error)\n",
    "            gradients = (2 / X_b.shape[0]) * X_b.T.dot(error)\n",
    "\n",
    "            # update gradients\n",
    "            self.weights = self.weights - (self.learning_rate * gradients)\n",
    "\n",
    "\n",
    "    def predict(self, X):\n",
    "\n",
    "        X_b = np.c_[np.ones(X.shape[0], 1), X]\n",
    "        return X_b.dot(self.weights)"
   ]
  },
  {
   "cell_type": "code",
   "execution_count": 21,
   "id": "7424245c-3c3f-4f40-bb1a-b859f3f8fd65",
   "metadata": {},
   "outputs": [],
   "source": [
    "# Sample data\n",
    "X = np.array([[1], [2], [3], [4], [5]])  # Feature (input)\n",
    "y = np.array([3, 7, 9, 11, 13])  # Target (output)\n",
    "\n",
    "model = LinearRegression2()\n",
    "model.fit(X, y)\n",
    "predictions = lr.predict(X)"
   ]
  },
  {
   "cell_type": "code",
   "execution_count": 22,
   "id": "4b6851a5-c15c-4e30-a20b-27f6482312ba",
   "metadata": {},
   "outputs": [
    {
     "data": {
      "text/plain": [
       "array([ 3.8,  6.2,  8.6, 11. , 13.4])"
      ]
     },
     "execution_count": 22,
     "metadata": {},
     "output_type": "execute_result"
    }
   ],
   "source": [
    "predictions"
   ]
  },
  {
   "cell_type": "code",
   "execution_count": null,
   "id": "0743d074-69a9-4315-955d-6fa10e3b0751",
   "metadata": {},
   "outputs": [],
   "source": []
  }
 ],
 "metadata": {
  "kernelspec": {
   "display_name": "llms",
   "language": "python",
   "name": "llms"
  },
  "language_info": {
   "codemirror_mode": {
    "name": "ipython",
    "version": 3
   },
   "file_extension": ".py",
   "mimetype": "text/x-python",
   "name": "python",
   "nbconvert_exporter": "python",
   "pygments_lexer": "ipython3",
   "version": "3.10.10"
  }
 },
 "nbformat": 4,
 "nbformat_minor": 5
}
