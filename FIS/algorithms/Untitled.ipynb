{
 "cells": [
  {
   "cell_type": "code",
   "execution_count": 1,
   "id": "435771f4-35cf-4f01-a5e2-1da21614c063",
   "metadata": {},
   "outputs": [],
   "source": [
    "import requests"
   ]
  },
  {
   "cell_type": "code",
   "execution_count": 2,
   "id": "a5386f1a-47cc-4b82-af31-8955fb87652c",
   "metadata": {},
   "outputs": [],
   "source": [
    "lat=39.099724\n",
    "lon=-94.578331\n",
    "appid=\"\"\n",
    "\n",
    "url = f\"https://api.openweathermap.org/data/2.5/weather?lat={lat}&lon={lon}&appid={appid}\"\n",
    "headers = {\n",
    "    'Accept': 'application/json'\n",
    "}"
   ]
  },
  {
   "cell_type": "code",
   "execution_count": 3,
   "id": "1ebafcf9-1df5-414d-bddf-2369eadbb2a7",
   "metadata": {},
   "outputs": [
    {
     "data": {
      "text/plain": [
       "{'coord': {'lon': -94.5786, 'lat': 39.0997},\n",
       " 'weather': [{'id': 800,\n",
       "   'main': 'Clear',\n",
       "   'description': 'clear sky',\n",
       "   'icon': '01d'}],\n",
       " 'base': 'stations',\n",
       " 'main': {'temp': 301.61,\n",
       "  'feels_like': 300.59,\n",
       "  'temp_min': 300.64,\n",
       "  'temp_max': 302.67,\n",
       "  'pressure': 1016,\n",
       "  'humidity': 30,\n",
       "  'sea_level': 1016,\n",
       "  'grnd_level': 984},\n",
       " 'visibility': 10000,\n",
       " 'wind': {'speed': 3.09, 'deg': 0},\n",
       " 'clouds': {'all': 0},\n",
       " 'dt': 1728596354,\n",
       " 'sys': {'type': 2,\n",
       "  'id': 47709,\n",
       "  'country': 'US',\n",
       "  'sunrise': 1728562995,\n",
       "  'sunset': 1728604004},\n",
       " 'timezone': -18000,\n",
       " 'id': 4393217,\n",
       " 'name': 'Kansas City',\n",
       " 'cod': 200}"
      ]
     },
     "execution_count": 3,
     "metadata": {},
     "output_type": "execute_result"
    }
   ],
   "source": [
    "try:\n",
    "    response = requests.get(url)\n",
    "    if response.status_code == 200:\n",
    "        data = response.json()\n",
    "    else:\n",
    "        print(\"Failed to get data...\")\n",
    "\n",
    "except:\n",
    "    print(\"Problem\")\n",
    "\n",
    "data"
   ]
  },
  {
   "cell_type": "markdown",
   "id": "7c1fcc8a-a93e-414c-aa68-4ae2e159cf53",
   "metadata": {},
   "source": [
    "#### POST Request\n",
    "\n",
    "----"
   ]
  },
  {
   "cell_type": "code",
   "execution_count": 5,
   "id": "0589b693-e94c-4120-ab2a-fed1b567412a",
   "metadata": {},
   "outputs": [],
   "source": [
    "url = \"https://jsonplaceholder.typicode.com/posts\"\n",
    "params = {\n",
    "    'title': 'Sample Post',\n",
    "    'body': 'This is a sample post body.',\n",
    "    'userId': 1\n",
    "}\n",
    "\n",
    "try:\n",
    "    resp = requests.post(\n",
    "        url,\n",
    "        params\n",
    "    )\n",
    "except Exception as e:\n",
    "    print(\"boo\")"
   ]
  },
  {
   "cell_type": "code",
   "execution_count": 7,
   "id": "08e0deee-b2bc-4ce0-a781-41001e49d5e7",
   "metadata": {},
   "outputs": [
    {
     "data": {
      "text/plain": [
       "{'title': 'Sample Post',\n",
       " 'body': 'This is a sample post body.',\n",
       " 'userId': '1',\n",
       " 'id': 101}"
      ]
     },
     "execution_count": 7,
     "metadata": {},
     "output_type": "execute_result"
    }
   ],
   "source": [
    "resp.json()"
   ]
  },
  {
   "cell_type": "code",
   "execution_count": 8,
   "id": "9a64227b-cbf9-4fd7-9a7a-8a8aafe74951",
   "metadata": {},
   "outputs": [],
   "source": [
    "# Write a Python script that retrieves a list of posts from an \n",
    "# external API, filters the posts to only include those with a \n",
    "# specific userId, and calculates the total number of words across\n",
    "# all title fields of the filtered posts."
   ]
  },
  {
   "cell_type": "code",
   "execution_count": 9,
   "id": "8f9b66a3-b731-4ecd-8c78-3578b4e45589",
   "metadata": {},
   "outputs": [],
   "source": [
    "## API: https://jsonplaceholder.typicode.com/posts"
   ]
  },
  {
   "cell_type": "code",
   "execution_count": 14,
   "id": "8a0a8d82-c56b-4fff-a212-c3895798affd",
   "metadata": {},
   "outputs": [],
   "source": [
    "url = \"https://jsonplaceholder.typicode.com/posts\"\n",
    "\n",
    "import requests\n",
    "\n",
    "posts = []\n",
    "wc = 0\n",
    "\n",
    "try:\n",
    "    resp = requests.get(\n",
    "        url\n",
    "    )\n",
    "    if resp.status_code == 200:\n",
    "        for d in resp.json():\n",
    "            if d['userId'] == 3:\n",
    "                title = d['title']\n",
    "                wc += len(title.split())\n",
    "                posts.append(title)  \n",
    "    else:\n",
    "        print(\"Bad req\")\n",
    "except Exception as e:\n",
    "    print(e)"
   ]
  },
  {
   "cell_type": "code",
   "execution_count": 15,
   "id": "f2c1d708-7346-4655-a607-b957fbbb2085",
   "metadata": {},
   "outputs": [
    {
     "data": {
      "text/plain": [
       "['asperiores ea ipsam voluptatibus modi minima quia sint',\n",
       " 'dolor sint quo a velit explicabo quia nam',\n",
       " 'maxime id vitae nihil numquam',\n",
       " 'autem hic labore sunt dolores incidunt',\n",
       " 'rem alias distinctio quo quis',\n",
       " 'est et quae odit qui non',\n",
       " 'quasi id et eos tenetur aut quo autem',\n",
       " 'delectus ullam et corporis nulla voluptas sequi',\n",
       " 'iusto eius quod necessitatibus culpa ea',\n",
       " 'a quo magni similique perferendis']"
      ]
     },
     "execution_count": 15,
     "metadata": {},
     "output_type": "execute_result"
    }
   ],
   "source": [
    "posts"
   ]
  },
  {
   "cell_type": "code",
   "execution_count": 16,
   "id": "047849ce-8bdd-43cb-b4bc-2013e7545e6f",
   "metadata": {},
   "outputs": [
    {
     "data": {
      "text/plain": [
       "64"
      ]
     },
     "execution_count": 16,
     "metadata": {},
     "output_type": "execute_result"
    }
   ],
   "source": [
    "wc"
   ]
  },
  {
   "cell_type": "code",
   "execution_count": 17,
   "id": "d2aa7ba4-533b-49a7-ab05-74f5ac5feae2",
   "metadata": {},
   "outputs": [],
   "source": [
    "## Write a Python script that retrieves weather data for a specific city from an \n",
    "## external API, extracts the temperature in Celsius, and determines if the \n",
    "## temperature is above or below a given threshold."
   ]
  },
  {
   "cell_type": "code",
   "execution_count": 19,
   "id": "d7c3398b-66fe-44b5-8cc6-9d4def9525ed",
   "metadata": {},
   "outputs": [
    {
     "name": "stdout",
     "output_type": "stream",
     "text": [
      "Help on function get in module requests.api:\n",
      "\n",
      "get(url, params=None, **kwargs)\n",
      "    Sends a GET request.\n",
      "    \n",
      "    :param url: URL for the new :class:`Request` object.\n",
      "    :param params: (optional) Dictionary, list of tuples or bytes to send\n",
      "        in the query string for the :class:`Request`.\n",
      "    :param \\*\\*kwargs: Optional arguments that ``request`` takes.\n",
      "    :return: :class:`Response <Response>` object\n",
      "    :rtype: requests.Response\n",
      "\n"
     ]
    }
   ],
   "source": [
    "help(requests.get)"
   ]
  },
  {
   "cell_type": "code",
   "execution_count": 22,
   "id": "2ff461f3-5fb8-4292-b859-d3c0248f5160",
   "metadata": {},
   "outputs": [
    {
     "data": {
      "text/plain": [
       "{'coord': {'lon': -0.1257, 'lat': 51.5085},\n",
       " 'weather': [{'id': 800,\n",
       "   'main': 'Clear',\n",
       "   'description': 'clear sky',\n",
       "   'icon': '01n'}],\n",
       " 'base': 'stations',\n",
       " 'main': {'temp': 5.2,\n",
       "  'feels_like': 4.12,\n",
       "  'temp_min': 3.84,\n",
       "  'temp_max': 6.86,\n",
       "  'pressure': 1014,\n",
       "  'humidity': 88,\n",
       "  'sea_level': 1014,\n",
       "  'grnd_level': 1010},\n",
       " 'visibility': 10000,\n",
       " 'wind': {'speed': 1.54, 'deg': 210},\n",
       " 'clouds': {'all': 7},\n",
       " 'dt': 1728608747,\n",
       " 'sys': {'type': 2,\n",
       "  'id': 2075535,\n",
       "  'country': 'GB',\n",
       "  'sunrise': 1728627482,\n",
       "  'sunset': 1728666958},\n",
       " 'timezone': 3600,\n",
       " 'id': 2643743,\n",
       " 'name': 'London',\n",
       " 'cod': 200}"
      ]
     },
     "execution_count": 22,
     "metadata": {},
     "output_type": "execute_result"
    }
   ],
   "source": [
    "API_KEY = \"ac4ccde462f5c23c19c8b32f75b59d8c\"\n",
    "url = f\"https://api.openweathermap.org/data/2.5/weather?q=London&appid={API_KEY}&units=metric\"\n",
    "\n",
    "try:\n",
    "    resp = requests.get(\n",
    "        url\n",
    "    )\n",
    "    if resp.status_code == 200:\n",
    "        op = resp.json()\n",
    "except:\n",
    "    pass\n",
    "op"
   ]
  },
  {
   "cell_type": "code",
   "execution_count": null,
   "id": "9dab8b51-8e60-47a4-af22-042b835923aa",
   "metadata": {},
   "outputs": [],
   "source": [
    "import requests\n",
    "\n",
    "API_KEY = \"ac4ccde462f5c23c19c8b32f75b59d8c\"\n",
    "url = f\"https://api.openweathermap.org/data/2.5/weather?q={city}&appid={API_KEY}&units=metric\"\n",
    "\n",
    "def get_weather(city):\n",
    "\n",
    "    "
   ]
  }
 ],
 "metadata": {
  "kernelspec": {
   "display_name": "llms",
   "language": "python",
   "name": "llms"
  },
  "language_info": {
   "codemirror_mode": {
    "name": "ipython",
    "version": 3
   },
   "file_extension": ".py",
   "mimetype": "text/x-python",
   "name": "python",
   "nbconvert_exporter": "python",
   "pygments_lexer": "ipython3",
   "version": "3.10.10"
  }
 },
 "nbformat": 4,
 "nbformat_minor": 5
}
