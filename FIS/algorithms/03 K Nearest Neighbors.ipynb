{
 "cells": [
  {
   "cell_type": "code",
   "execution_count": 1,
   "id": "05030a6b-3cfa-4d28-87f9-9666497fd9ea",
   "metadata": {},
   "outputs": [],
   "source": [
    "import numpy as np\n",
    "from collections import Counter"
   ]
  },
  {
   "cell_type": "code",
   "execution_count": 2,
   "id": "a180f886-b2c4-44b5-a27f-e0a027f6ac60",
   "metadata": {},
   "outputs": [
    {
     "data": {
      "text/plain": [
       "3.0"
      ]
     },
     "execution_count": 2,
     "metadata": {},
     "output_type": "execute_result"
    }
   ],
   "source": [
    "def _euclidean_distance(x1, x2):\n",
    "    \n",
    "    return np.sqrt(np.sum(x1-x2)**2)\n",
    "\n",
    "\n",
    "X1 = np.array([1, 2, 1, 4])\n",
    "X2 = np.array([4, 2, 2, 3])\n",
    "\n",
    "_euclidean_distance(X1, X2)"
   ]
  },
  {
   "cell_type": "code",
   "execution_count": 11,
   "id": "6d0875ae-ac2a-4cfc-9d61-9d3dbbdad562",
   "metadata": {},
   "outputs": [],
   "source": [
    "class KNearestNeighbors:\n",
    "\n",
    "    def __init__(self, k=3):\n",
    "\n",
    "        self.k = k\n",
    "        self.X_train = None\n",
    "        self.y_train = None\n",
    "\n",
    "    def _euclidean_distance(self, x1, x2):\n",
    "        \n",
    "        return np.sqrt(np.sum(x1-x2)**2)\n",
    "\n",
    "    def train(self, X, y):\n",
    "\n",
    "        self.X_train = X\n",
    "        self.y_train = y\n",
    "\n",
    "    def predict(self, X_test):\n",
    "\n",
    "        def _predict(x):\n",
    "            distances = [self._euclidean_distance(x, x_train)\n",
    "                         for x_train in self.X_train]\n",
    "            k_indices = np.argsort(distances)[:self.k]\n",
    "    \n",
    "            k_nearest_labels = [self.y_train[i] for i in k_indices]\n",
    "            most_common = Counter(k_nearest_labels).most_common(1)\n",
    "            return most_common[0][0]\n",
    "\n",
    "        predictions = [_predict(x) for x in X_test]\n",
    "        return predictions"
   ]
  },
  {
   "cell_type": "code",
   "execution_count": 12,
   "id": "cb0bbd90-9d93-4caa-bab6-b4fcf6a495a2",
   "metadata": {},
   "outputs": [
    {
     "name": "stdout",
     "output_type": "stream",
     "text": [
      "Test Data: [[4]\n",
      " [5]]\n",
      "Predictions: [0, 1]\n"
     ]
    }
   ],
   "source": [
    "X_train = np.array([[1], [2], [3], [6], [7], [8]])  # Feature (input)\n",
    "y_train = np.array([0, 0, 0, 1, 1, 1])  # Target (output), binary labels\n",
    "\n",
    "X_test = np.array([[4], [5]])\n",
    "model = KNearestNeighbors(k=3)\n",
    "\n",
    "model.train(X_train, y_train)\n",
    "predictions = model.predict(X_test)\n",
    "\n",
    "print(\"Test Data:\", X_test)\n",
    "print(\"Predictions:\", predictions)"
   ]
  },
  {
   "cell_type": "code",
   "execution_count": null,
   "id": "008ff4c8-048d-4a52-9004-c73b0126fd18",
   "metadata": {},
   "outputs": [],
   "source": []
  }
 ],
 "metadata": {
  "kernelspec": {
   "display_name": "Python 3 (ipykernel)",
   "language": "python",
   "name": "python3"
  },
  "language_info": {
   "codemirror_mode": {
    "name": "ipython",
    "version": 3
   },
   "file_extension": ".py",
   "mimetype": "text/x-python",
   "name": "python",
   "nbconvert_exporter": "python",
   "pygments_lexer": "ipython3",
   "version": "3.10.10"
  }
 },
 "nbformat": 4,
 "nbformat_minor": 5
}
