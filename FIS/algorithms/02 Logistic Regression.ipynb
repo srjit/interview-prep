{
 "cells": [
  {
   "cell_type": "code",
   "execution_count": 1,
   "id": "c0a5e344-0151-478d-ad81-aa94ba1162a0",
   "metadata": {},
   "outputs": [],
   "source": [
    "import numpy as np"
   ]
  },
  {
   "cell_type": "code",
   "execution_count": 15,
   "id": "816cf7cb-2b1a-41fb-a585-23d1bc6fb20d",
   "metadata": {},
   "outputs": [],
   "source": [
    "class LogisticRegression:\n",
    "\n",
    "    def __init__(self, lr=0.01, n_iterations=1000):\n",
    "\n",
    "        self.weights = None\n",
    "        self.lr = lr\n",
    "        self.n_iterations = n_iterations\n",
    "\n",
    "\n",
    "    def sigmoid(self, z):\n",
    "\n",
    "        return 1 / (1 + np.exp(-z))\n",
    "\n",
    "\n",
    "    def fit(self, X, y):\n",
    "\n",
    "        X_b = np.c_[np.ones((X.shape[0], 1)), X]\n",
    "        self.weights = np.zeros(X_b.shape[1])\n",
    "\n",
    "        for _ in range(self.n_iterations):\n",
    "            for i in range(X_b.shape[0]):\n",
    "\n",
    "                xi = X_b[i:i+1]\n",
    "                yi = y[i:i+1]\n",
    "\n",
    "                mul = xi.dot(self.weights)\n",
    "                yhat_i = self.sigmoid(mul)\n",
    "\n",
    "                # \n",
    "                error = yhat_i - yi\n",
    "                gradients = xi.T.dot(error)\n",
    "\n",
    "                self.weights -= self.lr * gradients\n",
    "\n",
    "    def predict(self, X):\n",
    "\n",
    "        X_b = np.c_[np.ones((X.shape[0], 1)), X]\n",
    "        lr_model = X_b.dot(self.weights)\n",
    "        prob = self.sigmoid(lr_model)\n",
    "        return (prob >= 0.5).astype(int)"
   ]
  },
  {
   "cell_type": "code",
   "execution_count": 16,
   "id": "53202a82-4912-4b22-8712-311ab714cfe7",
   "metadata": {},
   "outputs": [
    {
     "name": "stdout",
     "output_type": "stream",
     "text": [
      "Predictions: [0 0 0 1 1 1]\n",
      "Weights: [-4.44087461  1.36979194]\n"
     ]
    }
   ],
   "source": [
    "X = np.array([[1], [2], [3], [4], [5], [6]])  # Feature (input)\n",
    "y = np.array([0, 0, 0, 1, 1, 1])  # Target (output), binary labels\n",
    "\n",
    "# Create a LogisticRegressionSGD model instance\n",
    "model = LogisticRegression()\n",
    "\n",
    "# Fit the model to the data\n",
    "model.fit(X, y)\n",
    "\n",
    "# Predict probabilities and classes\n",
    "predictions = model.predict(X)\n",
    "\n",
    "print(\"Predictions:\", predictions)\n",
    "print(\"Weights:\", model.weights)"
   ]
  },
  {
   "cell_type": "code",
   "execution_count": 1,
   "id": "5c366816-2a73-4cbe-9e4b-eec00e374482",
   "metadata": {},
   "outputs": [],
   "source": [
    "from sklearn.preprocessing import StandardScaler"
   ]
  },
  {
   "cell_type": "code",
   "execution_count": null,
   "id": "c8160bae-5eea-4bd5-9e8b-ea3eeda4ea8d",
   "metadata": {},
   "outputs": [],
   "source": []
  }
 ],
 "metadata": {
  "kernelspec": {
   "display_name": "Python 3 (ipykernel)",
   "language": "python",
   "name": "python3"
  },
  "language_info": {
   "codemirror_mode": {
    "name": "ipython",
    "version": 3
   },
   "file_extension": ".py",
   "mimetype": "text/x-python",
   "name": "python",
   "nbconvert_exporter": "python",
   "pygments_lexer": "ipython3",
   "version": "3.10.10"
  }
 },
 "nbformat": 4,
 "nbformat_minor": 5
}
