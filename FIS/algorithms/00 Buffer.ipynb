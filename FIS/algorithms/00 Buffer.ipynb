{
 "cells": [
  {
   "cell_type": "code",
   "execution_count": 1,
   "id": "c2b7afec-9a79-45cd-8f86-ed3d6e258a56",
   "metadata": {},
   "outputs": [],
   "source": [
    "import numpy as np"
   ]
  },
  {
   "cell_type": "code",
   "execution_count": 12,
   "id": "fc7588ef-854d-4f15-81be-4b3e3e37814f",
   "metadata": {},
   "outputs": [
    {
     "data": {
      "text/plain": [
       "array([[1., 1.],\n",
       "       [1., 2.],\n",
       "       [1., 3.],\n",
       "       [1., 4.],\n",
       "       [1., 5.]])"
      ]
     },
     "execution_count": 12,
     "metadata": {},
     "output_type": "execute_result"
    }
   ],
   "source": [
    "np.c_[np.ones((X.shape[0], 1)), X]"
   ]
  },
  {
   "cell_type": "code",
   "execution_count": 21,
   "id": "f5975cec-34e4-47bb-88f1-59fb39bdb97b",
   "metadata": {},
   "outputs": [],
   "source": [
    "class LinearRegression:\n",
    "\n",
    "    def __init__(self):\n",
    "        self.weights = None\n",
    "\n",
    "    def fit(self, X, y):\n",
    "\n",
    "        X_b = np.c_[np.ones((X.shape[0], 1)), X]\n",
    "        \n",
    "        self.weights = np.linalg.inv(X_b.T.dot(X_b)).dot(X_b.T).dot(y)\n",
    "\n",
    "        \n",
    "    def predict(self, X):\n",
    "\n",
    "        X_b = np.c_[np.ones((X.shape[0], 1)), X]\n",
    "        return X_b.dot(self.weights)"
   ]
  },
  {
   "cell_type": "code",
   "execution_count": 22,
   "id": "155c0d80-4e05-431a-8b9a-ff6f99745f13",
   "metadata": {},
   "outputs": [
    {
     "data": {
      "text/plain": [
       "array([ 3.8,  6.2,  8.6, 11. , 13.4])"
      ]
     },
     "execution_count": 22,
     "metadata": {},
     "output_type": "execute_result"
    }
   ],
   "source": [
    "X = np.array([[1], [2], [3], [4], [5]])  # Feature (input)\n",
    "y = np.array([3, 7, 9, 11, 13])  \n",
    "\n",
    "\n",
    "lr = LinearRegression()\n",
    "lr.fit(X, y)\n",
    "lr.predict(X)"
   ]
  },
  {
   "cell_type": "markdown",
   "id": "a3c340c4-c326-4d34-978b-237323f5e6ec",
   "metadata": {},
   "source": [
    "### Gradient Descent\n",
    "----"
   ]
  },
  {
   "cell_type": "code",
   "execution_count": 25,
   "id": "5ae5baf3-1cab-428d-9960-3e23d09ecbb9",
   "metadata": {},
   "outputs": [],
   "source": [
    "class LinearRegression2:\n",
    "\n",
    "    def __init__(self, iterations=10, lr=0.001):\n",
    "\n",
    "        self.iterations = 10\n",
    "        self.lr = lr\n",
    "        self.weights = None\n",
    "\n",
    "    def fit(self, X, y):\n",
    "\n",
    "        X_b = np.c_[np.ones((X.shape[0], 1)), X]\n",
    "        self.weights = np.zeros(X_b.shape[1])\n",
    "\n",
    "        for _ in range(self.iterations):\n",
    "\n",
    "            predictions = X_b.dot(self.weights)\n",
    "            error = predictions - y\n",
    "\n",
    "            # current gradients\n",
    "            gradients = 2/(X.shape[0]) * (X_b.T.dot(error))\n",
    "\n",
    "            # update weights\n",
    "            self.weights -= self.lr * gradients\n",
    "\n",
    "\n",
    "    def predict(self, X):\n",
    "\n",
    "        X_b = np.c_[np.ones((X.shape[0], 1)), X]\n",
    "        return self.weights.dot(X_b)"
   ]
  },
  {
   "cell_type": "code",
   "execution_count": 26,
   "id": "4491c50f-4374-449b-b055-3391870a1205",
   "metadata": {},
   "outputs": [],
   "source": [
    "\n",
    "X = np.array([[1], [2], [3], [4], [5]])  # Feature (input)\n",
    "y = np.array([3, 7, 9, 11, 13])  # Target (output)\n",
    "\n",
    "model = LinearRegression2()\n",
    "model.fit(X, y)\n",
    "predictions = lr.predict(X)"
   ]
  },
  {
   "cell_type": "code",
   "execution_count": 27,
   "id": "4b9e008b-57f8-45f8-a41b-3c40d2cdd9e5",
   "metadata": {},
   "outputs": [
    {
     "data": {
      "text/plain": [
       "array([ 3.8,  6.2,  8.6, 11. , 13.4])"
      ]
     },
     "execution_count": 27,
     "metadata": {},
     "output_type": "execute_result"
    }
   ],
   "source": [
    "predictions"
   ]
  },
  {
   "cell_type": "code",
   "execution_count": null,
   "id": "3a07c53d-adf7-4d54-adb4-f85ef47a4750",
   "metadata": {},
   "outputs": [],
   "source": []
  }
 ],
 "metadata": {
  "kernelspec": {
   "display_name": "Python 3 (ipykernel)",
   "language": "python",
   "name": "python3"
  },
  "language_info": {
   "codemirror_mode": {
    "name": "ipython",
    "version": 3
   },
   "file_extension": ".py",
   "mimetype": "text/x-python",
   "name": "python",
   "nbconvert_exporter": "python",
   "pygments_lexer": "ipython3",
   "version": "3.10.10"
  }
 },
 "nbformat": 4,
 "nbformat_minor": 5
}
