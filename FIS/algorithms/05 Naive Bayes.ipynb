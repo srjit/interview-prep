{
 "cells": [
  {
   "cell_type": "code",
   "execution_count": 1,
   "id": "9959f8aa-5896-4c65-8c49-fa84d4e3b74b",
   "metadata": {},
   "outputs": [],
   "source": [
    "import numpy as np"
   ]
  },
  {
   "cell_type": "code",
   "execution_count": null,
   "id": "bb975090-5e52-47ec-bbd5-5b978459a3de",
   "metadata": {},
   "outputs": [],
   "source": [
    "import numpy as np\n",
    "from collections import defaultdict, Counter\n",
    "\n",
    "class CategoricalNaiveBayes:\n",
    "    \n",
    "    def __init__(self):\n",
    "        self.classes = None\n",
    "        self.feature_probs = None\n",
    "        self.class_counts = None\n",
    "        self.priors = None\n",
    "\n",
    "    def fit(self, X, y):\n",
    "\n",
    "        self.classes = np.unique(y)\n",
    "\n",
    "        self.feature_probs ="
   ]
  }
 ],
 "metadata": {
  "kernelspec": {
   "display_name": "Python 3 (ipykernel)",
   "language": "python",
   "name": "python3"
  },
  "language_info": {
   "codemirror_mode": {
    "name": "ipython",
    "version": 3
   },
   "file_extension": ".py",
   "mimetype": "text/x-python",
   "name": "python",
   "nbconvert_exporter": "python",
   "pygments_lexer": "ipython3",
   "version": "3.10.10"
  }
 },
 "nbformat": 4,
 "nbformat_minor": 5
}
