{
 "cells": [
  {
   "cell_type": "code",
   "execution_count": 1,
   "id": "0f8a76af-1ee8-44a2-b833-f89ba3408871",
   "metadata": {},
   "outputs": [
    {
     "name": "stdout",
     "output_type": "stream",
     "text": [
      "Mean Squared Error: 12656.25\n"
     ]
    }
   ],
   "source": [
    "import pandas as pd\n",
    "from sklearn.model_selection import train_test_split\n",
    "from sklearn.feature_extraction.text import TfidfVectorizer\n",
    "from sklearn.linear_model import Ridge\n",
    "from sklearn.metrics import mean_squared_error\n",
    "from sklearn.pipeline import Pipeline\n",
    "from sklearn.compose import ColumnTransformer\n",
    "from sklearn.preprocessing import StandardScaler\n",
    "\n",
    "# Example dataset with a text field (e.g. 'description') and a numeric target (e.g. 'price')\n",
    "data = {\n",
    "    'description': ['Great product with fast shipping!', 'Not worth the money', 'Excellent condition, highly recommended'],\n",
    "    'other_feature': [10, 15, 12],\n",
    "    'price': [100, 50, 200]\n",
    "}\n",
    "df = pd.DataFrame(data)\n",
    "\n",
    "# Split into features and target\n",
    "X = df[['description', 'other_feature']]\n",
    "y = df['price']\n",
    "\n",
    "# Train-test split\n",
    "X_train, X_test, y_train, y_test = train_test_split(X, y, test_size=0.2, random_state=42)\n",
    "\n",
    "# Define column transformer with TF-IDF for text and StandardScaler for numerical features\n",
    "preprocessor = ColumnTransformer(\n",
    "    transformers=[\n",
    "        ('tfidf', TfidfVectorizer(), 'description'),    # Vectorize the 'description' column\n",
    "        ('scaler', StandardScaler(), ['other_feature'])  # Scale the numerical 'other_feature' column\n",
    "    ])\n",
    "\n",
    "# Define a pipeline with preprocessing and regression model\n",
    "pipeline = Pipeline(steps=[\n",
    "    ('preprocessor', preprocessor),\n",
    "    ('regressor', Ridge())  # Using Ridge regression\n",
    "])\n",
    "\n",
    "# Fit the model\n",
    "pipeline.fit(X_train, y_train)\n",
    "\n",
    "# Predict on test data\n",
    "y_pred = pipeline.predict(X_test)\n",
    "\n",
    "# Evaluate the model\n",
    "print(f'Mean Squared Error: {mean_squared_error(y_test, y_pred)}')\n"
   ]
  },
  {
   "cell_type": "code",
   "execution_count": null,
   "id": "d03b6ba1-3719-46df-8bdb-b20ec0fcb55c",
   "metadata": {},
   "outputs": [],
   "source": []
  }
 ],
 "metadata": {
  "kernelspec": {
   "display_name": "Python 3 (ipykernel)",
   "language": "python",
   "name": "python3"
  },
  "language_info": {
   "codemirror_mode": {
    "name": "ipython",
    "version": 3
   },
   "file_extension": ".py",
   "mimetype": "text/x-python",
   "name": "python",
   "nbconvert_exporter": "python",
   "pygments_lexer": "ipython3",
   "version": "3.10.10"
  }
 },
 "nbformat": 4,
 "nbformat_minor": 5
}
