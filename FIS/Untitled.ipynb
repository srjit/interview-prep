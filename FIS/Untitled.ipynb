{
 "cells": [
  {
   "cell_type": "code",
   "execution_count": 7,
   "id": "05edc443-2d67-45a4-962e-e97e6cdf5a25",
   "metadata": {},
   "outputs": [],
   "source": [
    "import numpy as np\n",
    "import pandas as pd"
   ]
  },
  {
   "cell_type": "code",
   "execution_count": 8,
   "id": "707b9e5c-d6e5-4604-bf8c-129e56ab53d3",
   "metadata": {},
   "outputs": [
    {
     "data": {
      "text/plain": [
       "{'emp_details': [{'emp_name': 'Shubham',\n",
       "   'email': 'ksingh.shubh@gmail.com',\n",
       "   'job_profile': 'intern'},\n",
       "  {'emp_name': 'Gaurav',\n",
       "   'email': 'gaurav.singh@gmail.com',\n",
       "   'job_profile': 'developer'},\n",
       "  {'emp_name': 'Nikhil',\n",
       "   'email': 'nikhil@geeksforgeeks.org',\n",
       "   'job_profile': 'Full Time'}]}"
      ]
     },
     "execution_count": 8,
     "metadata": {},
     "output_type": "execute_result"
    }
   ],
   "source": [
    "import json\n",
    "sample_f = \"sample.json\"\n",
    "with open(sample_f, 'r') as f:\n",
    "    js = json.load(f)\n",
    "js"
   ]
  },
  {
   "cell_type": "code",
   "execution_count": null,
   "id": "429fe34b-6c57-49c4-880a-28eaf491d5e1",
   "metadata": {},
   "outputs": [],
   "source": [
    "pd.from_js"
   ]
  },
  {
   "cell_type": "code",
   "execution_count": null,
   "id": "7a8a66d1-13cd-45de-91b1-8507cdce6ab4",
   "metadata": {},
   "outputs": [],
   "source": [
    "class LinearRegression:\n",
    "\n",
    "    def __init__(self, X:np.ndarray, y: np.ndarray):\n",
    "\n",
    "        self.X = X\n",
    "        self.y = y\n",
    "        self.m = len(X)"
   ]
  }
 ],
 "metadata": {
  "kernelspec": {
   "display_name": "llms",
   "language": "python",
   "name": "llms"
  },
  "language_info": {
   "codemirror_mode": {
    "name": "ipython",
    "version": 3
   },
   "file_extension": ".py",
   "mimetype": "text/x-python",
   "name": "python",
   "nbconvert_exporter": "python",
   "pygments_lexer": "ipython3",
   "version": "3.10.10"
  }
 },
 "nbformat": 4,
 "nbformat_minor": 5
}
