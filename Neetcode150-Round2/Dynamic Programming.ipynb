{
 "cells": [
  {
   "cell_type": "code",
   "execution_count": 2,
   "id": "6c42193b-43d4-413f-898b-07967822e504",
   "metadata": {},
   "outputs": [],
   "source": [
    "from typing import List"
   ]
  },
  {
   "cell_type": "code",
   "execution_count": 7,
   "id": "42316d3c-808b-4ed3-843d-2e3fecff9356",
   "metadata": {},
   "outputs": [
    {
     "data": {
      "text/plain": [
       "6"
      ]
     },
     "execution_count": 7,
     "metadata": {},
     "output_type": "execute_result"
    }
   ],
   "source": [
    "class Solution:\n",
    "    def maxSubArray(self, nums: List[int]) -> int:\n",
    "\n",
    "        max_sum = nums[0]\n",
    "        max_sum_until_current = nums[0]\n",
    "\n",
    "        for i in range(1, len(nums)):\n",
    "            max_sum_until_current = max(max_sum_until_current+nums[i], nums[i])\n",
    "            max_sum = max(max_sum, max_sum_until_current)\n",
    "\n",
    "        return max_sum\n",
    "\n",
    "Solution().maxSubArray([2, -3, 1, 2, 3])"
   ]
  },
  {
   "cell_type": "code",
   "execution_count": null,
   "id": "244dd905-4428-422b-88ed-b86165d77df0",
   "metadata": {},
   "outputs": [],
   "source": []
  }
 ],
 "metadata": {
  "kernelspec": {
   "display_name": "Python 3 (ipykernel)",
   "language": "python",
   "name": "python3"
  },
  "language_info": {
   "codemirror_mode": {
    "name": "ipython",
    "version": 3
   },
   "file_extension": ".py",
   "mimetype": "text/x-python",
   "name": "python",
   "nbconvert_exporter": "python",
   "pygments_lexer": "ipython3",
   "version": "3.9.9"
  }
 },
 "nbformat": 4,
 "nbformat_minor": 5
}
