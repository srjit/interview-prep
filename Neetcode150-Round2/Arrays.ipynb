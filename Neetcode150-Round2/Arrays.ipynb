{
 "cells": [
  {
   "cell_type": "code",
   "execution_count": 2,
   "id": "2c50de9c-564d-4e32-bb8a-c94f747f17bb",
   "metadata": {},
   "outputs": [],
   "source": [
    "from collections import defaultdict\n",
    "from typing import List, Optional"
   ]
  },
  {
   "cell_type": "code",
   "execution_count": 7,
   "id": "78e0c590-7c3b-42b0-a553-095cd7c49a4f",
   "metadata": {},
   "outputs": [
    {
     "data": {
      "text/plain": [
       "True"
      ]
     },
     "execution_count": 7,
     "metadata": {},
     "output_type": "execute_result"
    }
   ],
   "source": [
    "class Solution:\n",
    "    def isAnagram(self, s: str, t: str) -> bool:\n",
    "\n",
    "        s_counts = defaultdict(int)\n",
    "        for c in s:\n",
    "            s_counts[c] += 1\n",
    "\n",
    "        for c in t:\n",
    "            s_counts[c] -= 1\n",
    "\n",
    "        return len(set(s_counts.values())) == 1\n",
    "        \n",
    "            \n",
    "Solution().isAnagram(\"racecar\", \"carrace\")        "
   ]
  },
  {
   "cell_type": "code",
   "execution_count": 11,
   "id": "9022b309-31cf-42e2-ae76-0c848d09d96d",
   "metadata": {},
   "outputs": [],
   "source": [
    "## Two Sum\n",
    "\n",
    "class Solution:\n",
    "    def twoSum(self, nums: List[int], target: int) -> List[int]:\n",
    "\n",
    "        complement_dict = {}\n",
    "\n",
    "        for i, num in enumerate(nums):\n",
    "            if num in complement_dict:\n",
    "                return [i, complement_dict[num]]\n",
    "            complement_dict[target-num] = i\n",
    "\n",
    "        return [-1, -1]"
   ]
  },
  {
   "cell_type": "code",
   "execution_count": 12,
   "id": "13c6c1c1-15c1-49e8-94cb-7e0f89791cfc",
   "metadata": {},
   "outputs": [
    {
     "data": {
      "text/plain": [
       "dict_values([['act', 'cat'], ['pots', 'tops', 'stop'], ['hat']])"
      ]
     },
     "execution_count": 12,
     "metadata": {},
     "output_type": "execute_result"
    }
   ],
   "source": [
    "## Group Anagrams\n",
    "\n",
    "from typing import List\n",
    "from collections import defaultdict\n",
    "\n",
    "class Solution:\n",
    "    \n",
    "    def groupAnagrams(self, strs: List[str]) -> List[List[str]]:\n",
    "\n",
    "        res = defaultdict(list)\n",
    "        for s in strs:\n",
    "            count = [0] * 26\n",
    "            for c in s:\n",
    "                count[ord(c) - ord('a')] += 1\n",
    "            \n",
    "            res[tuple(count)].append(s)\n",
    "        return res.values()\n",
    "\n",
    "strs = [\"act\",\"pots\",\"tops\",\"cat\",\"stop\",\"hat\"]\n",
    "Solution().groupAnagrams(strs)"
   ]
  },
  {
   "cell_type": "code",
   "execution_count": 13,
   "id": "50161f15-253d-4eb6-a674-aca64e7a4a2b",
   "metadata": {},
   "outputs": [],
   "source": [
    "## Top K Frequent Elements\n",
    "\n",
    "from typing import List\n",
    "\n",
    "class Solution:\n",
    "\n",
    "    def topKFrequent(self, nums: List[int], k: int) -> List[int]:\n",
    "\n",
    "        count = {}\n",
    "        freq = [[] for i in range(len(nums) + 1)]\n",
    "\n",
    "        for i, num in enumerate(nums):\n",
    "            count[n] = 1 + count.get(n, 0)\n",
    "        \n",
    "        for n, c in count.items():\n",
    "            freq[c].append(n)\n",
    "\n",
    "\n",
    "        res = []\n",
    "        for i in range(len(freq) - 1, 0, -1):\n",
    "            for n in freq[i]:\n",
    "                res.append(n)\n",
    "                if len(res) == k:\n",
    "                    return res"
   ]
  },
  {
   "cell_type": "code",
   "execution_count": 16,
   "id": "69e46f68-ad51-432f-90e3-2a3790566425",
   "metadata": {},
   "outputs": [
    {
     "data": {
      "text/plain": [
       "['neet', 'code', 'love', 'you']"
      ]
     },
     "execution_count": 16,
     "metadata": {},
     "output_type": "execute_result"
    }
   ],
   "source": [
    "## Encode and Decode Party\n",
    "\n",
    "from typing import List\n",
    "\n",
    "class Solution:\n",
    "\n",
    "    def encode(self, strs: List[str]) -> str:\n",
    "        return \"\".join([str(len(s)) + '#' + s for s in strs])\n",
    "        \n",
    "\n",
    "    def decode(self, s: str) -> List[str]:\n",
    "\n",
    "        words = []\n",
    "        i = 0\n",
    "        while i < len(s):\n",
    "            strlen = ''\n",
    "            while s[i] != '#':\n",
    "                strlen += s[i]\n",
    "                i+=1\n",
    "\n",
    "            _len = int(strlen)\n",
    "            word = s[i+1:i+_len+1]\n",
    "            words.append(word)\n",
    "            i = i+_len+1\n",
    "        return words\n",
    "        \n",
    "            \n",
    "s = Solution().encode([\"neet\",\"code\",\"love\",\"you\"])\n",
    "Solution().decode(s)"
   ]
  },
  {
   "cell_type": "code",
   "execution_count": 17,
   "id": "307c5623-6219-4c97-a178-589ffc6cefe3",
   "metadata": {},
   "outputs": [],
   "source": [
    "## Valid Sudoku\n",
    "\n",
    "class Solution:\n",
    "    \n",
    "    def isValidSudoku(self, board: List[List[str]]) -> bool:\n",
    "\n",
    "        rows = collections.defaultdict(set)\n",
    "        cols = collections.defaultdict(set)\n",
    "        block = collections.defaultdict(set)\n",
    "\n",
    "        for r in range(9):\n",
    "            for c in range(9):\n",
    "                if board[r][c] == '.':\n",
    "                    continue\n",
    "\n",
    "                if (board[r][c] in rows[r]) or (board[r][c] in cols[c]) or (board[r][c] in block[(r//3, c//3)]):\n",
    "                    return False\n",
    "\n",
    "                block[(r//3, c//3)].add(board[r][c])\n",
    "                cols[c].add(board[r][c])\n",
    "                rows[r].add(board[r][c])\n",
    "\n",
    "        return True"
   ]
  },
  {
   "cell_type": "code",
   "execution_count": 22,
   "id": "4a11895e-7c55-42cf-9e4c-eecba44b3fa6",
   "metadata": {},
   "outputs": [
    {
     "data": {
      "text/plain": [
       "4"
      ]
     },
     "execution_count": 22,
     "metadata": {},
     "output_type": "execute_result"
    }
   ],
   "source": [
    "\n",
    "## Longest Consequtive Sequence\n",
    "\n",
    "class Solution:\n",
    "    \n",
    "    def longestConsecutive(self, nums: List[int]) -> int:\n",
    "\n",
    "        elements = set(nums)\n",
    "        seen = set()\n",
    "        maxl = 0\n",
    "        \n",
    "        for elt in elements:\n",
    "            if elt - 1 not in nums:\n",
    "                current = 1\n",
    "                while elt+current in nums:\n",
    "                    current += 1\n",
    "                if current > maxl:\n",
    "                    maxl = current\n",
    "        return maxl\n",
    "\n",
    "Solution().longestConsecutive([2,20,4,10,3,4,5])"
   ]
  },
  {
   "cell_type": "code",
   "execution_count": null,
   "id": "3b8f077e-75c1-42bd-abdf-e5ce6b019891",
   "metadata": {},
   "outputs": [],
   "source": []
  }
 ],
 "metadata": {
  "kernelspec": {
   "display_name": "Python 3 (ipykernel)",
   "language": "python",
   "name": "python3"
  },
  "language_info": {
   "codemirror_mode": {
    "name": "ipython",
    "version": 3
   },
   "file_extension": ".py",
   "mimetype": "text/x-python",
   "name": "python",
   "nbconvert_exporter": "python",
   "pygments_lexer": "ipython3",
   "version": "3.10.10"
  }
 },
 "nbformat": 4,
 "nbformat_minor": 5
}
