{
 "cells": [
  {
   "cell_type": "code",
   "execution_count": 14,
   "id": "04d71548-8885-485a-8857-3e9e2ae64012",
   "metadata": {},
   "outputs": [],
   "source": [
    "## Two Integer Sum II\n",
    "\n",
    "from typing import List\n",
    "\n",
    "class Solution:\n",
    "    \n",
    "    def twoSum(self, numbers: List[int], target: int) -> List[int]:\n",
    "\n",
    "        i, j = 0, len(numbers)-1\n",
    "        while i < j:\n",
    "            cursum = numbers[i] + numbers[j]\n",
    "            if cursum == target:\n",
    "                return [i+1, j+1]\n",
    "            elif cursum < target:\n",
    "                i+=1\n",
    "            else:\n",
    "                j-=1\n",
    "\n",
    "        return [-1, -1]\n"
   ]
  },
  {
   "cell_type": "code",
   "execution_count": 21,
   "id": "5bf8a6e1-c9b0-4957-bf80-7d4f6229d9f6",
   "metadata": {},
   "outputs": [
    {
     "data": {
      "text/plain": [
       "[[-1, 0, 1], [2, -1, -1]]"
      ]
     },
     "execution_count": 21,
     "metadata": {},
     "output_type": "execute_result"
    }
   ],
   "source": [
    "## Three Integer Sum\n",
    "\n",
    "from collections import defaultdict\n",
    "\n",
    "class Solution:\n",
    "\n",
    "    def threeSum(self, nums):\n",
    "\n",
    "        pos, neg = defaultdict(int), defaultdict(int)\n",
    "        zeros = 0\n",
    "        res = []\n",
    "\n",
    "        for num in nums:\n",
    "            if num < 0:\n",
    "                neg[num] += 1\n",
    "            elif num > 0:\n",
    "                pos[num] += 1\n",
    "            else:\n",
    "                zeros += 1\n",
    "\n",
    "        if zeros:\n",
    "            for num in pos:\n",
    "                if -num in neg:\n",
    "                    res.append([-num, 0, num])\n",
    "            if zeros > 2:\n",
    "                res.append([0, 0, 0])\n",
    "\n",
    "        for dict1, dict2 in [(pos, neg), (neg, pos)]:\n",
    "            for i, (d1_k1, d1_v1) in enumerate(dict1.items()):\n",
    "                for d1_k2, d1_v2 in list(dict1.items())[i:]:\n",
    "                    if (d1_k1 != d1_k2) or ((d1_k1 == d1_k2) and (d1_v1 > 1)):\n",
    "                        if (-(d1_k1+d1_k2) in dict2):\n",
    "                            res.append([-(d1_k1+d1_k2), d1_k1,  d1_k2])\n",
    "        return res\n",
    "\n",
    "nums = [-1,0,1,2,-1,-4]\n",
    "Solution().threeSum(nums)"
   ]
  },
  {
   "cell_type": "code",
   "execution_count": 23,
   "id": "6cfc842b-7e1b-4e8a-9d98-c856906b14c8",
   "metadata": {},
   "outputs": [
    {
     "data": {
      "text/plain": [
       "36"
      ]
     },
     "execution_count": 23,
     "metadata": {},
     "output_type": "execute_result"
    }
   ],
   "source": [
    "## Max Water Container\n",
    "\n",
    "class Solution:\n",
    "\n",
    "    def maxArea(self, height: List[int]) -> int:\n",
    "\n",
    "        max_area = 0\n",
    "        i, j = 0, len(height)-1\n",
    "        while i < j:\n",
    "\n",
    "            cur_area = min(height[i], height[j]) * (j-i)\n",
    "            max_area = max(max_area, cur_area)\n",
    "\n",
    "            if height[i]  < height[j]:\n",
    "                i+=1\n",
    "            else:\n",
    "                j-=1\n",
    "        \n",
    "        return max_area\n",
    "\n",
    "Solution().maxArea([1,7,2,5,4,7,3,6])"
   ]
  },
  {
   "cell_type": "code",
   "execution_count": 27,
   "id": "f28c9b0f-927f-42a1-b314-43835813548c",
   "metadata": {},
   "outputs": [
    {
     "data": {
      "text/plain": [
       "9"
      ]
     },
     "execution_count": 27,
     "metadata": {},
     "output_type": "execute_result"
    }
   ],
   "source": [
    "## Trapping Rain Water\n",
    "\n",
    "class Solution:\n",
    "\n",
    "    def trap(self, height: List[int]) -> int:\n",
    "\n",
    "        if not height:\n",
    "            return 0\n",
    "\n",
    "        l, r = 0, len(height)-1\n",
    "        lmax, rmax = height[l], height[r]\n",
    "        res = 0\n",
    "        \n",
    "        while l < r:\n",
    "\n",
    "            if lmax < rmax:\n",
    "                l += 1\n",
    "                lmax = max(height[l], lmax)\n",
    "                res += lmax - height[l]\n",
    "            else:\n",
    "                r -= 1\n",
    "                rmax = max(height[r], rmax)\n",
    "                res += rmax - height[r]\n",
    "            \n",
    "        return res\n",
    "    \n",
    "Solution().trap(height = [0,2,0,3,1,0,1,3,2,1])"
   ]
  },
  {
   "cell_type": "code",
   "execution_count": 28,
   "id": "8e479f87-97f6-4892-a795-765c4ea22a21",
   "metadata": {},
   "outputs": [],
   "source": [
    "## 16. 3Sum Closest\n",
    "\n",
    "class Solution:\n",
    "    \n",
    "    def threeSumClosest(self, nums: List[int], target: int) -> int:\n",
    "\n",
    "        nums = sorted(nums)\n",
    "        _difference = float('inf')\n",
    "        result = 0\n",
    "        for i in range(len(nums)):\n",
    "\n",
    "            l = i+1\n",
    "            r = len(nums)-1\n",
    "            while start < end:\n",
    "                \n",
    "                _sum = nums[i] + nums[l] + nums[r]\n",
    "                \n",
    "                if _sum == target:\n",
    "                    return target\n",
    "                elif abs(target - _sum) < _difference:\n",
    "                    _difference = abs(target - sum)\n",
    "                    result = _sum\n",
    "                if _sum < target:\n",
    "                    start += 1\n",
    "                else:\n",
    "                    end -=1\n",
    "        return result"
   ]
  },
  {
   "cell_type": "code",
   "execution_count": null,
   "id": "0dfb5f6a-139a-44ac-a4c8-62fb6256071b",
   "metadata": {},
   "outputs": [],
   "source": [
    "## 18. 4 Sum\n",
    "class Solution:\n",
    "    def fourSum(self, nums: List[int], target: int) -> List[List[int]]:\n",
    "\n",
    "        \n",
    "        "
   ]
  },
  {
   "cell_type": "code",
   "execution_count": 29,
   "id": "de551ebd-7702-4ee6-a58e-732638c02823",
   "metadata": {},
   "outputs": [],
   "source": [
    "## 2367. Number of Arithmetic Triplets\n",
    "\n",
    "class Solution:\n",
    "    def arithmeticTriplets(self, nums: List[int], diff: int) -> int:\n",
    "\n",
    "        res = 0\n",
    "        n = len(nums)\n",
    "        for i in range(n):\n",
    "            if (nums[i] + diff in nums) and (nums[i] + 2 * diff in nums):\n",
    "                res += 1\n",
    "        return res\n",
    "       "
   ]
  },
  {
   "cell_type": "markdown",
   "id": "3bd9630c-ccb6-477f-891f-03839bfee33a",
   "metadata": {},
   "source": [
    "----"
   ]
  },
  {
   "cell_type": "code",
   "execution_count": null,
   "id": "611797c9-dc81-48a1-867c-1f90b29a0bd0",
   "metadata": {},
   "outputs": [],
   "source": []
  },
  {
   "cell_type": "code",
   "execution_count": null,
   "id": "43644289-2eb9-42ab-b252-755e66e9ff6e",
   "metadata": {},
   "outputs": [],
   "source": []
  },
  {
   "cell_type": "code",
   "execution_count": null,
   "id": "a6b8e360-7251-4805-a920-98274b12476f",
   "metadata": {},
   "outputs": [],
   "source": []
  },
  {
   "cell_type": "code",
   "execution_count": 8,
   "id": "32614594-6999-4861-a929-989677681d26",
   "metadata": {},
   "outputs": [
    {
     "name": "stdout",
     "output_type": "stream",
     "text": [
      "Steps to loop for array [1, 2, 2, 1] starting at index 0: 3\n"
     ]
    }
   ],
   "source": [
    "def count_steps_to_loop(arr, start_index):\n",
    "    visited = {}\n",
    "    index = start_index\n",
    "    steps = 0\n",
    "    \n",
    "    while index not in visited:\n",
    "        visited[index] = steps\n",
    "        index = arr[index]\n",
    "        steps += 1\n",
    "    \n",
    "    return steps\n",
    "\n",
    "# Test Eg: [1, 2, 1, 3]\n",
    "arr = [1, 2, 2, 1]\n",
    "start_index = 0\n",
    "steps = count_steps_to_loop(arr, start_index)\n",
    "print(f\"Steps to loop for array {arr} starting at index {start_index}: {steps}\")\n"
   ]
  },
  {
   "cell_type": "code",
   "execution_count": 11,
   "id": "6dd54c19-9ac4-4bd5-88d4-7e58b535e6ce",
   "metadata": {},
   "outputs": [
    {
     "name": "stdout",
     "output_type": "stream",
     "text": [
      "Steps to loop for array [1, 2, 2, 1] starting at index 0: -1\n",
      "Steps to loop for array [1, 2, 1, 3] starting at index 0: 3\n",
      "Steps to loop for array [1, 2, 2, 1] starting at index 0: -1\n",
      "Steps to loop for array [1, 2, 1, 7] starting at index 0: 3\n"
     ]
    }
   ],
   "source": [
    "def count_steps_to_loop(arr, start_index):\n",
    "    visited = set()\n",
    "    index = start_index\n",
    "    steps = 0\n",
    "    \n",
    "    while index not in visited:\n",
    "        if index < 0 or index >= len(arr):\n",
    "            return -1  # Out of bounds, indicating no loop possible\n",
    "        visited.add(index)\n",
    "        next_index = arr[index]\n",
    "        if next_index == index:\n",
    "            return -1  # Stuck in self-pointing index, no loop\n",
    "        index = next_index\n",
    "        steps += 1\n",
    "    \n",
    "    return steps\n",
    "\n",
    "# Test the function with the example [1, 2, 2, 1]\n",
    "arr = [1, 2, 2, 1]\n",
    "start_index = 0\n",
    "steps = count_steps_to_loop(arr, start_index)\n",
    "print(f\"Steps to loop for array {arr} starting at index {start_index}: {steps}\")\n",
    "\n",
    "# Test the function with the example [1, 2, 1, 3]\n",
    "arr = [1, 2, 1, 3]\n",
    "steps = count_steps_to_loop(arr, start_index)\n",
    "print(f\"Steps to loop for array {arr} starting at index {start_index}: {steps}\")\n",
    "\n",
    "\n",
    "# Eg [1, 2, 2, 1]\n",
    "arr = [1, 2, 2, 1]\n",
    "start_index = 0\n",
    "steps = count_steps_to_loop(arr, start_index)\n",
    "print(f\"Steps to loop for array {arr} starting at index {start_index}: {steps}\")\n",
    "\n",
    "# Eg [1, 2, 1, 3]\n",
    "arr = [1, 2, 1, 7]\n",
    "steps = count_steps_to_loop(arr, start_index)\n",
    "print(f\"Steps to loop for array {arr} starting at index {start_index}: {steps}\")\n"
   ]
  },
  {
   "cell_type": "code",
   "execution_count": null,
   "id": "ea7db2bc-ab52-4d3d-815a-4fa7b079b4ec",
   "metadata": {},
   "outputs": [],
   "source": []
  }
 ],
 "metadata": {
  "kernelspec": {
   "display_name": "Python 3 (ipykernel)",
   "language": "python",
   "name": "python3"
  },
  "language_info": {
   "codemirror_mode": {
    "name": "ipython",
    "version": 3
   },
   "file_extension": ".py",
   "mimetype": "text/x-python",
   "name": "python",
   "nbconvert_exporter": "python",
   "pygments_lexer": "ipython3",
   "version": "3.10.10"
  }
 },
 "nbformat": 4,
 "nbformat_minor": 5
}
