{
 "cells": [
  {
   "cell_type": "code",
   "execution_count": 2,
   "id": "28be13b2-591f-48ab-b971-20eee77efac3",
   "metadata": {},
   "outputs": [],
   "source": [
    "from typing import List"
   ]
  },
  {
   "cell_type": "code",
   "execution_count": 10,
   "id": "ca58b6c7-5562-4483-8ea1-6d402ec80207",
   "metadata": {},
   "outputs": [
    {
     "data": {
      "text/plain": [
       "[[3, 3], [-2, 4]]"
      ]
     },
     "execution_count": 10,
     "metadata": {},
     "output_type": "execute_result"
    }
   ],
   "source": [
    "import heapq\n",
    "import math\n",
    "\n",
    "class Solution:\n",
    "\n",
    "    def kClosest(self, points: List[List[int]], k: int) -> List[List[int]]:\n",
    "\n",
    "        def distance(point):\n",
    "            return math.sqrt(point[0]**2 + point[1]**2)\n",
    "\n",
    "        distances = [(distance(point), point) for point in points]\n",
    "        heapq.heapify(distances)\n",
    "\n",
    "        nsmallest = [point for _, point in heapq.nsmallest(k, distances)]\n",
    "        \n",
    "        return nsmallest\n",
    "\n",
    "points = [[3,3],[5,-1],[-2,4]]\n",
    "k = 2\n",
    "Solution().kClosest(points, k)"
   ]
  },
  {
   "cell_type": "code",
   "execution_count": null,
   "id": "bd5c9ada-18f8-4ab4-9545-857b52b76a7f",
   "metadata": {},
   "outputs": [],
   "source": []
  }
 ],
 "metadata": {
  "kernelspec": {
   "display_name": "Python 3 (ipykernel)",
   "language": "python",
   "name": "python3"
  },
  "language_info": {
   "codemirror_mode": {
    "name": "ipython",
    "version": 3
   },
   "file_extension": ".py",
   "mimetype": "text/x-python",
   "name": "python",
   "nbconvert_exporter": "python",
   "pygments_lexer": "ipython3",
   "version": "3.9.9"
  }
 },
 "nbformat": 4,
 "nbformat_minor": 5
}
