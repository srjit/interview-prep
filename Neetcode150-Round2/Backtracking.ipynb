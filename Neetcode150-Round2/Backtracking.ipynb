{
 "cells": [
  {
   "cell_type": "code",
   "execution_count": 1,
   "id": "7807c6d6-52d6-4d3a-905d-76e5a2255bce",
   "metadata": {},
   "outputs": [],
   "source": [
    "## Backtracking"
   ]
  },
  {
   "cell_type": "code",
   "execution_count": 3,
   "id": "eddd40aa-fb58-4a2f-b1c8-f376a813c296",
   "metadata": {},
   "outputs": [],
   "source": [
    "from typing import List, Optional"
   ]
  },
  {
   "cell_type": "code",
   "execution_count": 9,
   "id": "1d0b0aa0-9987-4942-b4ef-8a706b5f037f",
   "metadata": {},
   "outputs": [
    {
     "data": {
      "text/plain": [
       "[[1, 2, 3], [1, 2], [1, 3], [1], [2, 3], [2], [3], []]"
      ]
     },
     "execution_count": 9,
     "metadata": {},
     "output_type": "execute_result"
    }
   ],
   "source": [
    "class Solution:\n",
    "    def subsets(self, nums: List[int]) -> List[List[int]]:\n",
    "\n",
    "        res, cur = [], []\n",
    "        def dfs(i):\n",
    "            \n",
    "            if i == len(nums):\n",
    "                res.append(cur.copy())\n",
    "                return\n",
    "\n",
    "            cur.append(nums[i])\n",
    "            dfs(i+1)\n",
    "            cur.pop()\n",
    "            dfs(i+1)\n",
    "        dfs(0)\n",
    "        return res\n",
    "            \n",
    "Solution().subsets([1,2,3])"
   ]
  },
  {
   "cell_type": "code",
   "execution_count": 11,
   "id": "5c888d42-2a9b-46dd-ba4f-55cc2d6d6630",
   "metadata": {},
   "outputs": [
    {
     "data": {
      "text/plain": [
       "[[2, 2, 5], [9]]"
      ]
     },
     "execution_count": 11,
     "metadata": {},
     "output_type": "execute_result"
    }
   ],
   "source": [
    "class Solution:\n",
    "\n",
    "    def combinationSum(self, nums: List[int], target: int) -> List[List[int]]:\n",
    "\n",
    "        cur, res = [], []\n",
    "        def backtrack(i):\n",
    "\n",
    "            if sum(cur) == target:\n",
    "                res.append(cur.copy())\n",
    "                return\n",
    "            if i >= len(nums) or sum(cur) > target:\n",
    "                return\n",
    "\n",
    "            cur.append(nums[i])\n",
    "            backtrack(i)\n",
    "            cur.pop()\n",
    "            backtrack(i+1)\n",
    "\n",
    "        backtrack(0)\n",
    "        return res\n",
    "\n",
    "Solution().combinationSum([2,5,6,9], 9)"
   ]
  },
  {
   "cell_type": "code",
   "execution_count": 12,
   "id": "d636bef0-e0e4-434c-bf04-04e844ef3620",
   "metadata": {},
   "outputs": [
    {
     "data": {
      "text/plain": [
       "['ad', 'ae', 'af', 'bd', 'be', 'bf', 'cd', 'ce', 'cf']"
      ]
     },
     "execution_count": 12,
     "metadata": {},
     "output_type": "execute_result"
    }
   ],
   "source": [
    "class Solution:\n",
    "    \n",
    "    def letterCombinations(self, digits: str) -> List[str]:\n",
    "\n",
    "        res = []\n",
    "        digitstochar = {\n",
    "            \"2\": \"abc\", \n",
    "            \"3\": \"def\", \n",
    "            \"4\": \"ghi\", \n",
    "            \"5\": \"jkl\", \n",
    "            \"6\": \"mno\", \n",
    "            \"7\": \"pqrs\", \n",
    "            \"8\": \"tuv\", \n",
    "            \"9\": \"wxyz\"\n",
    "        }\n",
    "\n",
    "        def backtrack(i, letters):\n",
    "\n",
    "            if i == len(digits):\n",
    "                res.append(letters)\n",
    "                return\n",
    "\n",
    "            chars = digitstochar[digits[i]]\n",
    "            for char in chars:\n",
    "                backtrack(i+1, letters + char)\n",
    "\n",
    "        backtrack(0, \"\")\n",
    "        return res\n",
    "\n",
    "Solution().letterCombinations(\"23\")\n",
    "        "
   ]
  },
  {
   "cell_type": "code",
   "execution_count": 15,
   "id": "927e418d-0c1a-4b31-a1ef-f2b1b94e42a1",
   "metadata": {},
   "outputs": [
    {
     "data": {
      "text/plain": [
       "['((()))', '(()())', '(())()', '()(())', '()()()']"
      ]
     },
     "execution_count": 15,
     "metadata": {},
     "output_type": "execute_result"
    }
   ],
   "source": [
    "class Solution:\n",
    "    def generateParenthesis(self, n: int) -> List[str]:\n",
    "        \n",
    "        cur, res = [], []\n",
    "        def backtrack(open_count, closed_count):\n",
    "\n",
    "            if open_count == closed_count == n:\n",
    "                res.append(\"\".join(cur.copy()))\n",
    "                return\n",
    "\n",
    "            if open_count < n:\n",
    "                cur.append(\"(\")\n",
    "                backtrack(open_count+1, closed_count)\n",
    "                cur.pop()\n",
    "\n",
    "            if closed_count < open_count:\n",
    "                cur.append(\")\")\n",
    "                backtrack(open_count, closed_count+1)\n",
    "                cur.pop()\n",
    "        \n",
    "        backtrack(0, 0)\n",
    "        return res\n",
    "        \n",
    "Solution().generateParenthesis(3)                \n",
    "# Time Complexity; 2^N            "
   ]
  },
  {
   "cell_type": "code",
   "execution_count": 29,
   "id": "a0b98674-537a-4b6e-b8c4-3363e78fad42",
   "metadata": {},
   "outputs": [
    {
     "data": {
      "text/plain": [
       "[[1, 2, 3, 4, 5, 6, 7, 8, 9]]"
      ]
     },
     "execution_count": 29,
     "metadata": {},
     "output_type": "execute_result"
    }
   ],
   "source": [
    "class Solution:\n",
    "    \n",
    "    def combinationSum3(self, k: int, n: int) -> List[List[int]]:\n",
    "\n",
    "        res = []\n",
    "        cur = []\n",
    "        def backtrack(i):\n",
    "\n",
    "            if len(cur) > k or sum(cur) > n or i-1 > 9:\n",
    "                return\n",
    "            \n",
    "            \n",
    "            if len(cur) == k and sum(cur) == n:\n",
    "                res.append(cur.copy())\n",
    "                return\n",
    "\n",
    "            \n",
    "            cur.append(i)\n",
    "            backtrack(i+1)\n",
    "            cur.pop()\n",
    "            backtrack(i+1)\n",
    "        \n",
    "        backtrack(1)\n",
    "        return res\n",
    "\n",
    "Solution().combinationSum3(9, 45)"
   ]
  },
  {
   "cell_type": "code",
   "execution_count": null,
   "id": "ff7d160a-2d2b-4686-9e69-117d75917885",
   "metadata": {},
   "outputs": [],
   "source": [
    "from typing import List\n",
    "\n",
    "class Solution:\n",
    "    \n",
    "    def combinationSum3(self, k: int, n: int) -> List[List[int]]:\n",
    "        res = []\n",
    "        cur = []\n",
    "\n",
    "        def backtrack(start):\n",
    "            if len(cur) > k or sum(cur) > n:\n",
    "                return\n",
    "                \n",
    "            if len(cur) == k and sum(cur) == n:\n",
    "                res.append(cur.copy())\n",
    "                return\n",
    "\n",
    "            for i in range(start, 10):\n",
    "                cur.append(i)\n",
    "                backtrack(i + 1)\n",
    "                cur.pop()\n",
    "\n",
    "        backtrack(1)\n",
    "        return res\n"
   ]
  },
  {
   "cell_type": "code",
   "execution_count": 32,
   "id": "0c98c507-e1c6-432d-8028-c721bba580ed",
   "metadata": {},
   "outputs": [
    {
     "data": {
      "text/plain": [
       "[[1, 1, 2], [1, 1], [1, 2], [1], [2], []]"
      ]
     },
     "execution_count": 32,
     "metadata": {},
     "output_type": "execute_result"
    }
   ],
   "source": [
    "class Solution:\n",
    "    \n",
    "    def subsetsWithDup(self, nums: List[int]) -> List[List[int]]:\n",
    "\n",
    "        nums.sort()\n",
    "\n",
    "        cur, res = [], []\n",
    "        def backtrack(i):\n",
    "\n",
    "            if i==len(nums):\n",
    "                res.append(cur.copy())\n",
    "                return\n",
    "\n",
    "            cur.append(nums[i])\n",
    "            backtrack(i+1)\n",
    "            cur.pop()\n",
    "\n",
    "            while i+1 < len(nums) and nums[i] == nums[i+1]:\n",
    "                i+=1\n",
    "            backtrack(i+1)\n",
    "\n",
    "        backtrack(0)\n",
    "        \n",
    "        return res\n",
    "\n",
    "Solution().subsetsWithDup([1,2,1])"
   ]
  },
  {
   "cell_type": "code",
   "execution_count": 35,
   "id": "ecf4d05d-1bc1-4980-b50e-e1bb11368e79",
   "metadata": {},
   "outputs": [
    {
     "data": {
      "text/plain": [
       "[[1, 2, 5], [2, 2, 4], [2, 6]]"
      ]
     },
     "execution_count": 35,
     "metadata": {},
     "output_type": "execute_result"
    }
   ],
   "source": [
    "class Solution:\n",
    "    \n",
    "    def combinationSum2(self, nums, target: int):\n",
    "\n",
    "        nums.sort()\n",
    "        res, cur = [],  []\n",
    "        def backtrack(start, rem):\n",
    "\n",
    "            if rem == 0:\n",
    "                res.append(cur.copy())\n",
    "                return\n",
    "            if rem <= 0:\n",
    "                return\n",
    "\n",
    "            prev = -1\n",
    "            for i in range(start, len(nums)):\n",
    "                if nums[i] == prev:\n",
    "                    continue\n",
    "                cur.append(nums[i])\n",
    "                backtrack(i+1, rem-nums[i])\n",
    "                cur.pop()\n",
    "                prev=nums[i]\n",
    "        backtrack(0, target)\n",
    "        return res\n",
    "\n",
    "\n",
    "candidates = [9,2,2,4,6,1,5]\n",
    "target = 8\n",
    "\n",
    "Solution().combinationSum2(candidates, target)\n",
    "                \n"
   ]
  },
  {
   "cell_type": "code",
   "execution_count": null,
   "id": "55b44cd7-e953-4954-8df5-13d314e576f4",
   "metadata": {},
   "outputs": [],
   "source": [
    "class Solution:\n",
    "\n",
    "    def permute(self, nums: List[int]) -> List[List[int]]:\n"
   ]
  }
 ],
 "metadata": {
  "kernelspec": {
   "display_name": "Python 3 (ipykernel)",
   "language": "python",
   "name": "python3"
  },
  "language_info": {
   "codemirror_mode": {
    "name": "ipython",
    "version": 3
   },
   "file_extension": ".py",
   "mimetype": "text/x-python",
   "name": "python",
   "nbconvert_exporter": "python",
   "pygments_lexer": "ipython3",
   "version": "3.10.10"
  }
 },
 "nbformat": 4,
 "nbformat_minor": 5
}
