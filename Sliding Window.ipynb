{
 "cells": [
  {
   "cell_type": "code",
   "execution_count": 1,
   "id": "c849be37-b134-47d4-a541-9643a3b59708",
   "metadata": {},
   "outputs": [
    {
     "data": {
      "text/plain": [
       "3"
      ]
     },
     "execution_count": 1,
     "metadata": {},
     "output_type": "execute_result"
    }
   ],
   "source": [
    "## Longest Substring Without Repeating Characters \n",
    "\n",
    "class Solution:\n",
    "    \n",
    "    def lengthOfLongestSubstring(self, s: str) -> int:\n",
    "\n",
    "        maxl = 0\n",
    "        left = 0\n",
    "        visited = set()\n",
    "        \n",
    "        for right, c in enumerate(s):\n",
    "\n",
    "            while c in visited:\n",
    "                ## if c is in visited, we have to remove all the characters from \n",
    "                ## left until 'c'\n",
    "                visited.remove(s[left])\n",
    "                left += 1\n",
    "\n",
    "            ## start from 'c' \n",
    "            visited.add(c)\n",
    "            length = right - left + 1\n",
    "            maxl = max(length, maxl)\n",
    "\n",
    "\n",
    "        return maxl\n",
    "\n",
    "Solution().lengthOfLongestSubstring(\"zxyzxyz\")"
   ]
  },
  {
   "cell_type": "code",
   "execution_count": 6,
   "id": "db046fb6-d553-487b-95e6-771faa40a0d0",
   "metadata": {},
   "outputs": [
    {
     "data": {
      "text/plain": [
       "5"
      ]
     },
     "execution_count": 6,
     "metadata": {},
     "output_type": "execute_result"
    }
   ],
   "source": [
    "class Solution:\n",
    "    \n",
    "    def characterReplacement(self, s: str, k: int) -> int:\n",
    "\n",
    "        ## can replace a maximum of k characters\n",
    "\n",
    "        left = 0\n",
    "        maxl = 0\n",
    "        counts = {}\n",
    "\n",
    "        for right in range(len(s)):\n",
    "\n",
    "            counts[s[right]] = 1 + counts.get(s[right], 0)\n",
    "\n",
    "            # count of the most frequent character\n",
    "            max_frequency = max(counts.values())\n",
    "            \n",
    "            # length of string - count of max frequency character\n",
    "            if (right-left+1) - max_frequency > k:\n",
    "\n",
    "                # remove one character from the left\n",
    "                counts[s[left]] -= 1\n",
    "                left += 1\n",
    "\n",
    "            maxl = max(maxl, sum(counts.values()))\n",
    "            \n",
    "        return maxl\n",
    "\n",
    "Solution().characterReplacement(\"AAABABB\", k=1)"
   ]
  },
  {
   "cell_type": "code",
   "execution_count": 8,
   "id": "c772c751-fedc-4f35-af57-391c21fe7657",
   "metadata": {},
   "outputs": [
    {
     "data": {
      "text/plain": [
       "['cba', 'bca', 'cab', 'acb', 'bac', 'abc']"
      ]
     },
     "execution_count": 8,
     "metadata": {},
     "output_type": "execute_result"
    }
   ],
   "source": [
    "\n",
    "def permute(s):\n",
    "\n",
    "    if len(s) == 1:\n",
    "        return [s]\n",
    "\n",
    "    res = []\n",
    "    for i in range(len(s)):\n",
    "        permutations = permute(s[:i] + s[i+1:])\n",
    "\n",
    "        for perm in permutations:\n",
    "            res.append(perm + s[i])\n",
    "\n",
    "    return res\n",
    "        \n",
    "        \n",
    "permute(\"abc\")"
   ]
  },
  {
   "cell_type": "code",
   "execution_count": null,
   "id": "97c7f1b5-ad92-465a-9dd3-b602d89eea3d",
   "metadata": {},
   "outputs": [],
   "source": []
  }
 ],
 "metadata": {
  "kernelspec": {
   "display_name": "Python 3 (ipykernel)",
   "language": "python",
   "name": "python3"
  },
  "language_info": {
   "codemirror_mode": {
    "name": "ipython",
    "version": 3
   },
   "file_extension": ".py",
   "mimetype": "text/x-python",
   "name": "python",
   "nbconvert_exporter": "python",
   "pygments_lexer": "ipython3",
   "version": "3.10.10"
  }
 },
 "nbformat": 4,
 "nbformat_minor": 5
}
