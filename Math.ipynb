{
 "cells": [
  {
   "cell_type": "code",
   "execution_count": 11,
   "id": "eb05863a-3037-40eb-a033-36dbe235cc83",
   "metadata": {},
   "outputs": [
    {
     "name": "stdout",
     "output_type": "stream",
     "text": [
      "[3, '+', 2, '-', 5, '/']\n"
     ]
    }
   ],
   "source": [
    "def calculate(s: str) -> int:\n",
    "        \n",
    "        \n",
    "        contents = []\n",
    "        prev = \"\"\n",
    "        for c in s:\n",
    "            if c in ['+', '-', '*', '/']:\n",
    "                contents.append(int(prev))\n",
    "                prev = \"\"\n",
    "                contents.append(c)\n",
    "            else:\n",
    "                prev += c\n",
    "\n",
    "        print(contents)\n",
    "\n",
    "calculate(\"3+2-5/2\")"
   ]
  },
  {
   "cell_type": "code",
   "execution_count": null,
   "id": "6762a9ed-f175-421c-b941-a807e3fc1332",
   "metadata": {},
   "outputs": [],
   "source": []
  }
 ],
 "metadata": {
  "kernelspec": {
   "display_name": "Python 3 (ipykernel)",
   "language": "python",
   "name": "python3"
  },
  "language_info": {
   "codemirror_mode": {
    "name": "ipython",
    "version": 3
   },
   "file_extension": ".py",
   "mimetype": "text/x-python",
   "name": "python",
   "nbconvert_exporter": "python",
   "pygments_lexer": "ipython3",
   "version": "3.10.10"
  }
 },
 "nbformat": 4,
 "nbformat_minor": 5
}
