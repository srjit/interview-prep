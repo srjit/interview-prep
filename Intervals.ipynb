{
 "cells": [
  {
   "cell_type": "code",
   "execution_count": 4,
   "id": "07881f9b-2a1f-4802-8dbf-5d9291dd0908",
   "metadata": {},
   "outputs": [],
   "source": [
    "from typing import Optional, List"
   ]
  },
  {
   "cell_type": "markdown",
   "id": "0abf6926-263b-4231-84f9-2b151848d363",
   "metadata": {},
   "source": [
    "### 56. Merge Intervals\n",
    "---"
   ]
  },
  {
   "cell_type": "code",
   "execution_count": 5,
   "id": "2be42315-6c18-412c-8f0e-e160624bd6e7",
   "metadata": {},
   "outputs": [],
   "source": [
    "class Solution:\n",
    "    \n",
    "    def merge(self, intervals: List[List[int]]) -> List[List[int]]:\n",
    "\n",
    "        intervals = sorted(intervals, key=lambda x: x[0])\n",
    "\n",
    "        output = [intervals[0]]\n",
    "        for i in range(intervals[1:]):\n",
    "            prev = output[-1]\n",
    "            \n",
    "            if prev[1] > intervals[i][0]:\n",
    "                output[-1][1] = max(prev[1], intervals[i][1])\n",
    "            else:\n",
    "                output.append(intervals[i])\n",
    "                \n",
    "        return output"
   ]
  },
  {
   "cell_type": "markdown",
   "id": "fcb664ad-6b5d-4f57-b3fe-066b9fb0b7b2",
   "metadata": {},
   "source": [
    "### 57. Insert Interval\n",
    "---"
   ]
  },
  {
   "cell_type": "code",
   "execution_count": 6,
   "id": "ac1c532d-f67a-4616-ac38-52b9acb47274",
   "metadata": {},
   "outputs": [],
   "source": [
    "class Solution:\n",
    "    \n",
    "    def insert(self, intervals: List[List[int]], newInterval: List[int]) -> List[List[int]]:\n",
    "\n",
    "        intervals = sorted(intervals, key=lambda x: x[0])\n",
    "\n",
    "        res = []\n",
    "        for i, interval in enumerate(intervals):\n",
    "\n",
    "            # the new interval's end is before current interval's start\n",
    "            if newInterval[1] < interval[0]:\n",
    "                res.append(newInterval)\n",
    "                return res + intervals[i:]\n",
    "            # new interval's start is greater than current interval's end\n",
    "            elif newInterval[0] > interval[1]:\n",
    "                res.append(interval)\n",
    "            else:\n",
    "                # interval comes in between \n",
    "                newInterval = [min(interval[0], newInterval[0]),\n",
    "                               max(interval[1], newInterval[1])]\n",
    "\n",
    "        # If it has reached here interval hasn't been added to res yet\n",
    "        res.append(newInterval)\n",
    "        return res"
   ]
  },
  {
   "cell_type": "code",
   "execution_count": null,
   "id": "81dfd4a0-0895-4118-b711-0372afdd0675",
   "metadata": {},
   "outputs": [],
   "source": []
  }
 ],
 "metadata": {
  "kernelspec": {
   "display_name": "transformers",
   "language": "python",
   "name": "transformers"
  },
  "language_info": {
   "codemirror_mode": {
    "name": "ipython",
    "version": 3
   },
   "file_extension": ".py",
   "mimetype": "text/x-python",
   "name": "python",
   "nbconvert_exporter": "python",
   "pygments_lexer": "ipython3",
   "version": "3.9.9"
  }
 },
 "nbformat": 4,
 "nbformat_minor": 5
}
