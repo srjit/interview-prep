{
 "cells": [
  {
   "cell_type": "code",
   "execution_count": 2,
   "id": "5adc6702-ad9a-4a94-af42-9cc9490c9771",
   "metadata": {},
   "outputs": [],
   "source": [
    "grid = [\n",
    "    [1, 1, 1, 0, 1],\n",
    "    [1, 1, 0, 0, 0],\n",
    "    [1, 0, 1, 1, 0],\n",
    "    [1, 0 , 0, 0, 1]\n",
    "]"
   ]
  },
  {
   "cell_type": "code",
   "execution_count": 112,
   "id": "2326728f-76ca-4aca-9cfa-d374813fde1f",
   "metadata": {},
   "outputs": [],
   "source": [
    "# BFS and DFS to solve \n",
    "    # 1. Number of connected components\n",
    "    # 2. Number of Islands\n",
    "    # 3. Surrounded Regions\n",
    "    # 4. Evaluate Division\n",
    "    # 5. Course Schedule II"
   ]
  },
  {
   "cell_type": "code",
   "execution_count": 105,
   "id": "8ef95bc7-3f55-4e35-948f-f967ea816cf9",
   "metadata": {},
   "outputs": [],
   "source": [
    "class Solution:\n",
    "\n",
    "    def numIslands(self, grid: List[List[str]]) -> int:\n",
    "\n",
    "        ROWS, COLS = len(grid), len(grid[0])\n",
    "        visit = set()\n",
    "        def dfs(r, c):\n",
    "            if ((r < 0) or (c < 0) or (r >= ROWS) or (c >= COLS) or (r,c) in visit):\n",
    "                return\n",
    "            visit.add((r, c))\n",
    "            neighbors = [(-1, 0), (1, 0), (0, -1), (0, 1)]\n",
    "            for dr, dc in neighbors:\n",
    "                _r = r + dr\n",
    "                _c = c + dc\n",
    "                if not ((_r < 0) or (_c < 0) or (_r >= ROWS) or (_c >= COLS) or ((_r, _c) in visit)):\n",
    "                    dfs(_r, _c)\n",
    "            \n",
    "        islands = 0 \n",
    "        for r in range(ROWS):\n",
    "            for c in range(COLS):\n",
    "                if (grid[r][c] == 1) and ((r, c) not in visit):\n",
    "                    dfs(r, c)\n",
    "                    islands += 1\n",
    "        return islands"
   ]
  },
  {
   "cell_type": "markdown",
   "id": "1602a8c2-9fd7-44b7-a8da-ffbc3e4a3b76",
   "metadata": {},
   "source": [
    "#### 130. Surrounded Regions"
   ]
  },
  {
   "cell_type": "code",
   "execution_count": 106,
   "id": "74e80598-03b6-45bd-b7b1-b9b75090dd3a",
   "metadata": {},
   "outputs": [],
   "source": [
    "from typing import List"
   ]
  },
  {
   "cell_type": "code",
   "execution_count": 107,
   "id": "4796f420-c2df-4ef1-91d1-6b6414e1ab0a",
   "metadata": {},
   "outputs": [],
   "source": [
    "class Solution:\n",
    "    \n",
    "    def solve(self, board: List[List[str]]) -> None:\n",
    "\n",
    "        ROWS, COLS = len(board), len(board[0])\n",
    "        border_zeros = set()\n",
    "        \n",
    "        for r in range(ROWS):\n",
    "            if board[r][0] == 'O':\n",
    "                border_zeros.add((r, 0))\n",
    "            if board[r][COLS-1] == 'O':\n",
    "                border_zeros.add((r, COLS-1))\n",
    "        for c in range(COLS):\n",
    "            if board[0][c] == 'O':\n",
    "                border_zeros.add((0, c))\n",
    "            if board[ROWS-1][c] == 'O':\n",
    "                border_zeros.add((ROWS-1, c))\n",
    "\n",
    "\n",
    "        def dfs(r, c):\n",
    "\n",
    "            if (r, c) not in border_zeros:\n",
    "                border_zeros.add((r, c))\n",
    "            directions = [(-1, 0), (1, 0), (0, -1), (0, 1)]\n",
    "            for dr, dc in directions:\n",
    "                _r, _c = r+dr, c+dc\n",
    "                if not ((_r < 0) or (_r >= ROWS) or (_c <0) or (_c >= COLS) or (board[_r][_c] == 'X') or\n",
    "                        ((_r, _c) in border_zeros)):\n",
    "                    dfs(_r, _c)\n",
    "\n",
    "        for r in range(ROWS):\n",
    "            if board[r][0] == 'O':\n",
    "                dfs(r, 0)\n",
    "            if board[r][COLS-1] == 'O':\n",
    "                dfs(r, COLS-1)\n",
    "        for c in range(COLS):\n",
    "            if board[0][c] == 'O':\n",
    "                dfs(0, c)\n",
    "            if board[ROWS-1][c] == 'O':\n",
    "                dfs(ROWS-1, c)\n",
    "        for r in range(ROWS):\n",
    "            for c in range(COLS):\n",
    "                if board[r][c] == 'O' and ((r,c) not in border_zeros):\n",
    "                    board[r][c] = 'X'"
   ]
  },
  {
   "cell_type": "code",
   "execution_count": 108,
   "id": "f9594764-b88a-4d6e-a918-53baa7c235cb",
   "metadata": {},
   "outputs": [
    {
     "data": {
      "text/plain": [
       "[['X', 'X', 'X', 'X'],\n",
       " ['X', 'O', 'O', 'X'],\n",
       " ['X', 'X', 'O', 'X'],\n",
       " ['X', 'O', 'X', 'X']]"
      ]
     },
     "execution_count": 108,
     "metadata": {},
     "output_type": "execute_result"
    }
   ],
   "source": [
    "board = [[\"X\",\"X\",\"X\",\"X\"],[\"X\",\"O\",\"O\",\"X\"],[\"X\",\"X\",\"O\",\"X\"],[\"X\",\"O\",\"X\",\"X\"]]\n",
    "board"
   ]
  },
  {
   "cell_type": "code",
   "execution_count": 109,
   "id": "7201ebce-8174-47a8-a078-f7e03b544bab",
   "metadata": {},
   "outputs": [],
   "source": [
    "Solution().solve(board)"
   ]
  },
  {
   "cell_type": "code",
   "execution_count": 110,
   "id": "e06cf381-2569-4bd3-b757-45aad0e55c99",
   "metadata": {},
   "outputs": [
    {
     "data": {
      "text/plain": [
       "[['X', 'X', 'X', 'X'],\n",
       " ['X', 'X', 'X', 'X'],\n",
       " ['X', 'X', 'X', 'X'],\n",
       " ['X', 'O', 'X', 'X']]"
      ]
     },
     "execution_count": 110,
     "metadata": {},
     "output_type": "execute_result"
    }
   ],
   "source": [
    "board"
   ]
  },
  {
   "cell_type": "code",
   "execution_count": 111,
   "id": "18705d43-ee51-4e43-9b80-36e18c1e6006",
   "metadata": {},
   "outputs": [],
   "source": [
    "#### Evaluate Division\n",
    "\n",
    "from collections import defaultdict\n",
    "\n",
    "class Solution:\n",
    "    def calcEquation(self, equations: List[List[str]], values: List[float], queries: List[List[str]]) -> List[float]:\n",
    "\n",
    "        adj = defaultdict(list)\n",
    "        for [var1, var2], val in zip(equations, values):\n",
    "            adj[var1].append([var2, val])\n",
    "            adj[var2].append([var1, 1/val])\n",
    "\n",
    "\n",
    "        def dfs(src, target):\n",
    "\n",
    "            if src not in adj or target not in adj:\n",
    "                return -1\n",
    "\n",
    "            q, visit = deque(), set()\n",
    "            q.append([src, 1])\n",
    "            visit.add(src)\n",
    "            while q:\n",
    "                node, weight = q.popleft()\n",
    "                if node == target:\n",
    "                    return weight\n",
    "                for n, w in adj[node]:\n",
    "                    if n not in visit:\n",
    "                        q.append([n, w * weight])\n",
    "                        visit.add(n)\n",
    "            return -1\n",
    "\n",
    "\n",
    "        return [dfs(var1, var2) for var1, var2 in queries]"
   ]
  },
  {
   "cell_type": "code",
   "execution_count": null,
   "id": "8df8ddd5-fafb-45b0-bdf7-7a6ab65bc44b",
   "metadata": {},
   "outputs": [],
   "source": []
  }
 ],
 "metadata": {
  "kernelspec": {
   "display_name": "transformers",
   "language": "python",
   "name": "transformers"
  },
  "language_info": {
   "codemirror_mode": {
    "name": "ipython",
    "version": 3
   },
   "file_extension": ".py",
   "mimetype": "text/x-python",
   "name": "python",
   "nbconvert_exporter": "python",
   "pygments_lexer": "ipython3",
   "version": "3.9.9"
  }
 },
 "nbformat": 4,
 "nbformat_minor": 5
}
