{
 "cells": [
  {
   "cell_type": "code",
   "execution_count": 3,
   "id": "538eee3b-797a-43a4-abed-796514470f53",
   "metadata": {},
   "outputs": [],
   "source": [
    "from typing import List, Optional"
   ]
  },
  {
   "cell_type": "code",
   "execution_count": 4,
   "id": "a86a2393-ab60-470c-8fbf-a73ca8417358",
   "metadata": {},
   "outputs": [],
   "source": [
    "class ListNode:\n",
    "    \n",
    "    def __init__(self, val=0, next=None):\n",
    "        self.val = val\n",
    "        self.next = next\n"
   ]
  },
  {
   "cell_type": "code",
   "execution_count": 5,
   "id": "de750f6e-2c28-4625-8c4a-ecea659892f6",
   "metadata": {},
   "outputs": [],
   "source": [
    "#Reverse a Linked List\n",
    "\n",
    "class Solution:\n",
    "    \n",
    "    def reverseList(self, head: Optional[ListNode]) -> Optional[ListNode]:\n",
    "\n",
    "        if not head:\n",
    "            return\n",
    "\n",
    "        prev = head\n",
    "        current = head.next\n",
    "        \n",
    "        \n",
    "        while current:\n",
    "            tmp = current.next\n",
    "            current.next = prev\n",
    "\n",
    "            prev = current\n",
    "            current = tmp\n",
    "\n",
    "        head.next = None\n",
    "        return prev"
   ]
  },
  {
   "cell_type": "code",
   "execution_count": 6,
   "id": "dc64567e-dc60-4380-acf5-601e9e3d3dc2",
   "metadata": {},
   "outputs": [],
   "source": [
    "## Merge Two Sorted Linked Lists\n",
    "\n",
    "class Solution:\n",
    "    \n",
    "    def mergeTwoLists(self, list1: Optional[ListNode], \n",
    "                      list2: Optional[ListNode]) -> Optional[ListNode]:\n",
    "\n",
    "\n",
    "        dummy = ListNode(-1)\n",
    "        tail = dummy\n",
    "        \n",
    "        while list1 and list2:\n",
    "            if list1.val < list2.val:\n",
    "                tail.next = ListNode(list1.val)\n",
    "                list1 = list1.next\n",
    "            else:\n",
    "                tail.next = ListNode(list2.val)\n",
    "                list2 = list2.next\n",
    "            \n",
    "            tail = tail.next\n",
    "\n",
    "        if list1:\n",
    "            tail.next = list1\n",
    "        if list2:\n",
    "            tail.next = list2\n",
    "\n",
    "        return dummy.next"
   ]
  },
  {
   "cell_type": "code",
   "execution_count": 7,
   "id": "ab6c15d4-4487-47cd-95d3-13b9fe2ca563",
   "metadata": {},
   "outputs": [],
   "source": [
    "# Reorder Linked List\n",
    "\n",
    "class Solution:\n",
    "    def reorderList(self, head: Optional[ListNode]) -> None:\n",
    "\n",
    "        # [0, 1, 2, 3, 4, 5, 6]\n",
    "        # [0, 6, 1, 5, 2, 4, 3]\n",
    "        \n",
    "        # Find mid point\n",
    "        slow, fast = head, head.next\n",
    "        while fast and fast.next:\n",
    "            slow = slow.next\n",
    "            fast = fast.next.next\n",
    "\n",
    "\n",
    "        # second\n",
    "        current = slow.next\n",
    "        p2 = slow.next = None\n",
    "\n",
    "        while current:\n",
    "\n",
    "            tmp = current.next\n",
    "            current.next = p2\n",
    "\n",
    "            p2 = current\n",
    "            current = tmp\n",
    "\n",
    "        p1 = head\n",
    "        # \n",
    "        first, second = p1, p2\n",
    "        while p2:\n",
    "            tmp1, tmp2 = first.next, second.next\n",
    "\n",
    "            first.next = second\n",
    "            second.next = tmp1\n",
    "\n",
    "            first, second = tmp1, tmp2"
   ]
  },
  {
   "cell_type": "code",
   "execution_count": 8,
   "id": "78e18f24-ff4c-4e8b-9d4a-dde89b15a61a",
   "metadata": {},
   "outputs": [],
   "source": [
    "## Remove Node From End of Linked List\n",
    "\n",
    "class Solution:\n",
    "    \n",
    "    def removeNthFromEnd(self, head: Optional[ListNode], n: int) -> Optional[ListNode]:\n",
    "\n",
    "        fast = slow = head\n",
    "\n",
    "        for _ in range(n):\n",
    "            fast = fast.next\n",
    "\n",
    "        if not fast:\n",
    "            return head.next\n",
    "\n",
    "        while fast.next:\n",
    "            slow = slow.next\n",
    "            fast = fast.next\n",
    "\n",
    "        slow.next = slow.next.next\n",
    "        return head"
   ]
  },
  {
   "cell_type": "code",
   "execution_count": null,
   "id": "9d4f7463-8784-4772-b541-b83d739329e1",
   "metadata": {},
   "outputs": [],
   "source": []
  }
 ],
 "metadata": {
  "kernelspec": {
   "display_name": "transformers",
   "language": "python",
   "name": "transformers"
  },
  "language_info": {
   "codemirror_mode": {
    "name": "ipython",
    "version": 3
   },
   "file_extension": ".py",
   "mimetype": "text/x-python",
   "name": "python",
   "nbconvert_exporter": "python",
   "pygments_lexer": "ipython3",
   "version": "3.9.9"
  }
 },
 "nbformat": 4,
 "nbformat_minor": 5
}
