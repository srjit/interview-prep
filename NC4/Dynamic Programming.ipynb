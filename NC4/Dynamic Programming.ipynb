{
 "cells": [
  {
   "cell_type": "code",
   "execution_count": 2,
   "id": "526c3790-c3c3-4ec7-a9e9-bb781ba5032f",
   "metadata": {},
   "outputs": [],
   "source": [
    "from typing import List"
   ]
  },
  {
   "cell_type": "code",
   "execution_count": 3,
   "id": "c36344e0-2fad-4b88-973d-cded3e28c284",
   "metadata": {},
   "outputs": [
    {
     "data": {
      "text/plain": [
       "6"
      ]
     },
     "execution_count": 3,
     "metadata": {},
     "output_type": "execute_result"
    }
   ],
   "source": [
    "\n",
    "# Max Sum SubArray\n",
    "class Solution:\n",
    "\n",
    "    def maxSubArray(self, nums: List[int]) -> int:\n",
    "\n",
    "        max_sum = nums[0]\n",
    "        max_sum_until_current = nums[0]\n",
    "\n",
    "        for i in range(1, len(nums)):\n",
    "            max_sum_until_current = max(max_sum_until_current+nums[i], nums[i])\n",
    "            max_sum = max(max_sum, max_sum_until_current)\n",
    "\n",
    "        return max_sum\n",
    "\n",
    "\n",
    "Solution().maxSubArray([-2,1,-3,4,-1,2,1,-5,4])"
   ]
  },
  {
   "cell_type": "code",
   "execution_count": 6,
   "id": "4f43a766-ce96-4850-b92b-bdd622bedc21",
   "metadata": {},
   "outputs": [
    {
     "data": {
      "text/plain": [
       "6"
      ]
     },
     "execution_count": 6,
     "metadata": {},
     "output_type": "execute_result"
    }
   ],
   "source": [
    "## Max Product SubArray\n",
    "\n",
    "from typing import List\n",
    "\n",
    "class Solution:\n",
    "\n",
    "    def maxProduct(self, nums: List[int]) -> int:\n",
    "\n",
    "        min_product_until_current = nums[0]\n",
    "        max_product_until_current = nums[0]\n",
    "        maxP = nums[0]\n",
    "\n",
    "        for i in range(1, len(nums)):\n",
    "\n",
    "            max_product_until_current, min_product_until_current = max(max_product_until_current * nums[i],\n",
    "                                                                       min_product_until_current * nums[i],\n",
    "                                                                       nums[i]), \\\n",
    "                                                                    min(max_product_until_current * nums[i],\n",
    "                                                                       min_product_until_current * nums[i],\n",
    "                                                                       nums[i])\n",
    "            maxP = max(max_product_until_current,\n",
    "                       maxP)\n",
    "\n",
    "        return maxP\n",
    "            \n",
    "nums = [2,3,-2,4]\n",
    "Solution().maxProduct(nums)            "
   ]
  },
  {
   "cell_type": "code",
   "execution_count": 9,
   "id": "92444c74-b44a-4517-9936-6183fa9bc9b7",
   "metadata": {},
   "outputs": [
    {
     "data": {
      "text/plain": [
       "24"
      ]
     },
     "execution_count": 9,
     "metadata": {},
     "output_type": "execute_result"
    }
   ],
   "source": [
    "### Max Product of 3 numbers\n",
    "\n",
    "class Solution:\n",
    "\n",
    "    def maximumProduct(self, nums: List[int]) -> int:\n",
    "\n",
    "        nums.sort()\n",
    "\n",
    "        pos, neg, zeros = 0, 0, 0\n",
    "        maxP = 0\n",
    "        products = []\n",
    "\n",
    "        for num in nums:\n",
    "            if num > 0 :\n",
    "                pos += 1\n",
    "            elif num < 0:\n",
    "                neg += 1\n",
    "            else:\n",
    "                zeros += 1\n",
    "\n",
    "        \n",
    "        products.append(nums[-1] * nums[-2] * nums[-3])\n",
    "        if neg > 1 and pos > 0:\n",
    "            products.append(nums[-1] * nums[0] * nums[1])\n",
    "\n",
    "        return max(products)\n",
    "        \n",
    "            \n",
    "Solution().maximumProduct([1,2,3,4])            \n",
    "        \n",
    "\n",
    "        \n",
    "        \n"
   ]
  },
  {
   "cell_type": "code",
   "execution_count": null,
   "id": "5c4da9ad-962c-4d39-9f16-72d7d0d30f92",
   "metadata": {},
   "outputs": [],
   "source": []
  }
 ],
 "metadata": {
  "kernelspec": {
   "display_name": "Python 3 (ipykernel)",
   "language": "python",
   "name": "python3"
  },
  "language_info": {
   "codemirror_mode": {
    "name": "ipython",
    "version": 3
   },
   "file_extension": ".py",
   "mimetype": "text/x-python",
   "name": "python",
   "nbconvert_exporter": "python",
   "pygments_lexer": "ipython3",
   "version": "3.10.10"
  }
 },
 "nbformat": 4,
 "nbformat_minor": 5
}
