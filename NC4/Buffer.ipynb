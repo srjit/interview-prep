{
 "cells": [
  {
   "cell_type": "code",
   "execution_count": 2,
   "id": "c8655a69-9830-4fa3-ab58-d49b11db66d4",
   "metadata": {},
   "outputs": [],
   "source": [
    "from typing import List"
   ]
  },
  {
   "cell_type": "code",
   "execution_count": 4,
   "id": "d676a275-b718-42c5-bf91-a2e815849835",
   "metadata": {},
   "outputs": [
    {
     "data": {
      "text/plain": [
       "[['a', 'a', 'b'], ['aa', 'b']]"
      ]
     },
     "execution_count": 4,
     "metadata": {},
     "output_type": "execute_result"
    }
   ],
   "source": [
    "class Solution:\n",
    "    def partition(self, s: str) -> List[List[str]]:\n",
    "\n",
    "        def ispal(s, l, r):\n",
    "\n",
    "            while l < r:\n",
    "                if s[l] != s[r]: return False\n",
    "                l, r = l+1, r-1\n",
    "            return True\n",
    "\n",
    "        res, part = [], []\n",
    "\n",
    "        def dfs(start):\n",
    "\n",
    "            if start >= len(s):\n",
    "                res.append(part.copy())\n",
    "                return\n",
    "\n",
    "            for j in range(start, len(s)):\n",
    "                if ispal(s, start, j):\n",
    "                    part.append(s[start:j+1])\n",
    "                    dfs(j+1)\n",
    "                    part.pop()\n",
    "        dfs(0)\n",
    "        return res\n",
    "\n",
    "Solution().partition(\"aab\")"
   ]
  },
  {
   "cell_type": "code",
   "execution_count": null,
   "id": "4b230885-b842-4d1a-a484-75441da24dac",
   "metadata": {},
   "outputs": [],
   "source": [
    "# untitled key value store\n",
    "\n",
    "from collections import defaultdict\n",
    "\n",
    "class TimeMap:\n",
    "\n",
    "    def __init__(self):\n",
    "        self.store = defaultdict(list)\n",
    "\n",
    "    def set(self, key: str, value: str, timestamp: int) -> None:\n",
    "        self.store[key].append([value, timestamp])\n",
    "\n",
    "    def get(self, key: str, timestamp: int) -> str:\n",
    "\n",
    "        if key not in self.store:\n",
    "            return \"\"\n",
    "\n",
    "        vals = self.store[key]\n",
    "        res = \"\"\n",
    "        if timestamp < vals[0][1]:\n",
    "            return res\n",
    "\n",
    "        l, r = 0, len(vals)-1\n",
    "        while l <= r:\n",
    "            m = l + (r-l)//2\n",
    "            if vals[m][1] <= timestamp:\n",
    "                res = vals[m][0]\n",
    "                l = m + 1\n",
    "            else:\n",
    "                r = m - 1\n",
    "        return res"
   ]
  },
  {
   "cell_type": "code",
   "execution_count": 7,
   "id": "50e725de-fd14-42b9-b4d4-d1f2d6585b30",
   "metadata": {},
   "outputs": [],
   "source": [
    "a = [[1,3], [4,5], [3,7], [2,9, 8]]\n",
    "a.sort()"
   ]
  },
  {
   "cell_type": "code",
   "execution_count": 8,
   "id": "9e9fa5b4-66ad-415c-a039-05c61e7704cc",
   "metadata": {},
   "outputs": [
    {
     "data": {
      "text/plain": [
       "[[1, 3], [2, 9, 8], [3, 7], [4, 5]]"
      ]
     },
     "execution_count": 8,
     "metadata": {},
     "output_type": "execute_result"
    }
   ],
   "source": [
    "a"
   ]
  },
  {
   "cell_type": "code",
   "execution_count": null,
   "id": "16dc8b08-bac5-4787-8148-5b6d17036200",
   "metadata": {},
   "outputs": [],
   "source": [
    "class Solution:\n",
    "    def trap(self, height: List[int]) -> int:\n",
    "\n",
    "        l, r = 0, len(height)-1\n",
    "        lmax, rmax = height[l], height[r]\n",
    "        res = 0\n",
    "        \n",
    "        while l < r:\n",
    "\n",
    "            if lmax < rmax:\n",
    "                lmax = max(lmax, height[l])\n",
    "                res += lmax - height[l]\n",
    "                l+=1\n",
    "            else:\n",
    "                rmax = max(rmax, height[r])\n",
    "                res += rmax - height[r]\n",
    "                r -= 1\n",
    "        return res\n",
    "\n",
    "\n",
    "Solution().trap()"
   ]
  },
  {
   "cell_type": "code",
   "execution_count": 2,
   "id": "7795c225-2677-4d6a-91ca-b90ea99dec8d",
   "metadata": {},
   "outputs": [],
   "source": [
    "from typing import List"
   ]
  },
  {
   "cell_type": "code",
   "execution_count": 4,
   "id": "bb6abfe5-cdbf-4fdb-a84e-488a7ef25f47",
   "metadata": {},
   "outputs": [
    {
     "data": {
      "text/plain": [
       "9"
      ]
     },
     "execution_count": 4,
     "metadata": {},
     "output_type": "execute_result"
    }
   ],
   "source": [
    "class Solution:\n",
    "    \n",
    "    def longestConsecutive(self, nums: List[int]) -> int:\n",
    "\n",
    "        elements = set(nums)\n",
    "        visited = set()\n",
    "        maxl = 0\n",
    "\n",
    "        for num in nums:\n",
    "\n",
    "            if num not in  visited and num-1 not in elements:\n",
    "\n",
    "                i = 1\n",
    "                while num+i in elements:\n",
    "                    i += 1\n",
    "\n",
    "            maxl = max(maxl, i)\n",
    "        return maxl\n",
    "\n",
    "Solution().longestConsecutive([0,3,7,2,5,8,4,6,0,1])"
   ]
  },
  {
   "cell_type": "code",
   "execution_count": null,
   "id": "9df0ccf8-f0b1-4506-a73d-2da8b8a030a8",
   "metadata": {},
   "outputs": [],
   "source": []
  }
 ],
 "metadata": {
  "kernelspec": {
   "display_name": "transformers",
   "language": "python",
   "name": "transformers"
  },
  "language_info": {
   "codemirror_mode": {
    "name": "ipython",
    "version": 3
   },
   "file_extension": ".py",
   "mimetype": "text/x-python",
   "name": "python",
   "nbconvert_exporter": "python",
   "pygments_lexer": "ipython3",
   "version": "3.9.9"
  }
 },
 "nbformat": 4,
 "nbformat_minor": 5
}
