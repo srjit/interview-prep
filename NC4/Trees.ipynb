{
 "cells": [
  {
   "cell_type": "code",
   "execution_count": 1,
   "id": "fa2f957a-d0f8-40f3-b8b5-0c80d2ff622d",
   "metadata": {},
   "outputs": [],
   "source": [
    "from typing import List, Optional"
   ]
  },
  {
   "cell_type": "code",
   "execution_count": 2,
   "id": "c0ad3abb-42cc-4301-9729-e34d832b13e2",
   "metadata": {},
   "outputs": [],
   "source": [
    "class TreeNode:\n",
    "    \n",
    "    def __init__(self, val=0, left=None, right=None):\n",
    "        self.val = val\n",
    "        self.left = left\n",
    "        self.right = right"
   ]
  },
  {
   "cell_type": "code",
   "execution_count": 3,
   "id": "3740d41e-8d82-4528-b770-d6ad4592c446",
   "metadata": {},
   "outputs": [],
   "source": [
    "# Invert Tree\n",
    "\n",
    "class Solution:\n",
    "\n",
    "    def invertTree(self, root: Optional[TreeNode]) -> Optional[TreeNode]:\n",
    "\n",
    "        if not root:\n",
    "            return\n",
    "\n",
    "        root.left, root.right = root.right, root.left\n",
    "        self.invertTree(root.left)\n",
    "        self.invertTree(root.right)\n",
    "        return root"
   ]
  },
  {
   "cell_type": "code",
   "execution_count": 4,
   "id": "a9f5824e-918f-45de-a7ff-1b1520ee6c8d",
   "metadata": {},
   "outputs": [],
   "source": [
    "# Depth of binary tree\n",
    "\n",
    "class Solution:\n",
    "    \n",
    "    def maxDepth(self, root: Optional[TreeNode]) -> int:\n",
    "\n",
    "        if not root:\n",
    "            return 0\n",
    "\n",
    "        return max(\n",
    "            1 + self.maxDepth(root.left),\n",
    "            1 + self.maxDepth(root.right),\n",
    "        )"
   ]
  },
  {
   "cell_type": "code",
   "execution_count": 5,
   "id": "028b12d6-8c32-4d52-beba-9cf3cb042e87",
   "metadata": {},
   "outputs": [],
   "source": [
    "class Solution:\n",
    "\n",
    "    def __init__(self):\n",
    "\n",
    "        self.diameter = 0\n",
    "\n",
    "    def depth(self, node):\n",
    "\n",
    "        if not node: return 0\n",
    "        left = self.depth(node.left) if node.left else 0\n",
    "        right = self.depth(node.right) if node.right else 0\n",
    "\n",
    "        self.diameter = max(self.diameter, left+right)\n",
    "        return 1 + max(left, right)        \n",
    "    \n",
    "    def diameterOfBinaryTree(self, root: Optional[TreeNode]) -> int:\n",
    "\n",
    "        self.depth(root)\n",
    "        return self.diameter"
   ]
  },
  {
   "cell_type": "code",
   "execution_count": 6,
   "id": "12ab4f24-7d74-4c25-8d0f-307e1073a3ad",
   "metadata": {},
   "outputs": [],
   "source": [
    "class Solution:\n",
    "    \n",
    "    def isBalanced(self, root: Optional[TreeNode]) -> bool:\n",
    "\n",
    "        def depth_check(node):\n",
    "\n",
    "            if not node: return [0, True]\n",
    "\n",
    "            l, r = depth_check(node.left), depth_check(node.right)\n",
    "            balanced = l[1] and r[1] and abs(l[0] - r[0]) <= 1 \n",
    "\n",
    "            return [1 + max(l[0], r[0]), balanced]\n",
    "\n",
    "        return depth_check(root)[1]"
   ]
  },
  {
   "cell_type": "code",
   "execution_count": 7,
   "id": "1eb9118c-9b5b-4bd4-9c93-0aefce13bcdf",
   "metadata": {},
   "outputs": [],
   "source": [
    "class Solution:\n",
    "\n",
    "    def isSameTree(self, p: Optional[TreeNode], q: Optional[TreeNode]) -> bool:\n",
    "\n",
    "        if p is None and q is None:\n",
    "            return True\n",
    "\n",
    "        if p and q:\n",
    "            if p.val == q.val and self.isSameTree(p.left, q.left) and self.isSameTree(p.right, q.right):\n",
    "                return True\n",
    "        return False"
   ]
  },
  {
   "cell_type": "code",
   "execution_count": 8,
   "id": "92057e0e-f08e-48bf-9eaa-188e32001262",
   "metadata": {},
   "outputs": [],
   "source": [
    "class Solution:   \n",
    "    \n",
    "    def isSubtree(self, root: Optional, subRoot: Optional) -> bool:\n",
    "\n",
    "        def sameTree(p , q):\n",
    "            if p is None and q is None: return True\n",
    "            if p and q: \n",
    "                if p.val == q.val and self.isSameTree(p.left, q.left) and self.isSameTree(p.right, q.right): return True\n",
    "            return False\n",
    "\n",
    "        if not root and not subRoot: return True\n",
    "        if not root: return False\n",
    "        if sameTree(root, subRoot): return True\n",
    "        return self.isSameTree(root.left, subRoot) or self.isSameTree(root.right, subRoot)"
   ]
  },
  {
   "cell_type": "code",
   "execution_count": 9,
   "id": "7c4509d6-bce8-470b-a601-28f4b9a14a40",
   "metadata": {},
   "outputs": [],
   "source": [
    "\n",
    "# LCA of Binary Search Tree\n",
    "\n",
    "class Solution:\n",
    "    \n",
    "    def lowestCommonAncestor(self, root: TreeNode, p: TreeNode, q: TreeNode) -> TreeNode:\n",
    "\n",
    "        while True:\n",
    "            \n",
    "            if root.val > p.val and root.val > q.val:\n",
    "                root = root.left\n",
    "            elif root.val < p.val and root.val < q.val:\n",
    "                root = root.right\n",
    "            else: \n",
    "                return root"
   ]
  },
  {
   "cell_type": "code",
   "execution_count": 10,
   "id": "d8a0da0d-d164-4693-acd1-f3f38556533b",
   "metadata": {},
   "outputs": [],
   "source": [
    "from collections import deque\n",
    "\n",
    "class Solution:\n",
    "\n",
    "    def levelOrder(self, root: Optional[TreeNode]) -> List[List[int]]:\n",
    "\n",
    "        if not root:\n",
    "            return []\n",
    "\n",
    "        q = deque()\n",
    "        q.append(root)\n",
    "\n",
    "        res = []\n",
    "        while q:\n",
    "\n",
    "            level = []\n",
    "            for i in range(len(q)):\n",
    "\n",
    "                node = q.popleft()\n",
    "                level.append(node.val)\n",
    "\n",
    "                if node.left: q.append(node.left)\n",
    "                if node.right: q.append(node.right)\n",
    "\n",
    "            res.append(level)\n",
    "\n",
    "        return res"
   ]
  },
  {
   "cell_type": "code",
   "execution_count": 11,
   "id": "a36cc0bf-3a95-4d9f-8729-c3db4b98b477",
   "metadata": {},
   "outputs": [],
   "source": [
    "## Right Side View\n",
    "\n",
    "class Solution:\n",
    "\n",
    "    def rightSideView(self, root: Optional[TreeNode]) -> List[int]:\n",
    "\n",
    "        if not root:\n",
    "            return []\n",
    "\n",
    "        q = deque()\n",
    "        q.append(root)\n",
    "\n",
    "        res = []\n",
    "        while q:\n",
    "            level = []\n",
    "            for i in range(len(q)):\n",
    "                \n",
    "                node = q.popleft()\n",
    "                level.append(node.val)\n",
    "                \n",
    "                if node.left: q.append(node.left)\n",
    "                if node.right: q.append(node.right)\n",
    "\n",
    "            res.append(level[-1])\n",
    "        return res"
   ]
  },
  {
   "cell_type": "code",
   "execution_count": 13,
   "id": "f5fefa6c-09c4-4bb2-896a-7be7a2667bb6",
   "metadata": {},
   "outputs": [
    {
     "data": {
      "text/plain": [
       "4"
      ]
     },
     "execution_count": 13,
     "metadata": {},
     "output_type": "execute_result"
    }
   ],
   "source": [
    "## Count Good Nodes in Binary Tree\n",
    "\n",
    "class Solution:\n",
    "    \n",
    "    def goodNodes(self, root: TreeNode) -> int:\n",
    "\n",
    "        goodNodes = 0\n",
    "        def dfs(node, maxV):\n",
    "\n",
    "            nonlocal goodNodes\n",
    "            \n",
    "            if not node:\n",
    "                return \n",
    "            if node.val >= maxV:\n",
    "                goodNodes += 1\n",
    "\n",
    "            maxV = max(node.val, maxV)\n",
    "            dfs(node.left, maxV)\n",
    "            dfs(node.right, maxV)\n",
    "            \n",
    "\n",
    "        dfs(root, float(\"-inf\"))\n",
    "        return goodNodes\n",
    "\n",
    "tree = TreeNode(1, TreeNode(2, TreeNode(3), TreeNode(4)), TreeNode(-1))\n",
    "Solution().goodNodes(tree)"
   ]
  },
  {
   "cell_type": "code",
   "execution_count": 14,
   "id": "28679568-8bf6-48f1-b8b8-556d05adbdcf",
   "metadata": {},
   "outputs": [],
   "source": [
    "## Valid Binary Search Tree\n",
    "\n",
    "class Solution:\n",
    "\n",
    "    def isValidBST(self, root: Optional[TreeNode]) -> bool:\n",
    "\n",
    "        def validNode(node, low, high):\n",
    "\n",
    "            if not node:\n",
    "                return True\n",
    "            if node.val <= low or node.val >= high:\n",
    "                return False\n",
    "                \n",
    "            return validNode(node.left, low, node.val) \\\n",
    "                and validNode(node.right, node.val, high)\n",
    "\n",
    "\n",
    "        return validNode(root, -float(\"inf\"), float(\"inf\"))"
   ]
  },
  {
   "cell_type": "code",
   "execution_count": 19,
   "id": "3f31c4b5-b59a-410e-bf0f-3b4ca0184c69",
   "metadata": {},
   "outputs": [
    {
     "data": {
      "text/plain": [
       "5"
      ]
     },
     "execution_count": 19,
     "metadata": {},
     "output_type": "execute_result"
    }
   ],
   "source": [
    "## Kth Smallest Integer in BST\n",
    "\n",
    "class Solution:\n",
    "    \n",
    "    def kthSmallest(self, root: Optional[TreeNode], k: int) -> int:\n",
    "\n",
    "        elts = []\n",
    "        def inorder(node):\n",
    "            if not node: return\n",
    "            if len(elts) <= k:\n",
    "                inorder(node.left)\n",
    "                elts.append(node.val)\n",
    "                inorder(node.right)\n",
    "        \n",
    "        inorder(root)\n",
    "        return elts[k-1]\n",
    "\n",
    "tree = TreeNode(4, TreeNode(3, TreeNode(2), None), TreeNode(5))\n",
    "Solution().kthSmallest(tree, 4)"
   ]
  },
  {
   "cell_type": "code",
   "execution_count": null,
   "id": "752304c4-6040-4485-b2fe-68bea9bcb33f",
   "metadata": {},
   "outputs": [],
   "source": []
  },
  {
   "cell_type": "code",
   "execution_count": null,
   "id": "20154239-c2d0-498d-aab9-66feabd6983d",
   "metadata": {},
   "outputs": [],
   "source": [
    "## Binary Tree from Preorder and Inorder Traversal\n",
    "\n",
    "class Solution:\n",
    "    \n",
    "    def buildTree(self, preorder: List[int], inorder: List[int]) -> Optional[TreeNode]:\n",
    "\n",
    "        if not preorder or not inorder:\n",
    "            return None\n",
    "            \n",
    "        mid = inorder.index(preorder[0])\n",
    "\n",
    "        root = TreeNode(preorder[0])\n",
    "        root.left = self.buildTree(preorder[1:mid+1], inorder[:mid])\n",
    "        root.right = self.buildTree(preorder[mid+1:], inorder[mid+1:])\n",
    "\n",
    "        return root\n",
    "        \n",
    "\n",
    "\n",
    "\n"
   ]
  }
 ],
 "metadata": {
  "kernelspec": {
   "display_name": "transformers",
   "language": "python",
   "name": "transformers"
  },
  "language_info": {
   "codemirror_mode": {
    "name": "ipython",
    "version": 3
   },
   "file_extension": ".py",
   "mimetype": "text/x-python",
   "name": "python",
   "nbconvert_exporter": "python",
   "pygments_lexer": "ipython3",
   "version": "3.9.9"
  }
 },
 "nbformat": 4,
 "nbformat_minor": 5
}
