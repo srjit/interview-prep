{
 "cells": [
  {
   "cell_type": "code",
   "execution_count": 1,
   "id": "259ed7a1-d7df-4c01-8c5d-6dab6195174d",
   "metadata": {},
   "outputs": [],
   "source": [
    "from typing import List, Optional"
   ]
  },
  {
   "cell_type": "code",
   "execution_count": 2,
   "id": "a1c2ceaf-ced4-44e1-89d3-ec95b71f802d",
   "metadata": {},
   "outputs": [
    {
     "data": {
      "text/plain": [
       "[[1, 2, 1], [1, 2], [1, 1], [1], [2, 1], [2], [1], []]"
      ]
     },
     "execution_count": 2,
     "metadata": {},
     "output_type": "execute_result"
    }
   ],
   "source": [
    "class Solution:\n",
    "\n",
    "    def subsets(self, nums: List[int]) -> List[List[int]]:\n",
    "\n",
    "        result = []\n",
    "        cur = []\n",
    "        def backtrack(i):\n",
    "\n",
    "            if i >= len(nums):\n",
    "                result.append(cur.copy())\n",
    "                return\n",
    "                \n",
    "            \n",
    "            cur.append(nums[i])\n",
    "            backtrack(i+1)\n",
    "\n",
    "            cur.pop()\n",
    "            backtrack(i+1)\n",
    "\n",
    "        backtrack(0)\n",
    "        return result\n",
    "\n",
    "Solution().subsets([1,2,1])"
   ]
  },
  {
   "cell_type": "code",
   "execution_count": 3,
   "id": "507b2659-c9b6-44d6-8c5c-0e81c44186b5",
   "metadata": {},
   "outputs": [
    {
     "data": {
      "text/plain": [
       "[[2, 2, 5], [9]]"
      ]
     },
     "execution_count": 3,
     "metadata": {},
     "output_type": "execute_result"
    }
   ],
   "source": [
    "class Solution:\n",
    "\n",
    "    def combinationSum(self, nums: List[int], target: int) -> List[List[int]]:\n",
    "\n",
    "        res, cur = [], []\n",
    "        \n",
    "        def backtrack(i):\n",
    "            \n",
    "            if sum(cur) == target:\n",
    "                res.append(cur.copy())\n",
    "                return\n",
    "\n",
    "            if sum(cur) > target or i >= len(nums):\n",
    "                return\n",
    "\n",
    "            cur.append(nums[i])\n",
    "            backtrack(i)\n",
    "\n",
    "            cur.pop()\n",
    "            backtrack(i+1)\n",
    "\n",
    "        backtrack(0)\n",
    "        return res\n",
    "\n",
    "nums = [2,5,6,9]\n",
    "target = 9\n",
    "\n",
    "Solution().combinationSum(nums, target)"
   ]
  },
  {
   "cell_type": "code",
   "execution_count": 4,
   "id": "902861fd-20b8-4e25-ba1d-89050a22c83e",
   "metadata": {},
   "outputs": [
    {
     "data": {
      "text/plain": [
       "[[3, 2, 1], [2, 3, 1], [1, 3, 2], [3, 1, 2], [2, 1, 3], [1, 2, 3]]"
      ]
     },
     "execution_count": 4,
     "metadata": {},
     "output_type": "execute_result"
    }
   ],
   "source": [
    "class Solution:\n",
    "\n",
    "    def permute(self, nums: List[int]) -> List[List[int]]:\n",
    "\n",
    "        res = []\n",
    "\n",
    "        if len(nums) == 1:\n",
    "            return [nums]\n",
    "\n",
    "        for i in range(len(nums)):\n",
    "            \n",
    "            n = nums.pop(0)\n",
    "            permutations = self.permute(nums)\n",
    "\n",
    "            for perm in permutations:\n",
    "                res.append(perm + [n])\n",
    "\n",
    "            nums.append(n)\n",
    "        return res\n",
    "\n",
    "Solution().permute([1, 2, 3])"
   ]
  },
  {
   "cell_type": "code",
   "execution_count": 5,
   "id": "df69661b-470c-40ae-a610-0fd6d8b45f25",
   "metadata": {},
   "outputs": [],
   "source": [
    "class Solution:\n",
    "    def subsetsWithDup(self, nums: List[int]) -> List[List[int]]:\n",
    "\n",
    "        nums.sort()\n",
    "        res, cur = [], []\n",
    "        \n",
    "        def backtrack(i):\n",
    "\n",
    "            if i == len(nums):\n",
    "                res.append(cur.copy())\n",
    "                return\n",
    "\n",
    "            cur.append(nums[i])\n",
    "            backtrack(i+1)\n",
    "            cur.pop()\n",
    "\n",
    "            while i+1 < len(nums) and nums[i]==nums[i+1]:\n",
    "                i+=1\n",
    "            backtrack(i+1)\n",
    "        backtrack(0)\n",
    "        return res"
   ]
  },
  {
   "cell_type": "code",
   "execution_count": 6,
   "id": "be9d794e-c516-4667-980d-80ccd8e06532",
   "metadata": {},
   "outputs": [],
   "source": [
    "class Solution:\n",
    "    \n",
    "    def combinationSum2(self, nums, target: int):\n",
    "\n",
    "        nums.sort()\n",
    "        res, cur = [], []\n",
    "\n",
    "        def backtrack(start, rem):\n",
    "\n",
    "            if rem == 0:\n",
    "                res.append(cur.copy())\n",
    "                return\n",
    "\n",
    "            if start >= len(nums) or rem < 0:\n",
    "                return\n",
    "\n",
    "            prev = -1\n",
    "            for i in range(start, len(nums)):\n",
    "                if nums[i]  == prev:\n",
    "                    continue\n",
    "                cur.append(nums[i])\n",
    "                backtrack(i+1, rem-nums[i])\n",
    "                cur.remove(nums[i])\n",
    "                prev = nums[i]\n",
    "        backtrack(0, target)\n",
    "        return res"
   ]
  },
  {
   "cell_type": "code",
   "execution_count": 7,
   "id": "508c8e4b-e080-4fa7-81f1-e2ae9124f387",
   "metadata": {},
   "outputs": [],
   "source": [
    "class Solution:\n",
    "    \n",
    "    def exist(self, board: List[List[str]], word: str) -> bool:\n",
    "\n",
    "        if not board:\n",
    "            return False\n",
    "\n",
    "        rows, cols = len(board), len(board[0])\n",
    "        visited = set()\n",
    "        def dfs(r, c, i):\n",
    "\n",
    "            if i == len(word):\n",
    "                return True\n",
    "\n",
    "\n",
    "            if r < 0 or c < 0 or r >= rows or c >= cols or board[r][c] != word[i] or (r, c) in visited:\n",
    "                return False\n",
    "\n",
    "            visited.add((r, c))\n",
    "            for dr, dc in [(-1, 0), (0, -1), (1, 0), (0, 1)]:\n",
    "                op = dfs(r+dr, c+dc, i+1)\n",
    "                if op:\n",
    "                    return True\n",
    "\n",
    "            visited.remove((r, c))\n",
    "            return False\n",
    "        \n",
    "        for r in range(rows):\n",
    "            for c in range(cols):\n",
    "                if dfs(r, c, 0):\n",
    "                    return True\n",
    "        return False"
   ]
  },
  {
   "cell_type": "code",
   "execution_count": 9,
   "id": "a581015a-12bf-4958-809b-0b5871bafe02",
   "metadata": {},
   "outputs": [
    {
     "data": {
      "text/plain": [
       "[['a', 'a', 'b'], ['aa', 'b']]"
      ]
     },
     "execution_count": 9,
     "metadata": {},
     "output_type": "execute_result"
    }
   ],
   "source": [
    "class Solution:\n",
    "    \n",
    "    def partition(self, s: str) -> List[List[str]]:\n",
    "\n",
    "        res, part = [], []\n",
    "\n",
    "        def ispal(s, l, r):\n",
    "\n",
    "            while l < r:\n",
    "                if s[l] != s[r]:\n",
    "                    return False\n",
    "                l+=1\n",
    "                r-=1\n",
    "\n",
    "            return True\n",
    "\n",
    "\n",
    "        def dfs(start):\n",
    "\n",
    "            if start >= len(s):\n",
    "                res.append(part.copy())\n",
    "                return\n",
    "\n",
    "            for j in range(start, len(s)):\n",
    "                if ispal(s, start, j):\n",
    "                    part.append(s[start:j+1])\n",
    "                    dfs(j+1)\n",
    "                    part.pop()\n",
    "            \n",
    "\n",
    "        dfs(0)\n",
    "        return res        \n",
    "                \n",
    "Solution().partition(\"aab\")"
   ]
  },
  {
   "cell_type": "code",
   "execution_count": 10,
   "id": "e93502d8-0dfe-4da3-9639-66fc9c3010b0",
   "metadata": {},
   "outputs": [
    {
     "data": {
      "text/plain": [
       "['dg', 'dh', 'di', 'eg', 'eh', 'ei', 'fg', 'fh', 'fi']"
      ]
     },
     "execution_count": 10,
     "metadata": {},
     "output_type": "execute_result"
    }
   ],
   "source": [
    "# Combinations of a Phone Number\n",
    "\n",
    "class Solution:\n",
    "\n",
    "    def letterCombinations(self, digits: str) -> List[str]:\n",
    "\n",
    "        res = []\n",
    "        digitstochar = {\n",
    "            \"2\": \"abc\", \n",
    "            \"3\": \"def\", \n",
    "            \"4\": \"ghi\", \n",
    "            \"5\": \"jkl\", \n",
    "            \"6\": \"mno\", \n",
    "            \"7\": \"pqrs\", \n",
    "            \"8\": \"tuv\", \n",
    "            \"9\": \"wxyz\"\n",
    "        }\n",
    "\n",
    "        def backtrack(i, letters):\n",
    "\n",
    "            if len(letters) == len(digits): \n",
    "                res.append(letters)\n",
    "                return\n",
    "\n",
    "            vals = digitstochar[digits[i]]\n",
    "            for val in vals:\n",
    "                backtrack(i+1, letters + val)\n",
    "                \n",
    "            \n",
    "\n",
    "        if digits:\n",
    "            backtrack(0, \"\")\n",
    "        return res \n",
    "\n",
    "\n",
    "Solution().letterCombinations(\"34\")"
   ]
  },
  {
   "cell_type": "code",
   "execution_count": 11,
   "id": "94a17571-8d95-4c1f-bca6-f14e57c6dbe5",
   "metadata": {},
   "outputs": [
    {
     "data": {
      "text/plain": [
       "[['.Q..', '...Q', 'Q...', '..Q.'], ['..Q.', 'Q...', '...Q', '.Q..']]"
      ]
     },
     "execution_count": 11,
     "metadata": {},
     "output_type": "execute_result"
    }
   ],
   "source": [
    "## N Queens\n",
    "\n",
    "class Solution:\n",
    "\n",
    "    def solveNQueens(self, n: int) -> List[List[str]]:\n",
    "\n",
    "        res = []\n",
    "        cols = set()\n",
    "        posdiag = set()\n",
    "        negdiag = set()\n",
    "\n",
    "        board = [[\".\"] * n for _ in range(n)]\n",
    "\n",
    "        def backtrack(r):\n",
    "\n",
    "            if r == n:\n",
    "                _board = [\"\".join(row) for row in board]\n",
    "                res.append(_board)\n",
    "                return\n",
    "\n",
    "            for c in range(n):\n",
    "\n",
    "                if c in cols or (r+c) in posdiag or (r-c) in negdiag:\n",
    "                    continue\n",
    "\n",
    "                cols.add(c)\n",
    "                posdiag.add(r+c)\n",
    "                negdiag.add(r-c)\n",
    "\n",
    "                board[r][c] = 'Q'\n",
    "                backtrack(r+1)\n",
    "                \n",
    "                board[r][c] = \".\"\n",
    "                cols.remove(c)\n",
    "                posdiag.remove(r+c)\n",
    "                negdiag.remove(r-c)\n",
    "                board[r][c] = \".\"\n",
    "\n",
    "        backtrack(0)\n",
    "        return res\n",
    "\n",
    "Solution().solveNQueens(4)"
   ]
  },
  {
   "cell_type": "code",
   "execution_count": null,
   "id": "ca677de7-0086-417d-882f-5f9fe790f261",
   "metadata": {},
   "outputs": [],
   "source": []
  }
 ],
 "metadata": {
  "kernelspec": {
   "display_name": "transformers",
   "language": "python",
   "name": "transformers"
  },
  "language_info": {
   "codemirror_mode": {
    "name": "ipython",
    "version": 3
   },
   "file_extension": ".py",
   "mimetype": "text/x-python",
   "name": "python",
   "nbconvert_exporter": "python",
   "pygments_lexer": "ipython3",
   "version": "3.9.9"
  }
 },
 "nbformat": 4,
 "nbformat_minor": 5
}
