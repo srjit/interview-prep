{
 "cells": [
  {
   "cell_type": "code",
   "execution_count": 18,
   "id": "fdb6d527-8774-4ec1-9273-31e3d8aa401f",
   "metadata": {},
   "outputs": [
    {
     "data": {
      "text/plain": [
       "3"
      ]
     },
     "execution_count": 18,
     "metadata": {},
     "output_type": "execute_result"
    }
   ],
   "source": [
    "# Binary Search\n",
    "\n",
    "from typing import List\n",
    "\n",
    "class Solution:\n",
    "\n",
    "    def search(self, nums: List[int], target: int) -> int:\n",
    "\n",
    "        l, r = 0, len(nums)-1\n",
    "\n",
    "        while l <= r:\n",
    "\n",
    "            m = l + (r-l)//2\n",
    "            if nums[m] == target:\n",
    "                return m\n",
    "            elif nums[m] < target:\n",
    "                l = m+1\n",
    "            else:\n",
    "                r = m-1\n",
    "        return -1\n",
    "\n",
    "nums = [-1,0,2,4,6,8]\n",
    "target = 4\n",
    "Solution().search(nums, target)"
   ]
  },
  {
   "cell_type": "code",
   "execution_count": 19,
   "id": "0842d255-b19d-44b0-962e-b3267f63002d",
   "metadata": {},
   "outputs": [
    {
     "data": {
      "text/plain": [
       "False"
      ]
     },
     "execution_count": 19,
     "metadata": {},
     "output_type": "execute_result"
    }
   ],
   "source": [
    "# Search 2D Matrix\n",
    "\n",
    "class Solution:\n",
    "    \n",
    "    def searchMatrix(self, matrix: List[List[int]], target: int) -> bool:\n",
    "\n",
    "        def search(nums: List[int], target: int) -> int:\n",
    "\n",
    "            l, r = 0, len(nums)-1\n",
    "    \n",
    "            while l <= r:    \n",
    "                m = l + (r-l)//2\n",
    "                if nums[m] == target:\n",
    "                    return True\n",
    "                elif nums[m] < target:\n",
    "                    l = m+1\n",
    "                else:\n",
    "                    r = m-1\n",
    "            return False\n",
    "\n",
    "\n",
    "        m, n = len(matrix), len(matrix[0])\n",
    "        for r in range(m):\n",
    "            if matrix[r][0] <= target <= matrix[r][-1]:\n",
    "                return search(matrix[r], target)\n",
    "\n",
    "        return False\n",
    "\n",
    "matrix = [[1,2,4,8],[10,11,12,13],[14,20,30,40]]\n",
    "target = 25\n",
    "Solution().searchMatrix(matrix, target)"
   ]
  },
  {
   "cell_type": "code",
   "execution_count": 20,
   "id": "1ca94975-b58a-4f2f-a8bb-ca662dbe7f3d",
   "metadata": {},
   "outputs": [
    {
     "data": {
      "text/plain": [
       "2"
      ]
     },
     "execution_count": 20,
     "metadata": {},
     "output_type": "execute_result"
    }
   ],
   "source": [
    "import math\n",
    "class Solution:\n",
    "    \n",
    "    def minEatingSpeed(self, piles: List[int], H: int) -> int:\n",
    "\n",
    "\n",
    "        def feasible(speed):\n",
    "            return sum([math.ceil(pile/speed) for pile in piles]) <= H\n",
    "            \n",
    "\n",
    "        # minimum number of bananas\n",
    "        l, r = 1, max(piles)\n",
    "        while l < r:            \n",
    "            m = l + (r-l)//2\n",
    "            if feasible(m):\n",
    "                r = m\n",
    "            else:\n",
    "                l = m+1\n",
    "        return l\n",
    "\n",
    "piles = [1,4,3,2]\n",
    "h = 9\n",
    "Solution().minEatingSpeed(piles, h)"
   ]
  },
  {
   "cell_type": "code",
   "execution_count": 21,
   "id": "8b21ff38-d7c2-4930-b4f0-21f83dfb9948",
   "metadata": {},
   "outputs": [
    {
     "data": {
      "text/plain": [
       "1"
      ]
     },
     "execution_count": 21,
     "metadata": {},
     "output_type": "execute_result"
    }
   ],
   "source": [
    "# minimum in a rotated sorted array\n",
    "\n",
    "class Solution:\n",
    "    \n",
    "    def findMin(self, nums: List[int]) -> int:\n",
    "\n",
    "        l, r = 0, len(nums)-1\n",
    "        while l < r:\n",
    "            \n",
    "            m = l + (r-l)//2\n",
    "            if nums[m] <= nums[r]:\n",
    "                r = m\n",
    "            else:\n",
    "                l = m+1\n",
    "\n",
    "        return nums[l]\n",
    "\n",
    "nums = [3,4,5,6,1,2]\n",
    "Solution().findMin(nums)"
   ]
  },
  {
   "cell_type": "code",
   "execution_count": 22,
   "id": "e95e1767-cb09-43db-8ba6-187bbbea671d",
   "metadata": {},
   "outputs": [
    {
     "data": {
      "text/plain": [
       "4"
      ]
     },
     "execution_count": 22,
     "metadata": {},
     "output_type": "execute_result"
    }
   ],
   "source": [
    "class Solution:\n",
    "    \n",
    "    def search(self, nums: List[int], target: int) -> int:\n",
    "\n",
    "        l, r = 0, len(nums)-1\n",
    "        while l <= r:\n",
    "            \n",
    "            m = l + (r-l)//2\n",
    "            if nums[m] == target:\n",
    "                return m\n",
    "            elif nums[m] < nums[r]:\n",
    "                if nums[m] <= target <= nums[r]:\n",
    "                    l = m+1\n",
    "                else:\n",
    "                    r = m-1\n",
    "            else:\n",
    "                if nums[l] <= target <= nums[m]:\n",
    "                    r = m - 1\n",
    "                else:\n",
    "                    l = m + 1\n",
    "    \n",
    "        return -1\n",
    "\n",
    "nums = [3,4,5,6,1,2]\n",
    "target = 1\n",
    "Solution().search(nums, target)            "
   ]
  },
  {
   "cell_type": "code",
   "execution_count": 23,
   "id": "fbea1ed1-6693-49ee-9772-055ebd40e1f1",
   "metadata": {},
   "outputs": [],
   "source": [
    "## Time Based Key Value Store\n",
    "\n",
    "# TimeMap() Initializes the object.\n",
    "# void set(String key, String value, int timestamp) Stores \n",
    "# the key key with the value value at the given time timestamp.\n",
    "\n",
    "# String get(String key, int timestamp) Returns the most recent\n",
    "# value of key if set was previously called on it and the most recent timestamp for \n",
    "# that key prev_timestamp is less than or equal to the given timestamp (prev_timestamp <= timestamp).\n",
    "# If there are no values, it returns \"\"\n",
    "\n",
    "\n",
    "\n",
    "from collections import defaultdict\n",
    "\n",
    "class TimeMap:\n",
    "\n",
    "    def __init__(self):\n",
    "        self.store = defaultdict(list)\n",
    "        \n",
    "    def set(self, key: str, value: str, timestamp: int) -> None:\n",
    "        self.store[key].append([value, timestamp])\n",
    "\n",
    "    def get(self, key: str, timestamp: int) -> str:\n",
    "\n",
    "        if not key in self.store:\n",
    "            return \"\"\n",
    "\n",
    "        vals = self.store[key]\n",
    "        l, r = 0, len(vals)-1\n",
    "\n",
    "        while l <= r:\n",
    "            m = l+ (r-l)//2\n",
    "            ts = vals[m][1]\n",
    "            if ts <= timestamp:\n",
    "                res = vals[m][0]\n",
    "                l=m+1\n",
    "            else:\n",
    "                r = m-1\n",
    "                \n",
    "        return vals[l][0]\n",
    "            \n",
    "        \n",
    "        "
   ]
  },
  {
   "cell_type": "code",
   "execution_count": null,
   "id": "873488b5-1ac8-4d27-8437-af7882827258",
   "metadata": {},
   "outputs": [],
   "source": []
  }
 ],
 "metadata": {
  "kernelspec": {
   "display_name": "transformers",
   "language": "python",
   "name": "transformers"
  },
  "language_info": {
   "codemirror_mode": {
    "name": "ipython",
    "version": 3
   },
   "file_extension": ".py",
   "mimetype": "text/x-python",
   "name": "python",
   "nbconvert_exporter": "python",
   "pygments_lexer": "ipython3",
   "version": "3.9.9"
  }
 },
 "nbformat": 4,
 "nbformat_minor": 5
}
