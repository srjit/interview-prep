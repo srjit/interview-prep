{
 "cells": [
  {
   "cell_type": "code",
   "execution_count": 2,
   "id": "417498d5-f660-487e-85bf-99cb7b2122ac",
   "metadata": {},
   "outputs": [],
   "source": [
    "from typing import List"
   ]
  },
  {
   "cell_type": "code",
   "execution_count": 3,
   "id": "80df2225-3e1a-42b1-83f4-7726ef995d40",
   "metadata": {},
   "outputs": [],
   "source": [
    "class Solution:\n",
    "    \n",
    "    def longestConsecutive(self, nums: List[int]) -> int:\n",
    "\n",
    "        elements = set(nums)\n",
    "        visited = set()\n",
    "        maxl = 0\n",
    "\n",
    "        for elt in nums:\n",
    "\n",
    "            if (elt not in visited) and (elt-1 not in elements):\n",
    "\n",
    "                len_ = 1\n",
    "                visited.add(elt)\n",
    "                \n",
    "                while elt + len_ in elements:\n",
    "                    len_ += 1\n",
    "                    visited.add(elt+len_)\n",
    "\n",
    "                maxl = max(maxl, len_)\n",
    "        return maxl"
   ]
  },
  {
   "cell_type": "code",
   "execution_count": 31,
   "id": "1f83d5ff-f998-4cc5-aeea-ca705079e54b",
   "metadata": {},
   "outputs": [],
   "source": [
    "class Solution:\n",
    "    def maximumLength(self, nums: List[int]) -> int:\n",
    "        \n",
    "        d = {}\n",
    "        for num in sorted(nums)[::-1]:\n",
    "            \n",
    "            if num**2 in d and num in d and num != 1:\n",
    "                d[num] = d[num**2] + 2\n",
    "            else:\n",
    "                d[num] = 1\n",
    "    \n",
    "        ones = nums.count(1)\n",
    "        \n",
    "        return max(max(d.values()), ones - (ones % 2 == 0))"
   ]
  },
  {
   "cell_type": "code",
   "execution_count": 34,
   "id": "5801c7ee-a96b-4918-965e-a7d2f8611559",
   "metadata": {},
   "outputs": [
    {
     "data": {
      "text/plain": [
       "1"
      ]
     },
     "execution_count": 34,
     "metadata": {},
     "output_type": "execute_result"
    }
   ],
   "source": [
    "nums = [1,2 ,3,4]\n",
    "ones = nums.count(1)\n"
   ]
  },
  {
   "cell_type": "code",
   "execution_count": null,
   "id": "372755e8-150e-4588-94d8-bb1b47e4bd12",
   "metadata": {},
   "outputs": [],
   "source": []
  }
 ],
 "metadata": {
  "kernelspec": {
   "display_name": "Python 3 (ipykernel)",
   "language": "python",
   "name": "python3"
  },
  "language_info": {
   "codemirror_mode": {
    "name": "ipython",
    "version": 3
   },
   "file_extension": ".py",
   "mimetype": "text/x-python",
   "name": "python",
   "nbconvert_exporter": "python",
   "pygments_lexer": "ipython3",
   "version": "3.10.10"
  }
 },
 "nbformat": 4,
 "nbformat_minor": 5
}
