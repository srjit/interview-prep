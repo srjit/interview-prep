{
 "cells": [
  {
   "cell_type": "code",
   "execution_count": 7,
   "id": "64a9e53e-750d-4135-a84a-8c32f5ebeb5f",
   "metadata": {},
   "outputs": [
    {
     "data": {
      "text/plain": [
       "3"
      ]
     },
     "execution_count": 7,
     "metadata": {},
     "output_type": "execute_result"
    }
   ],
   "source": [
    "class Solution:\n",
    "    \n",
    "    def lengthOfLongestSubstring(self, s: str) -> int:\n",
    "\n",
    "        visited = set()\n",
    "        maxlen = 0\n",
    "        l, r = 0, 0\n",
    "        \n",
    "        for r, c in enumerate(s):\n",
    "\n",
    "            while c in visited:\n",
    "                visited.remove(s[l])\n",
    "                l+=1\n",
    "\n",
    "            visited.add(s[r])\n",
    "            maxlen = max(r-l+1, maxlen)\n",
    "            \n",
    "        return maxlen\n",
    "                \n",
    "Solution().lengthOfLongestSubstring(\"pwwkew\")"
   ]
  },
  {
   "cell_type": "code",
   "execution_count": null,
   "id": "5d1be3ca-85c4-480a-8e02-b49832dfe383",
   "metadata": {},
   "outputs": [],
   "source": []
  },
  {
   "cell_type": "code",
   "execution_count": null,
   "id": "969dd1a5-ae9c-47c2-b086-e0f719e23d65",
   "metadata": {},
   "outputs": [],
   "source": []
  }
 ],
 "metadata": {
  "kernelspec": {
   "display_name": "Python 3 (ipykernel)",
   "language": "python",
   "name": "python3"
  },
  "language_info": {
   "codemirror_mode": {
    "name": "ipython",
    "version": 3
   },
   "file_extension": ".py",
   "mimetype": "text/x-python",
   "name": "python",
   "nbconvert_exporter": "python",
   "pygments_lexer": "ipython3",
   "version": "3.10.10"
  }
 },
 "nbformat": 4,
 "nbformat_minor": 5
}
