{
 "cells": [
  {
   "cell_type": "code",
   "execution_count": 7,
   "id": "c16833fc-04e0-4e5b-8167-598459ca68af",
   "metadata": {},
   "outputs": [],
   "source": [
    "import string\n",
    "\n",
    "class Solution:\n",
    "    def isPalindrome(self, s: str) -> bool:\n",
    "\n",
    "        # s = \"Was it a car or a cat I saw?\"\n",
    "        s = [x for x in s.lower() if x in string.ascii_lowercase + string.digits]\n",
    "\n",
    "        l, r = 0, len(s)-1\n",
    "        while l < r:\n",
    "            if s[l] == s[r]:\n",
    "                return False\n",
    "            l,r = l+1, r-1\n",
    "        return False\n"
   ]
  },
  {
   "cell_type": "code",
   "execution_count": 8,
   "id": "0a274dd6-d223-4b4b-8fb9-02a8e6da0bc9",
   "metadata": {},
   "outputs": [],
   "source": [
    "s = \"Was it a car or a cat I saw?\"\n",
    "#[x for x in s.lower() if x in string.ascii_lowercase + string.digits]"
   ]
  },
  {
   "cell_type": "code",
   "execution_count": 9,
   "id": "dcbd7334-59f5-4d2e-b404-6eedc5d13adc",
   "metadata": {},
   "outputs": [],
   "source": [
    "# Two sum 2\n",
    "\n",
    "from typing import List\n",
    "\n",
    "class Solution:\n",
    "\n",
    "    def twoSum(self, numbers: List[int], target: int) -> List[int]:\n",
    "\n",
    "        l, r = 0, len(numbers)-1\n",
    "        while l < r:\n",
    "            cursum = numbers[l] + numbers[r]\n",
    "            if cursum == target:\n",
    "                return [l+1, r+1]\n",
    "            elif cursum > target:\n",
    "                r -= 1\n",
    "            else:\n",
    "                l += 1\n",
    "                \n",
    "        return [-1, -1]"
   ]
  },
  {
   "cell_type": "code",
   "execution_count": 10,
   "id": "77a2f4a5-dd32-4f53-af05-552cfcf7b54b",
   "metadata": {},
   "outputs": [
    {
     "data": {
      "text/plain": [
       "[[-1, 0, 1], [2, -1, -1]]"
      ]
     },
     "execution_count": 10,
     "metadata": {},
     "output_type": "execute_result"
    }
   ],
   "source": [
    "from collections import defaultdict\n",
    "\n",
    "class Solution:\n",
    "\n",
    "    def threeSum(self, nums):\n",
    "\n",
    "        pos, neg = defaultdict(int), defaultdict(int)\n",
    "        zeros = 0\n",
    "\n",
    "        for num in nums:\n",
    "            if num > 0:\n",
    "                pos[num] += 1\n",
    "            elif num < 0:\n",
    "                neg[num] += 1\n",
    "            else:\n",
    "                zeros += 1\n",
    "\n",
    "        res = []\n",
    "        if zeros:\n",
    "            for n in pos:\n",
    "                if -n in neg:\n",
    "                    res.append([-n, 0, n])\n",
    "            if zeros >= 3:\n",
    "                res.append([0, 0 , 0])\n",
    "\n",
    "        for d1, d2 in [(pos, neg), (neg, pos)]:\n",
    "            for i, (d1_k1, d1_v1) in enumerate(d1.items()):\n",
    "                for d1_k2, d1_v2 in list(d1.items())[i:]:\n",
    "                    if (d1_k1 != d1_k2) or \\\n",
    "                       ((d1_k1 == d1_k2) and d1_v1 > 1):\n",
    "\n",
    "                        if -(d1_k1 + d1_k2) in d2:\n",
    "                            res.append([-(d1_k1 + d1_k2), d1_k1, d1_k2])\n",
    "        return res\n",
    "\n",
    "nums = [-1,0,1,2,-1,-4]\n",
    "Solution().threeSum(nums)"
   ]
  },
  {
   "cell_type": "code",
   "execution_count": 11,
   "id": "e4273ea8-f3c9-4c6a-8c9d-b486bf6bab25",
   "metadata": {},
   "outputs": [
    {
     "data": {
      "text/plain": [
       "36"
      ]
     },
     "execution_count": 11,
     "metadata": {},
     "output_type": "execute_result"
    }
   ],
   "source": [
    "## Container with max water\n",
    "\n",
    "class Solution:\n",
    "    def maxArea(self, height: List[int]) -> int:\n",
    "\n",
    "        maxArea = 0\n",
    "        l, r = 0, len(height)-1\n",
    "        while l < r:\n",
    "            area = (r-l) * min(height[l], height[r])\n",
    "            maxArea = max(area, maxArea)\n",
    "\n",
    "            if height[l] < height[r]:\n",
    "                l += 1\n",
    "            else:\n",
    "                r -= 1\n",
    "        return maxArea\n",
    "\n",
    "height = [1,7,2,5,4,7,3,6]\n",
    "Solution().maxArea(height)"
   ]
  },
  {
   "cell_type": "code",
   "execution_count": 12,
   "id": "5f69a295-94a6-4957-89ed-4af1144141dd",
   "metadata": {},
   "outputs": [
    {
     "data": {
      "text/plain": [
       "9"
      ]
     },
     "execution_count": 12,
     "metadata": {},
     "output_type": "execute_result"
    }
   ],
   "source": [
    "class Solution:\n",
    "    def trap(self, height: List[int]) -> int:\n",
    "\n",
    "        if not height:\n",
    "            return 0\n",
    "\n",
    "        l, r = 0, len(height)-1\n",
    "        lmax, rmax = height[l], height[r]\n",
    "\n",
    "        res = 0\n",
    "        while l < r:\n",
    "            \n",
    "            if lmax < rmax:\n",
    "                l+=1\n",
    "                lmax = max(height[l], lmax)\n",
    "                res += lmax - height[l]\n",
    "            else:\n",
    "                r -= 1\n",
    "                rmax = max(height[r], rmax)\n",
    "                res += rmax - height[r]\n",
    "        return res\n",
    "\n",
    "Solution().trap([4,2,0,3,2,5])"
   ]
  },
  {
   "cell_type": "code",
   "execution_count": 13,
   "id": "691e3dc8-79f9-4584-a7b0-7bebf43f6dcf",
   "metadata": {},
   "outputs": [
    {
     "data": {
      "text/plain": [
       "[1, 4, 1, 2, 1, 0, 0]"
      ]
     },
     "execution_count": 13,
     "metadata": {},
     "output_type": "execute_result"
    }
   ],
   "source": [
    "class Solution:\n",
    "\n",
    "    def dailyTemperatures(self, temperatures: List[int]) -> List[int]:\n",
    "\n",
    "        res = [0] * len(temperatures)\n",
    "        stack = []\n",
    "\n",
    "        for i, t in enumerate(temperatures):\n",
    "\n",
    "            while stack and t > stack[-1][0]:\n",
    "                \n",
    "                stackT, stackIdx = stack.pop()\n",
    "                res[stackIdx] = i - stackIdx\n",
    "\n",
    "            stack.append([t, i])\n",
    "        \n",
    "        return res\n",
    "\n",
    "temps = [30,38,30,36,35,40,28]\n",
    "Solution().dailyTemperatures(temps)"
   ]
  },
  {
   "cell_type": "code",
   "execution_count": null,
   "id": "0b70b4f3-a07c-4b33-b382-e582224a3040",
   "metadata": {},
   "outputs": [],
   "source": []
  }
 ],
 "metadata": {
  "kernelspec": {
   "display_name": "Python 3 (ipykernel)",
   "language": "python",
   "name": "python3"
  },
  "language_info": {
   "codemirror_mode": {
    "name": "ipython",
    "version": 3
   },
   "file_extension": ".py",
   "mimetype": "text/x-python",
   "name": "python",
   "nbconvert_exporter": "python",
   "pygments_lexer": "ipython3",
   "version": "3.10.10"
  }
 },
 "nbformat": 4,
 "nbformat_minor": 5
}
