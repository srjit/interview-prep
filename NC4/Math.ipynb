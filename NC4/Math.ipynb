{
 "cells": [
  {
   "cell_type": "code",
   "execution_count": 1,
   "id": "a9836a32-b922-440f-848e-bf78143d0aa5",
   "metadata": {},
   "outputs": [],
   "source": [
    "from typing import List"
   ]
  },
  {
   "cell_type": "code",
   "execution_count": null,
   "id": "920f2ff9-513d-4b4a-abc3-f4bdd2197a57",
   "metadata": {},
   "outputs": [],
   "source": [
    "## 2177. Find Three Consecutive Integers That Sum to a Given Number\n",
    "\n",
    "class Solution:\n",
    "\n",
    "    def maxConsecutive(self, bottom: int, top: int, special) -> int:\n",
    "\n",
    "        special.sort()\n",
    "        maxl = special[0] - bottom\n",
    "\n",
    "        for i in range(1, len(special)):\n",
    "            maxl = max(maxl, special[i]-special[i-1]+1)\n",
    "\n",
    "        maxl = max(maxl, top-special[-1])\n",
    "        return maxl\n"
   ]
  }
 ],
 "metadata": {
  "kernelspec": {
   "display_name": "Python 3 (ipykernel)",
   "language": "python",
   "name": "python3"
  },
  "language_info": {
   "codemirror_mode": {
    "name": "ipython",
    "version": 3
   },
   "file_extension": ".py",
   "mimetype": "text/x-python",
   "name": "python",
   "nbconvert_exporter": "python",
   "pygments_lexer": "ipython3",
   "version": "3.10.10"
  }
 },
 "nbformat": 4,
 "nbformat_minor": 5
}
