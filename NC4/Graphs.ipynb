{
 "cells": [
  {
   "cell_type": "code",
   "execution_count": 2,
   "id": "a85e7ee2-77ee-44d1-ba36-76c629891079",
   "metadata": {},
   "outputs": [],
   "source": [
    "from typing import List"
   ]
  },
  {
   "cell_type": "markdown",
   "id": "10b493f2-bd25-47bb-b50f-4c17958b2dc5",
   "metadata": {},
   "source": [
    "## Number of islands\n",
    "----"
   ]
  },
  {
   "cell_type": "code",
   "execution_count": 5,
   "id": "62855164-934d-4fd4-a754-f6988ab9bd1c",
   "metadata": {},
   "outputs": [
    {
     "data": {
      "text/plain": [
       "4"
      ]
     },
     "execution_count": 5,
     "metadata": {},
     "output_type": "execute_result"
    }
   ],
   "source": [
    "class Solution:\n",
    "\n",
    "    def numIslands(self, grid: List[List[str]]) -> int:\n",
    "\n",
    "        rows, cols = len(grid), len(grid[0])\n",
    "\n",
    "        visited = set()\n",
    "        def dfs(r, c):\n",
    "\n",
    "            if r < 0 or r >= rows or c < 0 or c >= cols or (r, c) in visited or grid[r][c] == \"0\":\n",
    "                return\n",
    "                \n",
    "            visited.add((r, c))\n",
    "            nei = [(-1, 0), (1, 0), (0, -1), (0, 1)]\n",
    "            for dr, dc in nei:\n",
    "                _r, _c = r+dr, c+dc\n",
    "                dfs(_r, _c)\n",
    "\n",
    "        islands = 0\n",
    "        for r in range(rows):\n",
    "            for c in range(cols):\n",
    "                if (r, c) not in visited and grid[r][c] == \"1\":\n",
    "                    islands += 1\n",
    "                    dfs(r, c)\n",
    "        \n",
    "        return islands\n",
    "\n",
    "\n",
    "grid = grid = [\n",
    "    [\"1\",\"1\",\"0\",\"0\",\"1\"],\n",
    "    [\"1\",\"1\",\"0\",\"0\",\"1\"],\n",
    "    [\"0\",\"0\",\"1\",\"0\",\"0\"],\n",
    "    [\"0\",\"0\",\"0\",\"1\",\"1\"]\n",
    "  ]\n",
    "Solution().numIslands(grid)\n",
    "    "
   ]
  },
  {
   "cell_type": "code",
   "execution_count": null,
   "id": "7f0bc62c-b12f-4c9b-b550-bb1552224729",
   "metadata": {},
   "outputs": [],
   "source": []
  }
 ],
 "metadata": {
  "kernelspec": {
   "display_name": "transformers",
   "language": "python",
   "name": "transformers"
  },
  "language_info": {
   "codemirror_mode": {
    "name": "ipython",
    "version": 3
   },
   "file_extension": ".py",
   "mimetype": "text/x-python",
   "name": "python",
   "nbconvert_exporter": "python",
   "pygments_lexer": "ipython3",
   "version": "3.9.9"
  }
 },
 "nbformat": 4,
 "nbformat_minor": 5
}
