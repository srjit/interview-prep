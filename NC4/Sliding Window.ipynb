{
 "cells": [
  {
   "cell_type": "code",
   "execution_count": 5,
   "id": "711a6310-d19f-4c8b-9d98-9228aaef2414",
   "metadata": {},
   "outputs": [
    {
     "data": {
      "text/plain": [
       "True"
      ]
     },
     "execution_count": 5,
     "metadata": {},
     "output_type": "execute_result"
    }
   ],
   "source": [
    "# Valid Paranthesis\n",
    "\n",
    "class Solution:\n",
    "    def isValid(self, s: str) -> bool:\n",
    "\n",
    "        complement = {\n",
    "            \")\": \"(\",\n",
    "            \"}\": \"{\",\n",
    "            \"]\": \"[\"\n",
    "        }\n",
    "\n",
    "        stack = []\n",
    "        for c in s:\n",
    "            if c in complement:\n",
    "                if not stack or complement[c] != stack.pop():\n",
    "                    return False\n",
    "            else:\n",
    "                stack.append(c)\n",
    "        if stack:\n",
    "            return False\n",
    "        \n",
    "        return True\n",
    "\n",
    "Solution().isValid(\"([{}])\")"
   ]
  },
  {
   "cell_type": "code",
   "execution_count": 6,
   "id": "c134606b-3410-4877-9210-24452fed1a21",
   "metadata": {},
   "outputs": [],
   "source": [
    "# MinStack\n",
    "\n",
    "class MinStack:\n",
    "\n",
    "    def __init__(self):\n",
    "\n",
    "        self.store = []\n",
    "        self.min_store = []\n",
    "\n",
    "    def push(self, val: int) -> None:\n",
    "        \n",
    "        self.store.append(val)\n",
    "        if self.min_store:\n",
    "            self.min_store.append(min(val, self.min_store[-1]))\n",
    "        else:\n",
    "            self.min_store.append(val)\n",
    "\n",
    "    def pop(self) -> None:\n",
    "        if self.store:\n",
    "            self.store.pop()\n",
    "            self.min_store.pop()\n",
    "\n",
    "    def top(self) -> int:\n",
    "\n",
    "        if self.store:\n",
    "            return self.store[-1]\n",
    "        return None\n",
    "\n",
    "    def getMin(self) -> int:\n",
    "\n",
    "        if self.store:\n",
    "            return self.min_store[-1]\n",
    "        return None"
   ]
  },
  {
   "cell_type": "code",
   "execution_count": 7,
   "id": "6956f378-fc27-4a58-b785-17671f8eac46",
   "metadata": {},
   "outputs": [],
   "source": [
    "# Evaluate Reverse Polish Notiation\n",
    "\n",
    "from typing import List\n",
    "\n",
    "class Solution:\n",
    "    \n",
    "    def evalRPN(self, tokens: List[str]) -> int:\n",
    "\n",
    "        stack = []\n",
    "        operations = [\"+\", \"-\", \"/\", \"*\"]\n",
    "\n",
    "        for token in tokens:\n",
    "            if token in operations:\n",
    "                \n",
    "                op1 = int(stack.pop())\n",
    "                op2 = int(stack.pop())\n",
    "\n",
    "                if token == \"+\":\n",
    "                    stack.append(op1 + op2)\n",
    "                elif token == \"-\":\n",
    "                    stack.append(op1 - op2)\n",
    "                elif token == \"*\":\n",
    "                    stack.append(op1 * op2)\n",
    "                elif token == \"/\":\n",
    "                    stack.append(int(op2 / op1))\n",
    "            else:\n",
    "                stack.append(int(token))\n",
    "        return stack.pop()"
   ]
  },
  {
   "cell_type": "code",
   "execution_count": 9,
   "id": "2465ac0f-b536-4aac-a6f4-0793808f55d5",
   "metadata": {},
   "outputs": [
    {
     "data": {
      "text/plain": [
       "['((()))', '(()())', '(())()', '()(())', '()()()']"
      ]
     },
     "execution_count": 9,
     "metadata": {},
     "output_type": "execute_result"
    }
   ],
   "source": [
    "## Generate Parentheses\n",
    "\n",
    "class Solution:\n",
    "\n",
    "    def generateParenthesis(self, n: int) -> List[str]:\n",
    "\n",
    "        res = []\n",
    "        stack = []\n",
    "\n",
    "        def backtrack(open_count, closed_count):\n",
    "\n",
    "            if open_count == closed_count == n:\n",
    "                res.append(\"\".join(stack))\n",
    "                return\n",
    "\n",
    "            if open_count < n:\n",
    "                stack.append(\"(\")\n",
    "                backtrack(open_count+1, closed_count)\n",
    "                stack.pop()\n",
    "\n",
    "            if closed_count < open_count:\n",
    "                stack.append(\")\")\n",
    "                backtrack(open_count, closed_count+1)\n",
    "                stack.pop()\n",
    "\n",
    "        backtrack(0,0)\n",
    "        return res\n",
    "            \n",
    "Solution().generateParenthesis(3)"
   ]
  },
  {
   "cell_type": "code",
   "execution_count": null,
   "id": "78d74857-7ae6-4462-a015-3753605c60a1",
   "metadata": {},
   "outputs": [],
   "source": [
    "class Solution:\n",
    "    \n",
    "    def dailyTemperatures(self, temperatures: List[int]) -> List[int]:\n",
    "\n",
    "        res = [0] * len(temperatures)\n",
    "        stack = []\n",
    "        for i, t in range(1, len(temperatures)+1):\n",
    "            while stack and t > stack[-1][0]:\n",
    "                \n",
    "            \n",
    "            \n",
    "            \n",
    "\n",
    "\n",
    "\n",
    "\n",
    "\n",
    "temperatures = [30,38,30,36,35,40,28]\n",
    "Solution().dailyTemperatures(temperatures)"
   ]
  }
 ],
 "metadata": {
  "kernelspec": {
   "display_name": "Python 3 (ipykernel)",
   "language": "python",
   "name": "python3"
  },
  "language_info": {
   "codemirror_mode": {
    "name": "ipython",
    "version": 3
   },
   "file_extension": ".py",
   "mimetype": "text/x-python",
   "name": "python",
   "nbconvert_exporter": "python",
   "pygments_lexer": "ipython3",
   "version": "3.10.10"
  }
 },
 "nbformat": 4,
 "nbformat_minor": 5
}
