{
 "cells": [
  {
   "cell_type": "code",
   "execution_count": 1,
   "id": "cadc8cf3-a350-4d2b-81a7-8ce707e0f02d",
   "metadata": {},
   "outputs": [],
   "source": [
    "from typing import List\n",
    "\n",
    "class Solution:\n",
    "\n",
    "    def threeSum(self, nums: List[int]) -> List[List[int]]:\n",
    "        \n",
    "        op = []\n",
    "        neg, pos, zeros = defaultdict(int), defaultdict(int), 0\n",
    "\n",
    "        for num in nums:\n",
    "            if num < 0:\n",
    "                neg[num] += 1\n",
    "            elif num > 0:\n",
    "                pos[num] += 1\n",
    "            else:\n",
    "                zeros += 1\n",
    "\n",
    "        result = []\n",
    "        if zeros:\n",
    "            for n in neg:\n",
    "                if -n in pos:\n",
    "                    result.append((0, n, -n))       \n",
    "            if zeros > 2:\n",
    "                result.append((0,0,0))\n",
    "\n",
    "\n",
    "        for dict1, dict2 in zip((pos, neg), (neg, pos)):\n",
    "\n",
    "            for i, (d1_val1, d1_count1) in enumerate(dict1.items()):\n",
    "                for d1_val2, d1_count2 in list(dict1.items())[i:]:\n",
    "                    \n",
    "                    if (d1_val1 != d1_val2) or (d1_val1 == d1_val2 and d1_count1 > 1):\n",
    "\n",
    "                        if -(d1_val1 + d1_val2) in dict2:\n",
    "                            result.append((d1_val1, d1_val2, -(d1_val1 + d1_val2)))\n",
    "\n",
    "        return result        "
   ]
  },
  {
   "cell_type": "code",
   "execution_count": 2,
   "id": "d7298ceb-d4d1-4935-8fe5-cc6b8f58aba5",
   "metadata": {},
   "outputs": [],
   "source": [
    "class Solution:\n",
    "\n",
    "    def minSubArrayLen(self, target: int, nums: List[int]) -> int:\n",
    "\n",
    "        l, total = 0, 0\n",
    "        res = float(\"inf\")\n",
    "\n",
    "        for r in range(len(nums)):\n",
    "            total += nums[r]\n",
    "            while total >= target:\n",
    "                \n",
    "                res = min(r-l+1, res)\n",
    "                total-=nums[l]\n",
    "                l+=1\n",
    "\n",
    "        return 0 if res == float(\"inf\") else res\n",
    "            \n",
    "\n",
    "        "
   ]
  },
  {
   "cell_type": "code",
   "execution_count": 3,
   "id": "7e2864bb-cc7a-4605-bafc-c365ddd0d531",
   "metadata": {},
   "outputs": [
    {
     "data": {
      "text/plain": [
       "2"
      ]
     },
     "execution_count": 3,
     "metadata": {},
     "output_type": "execute_result"
    }
   ],
   "source": [
    "Solution().minSubArrayLen(7, [2,3,1,2,4,3])"
   ]
  },
  {
   "cell_type": "code",
   "execution_count": 5,
   "id": "a0d02c45-2497-4919-9a87-38689d3a3f07",
   "metadata": {},
   "outputs": [
    {
     "data": {
      "text/plain": [
       "True"
      ]
     },
     "execution_count": 5,
     "metadata": {},
     "output_type": "execute_result"
    }
   ],
   "source": [
    "from collections import Counter\n",
    "\n",
    "class Solution:\n",
    "    def containsNearbyDuplicate(self, nums: List[int], k: int) -> bool:\n",
    "\n",
    "        _counts = dict(Counter(nums))\n",
    "        dups = [_k for _k, _v in _counts.items() if _v >= 2]\n",
    "        if dups:\n",
    "            for _k in dups:\n",
    "                indices = [i for i, x in enumerate(nums) if x==_k]\n",
    "                differences = [indices[i+1]-indices[i] for i in range(0, len(indices)-1)]\n",
    "                if min(differences) <= k:\n",
    "                    return True\n",
    "        return False \n",
    "\n",
    "Solution().containsNearbyDuplicate([1,0, 1, 1], 1)"
   ]
  },
  {
   "cell_type": "code",
   "execution_count": 18,
   "id": "0c179d63-5ee7-48a7-8586-549c78566caf",
   "metadata": {},
   "outputs": [
    {
     "data": {
      "text/plain": [
       "3"
      ]
     },
     "execution_count": 18,
     "metadata": {},
     "output_type": "execute_result"
    }
   ],
   "source": [
    "class Solution:\n",
    "    \n",
    "    def lengthOfLongestSubstring(self, s: str) -> int:\n",
    "\n",
    "        seen = set()\n",
    "        left = 0 \n",
    "        \n",
    "        maxlen = 0\n",
    "\n",
    "        \n",
    "        for r in range(len(s)):\n",
    "            while s[r] in seen:\n",
    "                seen.remove(s[left])\n",
    "                left += 1\n",
    "                \n",
    "\n",
    "            seen.add(s[r])\n",
    "            maxlen = max(r-left+1, maxlen)\n",
    "\n",
    "        return maxlen\n",
    "\n",
    "Solution().lengthOfLongestSubstring(\"pwwkew\")"
   ]
  },
  {
   "cell_type": "code",
   "execution_count": null,
   "id": "ee86cdd0-c1f5-4088-adbe-628dfb4673f1",
   "metadata": {},
   "outputs": [],
   "source": []
  }
 ],
 "metadata": {
  "kernelspec": {
   "display_name": "Python 3 (ipykernel)",
   "language": "python",
   "name": "python3"
  },
  "language_info": {
   "codemirror_mode": {
    "name": "ipython",
    "version": 3
   },
   "file_extension": ".py",
   "mimetype": "text/x-python",
   "name": "python",
   "nbconvert_exporter": "python",
   "pygments_lexer": "ipython3",
   "version": "3.9.9"
  }
 },
 "nbformat": 4,
 "nbformat_minor": 5
}
