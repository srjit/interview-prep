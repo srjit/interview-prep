{
 "cells": [
  {
   "cell_type": "code",
   "execution_count": 2,
   "id": "90c94fc3-f98e-4986-ab3a-9b9d32d722f9",
   "metadata": {},
   "outputs": [],
   "source": [
    "from typing import List, Optional"
   ]
  },
  {
   "cell_type": "code",
   "execution_count": 3,
   "id": "6b995da8-7b1c-4e6c-9aee-e23ac26c8cba",
   "metadata": {},
   "outputs": [],
   "source": [
    "class ListNode:\n",
    "    def __init__(self, val=0, next=None):\n",
    "        self.val = val\n",
    "        self.next = next"
   ]
  },
  {
   "cell_type": "code",
   "execution_count": 6,
   "id": "0b3d9d05-4a0f-4f4a-aa32-1c49855d779b",
   "metadata": {},
   "outputs": [],
   "source": [
    "## reversing\n",
    "\n",
    "class Solution:\n",
    "    \n",
    "    def reverseList(self, head: Optional[ListNode]) -> Optional[ListNode]:\n",
    "\n",
    "        if not head:\n",
    "            return None\n",
    "\n",
    "        prev = head\n",
    "        current = head.next\n",
    "        while current:\n",
    "            tmp = current.next\n",
    "            current.next = prev\n",
    "            prev = current\n",
    "            current = tmp\n",
    "\n",
    "        head.next = None\n",
    "        return prev"
   ]
  },
  {
   "cell_type": "code",
   "execution_count": 7,
   "id": "cb0a0132-2467-4808-b59a-5f0a677a9b98",
   "metadata": {},
   "outputs": [
    {
     "name": "stdout",
     "output_type": "stream",
     "text": [
      "3\n"
     ]
    }
   ],
   "source": [
    "class ListNode:\n",
    "    \n",
    "    def __init__(self, val=0, next=None):\n",
    "        self.val = val\n",
    "        self.next = next\n",
    "\n",
    "class Solution:\n",
    "    def reorderList(self, head: Optional[ListNode]) -> None:\n",
    "\n",
    "        ## find mid point with slow and fast pointers\n",
    "        slow, fast = head, head.next\n",
    "        while fast and fast.next:\n",
    "            slow = slow.next\n",
    "            fast = fast.next.next\n",
    "\n",
    "        # start from slow.next\n",
    "        second = slow.next\n",
    "        prev = slow.next = None\n",
    "        while second:\n",
    "            tmp = second.next\n",
    "            second.next = prev\n",
    "\n",
    "            # set current second \n",
    "            # set second to the next node\n",
    "            prev = second\n",
    "            second = tmp\n",
    "\n",
    "        # merge the two halves\n",
    "        first, second = head, prev\n",
    "        while second:\n",
    "            tmp1, tmp2 = first.next, second.next\n",
    "            \n",
    "            first.next = second\n",
    "            second.next = tmp1\n",
    "            first, second = tmp1, tmp2\n",
    "\n",
    "        \n",
    "l1 = ListNode(1, ListNode(2, ListNode(3)))\n",
    "Solution().reorderList(l1)"
   ]
  },
  {
   "cell_type": "code",
   "execution_count": 8,
   "id": "c79966ca-e96d-460c-8b85-c0f6ab41fc1c",
   "metadata": {},
   "outputs": [],
   "source": [
    "## Remove nth node from the end of the list\n",
    "\n",
    "class Solution:\n",
    "    def removeNthFromEnd(self, head: Optional[ListNode], n: int) -> Optional[ListNode]:\n",
    "\n",
    "        fast = slow = head\n",
    "\n",
    "        for _ in range(n):\n",
    "            fast = fast.next\n",
    "\n",
    "        if not fast:\n",
    "            return head.next\n",
    "\n",
    "        while fast.next:\n",
    "            slow = slow.next\n",
    "            fast = fast.next\n",
    "\n",
    "        slow.next = slow.next.next\n",
    "        return head"
   ]
  },
  {
   "cell_type": "code",
   "execution_count": null,
   "id": "a2212b5c-68b3-4df1-ad41-6e925dc6b908",
   "metadata": {},
   "outputs": [],
   "source": [
    "### https://neetcode.io/problems/copy-linked-list-with-random-pointer\n",
    "\n",
    "class Node:\n",
    "    def __init__(self, x: int, next: 'Node' = None, random: 'Node' = None):\n",
    "        self.val = int(x)\n",
    "        self.next = next\n",
    "        self.random = random\n",
    "\n",
    "class Solution:\n",
    "\n",
    "    def copyRandomList(self, head: 'Optional[Node]') -> 'Optional[Node]':\n",
    "        \n",
    "        if not head:\n",
    "            return None\n",
    "\n",
    "        _d = {}\n",
    "        ptr = head\n",
    "        while curr:\n",
    "            _d[ptr] = Node(ptr.val)\n",
    "            ptr = ptr.next\n",
    "\n",
    "        curr = head\n",
    "        while curr:\n",
    "            _d[curr].next = _d.get(curr.next)\n",
    "            _d[curr].random = _d.get(curr.random)\n",
    "\n",
    "        return _d[head]"
   ]
  },
  {
   "cell_type": "code",
   "execution_count": null,
   "id": "f7f0b4fc-ac69-4b27-9797-18b628d0d7f2",
   "metadata": {},
   "outputs": [],
   "source": [
    "\n",
    "# LRU Cache\n",
    "\n",
    "class LRUCache:\n",
    "\n",
    "    def __init__(self, capacity: int):\n",
    "        self.capacity = capacity\n",
    "        self.cache = {}\n",
    "        \n",
    "\n",
    "    def get(self, key: int) -> int:\n",
    "\n",
    "        if key not in self.cache:\n",
    "            return -1\n",
    "        \n",
    "        val = self.cache.pop(key)\n",
    "        self.cache[key] = val\n",
    "        return val\n",
    "        \n",
    "\n",
    "    def put(self, key: int, value: int) -> None:\n",
    "\n",
    "        if self.capacity == 0:\n",
    "            self.cache.pop(next(iter(self.cache)))\n",
    "            \n",
    "        self.cache[key] = value\n",
    "        self.capacity -= 1    "
   ]
  },
  {
   "cell_type": "code",
   "execution_count": null,
   "id": "7668abcc-2436-47bd-a320-3cbd5e9eedbf",
   "metadata": {},
   "outputs": [],
   "source": []
  },
  {
   "cell_type": "code",
   "execution_count": null,
   "id": "74237b35-4fa7-4885-b7dd-48345ce1d37e",
   "metadata": {},
   "outputs": [],
   "source": []
  },
  {
   "cell_type": "code",
   "execution_count": null,
   "id": "659945f6-5596-4d44-9650-883169bd1f39",
   "metadata": {},
   "outputs": [],
   "source": [
    "class Node:\n",
    "    def __init__(self, x: int, next: 'Node' = None, random: 'Node' = None):\n",
    "        self.val = int(x)\n",
    "        self.next = next\n",
    "        self.random = random\n",
    "\n",
    "class Solution:\n",
    "\n",
    "    def copyRandomList(self, head: 'Optional[Node]') -> 'Optional[Node]':\n",
    "\n",
    "        _d = {}\n",
    "        cur = head\n",
    "        while cur:\n",
    "            _d[cur] = Node(cur.val)\n",
    "            cur = cur.next\n",
    "\n",
    "        cur = head\n",
    "        while cur:\n",
    "            _d[cur].next = _d.get(cur.next)\n",
    "            _d[cur].random = _d.get(cur.random)\n",
    "\n",
    "            cur = cur.next\n",
    "\n",
    "        return _d[head]\n"
   ]
  },
  {
   "cell_type": "code",
   "execution_count": null,
   "id": "5fe3781a-909b-4bc5-8f87-dcc7a2cdd1b9",
   "metadata": {},
   "outputs": [],
   "source": []
  }
 ],
 "metadata": {
  "kernelspec": {
   "display_name": "transformers",
   "language": "python",
   "name": "transformers"
  },
  "language_info": {
   "codemirror_mode": {
    "name": "ipython",
    "version": 3
   },
   "file_extension": ".py",
   "mimetype": "text/x-python",
   "name": "python",
   "nbconvert_exporter": "python",
   "pygments_lexer": "ipython3",
   "version": "3.9.9"
  }
 },
 "nbformat": 4,
 "nbformat_minor": 5
}
