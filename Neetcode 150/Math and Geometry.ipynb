{
 "cells": [
  {
   "cell_type": "code",
   "execution_count": null,
   "id": "5edff270-4871-4e0d-88af-4e0c6a794141",
   "metadata": {},
   "outputs": [],
   "source": [
    "## Rotate Image\n",
    "\n",
    "class Solution:\n",
    "    \n",
    "    def rotate(self, matrix: List[List[int]]) -> None:\n",
    "\n",
    "        l, r = 0, len(matrix)-1\n",
    "\n",
    "        while l < r:\n",
    "            for i in range(l-r):\n",
    "\n",
    "                top, bottom = l, r\n",
    "\n",
    "                # left [matrix <- top : l + i]\n",
    "                top_left = matrix[top][l+i]\n",
    "\n",
    "                #\n",
    "                matrix[top][l+i] = matrix[bottom-i][l]\n",
    "                matrix[bottom-i][l] = matrix[bottom][r-i]\n",
    "                matrix[bottom][r-i] = matrix[top+i][r]\n",
    "                matrix[top+i][r] = top_left\n",
    "\n",
    "            l+=1\n",
    "            r-=1"
   ]
  },
  {
   "cell_type": "code",
   "execution_count": 9,
   "id": "62c2274c-c7d7-4e5a-b444-18e9eb630e76",
   "metadata": {},
   "outputs": [
    {
     "data": {
      "text/plain": [
       "[[0, 0]]"
      ]
     },
     "execution_count": 9,
     "metadata": {},
     "output_type": "execute_result"
    }
   ],
   "source": [
    "class Solution:\n",
    "    def setZeroes(self, matrix) -> None:\n",
    "        \"\"\"\n",
    "        Do not return anything, modify matrix in-place instead.\n",
    "        \"\"\"\n",
    "        transform_zero_row = False\n",
    "        transform_zero_col = False\n",
    "\n",
    "        # Determine if the first row or first column need to be zeroed\n",
    "        for i in range(len(matrix)):\n",
    "            if matrix[i][0] == 0:\n",
    "                transform_zero_col = True\n",
    "                break\n",
    "                \n",
    "        for j in range(len(matrix[0])):\n",
    "            if matrix[0][j] == 0:\n",
    "                transform_zero_row = True\n",
    "                break\n",
    "\n",
    "        \n",
    "\n",
    "        for i in range(1, len(matrix)):\n",
    "            for j in range(1, len(matrix[0])):\n",
    "                if matrix[i][j] == 0:\n",
    "                    matrix[0][j] = 0\n",
    "                    matrix[i][0] = 0\n",
    "\n",
    "        \n",
    "        for i in range(1, len(matrix)):\n",
    "            if matrix[i][0] == 0:\n",
    "                for j in range(len(matrix[0])):\n",
    "                    matrix[i][j] = 0\n",
    "            \n",
    "        for j in range(1, len(matrix[0])):\n",
    "            if matrix[0][j] == 0:\n",
    "                for i in range(len(matrix)):\n",
    "                    matrix[i][j] = 0\n",
    "\n",
    "       \n",
    "\n",
    "        if transform_zero_row:\n",
    "            for j in range(len(matrix[0])):\n",
    "                matrix[0][j] = 0\n",
    "        \n",
    "        if transform_zero_col:\n",
    "            for i in range(len(matrix)):\n",
    "                matrix[i][0] = 0\n",
    "\n",
    "                \n",
    "\n",
    "matrix = [[0, 1]]\n",
    "Solution().setZeroes(matrix)\n",
    "matrix"
   ]
  },
  {
   "cell_type": "code",
   "execution_count": 18,
   "id": "a0eebe2c-6d2f-4050-8239-a56eee27e051",
   "metadata": {},
   "outputs": [
    {
     "data": {
      "text/plain": [
       "14"
      ]
     },
     "execution_count": 18,
     "metadata": {},
     "output_type": "execute_result"
    }
   ],
   "source": [
    "def get_sum_of_digits(num):\n",
    "\n",
    "    sum = 0\n",
    "    while num//10 > 0:\n",
    "        sum += num%10\n",
    "        num = num//10\n",
    "\n",
    "    if num%10 > 0:\n",
    "        sum+=num%10\n",
    "    \n",
    "    return sum\n",
    "\n",
    "from functools import reduce\n",
    "def ssq(digits):\n",
    "    return reduce(lambda acc,y: acc+(y*y), digits)\n",
    "\n",
    "#get_sum_of_digits(146)\n",
    "ssq([1,2,3])"
   ]
  },
  {
   "cell_type": "code",
   "execution_count": 17,
   "id": "a55c7b0c-5ec7-4388-b77c-1a236e5e6d1b",
   "metadata": {},
   "outputs": [
    {
     "data": {
      "text/plain": [
       "14"
      ]
     },
     "execution_count": 17,
     "metadata": {},
     "output_type": "execute_result"
    }
   ],
   "source": [
    "1+4+9"
   ]
  },
  {
   "cell_type": "code",
   "execution_count": 29,
   "id": "ba85625a-af8f-4546-a1f0-66aad3ace5b3",
   "metadata": {},
   "outputs": [
    {
     "data": {
      "text/plain": [
       "True"
      ]
     },
     "execution_count": 29,
     "metadata": {},
     "output_type": "execute_result"
    }
   ],
   "source": [
    "from functools import reduce\n",
    "class Solution:\n",
    "    def isHappy(self, n: int) -> bool:\n",
    "\n",
    "        seen = set()\n",
    "\n",
    "        while n not in seen:\n",
    "            seen.add(n)\n",
    "            n = sum([int(x)**2 for x in str(n)])\n",
    "        \n",
    "        return n == 1\n",
    "\n",
    "Solution().isHappy(7)"
   ]
  },
  {
   "cell_type": "code",
   "execution_count": 35,
   "id": "7203b0fa-a5fe-48c5-a7b1-368caa9eb38a",
   "metadata": {},
   "outputs": [
    {
     "data": {
      "text/plain": [
       "[1, 0, 0, 0]"
      ]
     },
     "execution_count": 35,
     "metadata": {},
     "output_type": "execute_result"
    }
   ],
   "source": [
    "from typing import List\n",
    "\n",
    "class Solution:\n",
    "\n",
    "    def plusOne(self, digits: List[int]) -> List[int]:\n",
    "        \n",
    "        res = [0] * len(digits)\n",
    "\n",
    "        operand = 1\n",
    "        for i in range(len(digits)-1, -1, -1):\n",
    "            _sum = digits[i] + operand\n",
    "\n",
    "            res[i] = _sum\n",
    "            operand = 0\n",
    "\n",
    "            if _sum >= 10:\n",
    "                res[i] = _sum-10\n",
    "                operand = 1\n",
    "\n",
    "        if operand != 0:\n",
    "            res.insert(0, 1)\n",
    "        return res\n",
    "\n",
    "\n",
    "Solution().plusOne([9, 9, 9])"
   ]
  },
  {
   "cell_type": "code",
   "execution_count": null,
   "id": "bc55b92d-074a-47d2-8bbf-15175558e14d",
   "metadata": {},
   "outputs": [],
   "source": []
  }
 ],
 "metadata": {
  "kernelspec": {
   "display_name": "Python 3 (ipykernel)",
   "language": "python",
   "name": "python3"
  },
  "language_info": {
   "codemirror_mode": {
    "name": "ipython",
    "version": 3
   },
   "file_extension": ".py",
   "mimetype": "text/x-python",
   "name": "python",
   "nbconvert_exporter": "python",
   "pygments_lexer": "ipython3",
   "version": "3.10.10"
  }
 },
 "nbformat": 4,
 "nbformat_minor": 5
}
