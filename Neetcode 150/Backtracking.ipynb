{
 "cells": [
  {
   "cell_type": "code",
   "execution_count": 1,
   "id": "0522d22b-3298-4080-8e7a-5a12bec44325",
   "metadata": {},
   "outputs": [],
   "source": [
    "from typing import List"
   ]
  },
  {
   "cell_type": "code",
   "execution_count": 2,
   "id": "f7c35e1f-3120-4bc1-8806-96f3495e949d",
   "metadata": {},
   "outputs": [],
   "source": [
    "## Word Search\n",
    "\n",
    "class Solution:\n",
    "    \n",
    "    def exist(self, board: List[List[str]], word: str) -> bool:\n",
    "\n",
    "        if not board:\n",
    "            return False\n",
    "\n",
    "        ROWS, COLS = len(board), len(board[0])\n",
    "        visited = set()\n",
    "        \n",
    "        def dfs(r, c, i):\n",
    "\n",
    "            if i == len(word):\n",
    "                return True\n",
    "            if (r < 0) or (r >= ROWS) or (c < 0) or (c >= COLS) or (board[r][c] != word[i]) or ((r, c) in visited):\n",
    "                return\n",
    "\n",
    "            visited.add((r, c))\n",
    "\n",
    "            neighbors = [(-1,0), (1, 0), (0, -1), (0, 1)]\n",
    "            for dr, dc in neighbors:\n",
    "                res = dfs(r+dr, c+dc, i+1)\n",
    "                if res:\n",
    "                    return res\n",
    "            visited.remove((r,c))\n",
    "            return False\n",
    "\n",
    "        for r in range(ROWS):\n",
    "            for c in range(COLS):\n",
    "                if dfs(r, c, 0):\n",
    "                    return True\n",
    "        return False"
   ]
  },
  {
   "cell_type": "code",
   "execution_count": 3,
   "id": "465f1b17-6c1f-44f2-ad36-34e4eb5db3b9",
   "metadata": {},
   "outputs": [
    {
     "data": {
      "text/plain": [
       "[[1, 2, 3], [1, 2], [1, 3], [1], [2, 3], [2], [3], []]"
      ]
     },
     "execution_count": 3,
     "metadata": {},
     "output_type": "execute_result"
    }
   ],
   "source": [
    "## Subsets\n",
    "\n",
    "class Solution:\n",
    "\n",
    "    def subsets(self, nums: List[int]) -> List[List[int]]:\n",
    "\n",
    "\n",
    "        res = []\n",
    "        subset = []\n",
    "\n",
    "        def dfs(i):\n",
    "\n",
    "            if i == len(nums):\n",
    "                res.append(subset.copy())\n",
    "                return\n",
    "\n",
    "            subset.append(nums[i])\n",
    "            dfs(i+1)\n",
    "\n",
    "            subset.pop()\n",
    "            dfs(i+1)\n",
    "\n",
    "        dfs(0)\n",
    "        return res\n",
    "\n",
    "Solution().subsets([1,2,3])\n"
   ]
  },
  {
   "cell_type": "code",
   "execution_count": 4,
   "id": "304d07de-a07f-4adc-9e46-245cf75f4d1b",
   "metadata": {},
   "outputs": [
    {
     "data": {
      "text/plain": [
       "[[3, 2, 1], [2, 3, 1], [1, 3, 2], [3, 1, 2], [2, 1, 3], [1, 2, 3]]"
      ]
     },
     "execution_count": 4,
     "metadata": {},
     "output_type": "execute_result"
    }
   ],
   "source": [
    "## Permutations\n",
    "\n",
    "class Solution:\n",
    "\n",
    "    def permute(self, nums: List[int]) -> List[List[int]]:\n",
    "\n",
    "        if len(nums) == 1:\n",
    "            return [nums]\n",
    "\n",
    "        res = []\n",
    "        for i in range(len(nums)):\n",
    "            n = nums.pop(0)\n",
    "            permutations = self.permute(nums)\n",
    "            for perm in permutations:\n",
    "                res.append(perm + [n])\n",
    "            nums.append(n)\n",
    "        return res\n",
    "\n",
    "\n",
    "Solution().permute([1,2,3])"
   ]
  },
  {
   "cell_type": "code",
   "execution_count": 16,
   "id": "ca98214b-824c-4de6-95e4-805858aa75c4",
   "metadata": {},
   "outputs": [
    {
     "data": {
      "text/plain": [
       "[[2, 2, 5], [9]]"
      ]
     },
     "execution_count": 16,
     "metadata": {},
     "output_type": "execute_result"
    }
   ],
   "source": [
    "## Combination Sum\n",
    "\n",
    "class Solution:\n",
    "\n",
    "    def combinationSum(self, nums: List[int], target: int) -> List[List[int]]:\n",
    "\n",
    "        res = []\n",
    "        \n",
    "        def dfs(i, cur, current_sum):\n",
    "\n",
    "            if (current_sum == target):\n",
    "                res.append(cur.copy())\n",
    "                return\n",
    "\n",
    "            if i >= len(nums) or current_sum > target:\n",
    "                return\n",
    "\n",
    "            cur.append(nums[i])\n",
    "            dfs(i, cur, current_sum + nums[i])\n",
    "            cur.pop()\n",
    "            dfs(i+1, cur, current_sum)\n",
    "            return\n",
    "\n",
    "\n",
    "        dfs(0, [], 0)\n",
    "        return res\n",
    "            \n",
    "Solution().combinationSum([2,5,6,9], 9)                \n",
    "\n",
    "            "
   ]
  },
  {
   "cell_type": "code",
   "execution_count": 3,
   "id": "e18c7191-edc6-407e-93fc-52601afc8ca4",
   "metadata": {},
   "outputs": [],
   "source": [
    "# class Solution:\n",
    "    \n",
    "#     def subsetsWithDup(self, nums: List[int]) -> List[List[int]]:\n",
    "\n",
    "#         nums.sort()\n",
    "#         res = []\n",
    "#         subset = []\n",
    "\n",
    "#         def backtrack(i):\n",
    "            \n",
    "#             if i == len(nums):\n",
    "#                 res.append(nums[i])\n",
    "#                 return\n",
    "            \n",
    "#             subset.append(nums[i])\n",
    "#             backtrack(i+1)\n",
    "#             subset.pop()\n",
    "\n",
    "#             while i+1 < len(nums) and nums[i] == nums[i+1]:\n",
    "#                 i += 1\n",
    "\n",
    "#         backtrack(0)\n",
    "#         return res\n",
    "\n",
    "# Solution().subsetsWithDup([1,2,2])"
   ]
  },
  {
   "cell_type": "code",
   "execution_count": 12,
   "id": "d9405052-2adf-4b5a-8e01-0361766f3a1f",
   "metadata": {},
   "outputs": [
    {
     "data": {
      "text/plain": [
       "['ad', 'ae', 'af', 'bd', 'be', 'bf', 'cd', 'ce', 'cf']"
      ]
     },
     "execution_count": 12,
     "metadata": {},
     "output_type": "execute_result"
    }
   ],
   "source": [
    "\n",
    "# Letter combinations of phone number\n",
    "\n",
    "class Solution:\n",
    "    \n",
    "    def letterCombinations(self, digits: str) -> List[str]:\n",
    "\n",
    "        res = []\n",
    "        digitstochar = {\n",
    "            \"2\": \"abc\", \n",
    "            \"3\": \"def\", \n",
    "            \"4\": \"ghi\", \n",
    "            \"5\": \"jkl\", \n",
    "            \"6\": \"mno\", \n",
    "            \"7\": \"pqrs\", \n",
    "            \"8\": \"tuv\", \n",
    "            \"9\": \"wxyz\"\n",
    "        }\n",
    "\n",
    "        def backtrack(i, current_string):\n",
    "\n",
    "            if len(digits) == len(current_string):\n",
    "                res.append(current_string)\n",
    "                return\n",
    "\n",
    "            mapped_characters = digitstochar[digits[i]]\n",
    "            for c in mapped_characters:\n",
    "                backtrack(i+1, current_string + c)\n",
    "\n",
    "        if len(digits):\n",
    "            backtrack(0, \"\")\n",
    "            \n",
    "        return res\n",
    "\n",
    "Solution().letterCombinations(\"23\")"
   ]
  },
  {
   "cell_type": "code",
   "execution_count": 27,
   "id": "1e23c91e-768b-45dd-9db1-a9a2a36d2e75",
   "metadata": {},
   "outputs": [
    {
     "data": {
      "text/plain": [
       "[[1, 1, 6], [1, 2, 5], [1, 7], [2, 6]]"
      ]
     },
     "execution_count": 27,
     "metadata": {},
     "output_type": "execute_result"
    }
   ],
   "source": [
    "## Combination Sum\n",
    "\n",
    "class Solution:\n",
    "\n",
    "    def combinationSum(self, nums: List[int], target: int) -> List[List[int]]:\n",
    "\n",
    "        nums.sort()\n",
    "        res = []\n",
    "        \n",
    "        def dfs(i, cur, current_sum):\n",
    "\n",
    "            if (current_sum == target):\n",
    "\n",
    "                # for j in range(1, len(cur)):\n",
    "                #     if cur[j] < cur[j-1]:\n",
    "                #         return\n",
    "                if cur not in res:\n",
    "                    res.append(cur.copy())\n",
    "                return\n",
    "\n",
    "            if i >= len(nums) or current_sum > target:\n",
    "                return\n",
    "\n",
    "            cur.append(nums[i])\n",
    "            dfs(i+1, cur, current_sum + nums[i])\n",
    "            cur.pop()\n",
    "            dfs(i+1, cur, current_sum)\n",
    "            return\n",
    "\n",
    "\n",
    "        dfs(0, [], 0)\n",
    "        return res\n",
    "            \n",
    "Solution().combinationSum([10,1,2,7,6,1,5], 8)                \n",
    "\n",
    "            "
   ]
  },
  {
   "cell_type": "code",
   "execution_count": null,
   "id": "574de2da-7f01-4148-ba09-c23cfd8249dc",
   "metadata": {},
   "outputs": [],
   "source": []
  },
  {
   "cell_type": "code",
   "execution_count": null,
   "id": "53504936-a14d-4ca3-9538-0026d5609b2e",
   "metadata": {},
   "outputs": [],
   "source": []
  },
  {
   "cell_type": "code",
   "execution_count": null,
   "id": "8973eabf-2ab3-4ca5-ace3-4ed5ff1be0c5",
   "metadata": {},
   "outputs": [],
   "source": []
  },
  {
   "cell_type": "code",
   "execution_count": null,
   "id": "451621e6-fd4a-42fe-a907-055b307846a9",
   "metadata": {},
   "outputs": [],
   "source": []
  },
  {
   "cell_type": "code",
   "execution_count": null,
   "id": "f65a26a2-5c67-46c3-9f2a-500bf9515ce7",
   "metadata": {},
   "outputs": [],
   "source": []
  },
  {
   "cell_type": "code",
   "execution_count": null,
   "id": "18a65ad9-aa09-48fd-93da-b9a9056a1280",
   "metadata": {},
   "outputs": [],
   "source": []
  },
  {
   "cell_type": "code",
   "execution_count": null,
   "id": "ecd09b6c-12c8-4733-b00d-d3e92ef2b2de",
   "metadata": {},
   "outputs": [],
   "source": []
  },
  {
   "cell_type": "markdown",
   "id": "49172a45-3fd0-449c-bdea-0656908f6068",
   "metadata": {},
   "source": [
    "----"
   ]
  },
  {
   "cell_type": "code",
   "execution_count": null,
   "id": "7602d625-92ca-4c5b-b1a9-c0d00f970a72",
   "metadata": {},
   "outputs": [],
   "source": []
  },
  {
   "cell_type": "code",
   "execution_count": 5,
   "id": "279320ef-1275-463d-b543-cba1ad286709",
   "metadata": {},
   "outputs": [
    {
     "data": {
      "text/plain": [
       "[[1, 2, 3], [1, 2], [1, 3], [1], [2, 3], [2], [3], []]"
      ]
     },
     "execution_count": 5,
     "metadata": {},
     "output_type": "execute_result"
    }
   ],
   "source": [
    "class Solution:\n",
    "\n",
    "    def subsets(self, nums):\n",
    "\n",
    "        res = []\n",
    "        current = []\n",
    "        def backtrack(i):\n",
    "            \n",
    "            if i == len(nums):\n",
    "                res.append(current.copy())\n",
    "                return\n",
    "\n",
    "            current.append(nums[i])\n",
    "            backtrack(i+1)\n",
    "            current.pop()\n",
    "            backtrack(i+1)\n",
    "\n",
    "        backtrack(0)\n",
    "        return res\n",
    "\n",
    "            \n",
    "Solution().subsets([1,2,3])\n",
    "        "
   ]
  },
  {
   "cell_type": "code",
   "execution_count": 17,
   "id": "3f35d35a-a074-49e9-8d37-1d5a71327c86",
   "metadata": {},
   "outputs": [
    {
     "data": {
      "text/plain": [
       "[[2, 2, 5], [9]]"
      ]
     },
     "execution_count": 17,
     "metadata": {},
     "output_type": "execute_result"
    }
   ],
   "source": [
    "class Solution:\n",
    "\n",
    "    def combinationSum(self, nums, target: int):\n",
    "\n",
    "        res = []\n",
    "        cur = []\n",
    "        def backtrack(i):\n",
    "\n",
    "            ## repeatedly calculating sum\n",
    "            if sum(cur) > target or i >= len(nums):\n",
    "                return\n",
    "\n",
    "            if sum(cur) == target:\n",
    "                res.append(cur.copy())\n",
    "                return\n",
    "                \n",
    "            if i >= len(nums) or sum(cur) > target:\n",
    "                return\n",
    "\n",
    "            cur.append(nums[i])\n",
    "            backtrack(i)\n",
    "            cur.pop()\n",
    "            backtrack(i+1)\n",
    "\n",
    "        backtrack(0)\n",
    "        return res\n",
    "\n",
    "Solution().combinationSum([2,5,6,9] , 9)"
   ]
  },
  {
   "cell_type": "code",
   "execution_count": 59,
   "id": "e04c2adb-9868-4c74-932b-961309436db7",
   "metadata": {},
   "outputs": [
    {
     "data": {
      "text/plain": [
       "[[1, 2, 5], [2, 2, 4], [2, 6]]"
      ]
     },
     "execution_count": 59,
     "metadata": {},
     "output_type": "execute_result"
    }
   ],
   "source": [
    "## combination sum 2\n",
    "\n",
    "class Solution:\n",
    "    \n",
    "    def combinationSum2(self, nums, target: int):\n",
    "\n",
    "        nums.sort()\n",
    "\n",
    "        res = []\n",
    "        cur = []\n",
    "        def backtrack(cur, start, target):\n",
    "\n",
    "            if target == 0:\n",
    "                res.append(cur.copy())\n",
    "            if target <= 0:\n",
    "                return\n",
    "\n",
    "            prev = -1\n",
    "            for i in range(start, len(nums)):\n",
    "                if nums[i] == prev:\n",
    "                    continue\n",
    "\n",
    "                cur.append(nums[i])\n",
    "                backtrack(cur, i+1, target-nums[i])\n",
    "                cur.pop()\n",
    "                prev = nums[i]\n",
    "\n",
    "        backtrack([], 0, target)\n",
    "        return res\n",
    "            \n",
    "\n",
    "Solution().combinationSum2([9,2,2,4,6,1,5], 8)"
   ]
  },
  {
   "cell_type": "code",
   "execution_count": null,
   "id": "9aad953b-bba6-4cef-ab1d-1a2a461905e8",
   "metadata": {},
   "outputs": [],
   "source": [
    "## Subsets 2\n",
    "\n",
    "class Solution:\n",
    "    \n",
    "    def subsetsWithDup(self, nums: List[int]) -> List[List[int]]:\n",
    "\n",
    "        nums.sort()\n",
    "        res = []\n",
    "        cur = []\n",
    "        def backtrack(i):\n",
    "            \n",
    "            if i == len(nums):\n",
    "                res.append(cur.copy())\n",
    "                return\n",
    "\n",
    "            cur.append(i+1)\n",
    "            backtrack(i+1)\n",
    "            cur.pop()\n",
    "\n",
    "            \n",
    "            \n",
    "            \n",
    "\n",
    "            \n",
    "        "
   ]
  },
  {
   "cell_type": "code",
   "execution_count": 47,
   "id": "1871a96c-bdda-4c2b-929d-28dfb92e5378",
   "metadata": {},
   "outputs": [
    {
     "data": {
      "text/plain": [
       "True"
      ]
     },
     "execution_count": 47,
     "metadata": {},
     "output_type": "execute_result"
    }
   ],
   "source": [
    "## Search for Word\n",
    "\n",
    "from typing import List\n",
    "\n",
    "class Solution:\n",
    "    \n",
    "    def exist(self, board: List[List[str]], word: str) -> bool:\n",
    "\n",
    "        ROWS, COLS = len(board), len(board[0])\n",
    "        visit = set()\n",
    "        \n",
    "        def dfs(r, c, i):\n",
    "            if i == len(word):\n",
    "                return True\n",
    "            if r < 0 or r >= ROWS or c < 0 or c >= COLS or (board[r][c] != word[i]):\n",
    "                return \n",
    "\n",
    "            visit.add((r, c))\n",
    "            neighbors = [(-1, 0), (1, 0), (0, -1), (0, 1)]\n",
    "            for dr, dc in neighbors:\n",
    "                if (r+dr, c+dc) not in visit:\n",
    "                    found = dfs(r+dr, c+dc, i+1)\n",
    "                    if found:\n",
    "                        return True\n",
    "\n",
    "            visit.remove((r,c))\n",
    "            return False\n",
    "\n",
    "        for r in range(ROWS):\n",
    "            for c in range(COLS):\n",
    "                if dfs(r, c, 0):\n",
    "                    return True\n",
    "\n",
    "        return False\n",
    "\n",
    "board = [\n",
    "  [\"A\",\"B\",\"C\",\"D\"],\n",
    "  [\"S\",\"A\",\"A\",\"T\"],\n",
    "  [\"A\",\"C\",\"A\",\"E\"]\n",
    "]\n",
    "word = \"CAT\"\n",
    "\n",
    "Solution().exist(board, word)        \n",
    "            "
   ]
  },
  {
   "cell_type": "code",
   "execution_count": 53,
   "id": "aa4b4f17-d8d9-4d2d-915c-da18387968ce",
   "metadata": {},
   "outputs": [
    {
     "data": {
      "text/plain": [
       "[['a', 'a', 'b'], ['aa', 'b']]"
      ]
     },
     "execution_count": 53,
     "metadata": {},
     "output_type": "execute_result"
    }
   ],
   "source": [
    "class Solution:\n",
    "\n",
    "    # SPLIT the string into substrings where each substring is a pallindrome\n",
    "    \n",
    "    def ispal(self, s, l, r):\n",
    "    \n",
    "        while l < r:\n",
    "            if s[l] !=  s[r]:\n",
    "                return False\n",
    "            l, r = l+1,r-1\n",
    "        return True\n",
    "    \n",
    "    def partition(self, s: str) -> List[List[str]]:\n",
    "\n",
    "        res = []\n",
    "        partition = []\n",
    "\n",
    "        def backtrack(i):\n",
    "\n",
    "            if i >= len(s):\n",
    "                res.append(partition.copy())\n",
    "                return\n",
    "\n",
    "            for j in range(i, len(s)):\n",
    "                if self.ispal(s, i, j):\n",
    "                    partition.append(s[i:j+1])\n",
    "                    backtrack(j+1)\n",
    "                    partition.pop()\n",
    "\n",
    "        backtrack(0)\n",
    "        return res\n",
    "\n",
    "\n",
    "Solution().partition(\"aab\")\n"
   ]
  },
  {
   "cell_type": "code",
   "execution_count": 58,
   "id": "a1e61504-0d7e-4aa6-bbb6-1a1330d41e8a",
   "metadata": {},
   "outputs": [
    {
     "data": {
      "text/plain": [
       "[['.Q..', '...Q', 'Q...', '..Q.'], ['..Q.', 'Q...', '...Q', '.Q..']]"
      ]
     },
     "execution_count": 58,
     "metadata": {},
     "output_type": "execute_result"
    }
   ],
   "source": [
    "class Solution:\n",
    "    def solveNQueens(self, n: int) -> List[List[str]]:\n",
    "\n",
    "        col = set()\n",
    "        posdiag = set()\n",
    "        negdiag = set()\n",
    "\n",
    "        res = []\n",
    "        board = [[\".\"] * n for i in range(n)]\n",
    "\n",
    "        def backtrack(r):\n",
    "\n",
    "            if r == n:\n",
    "                copy = [\"\".join(row) for row in board]\n",
    "                res.append(copy)\n",
    "                return\n",
    "\n",
    "\n",
    "            for c in range(n):\n",
    "                if c in col or (r+c) in posdiag or (r-c) in negdiag:\n",
    "                    continue\n",
    "\n",
    "                col.add(c)\n",
    "                posdiag.add(r+c)\n",
    "                negdiag.add(r-c)\n",
    "                board[r][c] = 'Q'\n",
    "\n",
    "                backtrack(r+1)\n",
    "\n",
    "                col.remove(c)\n",
    "                posdiag.remove(r+c)\n",
    "                negdiag.remove(r-c)\n",
    "                board[r][c] = '.'\n",
    "\n",
    "                \n",
    "\n",
    "        backtrack(0)\n",
    "        return res\n",
    "\n",
    "Solution().solveNQueens(4)"
   ]
  },
  {
   "cell_type": "code",
   "execution_count": 74,
   "id": "ad93595f-b30c-49a2-9773-39ba53a732e5",
   "metadata": {},
   "outputs": [
    {
     "data": {
      "text/plain": [
       "9"
      ]
     },
     "execution_count": 74,
     "metadata": {},
     "output_type": "execute_result"
    }
   ],
   "source": [
    "class Solution:\n",
    "    def waysToBuyPensPencils(self, total: int, cost1: int, cost2: int) -> int:\n",
    "        \n",
    "        totalways = 0\n",
    "        \n",
    "        for pens in range(total // cost1 + 1):\n",
    "            remaining_money = total - pens * cost1\n",
    "            totalways += (remaining_money // cost2) + 1\n",
    "\n",
    "        return totalways\n",
    "\n",
    "Solution().waysToBuyPensPencils(20,10, 5)"
   ]
  },
  {
   "cell_type": "code",
   "execution_count": null,
   "id": "02b958cd-1217-483d-868c-51887ba28217",
   "metadata": {},
   "outputs": [],
   "source": []
  }
 ],
 "metadata": {
  "kernelspec": {
   "display_name": "Python 3 (ipykernel)",
   "language": "python",
   "name": "python3"
  },
  "language_info": {
   "codemirror_mode": {
    "name": "ipython",
    "version": 3
   },
   "file_extension": ".py",
   "mimetype": "text/x-python",
   "name": "python",
   "nbconvert_exporter": "python",
   "pygments_lexer": "ipython3",
   "version": "3.10.10"
  }
 },
 "nbformat": 4,
 "nbformat_minor": 5
}
