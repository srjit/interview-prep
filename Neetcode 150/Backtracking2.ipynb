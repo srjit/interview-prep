{
 "cells": [
  {
   "cell_type": "markdown",
   "id": "2655e471-73d0-4ac2-a8bf-fe9a39112c19",
   "metadata": {},
   "source": [
    "## Backtracking\n",
    "---"
   ]
  },
  {
   "cell_type": "code",
   "execution_count": 4,
   "id": "107750bc-6761-47df-a7e9-bc7a52c7c8a3",
   "metadata": {},
   "outputs": [
    {
     "data": {
      "text/plain": [
       "[[1, 2, 3], [1, 2], [1, 3], [1], [2, 3], [2], [3], []]"
      ]
     },
     "execution_count": 4,
     "metadata": {},
     "output_type": "execute_result"
    }
   ],
   "source": [
    "## Subsets\n",
    "from typing import List, Optional\n",
    "\n",
    "class Solution:\n",
    "\n",
    "    def subsets(self, nums: List[int]) -> List[List[int]]:\n",
    "\n",
    "        res = []\n",
    "        cur = []\n",
    "\n",
    "        def backtrack(i):\n",
    "\n",
    "            if i == len(nums):\n",
    "                res.append(cur.copy())\n",
    "                return\n",
    "\n",
    "            cur.append(nums[i])\n",
    "            backtrack(i+1)\n",
    "\n",
    "            cur.pop()\n",
    "            backtrack(i+1)\n",
    "\n",
    "        backtrack(0)\n",
    "        return res\n",
    "            \n",
    "\n",
    "Solution().subsets([1,2,3])\n",
    "            "
   ]
  },
  {
   "cell_type": "code",
   "execution_count": 5,
   "id": "42585d6e-ee3f-42a9-a470-c4ae16431bc3",
   "metadata": {},
   "outputs": [
    {
     "data": {
      "text/plain": [
       "[[1, 2, 2], [1, 2], [1], [2, 2], [2], []]"
      ]
     },
     "execution_count": 5,
     "metadata": {},
     "output_type": "execute_result"
    }
   ],
   "source": [
    "from typing import List, Optional\n",
    "\n",
    "class Solution:\n",
    "\n",
    "    def subsets2(self, nums: List[int]) -> List[List[int]]:\n",
    "\n",
    "        nums.sort()\n",
    "\n",
    "        res = []\n",
    "        cur = []\n",
    "\n",
    "        def backtrack(i):\n",
    "\n",
    "            if i == len(nums):\n",
    "                res.append(cur.copy())\n",
    "                return\n",
    "\n",
    "            cur.append(nums[i])\n",
    "            backtrack(i+1)\n",
    "            cur.pop()\n",
    "\n",
    "            # exclude all numbers that are equal to the\n",
    "            # current sum\n",
    "            while i+1 < len(nums) and nums[i] == nums[i+1]:\n",
    "                i+=1\n",
    "\n",
    "            backtrack(i+1)\n",
    "\n",
    "        \n",
    "        backtrack(0)\n",
    "        return res\n",
    "\n",
    "Solution().subsets2([1,2,2])"
   ]
  },
  {
   "cell_type": "code",
   "execution_count": 13,
   "id": "e4aa671c-cc15-4dfd-943e-d7159d1d9fd3",
   "metadata": {},
   "outputs": [
    {
     "data": {
      "text/plain": [
       "[[1, 2, 2], [1, 2], [1], [2, 2], [2], []]"
      ]
     },
     "execution_count": 13,
     "metadata": {},
     "output_type": "execute_result"
    }
   ],
   "source": [
    "\n",
    "# from typing import List, Optional\n",
    "\n",
    "# class Solution:\n",
    "\n",
    "#     def subsets2(self, nums: List[int]) -> List[List[int]]:\n",
    "\n",
    "#         nums.sort()\n",
    "#         cur, res = [], []\n",
    "\n",
    "#         def backtrack(i):\n",
    "\n",
    "#             if i == len(nums):\n",
    "#                 res.append(cur.copy())\n",
    "#                 return\n",
    "\n",
    "#             # add and remove\n",
    "#             cur.append(nums[i])\n",
    "#             backtrack(i+1)\n",
    "#             cur.pop()\n",
    "\n",
    "#             # increment the i counter until we reach a new number\n",
    "#             while i+1 < len(nums) and nums[i] == nums[i+1]:\n",
    "#                 i+=1\n",
    "\n",
    "#             backtrack(i+1)\n",
    "        \n",
    "#         backtrack(0)\n",
    "#         return res\n",
    "\n",
    "# Solution().subsets2([1,2,2])                 "
   ]
  },
  {
   "cell_type": "code",
   "execution_count": 16,
   "id": "0fc7ddcb-f9ce-4b83-a6eb-7509283c1fe7",
   "metadata": {},
   "outputs": [
    {
     "data": {
      "text/plain": [
       "[[3, 3, 3, 3, 4], [3, 3, 5, 5], [3, 4, 4, 5], [4, 4, 4, 4]]"
      ]
     },
     "execution_count": 16,
     "metadata": {},
     "output_type": "execute_result"
    }
   ],
   "source": [
    "## Combination Sum\n",
    "\n",
    "class Solution:\n",
    "\n",
    "    def combinationSum(self, nums: List[int], target: int) -> List[List[int]]:\n",
    "\n",
    "        cur, res = [], []\n",
    "\n",
    "        def backtrack(i, cursum):\n",
    "\n",
    "            if cursum == target:\n",
    "                res.append(cur.copy())\n",
    "                return\n",
    "\n",
    "            if cursum > target or i >= len(nums):\n",
    "                return\n",
    "\n",
    "            cur.append(nums[i])\n",
    "            backtrack(i, cursum + nums[i])\n",
    "            cur.pop()\n",
    "            backtrack(i+1, cursum)\n",
    "            \n",
    "        backtrack(0, 0)\n",
    "        return res\n",
    "            \n",
    "            \n",
    "nums = [3,4,5]\n",
    "target = 16            \n",
    "            \n",
    "Solution().combinationSum(nums, target)"
   ]
  },
  {
   "cell_type": "code",
   "execution_count": 24,
   "id": "46eaa0b2-bc43-4ac1-a16f-b4322c223859",
   "metadata": {},
   "outputs": [
    {
     "data": {
      "text/plain": [
       "[[1, 2, 5], [2, 2, 4], [2, 6]]"
      ]
     },
     "execution_count": 24,
     "metadata": {},
     "output_type": "execute_result"
    }
   ],
   "source": [
    "## Combination Sum 2\n",
    "## unique combinations of nums\n",
    "\n",
    "class Solution:\n",
    "    \n",
    "    def combinationSum2(self, nums, target: int):\n",
    "\n",
    "        nums.sort()\n",
    "        res = []\n",
    "\n",
    "        def backtrack(cur, start, target):\n",
    "\n",
    "            if target == 0:\n",
    "                res.append(cur.copy())\n",
    "            if target < 0:\n",
    "                return\n",
    "\n",
    "            prev = -1\n",
    "            for i in range(start, len(nums)):\n",
    "                if nums[i] == prev:\n",
    "                    continue\n",
    "                \n",
    "                cur.append(nums[i]) \n",
    "                backtrack(cur, i+1, target-nums[i])\n",
    "                cur.pop()\n",
    "                prev = nums[i]\n",
    "\n",
    "        backtrack([], 0 ,target)\n",
    "        return res\n",
    "                \n",
    "            \n",
    "\n",
    "candidates = [9,2,2,4,6,1,5]\n",
    "target = 8\n",
    "Solution().combinationSum2(candidates, target)  "
   ]
  },
  {
   "cell_type": "code",
   "execution_count": 33,
   "id": "d285946b-9d57-4689-b21e-172abf2b135d",
   "metadata": {},
   "outputs": [
    {
     "data": {
      "text/plain": [
       "[[3, 2, 1], [2, 3, 1], [1, 3, 2], [3, 1, 2], [2, 1, 3], [1, 2, 3]]"
      ]
     },
     "execution_count": 33,
     "metadata": {},
     "output_type": "execute_result"
    }
   ],
   "source": [
    "# Permutations\n",
    "\n",
    "class Solution:\n",
    "\n",
    "    def permute(self, nums: List[int]) -> List[List[int]]:\n",
    "\n",
    "        res = []\n",
    "        \n",
    "        if len(nums) == 1:\n",
    "            return [nums]\n",
    "\n",
    "        for i in range(len(nums)):\n",
    "\n",
    "            # take out from front\n",
    "            a = nums.pop(0)\n",
    "            permutations = self.permute(nums)\n",
    "\n",
    "            for perm in permutations:\n",
    "                res.append(perm+[a])\n",
    "\n",
    "            # put back in the back\n",
    "            nums.append(a)\n",
    "            \n",
    "        return res\n",
    "            \n",
    "        \n",
    "Solution().permute([1,2,3])"
   ]
  },
  {
   "cell_type": "code",
   "execution_count": 41,
   "id": "76f8ec20-b2e9-4851-b43f-dfdc783b33ca",
   "metadata": {},
   "outputs": [
    {
     "data": {
      "text/plain": [
       "True"
      ]
     },
     "execution_count": 41,
     "metadata": {},
     "output_type": "execute_result"
    }
   ],
   "source": [
    "## Word Search\n",
    "\n",
    "class Solution:\n",
    "    \n",
    "    def exist(self, board: List[List[str]], word: str) -> bool:\n",
    "\n",
    "        rows, cols = len(board), len(board[0])\n",
    "        visit = set()\n",
    "\n",
    "        def dfs(r, c, i):\n",
    "\n",
    "            if i == len(word):\n",
    "                return True\n",
    "\n",
    "            if (r < 0) or (c < 0) or (r >= rows) or (c >= cols) or ((r, c) in visit) or (board[r][c] != word[i]):\n",
    "                return \n",
    "            visit.add((r, c))\n",
    "\n",
    "            for dr,dc in [(-1,0),(1,0),(0,-1),(0,1)]:\n",
    "                if dfs(r+dr, c+dc, i+1):\n",
    "                    return True\n",
    "            visit.remove((r, c))\n",
    "            return False\n",
    "\n",
    "        for r in range(rows):\n",
    "            for c in range(cols):\n",
    "                if dfs(r, c, 0):\n",
    "                    return True\n",
    "        return False\n",
    "\n",
    "board = [\n",
    "  [\"A\",\"B\",\"C\",\"D\"],\n",
    "  [\"S\",\"A\",\"A\",\"T\"],\n",
    "  [\"A\",\"C\",\"A\",\"E\"]\n",
    "]\n",
    "word = \"CAT\"\n",
    "Solution().exist(board, word)"
   ]
  },
  {
   "cell_type": "code",
   "execution_count": 42,
   "id": "fc547b53-6297-47eb-aa55-1d6a1bf82945",
   "metadata": {},
   "outputs": [],
   "source": [
    "## Letter combinations of a phone number\n",
    "\n",
    "class Solution:\n",
    "\n",
    "    def letterCombinations(self, digits: str) -> List[str]:\n",
    "\n",
    "        res = []\n",
    "        digitstochar = {\n",
    "            \"2\": \"abc\", \n",
    "            \"3\": \"def\", \n",
    "            \"4\": \"ghi\", \n",
    "            \"5\": \"jkl\", \n",
    "            \"6\": \"mno\", \n",
    "            \"7\": \"pqrs\", \n",
    "            \"8\": \"tuv\", \n",
    "            \"9\": \"wxyz\"\n",
    "        }\n",
    "\n",
    "        def backtrack(i, letters):\n",
    "            if i == len(digits):\n",
    "                res.append(letters)\n",
    "                return\n",
    "\n",
    "            chars = digitstochar[digits[i]]\n",
    "            for c in chars:\n",
    "                backtrack(i+1, letters + c)\n",
    "\n",
    "        backtrack(0, \"\")\n",
    "        return res"
   ]
  },
  {
   "cell_type": "code",
   "execution_count": 47,
   "id": "8276c7eb-b1d5-4c40-9785-c13e5e73db58",
   "metadata": {},
   "outputs": [
    {
     "data": {
      "text/plain": [
       "[['.Q..', '...Q', 'Q...', '..Q.'], ['..Q.', 'Q...', '...Q', '.Q..']]"
      ]
     },
     "execution_count": 47,
     "metadata": {},
     "output_type": "execute_result"
    }
   ],
   "source": [
    "## N Queens\n",
    "\n",
    "class Solution:\n",
    "    def solveNQueens(self, n: int) -> List[List[str]]:\n",
    "\n",
    "        cols = set()\n",
    "        posdiag = set()\n",
    "        negdiag = set()\n",
    "        res = []\n",
    "\n",
    "        # initially no queens are kept\n",
    "        board = [[\".\"] * n for _ in range(n)]\n",
    "\n",
    "        def backtrack(r):\n",
    "\n",
    "            if r == n:\n",
    "                # we've finished the rows\n",
    "                copy = [\"\".join(row) for row in board]\n",
    "                res.append(copy)\n",
    "                return\n",
    "\n",
    "            for c in range(n):\n",
    "                if (c in cols) or (r+c in posdiag) or (r-c in negdiag):\n",
    "                    continue\n",
    "\n",
    "                cols.add(c)\n",
    "                posdiag.add(r+c)\n",
    "                negdiag.add(r-c)\n",
    "                # keep the queen \n",
    "                board[r][c] = 'Q'\n",
    "                \n",
    "                backtrack(r+1)\n",
    "\n",
    "                cols.remove(c)\n",
    "                posdiag.remove(r+c)\n",
    "                negdiag.remove(r-c)\n",
    "                # remove the queen\n",
    "                board[r][c] = '.'\n",
    "                \n",
    "        backtrack(0)\n",
    "        return res\n",
    "\n",
    "\n",
    "Solution().solveNQueens(4)"
   ]
  },
  {
   "cell_type": "code",
   "execution_count": 57,
   "id": "03c346ce-388b-48ae-88f0-91f98335b962",
   "metadata": {},
   "outputs": [
    {
     "data": {
      "text/plain": [
       "[['a', 'a', 'b'], ['aa', 'b']]"
      ]
     },
     "execution_count": 57,
     "metadata": {},
     "output_type": "execute_result"
    }
   ],
   "source": [
    "## Palindrome Partitioning \n",
    "\n",
    "class Solution:\n",
    "    \n",
    "    def partition(self, s: str) -> List[List[str]]:\n",
    "\n",
    "         def isPallindrome(s, l, r):\n",
    "             while l < r:\n",
    "                 if s[l] != s[r]:\n",
    "                     return False\n",
    "                 l+=1\n",
    "                 r-=1\n",
    "                 \n",
    "             return True\n",
    "        \n",
    "\n",
    "         res, part = [], []\n",
    "\n",
    "         def backtrack(i):\n",
    "\n",
    "             if i >= len(s):\n",
    "                 res.append(part.copy())\n",
    "                 return\n",
    "\n",
    "             for j in range(i, len(s)):\n",
    "                 if isPallindrome(s, i, j):\n",
    "                     part.append(s[i:j+1])\n",
    "                     backtrack(j+1)\n",
    "                     part.pop()\n",
    "                     \n",
    "         backtrack(0)\n",
    "         return res\n",
    "                 \n",
    "\n",
    "Solution().partition(\"aab\")"
   ]
  },
  {
   "cell_type": "code",
   "execution_count": 62,
   "id": "e8fe382d-d429-4b8a-9c4a-4a3b20896cee",
   "metadata": {},
   "outputs": [
    {
     "data": {
      "text/plain": [
       "[['a', 'a', 'b'], ['aa', 'b']]"
      ]
     },
     "execution_count": 62,
     "metadata": {},
     "output_type": "execute_result"
    }
   ],
   "source": [
    "class Solution:\n",
    "    \n",
    "    def partition(self, s: str) -> List[List[str]]:\n",
    "\n",
    "         def isPallindrome(s, l, r):\n",
    "             while l < r:\n",
    "                 if s[l] != s[r]:\n",
    "                     return False\n",
    "                 l+=1\n",
    "                 r-=1\n",
    "             return True\n",
    "\n",
    "         part, res  = [], []\n",
    "         def backtrack(i):\n",
    "\n",
    "             if i == len(s):\n",
    "                 res.append(part.copy())\n",
    "                 return\n",
    "\n",
    "             for j in range(i, len(s)):\n",
    "                 # 0-0 ....\n",
    "                 # 0-1 ....\n",
    "                 # 0-2 ....\n",
    "                 if isPallindrome(s, i, j):\n",
    "                     part.append(s[i:j+1])\n",
    "                     backtrack(j+1)\n",
    "                     part.pop()\n",
    "                     \n",
    "         backtrack(0)\n",
    "         return res\n",
    "\n",
    "Solution().partition(\"aab\")"
   ]
  },
  {
   "cell_type": "markdown",
   "id": "7c091547-73e3-4ee5-acd6-b4cf4b5ca023",
   "metadata": {},
   "source": [
    "### Graphs\n",
    "----"
   ]
  },
  {
   "cell_type": "code",
   "execution_count": 66,
   "id": "502a109f-f90a-4830-8c46-274c663ed9a4",
   "metadata": {},
   "outputs": [
    {
     "data": {
      "text/plain": [
       "4"
      ]
     },
     "execution_count": 66,
     "metadata": {},
     "output_type": "execute_result"
    }
   ],
   "source": [
    "## Count Number of Islands\n",
    "\n",
    "class Solution:\n",
    "    def numIslands(self, grid: List[List[str]]) -> int:\n",
    "\n",
    "        rows, cols = len(grid), len(grid[0])\n",
    "        visit = set()\n",
    "        def dfs(r, c):\n",
    "\n",
    "            if r < 0 or c < 0 or r >= rows or c >= cols or (r,c) in visit or grid[r][c] == \"0\":\n",
    "                return\n",
    "            visit.add((r, c))\n",
    "            exp = [(-1, 0),(1, 0),(0, -1), (0, 1)]\n",
    "            for dr, dc in exp:\n",
    "                dfs(r+dr, c+dc)\n",
    "            return\n",
    "\n",
    "\n",
    "        islands = 0\n",
    "        for r in range(rows):\n",
    "            for c in range(cols):\n",
    "                if (r, c) not in visit and grid[r][c] == \"1\":\n",
    "                    islands += 1\n",
    "                    dfs(r, c)\n",
    "        return islands\n",
    "\n",
    "grid = [\n",
    "    [\"1\",\"1\",\"0\",\"0\",\"1\"],\n",
    "    [\"1\",\"1\",\"0\",\"0\",\"1\"],\n",
    "    [\"0\",\"0\",\"1\",\"0\",\"0\"],\n",
    "    [\"0\",\"0\",\"0\",\"1\",\"1\"]\n",
    "  ]\n",
    "Solution().numIslands(grid)\n"
   ]
  },
  {
   "cell_type": "code",
   "execution_count": 70,
   "id": "32482f66-3c14-47aa-a83b-979380262861",
   "metadata": {},
   "outputs": [
    {
     "data": {
      "text/plain": [
       "6"
      ]
     },
     "execution_count": 70,
     "metadata": {},
     "output_type": "execute_result"
    }
   ],
   "source": [
    "## Max area of islands\n",
    "\n",
    "class Solution:    \n",
    "    def maxAreaOfIsland(self, grid: List[List[int]]) -> int:\n",
    "\n",
    "        rows, cols = len(grid), len(grid[0])\n",
    "        visit = set()\n",
    "        def dfs(r, c):\n",
    "            nonlocal area\n",
    "            \n",
    "            if r < 0 or c < 0 or r >= rows or c >= cols or (r,c) in visit or grid[r][c] == 0:\n",
    "                return\n",
    "            visit.add((r, c))\n",
    "            area += 1\n",
    "            \n",
    "            exp = [(-1, 0),(1, 0),(0, -1), (0, 1)]\n",
    "            for dr, dc in exp:\n",
    "                dfs(r+dr, c+dc)\n",
    "            return\n",
    "\n",
    "\n",
    "        area = 0\n",
    "        maxarea = 0 \n",
    "        for r in range(rows):\n",
    "            for c in range(cols):\n",
    "                if (r, c) not in visit and grid[r][c] == 1:\n",
    "                    dfs(r, c)\n",
    "                    maxarea = max(maxarea, area)\n",
    "                    \n",
    "                    area = 0\n",
    "        return maxarea\n",
    "\n",
    "\n",
    "grid = [\n",
    "  [0,1,1,0,1],\n",
    "  [1,0,1,0,1],\n",
    "  [0,1,1,0,1],\n",
    "  [0,1,0,0,1]\n",
    "]\n",
    "Solution().maxAreaOfIsland(grid)"
   ]
  },
  {
   "cell_type": "code",
   "execution_count": 71,
   "id": "ec6ed013-b0e6-4856-977d-f99de0003524",
   "metadata": {},
   "outputs": [],
   "source": [
    "class Node:\n",
    "    def __init__(self, val = 0, neighbors = None):\n",
    "        self.val = val\n",
    "        self.neighbors = neighbors if neighbors is not None else []\n",
    "\n",
    "class Solution:\n",
    "    def cloneGraph(self, node: Optional['Node']) -> Optional['Node']:\n",
    "\n",
    "        copy = {}\n",
    "        def dfs(node):\n",
    "\n",
    "            if node in copy:\n",
    "                return copy[node]\n",
    "\n",
    "            # create the copy of the node\n",
    "            copy_node = Node(node.val)\n",
    "            copy[node] = copy_node\n",
    "\n",
    "            # \n",
    "            for neighbor in node.neighbors:\n",
    "                copy_neighbor = dfs(neighbor)\n",
    "                copy_node.neighbors.append(copy_neighbor)\n",
    "\n",
    "            return copy_node\n",
    "\n",
    "        return dfs(node) if node else None"
   ]
  },
  {
   "cell_type": "code",
   "execution_count": 73,
   "id": "5c4882bd-5f96-4b6b-8d1f-5c97ecbfb1b6",
   "metadata": {},
   "outputs": [
    {
     "data": {
      "text/plain": [
       "[[3, -1, 0, 1], [2, 2, 1, -1], [1, -1, 2, -1], [0, -1, 3, 4]]"
      ]
     },
     "execution_count": 73,
     "metadata": {},
     "output_type": "execute_result"
    }
   ],
   "source": [
    "## Islands and Treasure\n",
    "# 1 - A water cell that can not be traversed.\n",
    "# 0 - A treasure chest.\n",
    "# INF - A land cell that can be traversed    \n",
    "\n",
    "\n",
    "# Distance to nearest treasure chest\n",
    "\n",
    "from collections import deque\n",
    "\n",
    "\n",
    "class Solution:\n",
    "    \n",
    "    def islandsAndTreasure(self, grid: List[List[int]]) -> None:\n",
    "\n",
    "        rows, cols = len(grid), len(grid[0])\n",
    "        visited = set()\n",
    "        q = deque()\n",
    "\n",
    "        for r in range(rows):\n",
    "            for c in range(cols):\n",
    "                if grid[r][c] == 0:\n",
    "                    visited.add((r,c))\n",
    "                    q.append((r, c))\n",
    "\n",
    "\n",
    "        def add(r, c):\n",
    "\n",
    "            if r < 0 or r >= rows or c < 0 or c >= cols or (r,c) in visited or grid[r][c] == -1:\n",
    "                return\n",
    "            q.append((r, c))\n",
    "            visited.add((r, c))\n",
    "\n",
    "        \n",
    "\n",
    "        distance = 0\n",
    "        while q:\n",
    "            for i in range(len(q)):\n",
    "\n",
    "                (r, c) = q.popleft()\n",
    "                grid[r][c] = distance\n",
    "\n",
    "                add(r-1, c)\n",
    "                add(r+1, c)\n",
    "                add(r, c-1)\n",
    "                add(r, c+1)\n",
    "                \n",
    "            distance += 1\n",
    "        \n",
    "        return grid\n",
    "        \n",
    "\n",
    "        \n",
    "grid = [\n",
    "  [2147483647,-1,0,2147483647],\n",
    "  [2147483647,2147483647,2147483647,-1],\n",
    "  [2147483647,-1,2147483647,-1],\n",
    "  [0,-1,2147483647,2147483647]\n",
    "]        \n",
    "\n",
    "Solution().islandsAndTreasure(grid)"
   ]
  },
  {
   "cell_type": "code",
   "execution_count": 85,
   "id": "4bca50bb-1d48-4d6f-8907-4163e1b272d0",
   "metadata": {},
   "outputs": [
    {
     "data": {
      "text/plain": [
       "4"
      ]
     },
     "execution_count": 85,
     "metadata": {},
     "output_type": "execute_result"
    }
   ],
   "source": [
    "## Rotting Oranges\n",
    "import collections\n",
    "\n",
    "class Solution:\n",
    "    \n",
    "    def orangesRotting(self, grid: List[List[int]]) -> int:\n",
    "\n",
    "        q = collections.deque()\n",
    "        rows, cols = len(grid), len(grid[0])\n",
    "        fresh = 0\n",
    "        time = 0\n",
    "        \n",
    "        for r in range(rows):\n",
    "            for c in range(cols):\n",
    "                if grid[r][c] == 1:\n",
    "                    fresh += 1\n",
    "                if grid[r][c] == 2:\n",
    "                    q.append((r, c))\n",
    "\n",
    "\n",
    "        while q and fresh:\n",
    "\n",
    "            for i in range(len(q)):\n",
    "                r, c = q.popleft()\n",
    "\n",
    "                for dr, dc in [(-1, 0), (1,0), (0, -1), (0, 1)]:\n",
    "\n",
    "                    _r, _c = r+dr, c+dc\n",
    "                    if _r < 0 or _c < 0 or _r >= rows or _c >= cols or grid[_r][_c] != 1:\n",
    "                        continue\n",
    "\n",
    "                    q.append((_r, _c))\n",
    "                    grid[_r][_c] = 2\n",
    "                    fresh -= 1\n",
    "                    \n",
    "\n",
    "            time += 1\n",
    "\n",
    "        return time if fresh == 0 else -1\n",
    "\n",
    "            \n",
    "grid = [[1,1,0],[0,1,1],[0,1,2]]\n",
    "Solution().orangesRotting(grid)        "
   ]
  },
  {
   "cell_type": "code",
   "execution_count": 92,
   "id": "b59f8b2c-4eb8-4388-b6af-33286f566130",
   "metadata": {},
   "outputs": [
    {
     "data": {
      "text/plain": [
       "[(0, 2), (0, 4), (1, 0), (1, 1), (1, 2), (1, 3), (1, 4), (2, 0)]"
      ]
     },
     "execution_count": 92,
     "metadata": {},
     "output_type": "execute_result"
    }
   ],
   "source": [
    "\n",
    "# Heights needs to be lower than previous for water flow\n",
    "\n",
    "class Solution:\n",
    "    def pacificAtlantic(self, heights: List[List[int]]) -> List[List[int]]:\n",
    "\n",
    "        rows, cols = len(heights), len(heights[0])\n",
    "        pac, atl = set(), set()\n",
    "\n",
    "        def dfs(r, c, visit, prev_height):\n",
    "            if r < 0 or c < 0 or r >= rows or c >= cols or ((r, c) in visit) or (heights[r][c] < prev_height):\n",
    "                return\n",
    "                \n",
    "            visit.add((r, c))\n",
    "            nei = [(-1,0), (1,0), (0,-1), (0,1)]\n",
    "            for dr, dc in nei:\n",
    "                dfs(r+dr, c+dc, visit, heights[r][c])\n",
    "\n",
    "\n",
    "        for r in range(rows):\n",
    "            dfs(r, 0, pac, heights[r][0])\n",
    "            dfs(r, cols-1, atl, heights[0][cols-1])\n",
    "\n",
    "        for c in range(cols):\n",
    "            dfs(0, c, pac, heights[0][c])\n",
    "            dfs(rows-1, c, atl, heights[rows-1][c])\n",
    "\n",
    "        \n",
    "\n",
    "        res = []\n",
    "        for r in range(rows):\n",
    "            for c in range(cols):\n",
    "                if (r,c) in pac and (r,c) in atl:\n",
    "                    res.append((r,c))\n",
    "\n",
    "        return res\n",
    "                    \n",
    "heights = [\n",
    "  [4,2,7,3,4],\n",
    "  [7,4,6,4,7],\n",
    "  [6,3,5,3,6]\n",
    "]            \n",
    "Solution().pacificAtlantic(heights)"
   ]
  },
  {
   "cell_type": "code",
   "execution_count": 103,
   "id": "b93ea3d8-2030-4831-803c-a5f0135cc7ef",
   "metadata": {},
   "outputs": [
    {
     "name": "stdout",
     "output_type": "stream",
     "text": [
      "{(3, 1)}\n"
     ]
    },
    {
     "data": {
      "text/plain": [
       "[['X', 'X', 'X', 'X'],\n",
       " ['X', 'X', 'X', 'X'],\n",
       " ['X', 'X', 'X', 'X'],\n",
       " ['X', 'O', 'X', 'X']]"
      ]
     },
     "execution_count": 103,
     "metadata": {},
     "output_type": "execute_result"
    }
   ],
   "source": [
    "## Surrounded Regions\n",
    "\n",
    "class Solution:\n",
    "    \n",
    "    def solve(self, board: List[List[str]]) -> None:\n",
    "\n",
    "        rows, cols = len(board), len(board[0])\n",
    "\n",
    "        border_zeros = set()\n",
    "        for i in range(rows):\n",
    "            if board[i][0] == 'O':\n",
    "                border_zeros.add((i, 0))\n",
    "            if board[i][cols-1] == 'O':\n",
    "                border_zeros.add((i, cols-1))\n",
    "\n",
    "        for j in range(cols):\n",
    "            if board[0][j] == 'O':\n",
    "                border_zeros.add((0, j))\n",
    "            if board[rows-1][j] == 'O':\n",
    "                border_zeros.add((rows-1, j))\n",
    "\n",
    "\n",
    "        no_change = set()\n",
    "        \n",
    "        def dfs(r, c):\n",
    "\n",
    "            if r < 0 or r>= rows or c<0 or c>= cols or (r,c) in no_change or board[r][c] == 'X':\n",
    "                return \n",
    "            no_change.add((r,c))\n",
    "            nei = [(-1,0), (1,0), (0,-1), (0,1)]\n",
    "            for dr, dc in nei:\n",
    "                dfs(r+dr, c+dc)\n",
    "            return\n",
    "\n",
    "        \n",
    "\n",
    "        for r, c in border_zeros:\n",
    "            dfs(r, c)\n",
    "\n",
    "        print(border_zeros)\n",
    "        for r in range(rows):\n",
    "            for c in range(cols):\n",
    "                if board[r][c] == 'O' and (r,c) not in no_change and (r,c) not in border_zeros:\n",
    "                    board[r][c] = 'X'\n",
    "\n",
    "\n",
    "board = [[\"X\",\"O\",\"X\",\"X\"],\n",
    "         [\"O\",\"X\",\"O\",\"X\"],\n",
    "         [\"X\",\"O\",\"X\",\"O\"],\n",
    "         [\"O\",\"X\",\"O\",\"X\"]]\n",
    "Solution().solve(board)\n",
    "board"
   ]
  },
  {
   "cell_type": "code",
   "execution_count": 106,
   "id": "0340256b-352c-4c66-ba3a-461308ee57ef",
   "metadata": {},
   "outputs": [
    {
     "data": {
      "text/plain": [
       "False"
      ]
     },
     "execution_count": 106,
     "metadata": {},
     "output_type": "execute_result"
    }
   ],
   "source": [
    "## Course Schedule 1\n",
    "\n",
    "class Solution:\n",
    "\n",
    "    def canFinish(self, numCourses: int, prerequisites: List[List[int]]) -> bool:\n",
    "\n",
    "        prereq = {i:[] for i in range(numCourses)}\n",
    "        for i, j in prerequisites:\n",
    "            prereq[i].append(j)\n",
    "\n",
    "        visited = set()\n",
    "        def dfs(course):\n",
    "\n",
    "            if course in visited:\n",
    "                return False\n",
    "\n",
    "            if prereq[course] == []:\n",
    "                return True\n",
    "\n",
    "            visited.add(course)\n",
    "            reqs = prereq[course]\n",
    "            \n",
    "            for req in reqs:\n",
    "                if not dfs(req):\n",
    "                    return False\n",
    "                    \n",
    "            visited.remove(course)\n",
    "            prereq[course] = []\n",
    "            return True\n",
    "\n",
    "        for crs in range(numCourses):\n",
    "            if not dfs(crs):\n",
    "                return False\n",
    "\n",
    "        return True\n",
    "        \n",
    "numCourses = 2\n",
    "prerequisites = [[0,1],[1,0]]\n",
    "\n",
    "Solution().canFinish(numCourses, prerequisites)            "
   ]
  },
  {
   "cell_type": "code",
   "execution_count": 109,
   "id": "f7051665-592e-458c-bfdc-1d37878557ad",
   "metadata": {},
   "outputs": [
    {
     "data": {
      "text/plain": [
       "[]"
      ]
     },
     "execution_count": 109,
     "metadata": {},
     "output_type": "execute_result"
    }
   ],
   "source": [
    "## Course Schedule 2\n",
    "\n",
    "class Solution:\n",
    "    \n",
    "    def findOrder(self, numCourses: int, prerequisites: List[List[int]]) -> List[int]:\n",
    "\n",
    "        prereq = {i:[] for i in range(numCourses)}\n",
    "        for i, j in prerequisites:\n",
    "            prereq[i].append(j)\n",
    "\n",
    "        output = []\n",
    "        cycle = set()\n",
    "        \n",
    "\n",
    "        visited = set()\n",
    "        def dfs(course):\n",
    "\n",
    "            if course in cycle:\n",
    "                return False\n",
    "\n",
    "            if course in output:\n",
    "                return True\n",
    "\n",
    "            cycle.add(course)\n",
    "            reqs = prereq[course]\n",
    "            \n",
    "            for req in reqs:\n",
    "                if not dfs(req):\n",
    "                    return False\n",
    "                    \n",
    "            cycle.remove(course)\n",
    "            output.append(course)\n",
    "            return True\n",
    "\n",
    "        for crs in range(numCourses):\n",
    "            if not dfs(crs):\n",
    "                return []\n",
    "\n",
    "        return output\n",
    "\n",
    "numCourses = 3\n",
    "prerequisites = [[0,1],[1,2],[2,0]]\n",
    "Solution().findOrder(numCourses, prerequisites)"
   ]
  },
  {
   "cell_type": "code",
   "execution_count": 110,
   "id": "bb1adca2-1e52-4c2d-ad47-526932fad809",
   "metadata": {},
   "outputs": [],
   "source": [
    "class Solution:\n",
    "\n",
    "    def validTree(self, n: int, edges: List[List[int]]) -> bool:\n",
    "\n",
    "        dep = {i:[] for i in range(n)}\n",
    "        for i, j in edges:\n",
    "            dep[i].append(j)\n",
    "            dep[j].append(i)\n",
    "\n",
    "        visit = set()\n",
    "        def dfs(node, prev):\n",
    "\n",
    "            if node in visit:\n",
    "                return False\n",
    "                \n",
    "            visit.add(node)\n",
    "\n",
    "            for nei in dep[node]:\n",
    "                if nei != prev and not dfs(nei, node):\n",
    "                    return False\n",
    "            \n",
    "            return True\n",
    "\n",
    "        \n",
    "        return dfs(0, -1) and len(visit) == n"
   ]
  },
  {
   "cell_type": "code",
   "execution_count": 111,
   "id": "a03c24e1-ca8d-4a8f-9c14-2d1cf847b804",
   "metadata": {},
   "outputs": [
    {
     "data": {
      "text/plain": [
       "2"
      ]
     },
     "execution_count": 111,
     "metadata": {},
     "output_type": "execute_result"
    }
   ],
   "source": [
    "\n",
    "## Connected Components:\n",
    "\n",
    "\n",
    "class Solution:\n",
    "\n",
    "    def countComponents(self, n: int, edges: List[List[int]]) -> int:\n",
    "\n",
    "        if n == 0:\n",
    "            return 0\n",
    "        \n",
    "        adjList = {i: [] for i in range(n)}\n",
    "        for n1, n2 in edges:\n",
    "            adjList[n1].append(n2)\n",
    "            adjList[n2].append(n1)\n",
    "\n",
    "        visit = set()\n",
    "        def dfs(i):\n",
    "\n",
    "            if i in visit:\n",
    "                return\n",
    "            visit.add(i)\n",
    "            for j in adjList[i]:\n",
    "                dfs(j)\n",
    "        \n",
    "        components = 0\n",
    "        for i in range(n):\n",
    "            if i not in visit:\n",
    "                components += 1\n",
    "                dfs(i)\n",
    "                \n",
    "        return components\n",
    "\n",
    "\n",
    "Solution().countComponents(6, [[0,1],[0,2],[1,2],[3,4],[3,5]])\n"
   ]
  },
  {
   "cell_type": "code",
   "execution_count": 112,
   "id": "60fcce25-9066-4bc7-bde8-50a69e8e93eb",
   "metadata": {},
   "outputs": [
    {
     "data": {
      "text/plain": [
       "2"
      ]
     },
     "execution_count": 112,
     "metadata": {},
     "output_type": "execute_result"
    }
   ],
   "source": []
  },
  {
   "cell_type": "code",
   "execution_count": null,
   "id": "d8131ad9-1b17-467c-8fb2-9f0f9c8be23f",
   "metadata": {},
   "outputs": [],
   "source": []
  }
 ],
 "metadata": {
  "kernelspec": {
   "display_name": "Python 3 (ipykernel)",
   "language": "python",
   "name": "python3"
  },
  "language_info": {
   "codemirror_mode": {
    "name": "ipython",
    "version": 3
   },
   "file_extension": ".py",
   "mimetype": "text/x-python",
   "name": "python",
   "nbconvert_exporter": "python",
   "pygments_lexer": "ipython3",
   "version": "3.10.10"
  }
 },
 "nbformat": 4,
 "nbformat_minor": 5
}
