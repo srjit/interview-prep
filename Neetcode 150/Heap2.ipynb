{
 "cells": [
  {
   "cell_type": "code",
   "execution_count": 2,
   "id": "b2cc58d8-fccd-4cf2-a430-1ab861ddbf27",
   "metadata": {},
   "outputs": [],
   "source": [
    "## Kth largest element in the array\n",
    "\n",
    "\n",
    "    # constructor(int k, int[] nums) \n",
    "    # Initializes the object given an integer k and the stream of integers nums.\n",
    "\n",
    "    # int add(int val) Adds the integer val to the stream and returns the kth largest integer in the stream.\n",
    "\n",
    "import heapq\n",
    "from typing import List\n",
    "\n",
    "class KthLargest:\n",
    "\n",
    "    def __init__(self, k: int, nums: List[int]):\n",
    "        self.nums = nums\n",
    "        self.k = k\n",
    "        \n",
    "        # heapify and pop k elments\n",
    "        heapq.heapify(self.nums)\n",
    "        while len(nums) > k:\n",
    "            heapq.heappop(self.nums)\n",
    "\n",
    "    def add(self, val: int) -> int:\n",
    "\n",
    "        heapq.heappush(self.nums, val)\n",
    "        if len(self.nums) > self.k:\n",
    "            self.heappop(self.nums)\n",
    "            \n",
    "        return self.nums[0]"
   ]
  },
  {
   "cell_type": "code",
   "execution_count": 3,
   "id": "d1133e52-af27-4887-b472-d73c7dea5d3f",
   "metadata": {},
   "outputs": [],
   "source": [
    "class Solution:\n",
    "    def lastStoneWeight(self, stones: List[int]) -> int:\n",
    "        stones = [-1 * x for x in stones]\n",
    "        heapq.heapify(stones)\n",
    "\n",
    "        while len(stones) > 1:\n",
    "            op1 = heapq.heappop(stones)\n",
    "            op2 = heapq.heappop(stones)\n",
    "\n",
    "            # we the difference is zeoro, we dont need to heap push\n",
    "            if op2 > op1:\n",
    "                heapq.heappush(stones, op1 - op2)\n",
    "\n",
    "        stones.append(0)\n",
    "        return stones[0]      "
   ]
  },
  {
   "cell_type": "code",
   "execution_count": 8,
   "id": "c053e7e5-72ed-4c4b-91ff-2723909a216d",
   "metadata": {},
   "outputs": [
    {
     "data": {
      "text/plain": [
       "[[0, 2], [2, 0]]"
      ]
     },
     "execution_count": 8,
     "metadata": {},
     "output_type": "execute_result"
    }
   ],
   "source": [
    "## K Closest Points\n",
    "\n",
    "import math\n",
    "import heapq\n",
    "\n",
    "class Solution:\n",
    "\n",
    "    def kClosest(self, points: List[List[int]], k: int) -> List[List[int]]:\n",
    "\n",
    "        def distancefromorigin(point):\n",
    "            \n",
    "            x,y = point[0], point[1]\n",
    "            return x**2 + y**2\n",
    "\n",
    "        distances = [(distancefromorigin(point), point) for point in points]\n",
    "        heapq.heapify(distances)\n",
    "\n",
    "        res = []\n",
    "        while k>0:\n",
    "            _, point = heapq.heappop(distances)\n",
    "            res.append(point)\n",
    "            k-=1\n",
    "\n",
    "        return res\n",
    "\n",
    "points = [[0,2],[2,0],[2,2]]\n",
    "Solution().kClosest(points, 2)        \n"
   ]
  },
  {
   "cell_type": "code",
   "execution_count": null,
   "id": "e0d0c191-084e-4470-bdce-c6ca31d5aafa",
   "metadata": {},
   "outputs": [],
   "source": []
  }
 ],
 "metadata": {
  "kernelspec": {
   "display_name": "transformers",
   "language": "python",
   "name": "transformers"
  },
  "language_info": {
   "codemirror_mode": {
    "name": "ipython",
    "version": 3
   },
   "file_extension": ".py",
   "mimetype": "text/x-python",
   "name": "python",
   "nbconvert_exporter": "python",
   "pygments_lexer": "ipython3",
   "version": "3.9.9"
  }
 },
 "nbformat": 4,
 "nbformat_minor": 5
}
