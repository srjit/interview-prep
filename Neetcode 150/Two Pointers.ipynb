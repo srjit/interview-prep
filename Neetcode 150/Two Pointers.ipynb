{
 "cells": [
  {
   "cell_type": "code",
   "execution_count": 1,
   "id": "68fe2bb0-f64d-47d8-8e64-2d506b30210e",
   "metadata": {},
   "outputs": [],
   "source": [
    "import string"
   ]
  },
  {
   "cell_type": "code",
   "execution_count": 10,
   "id": "9e3f284a-18bd-4d9f-8592-fd9e79839d3b",
   "metadata": {},
   "outputs": [
    {
     "data": {
      "text/plain": [
       "['Formatter',\n",
       " 'Template',\n",
       " '_ChainMap',\n",
       " '__all__',\n",
       " '__builtins__',\n",
       " '__cached__',\n",
       " '__doc__',\n",
       " '__file__',\n",
       " '__loader__',\n",
       " '__name__',\n",
       " '__package__',\n",
       " '__spec__',\n",
       " '_re',\n",
       " '_sentinel_dict',\n",
       " '_string',\n",
       " 'ascii_letters',\n",
       " 'ascii_lowercase',\n",
       " 'ascii_uppercase',\n",
       " 'capwords',\n",
       " 'digits',\n",
       " 'hexdigits',\n",
       " 'octdigits',\n",
       " 'printable',\n",
       " 'punctuation',\n",
       " 'whitespace']"
      ]
     },
     "execution_count": 10,
     "metadata": {},
     "output_type": "execute_result"
    }
   ],
   "source": [
    "dir(string)"
   ]
  },
  {
   "cell_type": "code",
   "execution_count": 15,
   "id": "6a7e6a2f-1e2c-4db0-840d-1cfb4af99d51",
   "metadata": {},
   "outputs": [
    {
     "data": {
      "text/plain": [
       "'abcdefghijklmnopqrstuvwxyz0123456789'"
      ]
     },
     "execution_count": 15,
     "metadata": {},
     "output_type": "execute_result"
    }
   ],
   "source": [
    "string.ascii_lowercase + string.digits"
   ]
  },
  {
   "cell_type": "code",
   "execution_count": 16,
   "id": "973a1c77-2a64-40ef-b857-ec9588e1c96f",
   "metadata": {},
   "outputs": [
    {
     "data": {
      "text/plain": [
       "True"
      ]
     },
     "execution_count": 16,
     "metadata": {},
     "output_type": "execute_result"
    }
   ],
   "source": [
    "class Solution:\n",
    "    def isPalindrome(self, s: str) -> bool:\n",
    "\n",
    "        s = s.strip().lower()\n",
    "        s = \"\".join([c for c in s if c in string.ascii_lowercase + string.digits])\n",
    "        \n",
    "\n",
    "        if not s:\n",
    "            return True\n",
    "\n",
    "        mid = len(s) // 2 + 1\n",
    "        for i in range(mid):\n",
    "\n",
    "            if s[i] != s[len(s)-1-i]:\n",
    "                return False\n",
    "        return True\n",
    "\n",
    "Solution().isPalindrome(\"Was it a car or a cat I saw?\")"
   ]
  },
  {
   "cell_type": "markdown",
   "id": "27efb3dd-5662-4fdd-af7e-2ecfa5ff7532",
   "metadata": {},
   "source": [
    "## Two Sum 2"
   ]
  },
  {
   "cell_type": "code",
   "execution_count": 20,
   "id": "8945d010-2413-4736-aaf7-9763db4e7726",
   "metadata": {},
   "outputs": [
    {
     "name": "stdout",
     "output_type": "stream",
     "text": [
      "0, 3, (1, 4)\n",
      "0, 2, (1, 3)\n",
      "0, 1, (1, 2)\n"
     ]
    },
    {
     "data": {
      "text/plain": [
       "[0, 1]"
      ]
     },
     "execution_count": 20,
     "metadata": {},
     "output_type": "execute_result"
    }
   ],
   "source": [
    "from typing import List\n",
    "\n",
    "class Solution:\n",
    "    def twoSum(self, numbers: List[int], target: int) -> List[int]:\n",
    "\n",
    "        i, j = 0, len(numbers) - 1\n",
    "        \n",
    "        while i < j:\n",
    "\n",
    "            print(f\"{i}, {j}, {numbers[i], numbers[j]}\")\n",
    "            current_sum = numbers[i] + numbers[j]\n",
    "\n",
    "            if current_sum == target:\n",
    "                return [i+1, j+1]\n",
    "            elif current_sum < target:\n",
    "                i+=1\n",
    "            else:\n",
    "                j-=1\n",
    "                \n",
    "        return [-1, -1]\n",
    "\n",
    "Solution().twoSum([1,2,3,4], 3)"
   ]
  },
  {
   "cell_type": "markdown",
   "id": "6ab35618-8480-4329-a6bb-7d3640377f0a",
   "metadata": {},
   "source": [
    "### Three Sum"
   ]
  },
  {
   "cell_type": "code",
   "execution_count": 21,
   "id": "d7436302-b991-453f-ac98-94ed358608d2",
   "metadata": {},
   "outputs": [],
   "source": [
    "from collections import defaultdict"
   ]
  },
  {
   "cell_type": "code",
   "execution_count": 36,
   "id": "5818eb72-9a9b-4c2c-982c-1612d10fbbe3",
   "metadata": {},
   "outputs": [
    {
     "name": "stdout",
     "output_type": "stream",
     "text": [
      "[(-1, 0, 1), (-1, -1, 2)]\n",
      "[]\n"
     ]
    }
   ],
   "source": [
    "class Solution:\n",
    "\n",
    "    def threeSum(self, nums: List[int]) -> List[List[int]]:\n",
    "\n",
    "        pos, neg = defaultdict(int), defaultdict(int)\n",
    "        zero_count = 0\n",
    "\n",
    "        res = []\n",
    "        \n",
    "        for num in nums:\n",
    "            if num == 0:\n",
    "                zero_count += 1\n",
    "            elif num < 0:\n",
    "                neg[num] += 1\n",
    "            else:\n",
    "                pos[num] += 1\n",
    "\n",
    "        if zero_count:\n",
    "            for num in pos:\n",
    "                if -num in neg:\n",
    "                    res.append((-num, 0, num))\n",
    "            if zero_count > 2:\n",
    "                res.append((0,0,0))\n",
    "\n",
    "\n",
    "        for dict1, dict2 in zip((pos, neg), (neg, pos)):\n",
    "\n",
    "            for i, (d1_val1, d1_cnt) in enumerate(dict1.items()):\n",
    "                for d1_val2, d1_cnt2 in list(dict1.items())[i:]:\n",
    "                    if ((d1_val1 != d1_val2) or ((d1_val1 == d1_val2) and (d1_cnt > 1))) and (-(d1_val1 + d1_val2) in dict2):\n",
    "                            res.append((d1_val1, d1_val2, -(d1_val1 + d1_val2)))\n",
    "        \n",
    "        return res\n",
    "                \n",
    "\n",
    "print(Solution().threeSum([-1,0,1,2,-1,-4]))\n",
    "print(Solution().threeSum([0,1,1]))"
   ]
  },
  {
   "cell_type": "code",
   "execution_count": 38,
   "id": "53de1ac7-1d81-42b3-a500-a6b793f020d1",
   "metadata": {},
   "outputs": [
    {
     "data": {
      "text/plain": [
       "36"
      ]
     },
     "execution_count": 38,
     "metadata": {},
     "output_type": "execute_result"
    }
   ],
   "source": [
    "## \tContainer With Most Water \n",
    "\n",
    "class Solution:\n",
    "\n",
    "    def maxArea(self, height: List[int]) -> int:\n",
    "\n",
    "        i, j = 0, len(height)-1\n",
    "        maxArea = 0\n",
    "\n",
    "        while i < j:\n",
    "            area = min(height[j], height[i]) * (j-i)\n",
    "            maxArea = max(maxArea, area)\n",
    "\n",
    "            if height[i] < height[j]:\n",
    "                i += 1\n",
    "            else:\n",
    "                j -= 1\n",
    "\n",
    "        return maxArea\n",
    "\n",
    "Solution().maxArea([1,7,2,5,4,7,3,6])"
   ]
  },
  {
   "cell_type": "code",
   "execution_count": 39,
   "id": "e38c6caa-d22c-4c5f-bdc2-86b6c92da084",
   "metadata": {},
   "outputs": [],
   "source": [
    "### Trapping Rain Water"
   ]
  },
  {
   "cell_type": "code",
   "execution_count": 40,
   "id": "dcf5d1c2-e677-4a6e-8b6f-96b4245fa107",
   "metadata": {},
   "outputs": [],
   "source": [
    "class Solution:\n",
    "    \n",
    "    def trap(self, height: List[int]) -> int:\n",
    "\n",
    "        if not height:\n",
    "            return 0\n",
    "\n",
    "        l, r = 0, len(height)-1\n",
    "        lmax, rmax = height[l], height[r]\n",
    "        res = 0\n",
    "        \n",
    "        while l < r:\n",
    "\n",
    "            if lmax < rmax:\n",
    "\n",
    "                l+=1\n",
    "                lmax = max(lmax, height[l]) \n",
    "                res +=  lmax - height[l]\n",
    "            else:\n",
    "                r -= 1\n",
    "                rmax = max(rmax, height[r])\n",
    "                res += rmax - height[r]\n",
    "\n",
    "        return res"
   ]
  },
  {
   "cell_type": "code",
   "execution_count": 41,
   "id": "0f1e9dd3-9610-47ea-af0e-a48b6ac6ddef",
   "metadata": {},
   "outputs": [
    {
     "data": {
      "text/plain": [
       "6"
      ]
     },
     "execution_count": 41,
     "metadata": {},
     "output_type": "execute_result"
    }
   ],
   "source": [
    "Solution().trap([0,1,0,2,1,0,1,3,2,1,2,1])"
   ]
  },
  {
   "cell_type": "code",
   "execution_count": 1,
   "id": "c583e77b-72b1-4880-847a-fc6e4337e33e",
   "metadata": {},
   "outputs": [],
   "source": [
    "### \n",
    "\n",
    "class Solution:\n",
    "    def minWindow(self, s: str, t: str) -> str:\n",
    "\n",
    "        if t == \"\": return \"\"\n",
    "\n",
    "        countT, window = {}, {}\n",
    "        \n",
    "        # get substring counts\n",
    "        for c in t:\n",
    "            countT[c] = countT.get(c, 0)\n",
    "\n",
    "        # do we have counts of all the keys that we need\n",
    "        have, need = 0, len(countT)\n",
    "        res, reslen = [-1, -1], float('inf')\n",
    "        l = 0\n",
    "        \n",
    "        # moving through the window\n",
    "        for r in range(s):\n",
    "\n",
    "            \n",
    "            c = s[r]\n",
    "            windows[c] = 1 + window.get(c, 0)\n",
    "\n",
    "            # found a letter that we're looking for\n",
    "            if c in countT and window[c] == countT[c]:\n",
    "                have += 1\n",
    "\n",
    "\n",
    "            while have == need:\n",
    "\n",
    "                # update our result\n",
    "                if (r-l+1) < reslen:\n",
    "                    res = [l, r]\n",
    "                    reslen  = r - l + 1\n",
    "\n",
    "                # pop the letter from the left\n",
    "                window[s[l]] -= 1\n",
    "\n",
    "                if s[l] in countT and window[s[l]] < countT[s[l]]:\n",
    "                    have -= 1\n",
    "                l += 1\n",
    "\n",
    "        l, r = res\n",
    "        return s[l: r+1] if resLen != float('inf') else \"\""
   ]
  },
  {
   "cell_type": "code",
   "execution_count": 5,
   "id": "235bdf6d-9739-4f5f-98eb-ad3684ef61fa",
   "metadata": {},
   "outputs": [
    {
     "data": {
      "text/plain": [
       "2"
      ]
     },
     "execution_count": 5,
     "metadata": {},
     "output_type": "execute_result"
    }
   ],
   "source": [
    "## 209. Minimum Size Subarray Sum\n",
    "from typing import List\n",
    "\n",
    "class Solution:\n",
    "\n",
    "    def minSubArrayLen(self, target: int, nums: List[int]) -> int:\n",
    "\n",
    "        minlen = float('inf')\n",
    "        l = 0\n",
    "        window_sum = 0\n",
    "        for r in range(len(nums)):\n",
    "            cur = nums[r]\n",
    "            window_sum += cur\n",
    "\n",
    "            while window_sum >= target:\n",
    "                minlen = min(minlen, r-l+1)\n",
    "                window_sum -= nums[l]\n",
    "                l += 1\n",
    "\n",
    "        return minlen\n",
    "\n",
    "Solution().minSubArrayLen(7,  [2,3,1,2,4,3])\n",
    "                \n",
    "        "
   ]
  },
  {
   "cell_type": "code",
   "execution_count": null,
   "id": "2eff270a-9667-4dfa-b48d-3963b8e429a7",
   "metadata": {},
   "outputs": [],
   "source": []
  }
 ],
 "metadata": {
  "kernelspec": {
   "display_name": "Python 3 (ipykernel)",
   "language": "python",
   "name": "python3"
  },
  "language_info": {
   "codemirror_mode": {
    "name": "ipython",
    "version": 3
   },
   "file_extension": ".py",
   "mimetype": "text/x-python",
   "name": "python",
   "nbconvert_exporter": "python",
   "pygments_lexer": "ipython3",
   "version": "3.10.10"
  }
 },
 "nbformat": 4,
 "nbformat_minor": 5
}
