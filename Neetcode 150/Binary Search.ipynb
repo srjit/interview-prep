{
 "cells": [
  {
   "cell_type": "code",
   "execution_count": 5,
   "id": "5554238d-8f9a-412e-8099-d413c8d4697a",
   "metadata": {},
   "outputs": [
    {
     "data": {
      "text/plain": [
       "3"
      ]
     },
     "execution_count": 5,
     "metadata": {},
     "output_type": "execute_result"
    }
   ],
   "source": [
    "from typing import List\n",
    "\n",
    "class Solution:\n",
    "    def search(self, nums: List[int], target: int) -> int:\n",
    "\n",
    "\n",
    "        l, r = 0, len(nums)-1\n",
    "        \n",
    "        while l <= r:\n",
    "            mid = l+(r-l)//2\n",
    "            \n",
    "            if nums[mid] == target:\n",
    "                return mid\n",
    "            elif nums[mid] > target:\n",
    "                r = mid - 1\n",
    "            else:\n",
    "                l = mid + 1\n",
    "                \n",
    "        return -1\n",
    "\n",
    "\n",
    "Solution().search([-1,0,2,4,6,8], 4)"
   ]
  },
  {
   "cell_type": "code",
   "execution_count": 8,
   "id": "54047ac6-1991-4645-b812-18d2d0dcdaf5",
   "metadata": {},
   "outputs": [],
   "source": [
    "## Search 2D Matrix"
   ]
  },
  {
   "cell_type": "code",
   "execution_count": 9,
   "id": "95d5fc55-3a4c-45c5-8251-5d887c91e3a8",
   "metadata": {},
   "outputs": [
    {
     "data": {
      "text/plain": [
       "False"
      ]
     },
     "execution_count": 9,
     "metadata": {},
     "output_type": "execute_result"
    }
   ],
   "source": [
    "class Solution:\n",
    "    def searchMatrix(self, matrix: List[List[int]], target: int) -> bool:\n",
    "\n",
    "        ROWS, COLS = len(matrix), len(matrix[0])\n",
    "\n",
    "        for _r in range(ROWS):\n",
    "            if matrix[_r][0] <= target and target <= matrix[_r][COLS-1]:\n",
    "                \n",
    "                l, r = 0, COLS-1\n",
    "                while l <= r:\n",
    "                    m = l+(r-l)//2\n",
    "\n",
    "                    if matrix[_r][m] == target:\n",
    "                        return True\n",
    "                    elif matrix[_r][m] > target:\n",
    "                        r = m - 1\n",
    "                    else:\n",
    "                        l = m + 1\n",
    "        return False\n",
    "\n",
    "\n",
    "matrix = [[1,2,4,8],[10,11,12,13],[14,20,30,40]]\n",
    "target = 15\n",
    "Solution().searchMatrix(matrix, target)"
   ]
  },
  {
   "cell_type": "code",
   "execution_count": 10,
   "id": "9d01a6f7-99ff-4c61-a2b3-ac13f676f16b",
   "metadata": {},
   "outputs": [
    {
     "data": {
      "text/plain": [
       "1"
      ]
     },
     "execution_count": 10,
     "metadata": {},
     "output_type": "execute_result"
    }
   ],
   "source": [
    "## Find Minimum in Rotated Sorted Array\n",
    "\n",
    "class Solution:\n",
    "    \n",
    "    def findMin(self, nums: List[int]) -> int:\n",
    "\n",
    "        l, r = 0, len(nums)-1\n",
    "\n",
    "        while l < r:\n",
    "            m = l + (r-l)//2\n",
    "\n",
    "            if nums[m] <= nums[r]:\n",
    "\n",
    "                r = m\n",
    "\n",
    "            else:\n",
    "\n",
    "                l = m+1\n",
    "        \n",
    "        return nums[l]\n",
    "                    \n",
    "            \n",
    "Solution().findMin([3,4,5,6,1,2])       "
   ]
  },
  {
   "cell_type": "code",
   "execution_count": 13,
   "id": "ba05847e-5df9-4421-83a8-cef9959f8d35",
   "metadata": {},
   "outputs": [
    {
     "data": {
      "text/plain": [
       "4"
      ]
     },
     "execution_count": 13,
     "metadata": {},
     "output_type": "execute_result"
    }
   ],
   "source": [
    "## Find Target in Rotated Sorted Array\n",
    "\n",
    "class Solution:\n",
    "    def search(self, nums: List[int], target: int) -> int:\n",
    "\n",
    "        l, r = 0, len(nums)-1\n",
    "        while l <= r:\n",
    "            m = l + (r-l)//2\n",
    "\n",
    "            if nums[m] == target:\n",
    "                return m\n",
    "\n",
    "            elif nums[m] <= nums[r]:\n",
    "                if nums[m] < target <= nums[r]:\n",
    "                    l = m+1\n",
    "                else:\n",
    "                    r = m-1\n",
    "            else:\n",
    "                if nums[l] <= target < nums[m]:\n",
    "                    r = m-1\n",
    "                else:\n",
    "                    l = m+1\n",
    "\n",
    "        return -1\n",
    "\n",
    "Solution().search([4,5,6,7,0,1,2], 0)"
   ]
  },
  {
   "cell_type": "code",
   "execution_count": 5,
   "id": "0480f412-b76f-4f4f-b9b7-eef46698cb6c",
   "metadata": {},
   "outputs": [
    {
     "data": {
      "text/plain": [
       "30"
      ]
     },
     "execution_count": 5,
     "metadata": {},
     "output_type": "execute_result"
    }
   ],
   "source": [
    "## Koko eating bananas\n",
    "import math\n",
    "\n",
    "class Solution:\n",
    "    def minEatingSpeed(self, piles, h: int) -> int:\n",
    "\n",
    "        def feasible(speed):\n",
    "            return sum([math.ceil(pile/speed) for pile in piles]) <= h\n",
    "\n",
    "        left, right = 1, max(piles)\n",
    "        while left < right:\n",
    "\n",
    "            mid = left + ((right - left)//2)\n",
    "            if feasible(mid):\n",
    "                right = mid\n",
    "            else:\n",
    "                left = mid+1\n",
    "        return left\n",
    "\n",
    "Solution().minEatingSpeed([30,11,23,4,20], 5)"
   ]
  },
  {
   "cell_type": "code",
   "execution_count": 26,
   "id": "cbf9d5ce-9a14-494c-905b-3c88f55baa41",
   "metadata": {},
   "outputs": [
    {
     "data": {
      "text/plain": [
       "['val', 10]"
      ]
     },
     "execution_count": 26,
     "metadata": {},
     "output_type": "execute_result"
    }
   ],
   "source": [
    "## Time Based Key Value Store\n",
    "\n",
    "from collections import defaultdict\n",
    "\n",
    "class TimeMap:\n",
    "\n",
    "    def __init__(self):\n",
    "        self.store = defaultdict(list)\n",
    "        \n",
    "\n",
    "    def set(self, key: str, value: str, timestamp: int) -> None:\n",
    "        self.store[key].append([value, timestamp])\n",
    "\n",
    "    def get(self, key: str, timestamp: int) -> str:\n",
    "        if key not in self.store:\n",
    "            return \"\"\n",
    "\n",
    "        vals = self.store[key]\n",
    "\n",
    "        l, r = 0, len(vals)\n",
    "        while l < r:\n",
    "            mid = l + (r-l)//2\n",
    "            ts_mid = vals[mid][1]\n",
    "            if ts_mid <= timestamp:\n",
    "                l = mid + 1\n",
    "            else:\n",
    "                r = mid - 1\n",
    "\n",
    "        return vals[l-1]\n",
    "\n",
    "\n",
    "\n",
    "tm = TimeMap()\n",
    "tm.set(\"k1\", \"val\", 10)  \n",
    "tm.get(\"k1\", 1)\n"
   ]
  },
  {
   "cell_type": "code",
   "execution_count": null,
   "id": "51720a7c-98ae-457f-9859-795f47912451",
   "metadata": {},
   "outputs": [],
   "source": []
  }
 ],
 "metadata": {
  "kernelspec": {
   "display_name": "Python 3 (ipykernel)",
   "language": "python",
   "name": "python3"
  },
  "language_info": {
   "codemirror_mode": {
    "name": "ipython",
    "version": 3
   },
   "file_extension": ".py",
   "mimetype": "text/x-python",
   "name": "python",
   "nbconvert_exporter": "python",
   "pygments_lexer": "ipython3",
   "version": "3.10.10"
  }
 },
 "nbformat": 4,
 "nbformat_minor": 5
}
