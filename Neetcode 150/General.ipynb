{
 "cells": [
  {
   "cell_type": "code",
   "execution_count": 3,
   "id": "bdc6b862-85c1-4678-853b-c498ff27323c",
   "metadata": {},
   "outputs": [
    {
     "data": {
      "text/plain": [
       "9"
      ]
     },
     "execution_count": 3,
     "metadata": {},
     "output_type": "execute_result"
    }
   ],
   "source": [
    "## Trapping Rain Water\n",
    "\n",
    "## We need to take max height on left, max height on right and then minimum of those \n",
    "## (water will spill to the lower side)\n",
    "## that - height[i]\n",
    "\n",
    "\n",
    "## O(1) solution\n",
    "## 1. Set pointers to 0 and end of the list\n",
    "## 2. Move the minimum of either of the ends inside since water wont spill out at the other end\n",
    "##      because the end that we move is the bottle neck \n",
    "## 3. \n",
    "\n",
    "\n",
    "class Solution:\n",
    "    def trap(self, height) -> int:\n",
    "\n",
    "\n",
    "        if not height:\n",
    "            return 0\n",
    "\n",
    "        l, r = 0, len(height)-1\n",
    "        lmax, rmax = height[l], height[r]\n",
    "\n",
    "        res = 0\n",
    "\n",
    "        while l < r:\n",
    "            # if height at left < height at right\n",
    "            if lmax < rmax:\n",
    "                l+=1\n",
    "                lmax = max(lmax, height[l])\n",
    "                res += (lmax-height[l])\n",
    "            else:\n",
    "                r-=1\n",
    "                rmax = max(rmax, height[r])\n",
    "                res += (rmax-height[r])\n",
    "        return res\n",
    "\n",
    "\n",
    "Solution().trap([0,2,0,3,1,0,1,3,2,1])"
   ]
  },
  {
   "cell_type": "code",
   "execution_count": 6,
   "id": "06064ffc-a768-481a-b508-7e76894a30c4",
   "metadata": {},
   "outputs": [
    {
     "data": {
      "text/plain": [
       "1"
      ]
     },
     "execution_count": 6,
     "metadata": {},
     "output_type": "execute_result"
    }
   ],
   "source": [
    "## Longest substring without duplicates\n",
    "\n",
    "class Solution:\n",
    "    \n",
    "    def lengthOfLongestSubstring(self, s: str) -> int:\n",
    "\n",
    "        visit = set()\n",
    "        maxl = 0\n",
    "\n",
    "        i = 0\n",
    "        cur = 0\n",
    "        while i < len(s):\n",
    "\n",
    "            while s[i] in visit:\n",
    "                visit.remove(s[i])\n",
    "                cur -= 1\n",
    "            \n",
    "            visit.add(s[i])\n",
    "            cur+=1\n",
    "            maxl = max(maxl, cur)\n",
    "            i += 1\n",
    "        return maxl\n",
    "                \n",
    "            \n",
    "Solution().lengthOfLongestSubstring(\"xxxx\")"
   ]
  },
  {
   "cell_type": "code",
   "execution_count": 13,
   "id": "73a0a075-6bb9-42c5-bcbc-3dfdbf9e4929",
   "metadata": {},
   "outputs": [
    {
     "data": {
      "text/plain": [
       "[(-1, 0, 1), (2, -1, -1)]"
      ]
     },
     "execution_count": 13,
     "metadata": {},
     "output_type": "execute_result"
    }
   ],
   "source": [
    "### Three Sum\n",
    "\n",
    "from collections import defaultdict\n",
    "\n",
    "class Solution:\n",
    "\n",
    "    def threeSum(self, nums):\n",
    "\n",
    "        pos, neg = defaultdict(int), defaultdict(int)\n",
    "        zero_count = 0\n",
    "        res = []\n",
    "\n",
    "        for num in nums:\n",
    "            if num > 0:\n",
    "                pos[num] += 1\n",
    "            elif num < 0:\n",
    "                neg[num] += 1\n",
    "            else:\n",
    "                zero_count += 1\n",
    "\n",
    "        if zero_count:\n",
    "            for num in pos:\n",
    "                if -num in neg:\n",
    "                    res.append((-num, 0, num))\n",
    "        \n",
    "        if zero_count > 2:\n",
    "            res.append((0,0,0))\n",
    "\n",
    "\n",
    "        for dict1, dict2 in [(pos, neg), (neg, pos)]:\n",
    "            \n",
    "            for i, (d1_k1, d1_v1) in enumerate(dict1.items()):\n",
    "                for d1_k2, d1_v2 in list(dict1.items())[i:]:\n",
    "                    if (d1_k1 != d1_k2) or ((d1_k1 == d1_k2) and (d1_v1 > 1)):\n",
    "                        if -(d1_k1 + d1_k2) in dict2:\n",
    "                            res.append((-(d1_k1 + d1_k2), d1_k1, d1_k2))\n",
    "\n",
    "        return res\n",
    "                            \n",
    "                    \n",
    "                \n",
    "Solution().threeSum([-1,0,1,2,-1,-4])            "
   ]
  },
  {
   "cell_type": "code",
   "execution_count": 21,
   "id": "0fde2e90-5b22-4dca-8d9a-acbc14c70015",
   "metadata": {},
   "outputs": [
    {
     "name": "stdout",
     "output_type": "stream",
     "text": [
      "4#neet4#code4#love3#you\n"
     ]
    },
    {
     "data": {
      "text/plain": [
       "['neet', 'code', 'love', 'you']"
      ]
     },
     "execution_count": 21,
     "metadata": {},
     "output_type": "execute_result"
    }
   ],
   "source": [
    "## Encode and Decode String\n",
    "from typing import List\n",
    "\n",
    "class Solution:\n",
    "\n",
    "\n",
    "    def encode(self, strs: List[str]) -> str:\n",
    "        return \"\".join([str(len(s)) + \"#\" + s for s in strs])\n",
    "        \n",
    "\n",
    "    def decode(self, s: str) -> List[str]:\n",
    "\n",
    "        res = []\n",
    "        i = 0\n",
    "        while i < len(s):\n",
    "            strlen = \"\"\n",
    "            while s[i] != '#':\n",
    "                strlen += s[i]\n",
    "                i+=1\n",
    "\n",
    "            strlen = int(strlen)\n",
    "            res.append(s[i+1:i+strlen+1])\n",
    "            i = i+strlen+1\n",
    "        return res\n",
    "            \n",
    "\n",
    "s = [\"neet\",\"code\",\"love\",\"you\"]\n",
    "op = Solution().encode(s)\n",
    "print(op)\n",
    "Solution().decode(op)"
   ]
  },
  {
   "cell_type": "code",
   "execution_count": 25,
   "id": "55a5acd3-f1ea-4808-864a-5c61df729fb7",
   "metadata": {},
   "outputs": [
    {
     "data": {
      "text/plain": [
       "4"
      ]
     },
     "execution_count": 25,
     "metadata": {},
     "output_type": "execute_result"
    }
   ],
   "source": [
    "## Longest Consecutive Sequence\n",
    "\n",
    "class Solution:\n",
    "    \n",
    "    def longestConsecutive(self, nums: List[int]) -> int:\n",
    "\n",
    "        integers = set(nums)\n",
    "        seen = set()\n",
    "        maxlen = 0\n",
    "        \n",
    "        for i in integers:\n",
    "            if i not in seen and i-1 not in integers:\n",
    "                current = 1\n",
    "                seen.add(i)\n",
    "                while i+current in integers:\n",
    "                    current+=1\n",
    "                    seen.add(i+current)\n",
    "                    \n",
    "                    \n",
    "            \n",
    "            maxlen = max(current, maxlen)\n",
    "        return maxlen\n",
    "                    \n",
    "Solution().longestConsecutive([2,20,4,10,3,4,5])                "
   ]
  },
  {
   "cell_type": "code",
   "execution_count": 29,
   "id": "d77e3ceb-f705-4d05-a510-db7ffdaa5d15",
   "metadata": {},
   "outputs": [
    {
     "data": {
      "text/plain": [
       "4"
      ]
     },
     "execution_count": 29,
     "metadata": {},
     "output_type": "execute_result"
    }
   ],
   "source": [
    "## Longest repeating character replacement\n",
    "\n",
    "class Solution:\n",
    "    \n",
    "    def characterReplacement(self, s: str, k: int) -> int:\n",
    "\n",
    "        l = 0\n",
    "        maxl = 0\n",
    "        counts = {}\n",
    "        \n",
    "        for r in range(len(s)):\n",
    "\n",
    "            counts[s[r]] = 1 + counts.get(s[r], 0)\n",
    "            max_freq = max(counts.values())\n",
    "            if (r-l+1) - max_freq > k:\n",
    "                counts[s[l]] -= 1\n",
    "                l+=1    \n",
    "            maxl = max(maxl, sum(counts.values()))\n",
    "        return maxl\n",
    "            \n",
    "Solution().characterReplacement(\"XYYX\", k=2)"
   ]
  },
  {
   "cell_type": "code",
   "execution_count": 35,
   "id": "1f8f1aa2-356e-415d-8dbb-b4ea6d40bdc3",
   "metadata": {},
   "outputs": [
    {
     "data": {
      "text/plain": [
       "[48, 24, 12, 8]"
      ]
     },
     "execution_count": 35,
     "metadata": {},
     "output_type": "execute_result"
    }
   ],
   "source": [
    "class Solution:\n",
    "\n",
    "    def productExceptSelf(self, nums: List[int]) -> List[int]:\n",
    "\n",
    "        prefix, suffix = [1], [1]\n",
    "        res = []\n",
    "\n",
    "        for i in range(1, len(nums)):\n",
    "            prefix.append(prefix[-1]*nums[i-1])\n",
    "            \n",
    "        for i in range(len(nums)-2, -1, -1):\n",
    "            suffix.append(suffix[-1]*nums[i+1])\n",
    "\n",
    "        for i in range(len(nums)):\n",
    "            res.append(prefix[i] * suffix[len(nums)-i-1])\n",
    "\n",
    "        return res\n",
    " \n",
    "            \n",
    "Solution().productExceptSelf([1,2,4,6])"
   ]
  },
  {
   "cell_type": "code",
   "execution_count": 36,
   "id": "bb4c8270-deb1-462d-81a5-3b410977f174",
   "metadata": {},
   "outputs": [
    {
     "data": {
      "text/plain": [
       "['((()))', '(()())', '(())()', '()(())', '()()()']"
      ]
     },
     "execution_count": 36,
     "metadata": {},
     "output_type": "execute_result"
    }
   ],
   "source": [
    "## Generate Paranthesis\n",
    "\n",
    "class Solution:\n",
    "\n",
    "    def generateParenthesis(self, n: int) -> List[str]:\n",
    "\n",
    "        stack = []\n",
    "        result = []\n",
    "\n",
    "        def backtrack(open_count, closed_count):\n",
    "\n",
    "            if open_count == closed_count == n:\n",
    "                result.append(\"\".join(stack.copy()))\n",
    "                return\n",
    "\n",
    "            if open_count < n:\n",
    "                stack.append(\"(\")\n",
    "                backtrack(1+open_count, closed_count)\n",
    "                stack.pop()\n",
    "\n",
    "            if closed_count < open_count:\n",
    "                stack.append(\")\")\n",
    "                backtrack(open_count, 1+closed_count)\n",
    "                stack.pop()\n",
    "\n",
    "        backtrack(0,0)\n",
    "        return result\n",
    "\n",
    "Solution().generateParenthesis(3)"
   ]
  },
  {
   "cell_type": "code",
   "execution_count": null,
   "id": "bde16535-2b6f-4289-b44f-530fcb9ea06c",
   "metadata": {},
   "outputs": [],
   "source": [
    "### LRU Cache\n",
    "\n",
    "class LRUCache:\n",
    "\n",
    "    def __init__(self, capacity: int):\n",
    "        self.capacity = capacity\n",
    "        self.cache = {}\n",
    "\n",
    "    def get(self, key: int) -> int:\n",
    "\n",
    "        if key in self.cache:\n",
    "            val = self.cache.pop()\n",
    "            self.cache[key] = val\n",
    "            return val\n",
    "        else:\n",
    "            return -1\n",
    "\n",
    "        \n",
    "            \n",
    "\n",
    "    def put(self, key: int, value: int) -> None:\n",
    "\n",
    "        if key in self.cache:\n",
    "            self.cache.pop(key)\n",
    "        else:\n",
    "            if self.capacity:\n",
    "                self.capacity -= 1\n",
    "            else:\n",
    "                self.cache.pop(next(iter(self.cache)))\n",
    "\n",
    "        self.cache[key] = value\n",
    "                \n",
    "    "
   ]
  },
  {
   "cell_type": "code",
   "execution_count": null,
   "id": "ec928bbc-623d-47de-8985-67255d6392d9",
   "metadata": {},
   "outputs": [],
   "source": [
    "class Solution:\n",
    "    def isAlienSorted(self, words: List[str], order: str) -> bool:\n",
    "        "
   ]
  }
 ],
 "metadata": {
  "kernelspec": {
   "display_name": "transformers",
   "language": "python",
   "name": "transformers"
  },
  "language_info": {
   "codemirror_mode": {
    "name": "ipython",
    "version": 3
   },
   "file_extension": ".py",
   "mimetype": "text/x-python",
   "name": "python",
   "nbconvert_exporter": "python",
   "pygments_lexer": "ipython3",
   "version": "3.9.9"
  }
 },
 "nbformat": 4,
 "nbformat_minor": 5
}
