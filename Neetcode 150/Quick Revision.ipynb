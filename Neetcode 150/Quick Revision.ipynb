{
 "cells": [
  {
   "cell_type": "code",
   "execution_count": 2,
   "id": "600c004e-6500-4b8f-8e62-79af3a8ea8ce",
   "metadata": {},
   "outputs": [],
   "source": [
    "from typing import List"
   ]
  },
  {
   "cell_type": "code",
   "execution_count": 9,
   "id": "b5b87cf3-63ed-451f-ab17-88e323f41813",
   "metadata": {},
   "outputs": [
    {
     "data": {
      "text/plain": [
       "39200"
      ]
     },
     "execution_count": 9,
     "metadata": {},
     "output_type": "execute_result"
    }
   ],
   "source": [
    "class Solution:\n",
    "    def maximumProduct(self, nums: List[int]) -> int:\n",
    "\n",
    "        nums.sort()\n",
    "\n",
    "        neg, pos, zeros = 0, 0, 0\n",
    "        for num in nums:\n",
    "            if num > 0 :\n",
    "                pos += 1\n",
    "            elif num < 0:\n",
    "                neg += 1\n",
    "            else:\n",
    "                zeros += 1\n",
    "\n",
    "        products = []\n",
    "\n",
    "        \n",
    "        products.append(nums[-1]* nums[-2] * nums[-3])\n",
    "            \n",
    "        if neg > 1 and pos > 0:\n",
    "            products.append(nums[0]* nums[1] * nums[-1])\n",
    "\n",
    "        return max(products)\n",
    "\n",
    "\n",
    "Solution().maximumProduct( [-100,-98,-1,2,3,4])"
   ]
  },
  {
   "cell_type": "code",
   "execution_count": 19,
   "id": "c1142247-25f6-42c6-aa08-eac587839ebd",
   "metadata": {},
   "outputs": [
    {
     "data": {
      "text/plain": [
       "2"
      ]
     },
     "execution_count": 19,
     "metadata": {},
     "output_type": "execute_result"
    }
   ],
   "source": [
    "## Reverse a linked list\n",
    "from typing import Optional, List\n",
    "\n",
    "class ListNode:\n",
    "    def __init__(self, val=0, next=None):\n",
    "        self.val = val\n",
    "        self.next = next\n",
    "        \n",
    "\n",
    "\n",
    "\n",
    "class Solution:\n",
    "    def reverseList(self, head: Optional[ListNode]) -> Optional[ListNode]:\n",
    "        \n",
    "        prev = None\n",
    "        cur = head\n",
    "        \n",
    "        while cur is not None:\n",
    "            tmp = cur.next\n",
    "            cur.next = prev\n",
    "            prev = cur\n",
    "            cur = tmp\n",
    "        \n",
    "        return prev\n",
    "\n",
    "\n",
    "ll = ListNode(1, ListNode(2, ListNode(3)))\n",
    "op = Solution().reverseList(ll)\n",
    "op.next.val"
   ]
  },
  {
   "cell_type": "code",
   "execution_count": 34,
   "id": "9c697d44-8cbd-4c23-9064-6cb4c03fe075",
   "metadata": {},
   "outputs": [
    {
     "data": {
      "text/plain": [
       "False"
      ]
     },
     "execution_count": 34,
     "metadata": {},
     "output_type": "execute_result"
    }
   ],
   "source": [
    "## Singly linked list is a palindrome\n",
    "\n",
    "# Definition for singly-linked list.\n",
    "class ListNode:\n",
    "    def __init__(self, val=0, next=None):\n",
    "        self.val = val\n",
    "        self.next = next\n",
    "\n",
    "\n",
    "class Solution:\n",
    "    def isPalindrome(self, head: Optional[ListNode]) -> bool:\n",
    "\n",
    "        slow, fast = head, head\n",
    "\n",
    "        while fast and fast.next:\n",
    "            slow = slow.next\n",
    "            fast = fast.next.next\n",
    "\n",
    "\n",
    "        # now the position where slow is, is the mid point\n",
    "        # reverse this portion\n",
    "    \n",
    "        prev = slow\n",
    "        cur = slow.next\n",
    "        slow.next = None\n",
    "        \n",
    "        while cur is not None:\n",
    "\n",
    "            tmp = cur.next\n",
    "            cur.next = prev\n",
    "            prev = cur\n",
    "            cur = tmp\n",
    "        \n",
    "        p2 = prev\n",
    "\n",
    "\n",
    "        while head and p2:\n",
    "            if head.val != p2.val:\n",
    "                return False\n",
    "            head = head.next\n",
    "            p2 = p2.next\n",
    "        return True\n",
    "\n",
    "\n",
    "ll = ListNode(1, ListNode(2, ListNode(3, ListNode(2, ListNode(1, ListNode(1))))))\n",
    "op = Solution().isPalindrome(ll)\n",
    "op\n"
   ]
  },
  {
   "cell_type": "code",
   "execution_count": 38,
   "id": "1e187ebf-de63-46a2-9a7c-0403f3440218",
   "metadata": {},
   "outputs": [
    {
     "data": {
      "text/plain": [
       "'a2b1c5a3'"
      ]
     },
     "execution_count": 38,
     "metadata": {},
     "output_type": "execute_result"
    }
   ],
   "source": [
    "## String Manipulation\n",
    "\n",
    "class Solution:\n",
    "    def compress(self, s:str) -> str:\n",
    "\n",
    "        res = \"\"\n",
    "        cur = 1\n",
    "        for i in range(1, len(s)):\n",
    "            if s[i] == s[i-1]:\n",
    "                cur += 1\n",
    "            else:\n",
    "                res += s[i-1] + str(cur)\n",
    "                cur = 1\n",
    "                \n",
    "        res += s[i-1] + str(cur)\n",
    "                \n",
    "        return res if len(res) < len(s) else s\n",
    "            \n",
    "Solution().compress(\"aabcccccaaa\")"
   ]
  },
  {
   "cell_type": "code",
   "execution_count": 55,
   "id": "63f1f5d4-e5c3-45ca-9c5f-b5da94573202",
   "metadata": {},
   "outputs": [
    {
     "name": "stdout",
     "output_type": "stream",
     "text": [
      "['a', 'b', 'c']\n"
     ]
    },
    {
     "data": {
      "text/plain": [
       "3"
      ]
     },
     "execution_count": 55,
     "metadata": {},
     "output_type": "execute_result"
    }
   ],
   "source": [
    "class Solution:\n",
    "    def compress(self, s: List[str]) -> int:\n",
    "        \n",
    "        strlen = len(s)\n",
    "        cur = 1\n",
    "        i = 0\n",
    "        for i in range(1, strlen):\n",
    "            if s[i] == s[i-1]:\n",
    "                cur += 1\n",
    "            else:\n",
    "                if cur == 1:\n",
    "                    s.append(s[i-1])\n",
    "                else:\n",
    "                    s.append(s[i-1])\n",
    "                    for c in str(cur):\n",
    "                        s.append(c)\n",
    "                cur = 1\n",
    "                \n",
    "        \n",
    "        if cur == 1:\n",
    "            s.append(s[i])\n",
    "        else:\n",
    "            s.append(s[i])\n",
    "            for c in str(cur):\n",
    "                s.append(c)\n",
    "\n",
    "        s[:] = s[strlen:]\n",
    "        print(s)\n",
    "                \n",
    "        return len(s)\n",
    "\n",
    "Solution().compress([\"a\",\"b\",\"c\"])"
   ]
  },
  {
   "cell_type": "code",
   "execution_count": 66,
   "id": "0947e616-9001-4943-8722-308a0be9bdb8",
   "metadata": {},
   "outputs": [
    {
     "data": {
      "text/plain": [
       "5"
      ]
     },
     "execution_count": 66,
     "metadata": {},
     "output_type": "execute_result"
    }
   ],
   "source": [
    "class Solution:\n",
    "\n",
    "    def largest_array(self, nums: List) -> int:\n",
    "\n",
    "        i,j = 0, len(nums)-1\n",
    "        cursum = sum(nums)\n",
    "\n",
    "        while i < j:\n",
    "            if cursum == 0:\n",
    "                return len(nums[i:j+1])\n",
    "            elif cursum > 0:\n",
    "                if nums[i] > nums[j]:\n",
    "                    cursum-=nums[i]\n",
    "                    i+=1\n",
    "                else:\n",
    "                    cursum-=nums[j]\n",
    "                    j-=1\n",
    "            else:\n",
    "                if nums[i] > nums[j]:\n",
    "                    cursum-=nums[j]\n",
    "                    j-=1\n",
    "                else:\n",
    "                    cursum-=nums[i]\n",
    "                    i+=1\n",
    "        return -1\n",
    "\n",
    "Solution().largest_array([15, -2, 2, -8, 1, 7, 10, 23])"
   ]
  },
  {
   "cell_type": "code",
   "execution_count": 116,
   "id": "deb60b6c-1e02-45fb-980e-7695b96b1b12",
   "metadata": {},
   "outputs": [],
   "source": [
    "class Solution:\n",
    "\n",
    "    def linkedListGroupReversal(self, head, k=3):\n",
    "\n",
    "        def reverse(node):\n",
    "            '''\n",
    "            Reverse k nodes starting from node\n",
    "            '''\n",
    "\n",
    "            # check if node has atleast k, If not return None\n",
    "            nodes = 0\n",
    "            tmp = node\n",
    "            while tmp:\n",
    "                tmp = tmp.next\n",
    "                nodes += 1\n",
    "                if nodes == k:\n",
    "                    break\n",
    "            if nodes < k:\n",
    "                return node, None\n",
    "                \n",
    "            # we have enough nodes; reverse them and return \n",
    "            # head of the reversed (previous group) and \n",
    "            # head of the next group (to be reversed in the next iteration)\n",
    "            prev = None\n",
    "            cur = node\n",
    "            n = 1\n",
    "            while n <= k and cur:\n",
    "                tmp = cur.next\n",
    "                cur.next = prev\n",
    "                prev = cur\n",
    "                cur = tmp\n",
    "                n+=1\n",
    "\n",
    "            return prev, cur\n",
    "\n",
    "        # Actual code\n",
    "        new_head = None\n",
    "        last_tail = None\n",
    "        next_head = head\n",
    "        \n",
    "        while next_head:\n",
    "            reversed_head, next_head = reverse(next_head)\n",
    "            if not new_head:\n",
    "                new_head = reversed_head\n",
    "            if last_tail:\n",
    "                last_tail.next = reversed_head\n",
    "            \n",
    "            last_tail = head\n",
    "            head = next_head\n",
    "        \n",
    "        return new_head\n",
    "            \n",
    "            \n",
    "    \n",
    "                \n",
    "\n",
    "ll = ListNode(1, ListNode(2, ListNode(3, ListNode(4, ListNode(5)))))\n",
    "_next = Solution().linkedListGroupReversal(ll)"
   ]
  },
  {
   "cell_type": "code",
   "execution_count": 117,
   "id": "8d897255-0783-4d62-82dd-7a785f58bada",
   "metadata": {},
   "outputs": [],
   "source": [
    "_next.next.next.next.next.next"
   ]
  },
  {
   "cell_type": "code",
   "execution_count": null,
   "id": "7c7a1873-531d-4588-83c8-a34011d81f13",
   "metadata": {},
   "outputs": [],
   "source": []
  }
 ],
 "metadata": {
  "kernelspec": {
   "display_name": "Python 3 (ipykernel)",
   "language": "python",
   "name": "python3"
  },
  "language_info": {
   "codemirror_mode": {
    "name": "ipython",
    "version": 3
   },
   "file_extension": ".py",
   "mimetype": "text/x-python",
   "name": "python",
   "nbconvert_exporter": "python",
   "pygments_lexer": "ipython3",
   "version": "3.9.9"
  }
 },
 "nbformat": 4,
 "nbformat_minor": 5
}
