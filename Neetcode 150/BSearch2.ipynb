{
 "cells": [
  {
   "cell_type": "code",
   "execution_count": 4,
   "id": "abe4beeb-396d-431d-8ccb-b96dfa9e3765",
   "metadata": {},
   "outputs": [
    {
     "data": {
      "text/plain": [
       "3"
      ]
     },
     "execution_count": 4,
     "metadata": {},
     "output_type": "execute_result"
    }
   ],
   "source": [
    "## Binary Search 2\n",
    "\n",
    "from typing import List\n",
    "\n",
    "class Solution:\n",
    "\n",
    "    def search(self, nums: List[int], target: int) -> int:\n",
    "\n",
    "        l, r = 0, len(nums)-1\n",
    "\n",
    "        while l <= r:\n",
    "            m = l + (r-l)//2\n",
    "\n",
    "            if nums[m] == target:\n",
    "                return m\n",
    "            elif nums[m] < target:\n",
    "                l = m+1\n",
    "            elif nums[m] > target:\n",
    "                r = m-1\n",
    "                \n",
    "\n",
    "        return -1\n",
    "\n",
    "\n",
    "                \n",
    "Solution().search([-1,0,2,4,6,8], 4)"
   ]
  },
  {
   "cell_type": "code",
   "execution_count": 9,
   "id": "fd58cea4-ad71-454c-bf8b-916bbd5ce50b",
   "metadata": {},
   "outputs": [
    {
     "name": "stdout",
     "output_type": "stream",
     "text": [
      "0\n"
     ]
    },
    {
     "data": {
      "text/plain": [
       "True"
      ]
     },
     "execution_count": 9,
     "metadata": {},
     "output_type": "execute_result"
    }
   ],
   "source": [
    "## Search 2D Matrix\n",
    "\n",
    "class Solution:\n",
    "    \n",
    "    def searchMatrix(self, matrix: List[List[int]], target: int) -> bool:\n",
    "\n",
    "        cols = len(matrix[0])\n",
    "        row_id = 0\n",
    "        for i in range(len(matrix)):\n",
    "            if target < row_id:\n",
    "                row_id = i-1\n",
    "\n",
    "        print(row_id)\n",
    "        \n",
    "        l, r = 0, cols-1\n",
    "        while l <= r:\n",
    "            m = l + (r-l)//2\n",
    "            if matrix[row_id][m] == target:\n",
    "                return True\n",
    "            elif matrix[row_id][m] > target:\n",
    "                r = m-1\n",
    "            else:\n",
    "                l = m+1\n",
    "                \n",
    "        return False\n",
    "\n",
    "matrix = [[1,2,4,8],[10,11,12,13],[14,20,30,40]]\n",
    "target = 8\n",
    "Solution().searchMatrix(matrix, target)"
   ]
  },
  {
   "cell_type": "code",
   "execution_count": 17,
   "id": "01dcd9aa-0087-4af2-9140-c3b7c1b5dde5",
   "metadata": {},
   "outputs": [
    {
     "data": {
      "text/plain": [
       "2"
      ]
     },
     "execution_count": 17,
     "metadata": {},
     "output_type": "execute_result"
    }
   ],
   "source": [
    "import math\n",
    "\n",
    "class Solution:\n",
    "    \n",
    "    def minEatingSpeed(self, piles: List[int], H: int) -> int:\n",
    "\n",
    "        def isFeasible(m):\n",
    "            return sum([math.ceil(pile/m) for pile in piles]) <= H\n",
    "        \n",
    "\n",
    "        l, r = 1, max(piles)\n",
    "        while l < r:\n",
    "            \n",
    "            m = l + (r-l)//2\n",
    "            if isFeasible(m):\n",
    "                r = m\n",
    "            else:\n",
    "                l = m+1\n",
    "\n",
    "        return l\n",
    "\n",
    "\n",
    "\n",
    "piles = [1,4,3,2]\n",
    "h = 9\n",
    "\n",
    "Solution().minEatingSpeed(piles, 9)"
   ]
  },
  {
   "cell_type": "code",
   "execution_count": 19,
   "id": "9b679622-d7e0-485a-bb83-5daee27e5c07",
   "metadata": {},
   "outputs": [
    {
     "data": {
      "text/plain": [
       "1"
      ]
     },
     "execution_count": 19,
     "metadata": {},
     "output_type": "execute_result"
    }
   ],
   "source": [
    "## Find Minimum in Rotated Sorted Array\n",
    "\n",
    "class Solution:\n",
    "    \n",
    "    def findMin(self, nums: List[int]) -> int:\n",
    "\n",
    "        l, r = 0, len(nums)-1\n",
    "        while l < r:\n",
    "            m = l + (r-l)//2\n",
    "\n",
    "            if nums[m] <= nums[r]:\n",
    "                r = m\n",
    "            else:\n",
    "                l = m+1\n",
    "        return nums[l]\n",
    "                \n",
    "                \n",
    "\n",
    "Solution().findMin([3,4,5,6,1,2])    \n"
   ]
  },
  {
   "cell_type": "code",
   "execution_count": 33,
   "id": "2772309a-d8db-4d47-9745-6f84622fb7c4",
   "metadata": {},
   "outputs": [
    {
     "data": {
      "text/plain": [
       "4"
      ]
     },
     "execution_count": 33,
     "metadata": {},
     "output_type": "execute_result"
    }
   ],
   "source": [
    "## Find Target in Rotated Sorted Array\n",
    "\n",
    "class Solution:\n",
    "\n",
    "    def search(self, nums: List[int], target: int) -> int:\n",
    "\n",
    "        l, r = 0, len(nums)-1\n",
    "        \n",
    "        while l <= r:\n",
    "            \n",
    "            m = l + (r-l)//2\n",
    "            \n",
    "            if nums[m] == target:\n",
    "                return m\n",
    "                \n",
    "            elif nums[m] < nums[r]:\n",
    "                if nums[m] <= target <= nums[r]:\n",
    "                    l = m + 1\n",
    "                else:\n",
    "                    r = m - 1\n",
    "            else:\n",
    "                if nums[l] <= target <= nums[m]:\n",
    "                    r = m - 1\n",
    "                else:\n",
    "                    l = m + 1\n",
    "        return -1\n",
    "\n",
    "Solution().search([3,4,5,6,1,2], 1)"
   ]
  },
  {
   "cell_type": "code",
   "execution_count": 34,
   "id": "87642eee-1943-4cc2-bca1-424319d5d432",
   "metadata": {},
   "outputs": [],
   "source": [
    "from collections import defaultdict\n",
    "\n",
    "class TimeMap:\n",
    "\n",
    "    def __init__(self):\n",
    "        self.store = defaultdict(list)\n",
    "\n",
    "    def set(self, key: str, value: str, timestamp: int) -> None:\n",
    "        self.store[key].append([value, timestamp])\n",
    "        \n",
    "    def get(self, key: str, timestamp: int) -> str:\n",
    "\n",
    "        vals = self.store(key)\n",
    "        l, r = 0, len(val)-1\n",
    "        res = \"\"\n",
    "        while l <= r:\n",
    "            m = l + (r-l)//2\n",
    "            ts_m = vals[m][1]\n",
    "            if ts_m <= timestamp:\n",
    "                res = vals[m][0]\n",
    "                l = m+1\n",
    "            else:\n",
    "                r = m-1\n",
    "                \n",
    "        return res"
   ]
  },
  {
   "cell_type": "code",
   "execution_count": null,
   "id": "d9b03257-8ebc-4432-8d04-e83acb9f62c0",
   "metadata": {},
   "outputs": [],
   "source": []
  }
 ],
 "metadata": {
  "kernelspec": {
   "display_name": "transformers",
   "language": "python",
   "name": "transformers"
  },
  "language_info": {
   "codemirror_mode": {
    "name": "ipython",
    "version": 3
   },
   "file_extension": ".py",
   "mimetype": "text/x-python",
   "name": "python",
   "nbconvert_exporter": "python",
   "pygments_lexer": "ipython3",
   "version": "3.9.9"
  }
 },
 "nbformat": 4,
 "nbformat_minor": 5
}
