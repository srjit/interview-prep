{
 "cells": [
  {
   "cell_type": "code",
   "execution_count": 5,
   "id": "0cdc638a-fb43-40be-b74a-28dde9819913",
   "metadata": {},
   "outputs": [
    {
     "data": {
      "text/plain": [
       "[0, 0, 1, 1, 2, 5]"
      ]
     },
     "execution_count": 5,
     "metadata": {},
     "output_type": "execute_result"
    }
   ],
   "source": [
    "from typing import List\n",
    "\n",
    "class Solution:\n",
    "    \n",
    "    def sortArray(self, nums: List[int]) -> List[int]:\n",
    "\n",
    "        def merge(p1, p2, res):\n",
    "\n",
    "            i, j, k = 0, 0, 0\n",
    "            while i < len(p1) and j < len(p2):\n",
    "                if p1[i] < p2[j]:\n",
    "                    res[k] = p1[i]\n",
    "                    i+=1\n",
    "                else:\n",
    "                    res[k] = p2[j]\n",
    "                    j+=1\n",
    "                k+=1\n",
    "\n",
    "            res[k:] = p1[i:] if i < len(p1) else p2[j:]\n",
    "            \n",
    "        def mergesort(nums):\n",
    "    \n",
    "            if len(nums) == 1:\n",
    "                return\n",
    "    \n",
    "            mid = len(nums)//2\n",
    "            \n",
    "            L = nums[:mid]\n",
    "            R = nums[mid:]\n",
    "    \n",
    "            mergesort(L)\n",
    "            mergesort(R)\n",
    "            merge(L, R, nums)\n",
    "\n",
    "        mergesort(nums)\n",
    "        return nums\n",
    "\n",
    "\n",
    "Solution().sortArray([5,1,1,2,0,0])"
   ]
  },
  {
   "cell_type": "code",
   "execution_count": null,
   "id": "0550ded4-8780-404a-8417-8027f0577189",
   "metadata": {},
   "outputs": [],
   "source": []
  }
 ],
 "metadata": {
  "kernelspec": {
   "display_name": "Python 3 (ipykernel)",
   "language": "python",
   "name": "python3"
  },
  "language_info": {
   "codemirror_mode": {
    "name": "ipython",
    "version": 3
   },
   "file_extension": ".py",
   "mimetype": "text/x-python",
   "name": "python",
   "nbconvert_exporter": "python",
   "pygments_lexer": "ipython3",
   "version": "3.10.10"
  }
 },
 "nbformat": 4,
 "nbformat_minor": 5
}
