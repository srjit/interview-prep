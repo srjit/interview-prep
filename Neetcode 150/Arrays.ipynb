{
 "cells": [
  {
   "cell_type": "code",
   "execution_count": 1,
   "id": "2b2dcf3d-dbea-46df-bd49-4dfc76c267f8",
   "metadata": {},
   "outputs": [
    {
     "data": {
      "text/plain": [
       "False"
      ]
     },
     "execution_count": 1,
     "metadata": {},
     "output_type": "execute_result"
    }
   ],
   "source": [
    "# Arrays\n",
    "\n",
    "from collections import defaultdict\n",
    "\n",
    "class Solution:\n",
    "    def isAnagram(self, s: str, t: str) -> bool:\n",
    "\n",
    "        counts = defaultdict(int)\n",
    "        for c in s: counts[c] += 1\n",
    "        for c in t: counts[c] -= 1\n",
    "        for _, v in counts.items(): \n",
    "            if v != 0: \n",
    "                return False\n",
    "            \n",
    "        return True\n",
    "\n",
    "Solution().isAnagram(\"xx\", \"x\")        "
   ]
  },
  {
   "cell_type": "code",
   "execution_count": 2,
   "id": "8028434b-0097-4e99-84a6-68ad7dccde9c",
   "metadata": {},
   "outputs": [
    {
     "data": {
      "text/plain": [
       "dict_values([['eat', 'tea', 'ate'], ['tan', 'nat'], ['bat']])"
      ]
     },
     "execution_count": 2,
     "metadata": {},
     "output_type": "execute_result"
    }
   ],
   "source": [
    "## Anagram Groups\n",
    "\n",
    "from typing import List\n",
    "from collections import defaultdict\n",
    "\n",
    "class Solution:\n",
    "    \n",
    "    def groupAnagrams(self, strs: List[str]) -> List[List[str]]:\n",
    "\n",
    "        res = defaultdict(list)\n",
    "        \n",
    "        for s in strs:\n",
    "            count = [0] * 26\n",
    "            for c in s:\n",
    "                count[ord(c) - ord('a')] += 1\n",
    "\n",
    "            res[tuple(count)].append(s)\n",
    "\n",
    "        return res.values()\n",
    "\n",
    "strs = [\"eat\",\"tea\",\"tan\",\"ate\",\"nat\",\"bat\"]\n",
    "Solution().groupAnagrams(strs)"
   ]
  },
  {
   "cell_type": "code",
   "execution_count": 3,
   "id": "088f8170-8dd0-4252-8e8a-ebcc561a2f05",
   "metadata": {},
   "outputs": [
    {
     "data": {
      "text/plain": [
       "[2, 3]"
      ]
     },
     "execution_count": 3,
     "metadata": {},
     "output_type": "execute_result"
    }
   ],
   "source": [
    "\n",
    "from typing import List\n",
    "import bisect\n",
    "\n",
    "## Top K Elements in List\n",
    "\n",
    "class Solution:\n",
    "\n",
    "    def topKFrequent(self, nums: List[int], k: int) -> List[int]:\n",
    "\n",
    "        counts = defaultdict(int)\n",
    "\n",
    "        for num in nums:\n",
    "            counts[num] += 1\n",
    "\n",
    "        frequencies = []\n",
    "        for _, v in counts.items():\n",
    "            bisect.insort(frequencies, v)\n",
    "\n",
    "        freq = frequencies[::-1][k-1]\n",
    "        return [k for k,v in counts.items() if v >= freq]\n",
    "\n",
    "\n",
    "Solution().topKFrequent([1,2,2,3,3,3], 2)"
   ]
  },
  {
   "cell_type": "code",
   "execution_count": 4,
   "id": "b83e02a2-7a18-440c-b411-9ef414890aa4",
   "metadata": {},
   "outputs": [
    {
     "data": {
      "text/plain": [
       "4"
      ]
     },
     "execution_count": 4,
     "metadata": {},
     "output_type": "execute_result"
    }
   ],
   "source": [
    "## Longest Consecutive Sequence\n",
    "\n",
    "class Solution:\n",
    "    \n",
    "    def longestConsecutive(self, nums: List[int]) -> int:\n",
    "\n",
    "        elements = set(nums)        \n",
    "        visited = set()\n",
    "        maxl = 0\n",
    "\n",
    "        for elt in nums:\n",
    "            \n",
    "            if (elt not in visited) and (elt-1 not in elements): \n",
    "                \n",
    "                current = 1\n",
    "                visited.add(elt)\n",
    "                while elt+current in elements:\n",
    "                    current+=1\n",
    "                    visited.add(elt+current)\n",
    "                maxl = max(maxl, current)\n",
    "        return maxl\n",
    "                \n",
    "                \n",
    "Solution().longestConsecutive([2,20,4,10,3,4,5])"
   ]
  },
  {
   "cell_type": "code",
   "execution_count": 5,
   "id": "fbfce0cb-5d42-4bfc-b062-e966328b5228",
   "metadata": {},
   "outputs": [
    {
     "data": {
      "text/plain": [
       "[48, 24, 12, 8]"
      ]
     },
     "execution_count": 5,
     "metadata": {},
     "output_type": "execute_result"
    }
   ],
   "source": [
    "## Products of Array Discluding Self\n",
    "\n",
    "class Solution:\n",
    "\n",
    "    def productExceptSelf(self, nums: List[int]) -> List[int]:\n",
    "\n",
    "        pre_product = [1]\n",
    "        suffix_product = [1]\n",
    "\n",
    "        for i in range(1, len(nums)):\n",
    "            pre_product.append(pre_product[-1] * nums[i-1])\n",
    "\n",
    "        for i in range(len(nums)-2, -1, -1):\n",
    "            suffix_product.append(suffix_product[-1] * nums[i+1])\n",
    "\n",
    "        res = []\n",
    "        for i in range(len(nums)):\n",
    "            res.append(pre_product[i] * suffix_product[len(nums)-1-i])\n",
    "\n",
    "        return res\n",
    "            \n",
    "Solution().productExceptSelf([1,2,4,6])"
   ]
  },
  {
   "cell_type": "code",
   "execution_count": 6,
   "id": "e950dd2f-8a89-4be6-891d-dec5c105438c",
   "metadata": {},
   "outputs": [
    {
     "data": {
      "text/plain": [
       "['neet', 'code', 'love', 'you']"
      ]
     },
     "execution_count": 6,
     "metadata": {},
     "output_type": "execute_result"
    }
   ],
   "source": [
    "## String Encode and Decode\n",
    "\n",
    "class Solution:\n",
    "\n",
    "    # encode with the length of string and a delimiter\n",
    "    def encode(self, strs: List[str]) -> str:\n",
    "        delimiter = \"#\"\n",
    "        return \"\".join([str(len(s)) + delimiter + s for s in strs])\n",
    "\n",
    "    def decode(self, s: str) -> List[str]:\n",
    "\n",
    "        res = []\n",
    "        i = 0\n",
    "\n",
    "        while i < len(s):\n",
    "\n",
    "            j = i\n",
    "            # Find the length\n",
    "            while s[j] != '#':\n",
    "                j+=1\n",
    "        \n",
    "            _len = int(s[i:j])\n",
    "            _str = s[j+1:j+1+_len]\n",
    "            res.append(_str)\n",
    "\n",
    "            i = 1+j+_len\n",
    "\n",
    "        return res\n",
    "        \n",
    "op = Solution().encode([\"neet\",\"code\",\"love\",\"you\"])\n",
    "#print(op)\n",
    "Solution().decode(op)"
   ]
  },
  {
   "cell_type": "code",
   "execution_count": 7,
   "id": "19e36734-cc62-4de6-8804-5f0da5502156",
   "metadata": {},
   "outputs": [],
   "source": [
    "## Valid Sudoku\n",
    "\n",
    "class Solution:\n",
    "    def isValidSudoku(self, board: List[List[str]]) -> bool:\n",
    "\n",
    "        cols = collections.defaultdict(set)\n",
    "        rows = collections.defaultdict(set)\n",
    "        squares = collections.defaultdict(set)\n",
    "\n",
    "        for r in range(9):\n",
    "            for c in range(9):\n",
    "                if board[r][c] == \".\":\n",
    "                    continue\n",
    "                if board[r][c] in rows[r] or \\\n",
    "                   board[r][c] in cols[c] or \\\n",
    "                   board[r][c] in squares[(r//3, c//3)]:\n",
    "                    return False\n",
    "                cols[c].add(board[r][c])\n",
    "                rows[r].add(board[r][c])\n",
    "                squares[(r//3, c//3)].add(board[r][c])\n",
    "        \n",
    "        return True"
   ]
  },
  {
   "cell_type": "code",
   "execution_count": null,
   "id": "9bb8100b-f1a1-437a-916b-bbd76919397c",
   "metadata": {},
   "outputs": [],
   "source": []
  }
 ],
 "metadata": {
  "kernelspec": {
   "display_name": "llms",
   "language": "python",
   "name": "llms"
  },
  "language_info": {
   "codemirror_mode": {
    "name": "ipython",
    "version": 3
   },
   "file_extension": ".py",
   "mimetype": "text/x-python",
   "name": "python",
   "nbconvert_exporter": "python",
   "pygments_lexer": "ipython3",
   "version": "3.10.10"
  }
 },
 "nbformat": 4,
 "nbformat_minor": 5
}
