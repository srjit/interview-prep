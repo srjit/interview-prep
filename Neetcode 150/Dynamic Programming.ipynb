{
 "cells": [
  {
   "cell_type": "markdown",
   "id": "369a64bf-59ad-4864-b644-9f083d42a91d",
   "metadata": {},
   "source": [
    "## 1 D"
   ]
  },
  {
   "cell_type": "code",
   "execution_count": 2,
   "id": "c7dc4500-c7cf-4476-84a6-5c21bce03f37",
   "metadata": {},
   "outputs": [],
   "source": [
    "from typing import List"
   ]
  },
  {
   "cell_type": "code",
   "execution_count": null,
   "id": "097933ef-8e2e-43e9-bfe1-60abfab6f9cb",
   "metadata": {},
   "outputs": [],
   "source": [
    "# ## Climbing Stairs\n",
    "\n",
    "# class Solution:\n",
    "#     def climbStairs(self, n: int) -> int:\n",
    "\n",
    "        \n",
    "        "
   ]
  },
  {
   "cell_type": "code",
   "execution_count": 3,
   "id": "4b0d07a1-aff2-4456-bfcd-86697f06b6df",
   "metadata": {},
   "outputs": [],
   "source": [
    "## Min Cost Climbing Stairs\n",
    "\n",
    "class Solution:\n",
    "\n",
    "    def minCostClimbingStairs(self, cost: List[int]) -> int:\n",
    "\n",
    "        dp = [0] * (len(cost) + 1)\n",
    "        dp[len(cost)-1] = cost[len(cost)-1]\n",
    "        \n",
    "        for i in range(len(cost)-2, -1, -1):\n",
    "            # total cost = current cost + min cost until \n",
    "            dp[i] = cost[i] + min(dp[i+1], dp[i+2])\n",
    "        \n",
    "        mincost = min(dp[0], dp[1])\n",
    "        return mincost\n"
   ]
  },
  {
   "cell_type": "code",
   "execution_count": 4,
   "id": "097191d7-8449-4b10-9a38-dd15d0c47d3f",
   "metadata": {},
   "outputs": [],
   "source": [
    "## House Robber\n",
    "\n",
    "class Solution:\n",
    "    \n",
    "    def rob(self, nums: List[int]) -> int:\n",
    "\n",
    "        rob1, rob2 = 0, 0\n",
    "        for i in range(len(nums)):\n",
    "            rob2, rob1 = rob1, max(rob2 + nums[i], rob1)\n",
    "\n",
    "        return rob1"
   ]
  },
  {
   "cell_type": "code",
   "execution_count": null,
   "id": "caceed36-60a7-4488-ba8d-fac3286aff75",
   "metadata": {},
   "outputs": [],
   "source": [
    "## House Robber 2\n",
    "\n",
    "class Solution:\n",
    "    \n",
    "    def rob(self, nums2: List[int]) -> int:\n",
    "\n",
    "        def hrob1(nums):\n",
    "            rob1, rob2 = 0, 0\n",
    "            for i in range(len(nums)):\n",
    "                rob2, rob1 = rob1, max(rob2 + nums[i], rob1)\n",
    "\n",
    "            return rob1\n",
    "\n",
    "        return max(nums2[0], hrob1(nums2[1:]), hrob1(nums2[:-1]))\n",
    "        "
   ]
  }
 ],
 "metadata": {
  "kernelspec": {
   "display_name": "Python 3 (ipykernel)",
   "language": "python",
   "name": "python3"
  },
  "language_info": {
   "codemirror_mode": {
    "name": "ipython",
    "version": 3
   },
   "file_extension": ".py",
   "mimetype": "text/x-python",
   "name": "python",
   "nbconvert_exporter": "python",
   "pygments_lexer": "ipython3",
   "version": "3.10.10"
  }
 },
 "nbformat": 4,
 "nbformat_minor": 5
}
