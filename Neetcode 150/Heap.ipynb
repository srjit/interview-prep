{
 "cells": [
  {
   "cell_type": "code",
   "execution_count": 1,
   "id": "54a90356-0942-4999-a621-62ff8d8c863c",
   "metadata": {},
   "outputs": [],
   "source": [
    "## Median from a data stream\n",
    "\n",
    "import heapq\n",
    "\n",
    "class MedianFinder:\n",
    "\n",
    "    def __init__(self):\n",
    "        self.small, self.big = [], []\n",
    "        \n",
    "\n",
    "    def addNum(self, num: int) -> None:\n",
    "\n",
    "        heapq.heappush(self.small, -1 * num)\n",
    "\n",
    "        # checking for conditions\n",
    "        if self.small and self.big and (-1 * self.small[0] > self.big[0]):\n",
    "            biggest = -1 * heapq.heappop(self.small)\n",
    "            heapq.heappush(self.big, biggest)        \n",
    "\n",
    "        # imbalance : length of small array > length of big array\n",
    "        if len(self.small) > len(self.big) + 1:\n",
    "            biggest = -1 * heapq.heappop(self.small)\n",
    "            heapq.heappush(self.big, biggest)       \n",
    "\n",
    "        # imbalance : length of big array > length of small array\n",
    "        if len(self.big) > len(self.small) + 1:\n",
    "            val = heapq.heappop(self.big)\n",
    "            heapq.heappush(self.small, -1 * val)       \n",
    "            \n",
    "    def findMedian(self) -> float:\n",
    "\n",
    "        if len(self.small) == len(self.big):\n",
    "            return (-1 * self.small[0] + self.big[0]) / 2\n",
    "        elif len(self.small) > len(self.big):\n",
    "            return -1 * self.small[0]\n",
    "        else:\n",
    "            return self.big[0]"
   ]
  },
  {
   "cell_type": "code",
   "execution_count": 3,
   "id": "03852634-1421-46fd-a105-f2636f2e5e8b",
   "metadata": {},
   "outputs": [],
   "source": [
    "## Kth Largest Integer in a Stream\n",
    "\n",
    "from typing import List\n",
    "\n",
    "class KthLargest:\n",
    "\n",
    "    def __init__(self, k: int, nums: List[int]):\n",
    "        self.nums = heapq.heapify(nums)[:-k]\n",
    "        \n",
    "        \n",
    "\n",
    "    def add(self, val: int) -> int:\n",
    "\n",
    "        heapq.heappush(self.nums, val)\n",
    "        if len(self.nums) > k:\n",
    "            heapq.heappop(self.nums)\n",
    "        return self.nums[0]"
   ]
  },
  {
   "cell_type": "code",
   "execution_count": 11,
   "id": "52b663c2-6733-4256-91cc-7890c199a328",
   "metadata": {},
   "outputs": [
    {
     "data": {
      "text/plain": [
       "1"
      ]
     },
     "execution_count": 11,
     "metadata": {},
     "output_type": "execute_result"
    }
   ],
   "source": [
    "class Solution:\n",
    "    def lastStoneWeight(self, stones: List[int]) -> int:\n",
    "        \n",
    "        _stones = [-1 * x for x in stones]\n",
    "        heapq.heapify(_stones)\n",
    "        while len(_stones) > 1:\n",
    "            first = heapq.heappop(_stones)\n",
    "            second = heapq.heappop(_stones)\n",
    "\n",
    "            if (second > first):\n",
    "                heapq.heappush(_stones, first-second)\n",
    "\n",
    "        _stones.append(0)\n",
    "        return abs(_stones[0])\n",
    "        \n",
    "Solution().lastStoneWeight([2,3,6,2,4])    "
   ]
  },
  {
   "cell_type": "code",
   "execution_count": 23,
   "id": "4cbf68f0-d531-4982-b334-122d161eaab5",
   "metadata": {},
   "outputs": [
    {
     "data": {
      "text/plain": [
       "[[0, 2]]"
      ]
     },
     "execution_count": 23,
     "metadata": {},
     "output_type": "execute_result"
    }
   ],
   "source": [
    "import math\n",
    "import heapq\n",
    "\n",
    "class Solution:\n",
    "\n",
    "    def kClosest(self, points: List[List[int]], k: int) -> List[List[int]]:\n",
    "\n",
    "        def distancefromorigin(point):\n",
    "\n",
    "            x1, y1 = 0, 0\n",
    "            x2, y2 = point[0], point[1]\n",
    "            #print((x1 - x2)^2 + (y1 - y2)^2)\n",
    "            return math.sqrt(abs((x1 - x2)**2) + (abs(y1 - y2)**2))\n",
    "        \n",
    "        distances = [(distancefromorigin(point), point) for point in points]\n",
    "        heapq.heapify(distances)\n",
    "\n",
    "        topk = [x[1] for x in distances[:k]]\n",
    "        return topk\n",
    "\n",
    "\n",
    "Solution().kClosest([[3,3],[5,-1],[-2,4]], 1)"
   ]
  },
  {
   "cell_type": "code",
   "execution_count": 18,
   "id": "757da596-c8c9-49db-abf4-3e972a6042cd",
   "metadata": {},
   "outputs": [
    {
     "data": {
      "text/plain": [
       "-4"
      ]
     },
     "execution_count": 18,
     "metadata": {},
     "output_type": "execute_result"
    }
   ],
   "source": [
    "(0-2)^2+(0-2)^2"
   ]
  },
  {
   "cell_type": "code",
   "execution_count": 20,
   "id": "609da2f9-0864-499e-ae12-03fa6d169c27",
   "metadata": {},
   "outputs": [
    {
     "data": {
      "text/plain": [
       "-4"
      ]
     },
     "execution_count": 20,
     "metadata": {},
     "output_type": "execute_result"
    }
   ],
   "source": [
    "-2^2"
   ]
  },
  {
   "cell_type": "code",
   "execution_count": 30,
   "id": "d8c2123d-6dfd-4dff-b85f-4da9437b8f34",
   "metadata": {},
   "outputs": [
    {
     "data": {
      "text/plain": [
       "4"
      ]
     },
     "execution_count": 30,
     "metadata": {},
     "output_type": "execute_result"
    }
   ],
   "source": [
    "(-2) ** 2"
   ]
  }
 ],
 "metadata": {
  "kernelspec": {
   "display_name": "llms",
   "language": "python",
   "name": "llms"
  },
  "language_info": {
   "codemirror_mode": {
    "name": "ipython",
    "version": 3
   },
   "file_extension": ".py",
   "mimetype": "text/x-python",
   "name": "python",
   "nbconvert_exporter": "python",
   "pygments_lexer": "ipython3",
   "version": "3.10.10"
  }
 },
 "nbformat": 4,
 "nbformat_minor": 5
}
