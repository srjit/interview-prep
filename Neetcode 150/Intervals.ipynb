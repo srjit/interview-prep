{
 "cells": [
  {
   "cell_type": "code",
   "execution_count": 2,
   "id": "decbd751-524c-4a5e-8ec4-f2fd2fc56f78",
   "metadata": {},
   "outputs": [],
   "source": [
    "from typing import List"
   ]
  },
  {
   "cell_type": "code",
   "execution_count": null,
   "id": "afcf9059-4c62-4485-b7cb-35f659ed37a5",
   "metadata": {},
   "outputs": [],
   "source": [
    "## Insert New Interval\n",
    "\n",
    "class Solution:\n",
    "    \n",
    "    def insert(self, intervals: List[List[int]], newInterval: List[int]) -> List[List[int]]:\n",
    "\n",
    "        \n",
    "        "
   ]
  },
  {
   "cell_type": "code",
   "execution_count": 3,
   "id": "a8ed23de-37db-42e5-a8ef-577e730cfdb5",
   "metadata": {},
   "outputs": [],
   "source": [
    "## Merge Interval\n",
    "\n",
    "class Solution:\n",
    "    \n",
    "    def merge(self, intervals: List[List[int]]) -> List[List[int]]:\n",
    "        \n",
    "        intervals.sort(key=lambda x: x[0])\n",
    "\n",
    "        res = [intervals[0]]\n",
    "\n",
    "        for s, e in intervals:\n",
    "            if s <= res[-1][1]:\n",
    "                res[-1][1] = max(e, res[-1][1])\n",
    "            else:\n",
    "                res.append([s, e])\n",
    "        \n",
    "        return res"
   ]
  },
  {
   "cell_type": "code",
   "execution_count": 8,
   "id": "6b7509a8-8ac2-42e8-aab0-83daf152be87",
   "metadata": {},
   "outputs": [
    {
     "data": {
      "text/plain": [
       "0"
      ]
     },
     "execution_count": 8,
     "metadata": {},
     "output_type": "execute_result"
    }
   ],
   "source": [
    "class Solution:\n",
    "    def eraseOverlapIntervals(self, intervals: List[List[int]]) -> int:\n",
    "        \n",
    "        intervals.sort(key=lambda x: x[0])\n",
    "        overlapping = 0\n",
    "        prev_end = intervals[0][1]\n",
    "\n",
    "        for start, end in intervals[1:]:\n",
    "            if start >= prev_end:\n",
    "                prev_end = end\n",
    "            else:\n",
    "                overlapping += 1\n",
    "                prev_end = min(prev_end, end)\n",
    "\n",
    "        return overlapping\n",
    "\n",
    "Solution().eraseOverlapIntervals([[1,2],[2,3]])"
   ]
  },
  {
   "cell_type": "code",
   "execution_count": 9,
   "id": "383a2c9d-a692-46a0-98b3-3ca86604df5d",
   "metadata": {},
   "outputs": [],
   "source": [
    "class Interval(object):\n",
    "    def __init__(self, start, end):\n",
    "        self.start = start\n",
    "        self.end = end\n",
    "\n",
    "\n",
    "class Solution:\n",
    "    def minMeetingRooms(self, intervals: List[Interval]) -> int:\n",
    "        \n",
    "        starts = sorted([i.start for i in intervals])\n",
    "        ends = sorted([i.end for i in intervals])\n",
    "\n",
    "        res, count = 0, 0\n",
    "        s, e = 0, 0\n",
    "\n",
    "        while s < len(starts):\n",
    "\n",
    "            if starts[s] < ends[e]:\n",
    "                s += 1\n",
    "                count += 1\n",
    "            else:\n",
    "                e += 1\n",
    "                count -= 1\n",
    "            res = max(res, count)\n",
    "            \n",
    "        return res\n"
   ]
  },
  {
   "cell_type": "code",
   "execution_count": null,
   "id": "972ef4c1-4c2b-4fd0-87cb-13df17890a2f",
   "metadata": {},
   "outputs": [],
   "source": []
  }
 ],
 "metadata": {
  "kernelspec": {
   "display_name": "Python 3 (ipykernel)",
   "language": "python",
   "name": "python3"
  },
  "language_info": {
   "codemirror_mode": {
    "name": "ipython",
    "version": 3
   },
   "file_extension": ".py",
   "mimetype": "text/x-python",
   "name": "python",
   "nbconvert_exporter": "python",
   "pygments_lexer": "ipython3",
   "version": "3.10.10"
  }
 },
 "nbformat": 4,
 "nbformat_minor": 5
}
