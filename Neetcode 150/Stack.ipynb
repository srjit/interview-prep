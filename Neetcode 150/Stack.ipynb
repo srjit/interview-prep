{
 "cells": [
  {
   "cell_type": "code",
   "execution_count": null,
   "id": "37d966f8-f71d-4960-8ff3-691dc2d4aae0",
   "metadata": {},
   "outputs": [],
   "source": [
    "## Validate Parentheses\n",
    "\n",
    "class Solution:\n",
    "    def isValid(self, s: str) -> bool:\n",
    "\n",
    "        comp = {\n",
    "            \"}\" : \"{\",\n",
    "            \")\" : \"(\",\n",
    "            \"]\" : \"[\"\n",
    "        }\n",
    "\n",
    "        stack = []\n",
    "        for c in s:\n",
    "            if c in comp:\n",
    "                if not stack or stack.pop() != comp[c]:\n",
    "                    return False\n",
    "            else:\n",
    "                stack.append(c)\n",
    "        \n",
    "        return True if not stack else False\n",
    "        "
   ]
  },
  {
   "cell_type": "code",
   "execution_count": null,
   "id": "bf7caee4-cba6-489a-ad95-c09bed1d9cbf",
   "metadata": {},
   "outputs": [],
   "source": [
    "## Min Stack\n",
    "\n",
    "class MinStack:\n",
    "\n",
    "    def __init__(self):\n",
    "\n",
    "        self.store = []\n",
    "        self.min_array = []\n",
    "        \n",
    "\n",
    "    def push(self, val: int) -> None:\n",
    "\n",
    "        self.store.append(val)\n",
    "        min_val = min(val, self.min_array[-1] if self.min_array else val)\n",
    "        self.min_array.append(min_val)\n",
    "        \n",
    "\n",
    "    def pop(self) -> None:\n",
    "        self.store.pop()\n",
    "        self.min_array.pop()\n",
    "\n",
    "    def top(self) -> int:\n",
    "        return self.store[-1]\n",
    "        \n",
    "    def getMin(self) -> int:\n",
    "        return self.min_array[-1]"
   ]
  },
  {
   "cell_type": "code",
   "execution_count": 21,
   "id": "5c173ee6-b21e-4c3f-893d-965064038045",
   "metadata": {},
   "outputs": [],
   "source": [
    "from typing import List\n",
    "\n",
    "class Solution:\n",
    "    def evalRPN(self, tokens: List[str]) -> int:\n",
    "        \n",
    "        stack = []\n",
    "        operations = [\n",
    "            \"+\", \"-\", \"*\", \"/\"\n",
    "        ]\n",
    "        for token in tokens:\n",
    "            if token in operations:\n",
    "                import ipdb\n",
    "                #ipdb.set_trace()\n",
    "                op1 = int(stack.pop())\n",
    "                op2 = int(stack.pop())\n",
    "                val = None\n",
    "                if token == '+':\n",
    "                    val = op1 + op2\n",
    "                elif token == '-':\n",
    "                    val = op2 - op1\n",
    "                elif token == '*':\n",
    "                    val = op1 * op2\n",
    "                elif token == '/':\n",
    "                    val = int(op2 / op1)\n",
    "                \n",
    "                stack.append(val)\n",
    "            else:\n",
    "                stack.append(token)\n",
    "        res = stack.pop()\n",
    "        return res"
   ]
  },
  {
   "cell_type": "code",
   "execution_count": 23,
   "id": "a0ebfb13-32dc-49b8-86d0-140ed4b342cf",
   "metadata": {},
   "outputs": [
    {
     "data": {
      "text/plain": [
       "['((()))', '(()())', '(())()', '()(())', '()()()']"
      ]
     },
     "execution_count": 23,
     "metadata": {},
     "output_type": "execute_result"
    }
   ],
   "source": [
    "## 22. Generate Parentheses\n",
    "\n",
    "class Solution:\n",
    "    def generateParenthesis(self, n: int) -> List[str]:\n",
    "\n",
    "        stack = []\n",
    "        res = []\n",
    "\n",
    "        def backtrack(open_count, closed_count):\n",
    "\n",
    "            if open_count == closed_count == n:\n",
    "                res.append(\"\".join(stack))\n",
    "                return\n",
    "\n",
    "            if open_count < n:\n",
    "                stack.append(\"(\")\n",
    "                backtrack(open_count+1, closed_count)\n",
    "                stack.pop()\n",
    "                \n",
    "            if open_count > closed_count:\n",
    "                stack.append(\")\")\n",
    "                backtrack(open_count, closed_count+1)\n",
    "                stack.pop()\n",
    "\n",
    "        backtrack(0, 0)\n",
    "        return res\n",
    "                \n",
    "Solution().generateParenthesis(3)"
   ]
  },
  {
   "cell_type": "code",
   "execution_count": null,
   "id": "9c738210-6ee1-4540-bb73-7c4a66395c2d",
   "metadata": {},
   "outputs": [],
   "source": [
    "class Solution:\n",
    "    def dailyTemperatures(self, temperatures: List[int]) -> List[int]:\n",
    "\n",
    "        res = [0] * len(temperatures)\n",
    "        stack = [] # [temp, index]\n",
    "\n",
    "        for i, t in enumerate(temperatures):\n",
    "\n",
    "            # temperature is greater than the stack\n",
    "            while stack and t > stack[-1][0]:\n",
    "                stackT, stackIndex = stack.pop()\n",
    "                res[stackIndex] = i - stackIndex\n",
    "            \n",
    "            stack.append([t, i])\n",
    "\n",
    "        return res\n",
    "        "
   ]
  },
  {
   "cell_type": "code",
   "execution_count": null,
   "id": "8cd57459-a68c-4551-a7c7-747e308798a7",
   "metadata": {},
   "outputs": [],
   "source": []
  },
  {
   "cell_type": "code",
   "execution_count": 4,
   "id": "bfd31e03-1646-418e-9d03-f8cf393642ef",
   "metadata": {},
   "outputs": [
    {
     "data": {
      "text/plain": [
       "[[3, 2, 1], [2, 3, 1], [1, 3, 2], [3, 1, 2], [2, 1, 3], [1, 2, 3]]"
      ]
     },
     "execution_count": 4,
     "metadata": {},
     "output_type": "execute_result"
    }
   ],
   "source": [
    "# Permutations\n",
    "from typing import List\n",
    "\n",
    "class Solution:\n",
    "\n",
    "    def permute(self, nums: List[int]) -> List[List[int]]:\n",
    "\n",
    "\n",
    "        res = []\n",
    "        \n",
    "        if len(nums) == 1:\n",
    "            return [nums[:]]\n",
    "\n",
    "        for i in range(len(nums)):\n",
    "\n",
    "            # pop from front\n",
    "            n = nums.pop(0)\n",
    "            permutations = self.permute(nums)\n",
    "\n",
    "            for perm in permutations:\n",
    "                perm.append(n)\n",
    "            \n",
    "            res.extend(permutations)\n",
    "            # put in the back\n",
    "            nums.append(n)\n",
    "\n",
    "        return res\n",
    "\n",
    "\n",
    "Solution().permute([1,2,3])"
   ]
  },
  {
   "cell_type": "code",
   "execution_count": 8,
   "id": "7de0de24-fae3-42f7-8f35-09eafbb27fec",
   "metadata": {},
   "outputs": [
    {
     "data": {
      "text/plain": [
       "['c', 'a', 'a', 'b', 'b', 'c']"
      ]
     },
     "execution_count": 8,
     "metadata": {},
     "output_type": "execute_result"
    }
   ],
   "source": [
    "class Solution:\n",
    "\n",
    "    def permute(self, s: str) -> List[str]:\n",
    "\n",
    "        res = []\n",
    "\n",
    "        if len(s) == 1:\n",
    "            return [s[:]]\n",
    "\n",
    "        for i in range(len(s)):\n",
    "\n",
    "            c = s[0]\n",
    "            rest = s[1:]\n",
    "            permutations = self.permute(rest)\n",
    "\n",
    "            for perm in permutations:\n",
    "                perm += c\n",
    "\n",
    "            res.extend(perm)\n",
    "            s = rest+c\n",
    "\n",
    "        return res\n",
    "\n",
    "            \n",
    "Solution().permute(\"abc\")"
   ]
  },
  {
   "cell_type": "code",
   "execution_count": 11,
   "id": "d9da49e0-e07e-47cf-b437-72e2d462ebf6",
   "metadata": {},
   "outputs": [
    {
     "data": {
      "text/plain": [
       "[[1, 2, 3], [1, 2], [1, 3], [1], [2, 3], [2], [3], []]"
      ]
     },
     "execution_count": 11,
     "metadata": {},
     "output_type": "execute_result"
    }
   ],
   "source": [
    "[1,2,3]\n",
    "\n",
    "class Solution:\n",
    "\n",
    "    def subsets(self, nums: List[int]) -> List[List[int]]:\n",
    "\n",
    "        res = []\n",
    "        cur = []\n",
    "        def dfs(i):\n",
    "\n",
    "            if i == len(nums):\n",
    "                res.append(cur.copy())\n",
    "                return\n",
    "\n",
    "            cur.append(nums[i])\n",
    "            dfs(i+1)\n",
    "\n",
    "            cur.pop()\n",
    "            dfs(i+1)\n",
    "\n",
    "        dfs(0)\n",
    "        return res\n",
    "\n",
    "Solution().subsets([1,2,3])"
   ]
  },
  {
   "cell_type": "code",
   "execution_count": null,
   "id": "2f5f1646-184d-4911-8e0a-ccfee2a0da0d",
   "metadata": {},
   "outputs": [],
   "source": []
  }
 ],
 "metadata": {
  "kernelspec": {
   "display_name": "Python 3 (ipykernel)",
   "language": "python",
   "name": "python3"
  },
  "language_info": {
   "codemirror_mode": {
    "name": "ipython",
    "version": 3
   },
   "file_extension": ".py",
   "mimetype": "text/x-python",
   "name": "python",
   "nbconvert_exporter": "python",
   "pygments_lexer": "ipython3",
   "version": "3.10.10"
  }
 },
 "nbformat": 4,
 "nbformat_minor": 5
}
