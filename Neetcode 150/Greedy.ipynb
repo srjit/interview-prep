{
 "cells": [
  {
   "cell_type": "code",
   "execution_count": 13,
   "id": "a797456d-ef0c-4fbf-8f54-2e647ce750ec",
   "metadata": {},
   "outputs": [
    {
     "data": {
      "text/plain": [
       "2"
      ]
     },
     "execution_count": 13,
     "metadata": {},
     "output_type": "execute_result"
    }
   ],
   "source": [
    "class Solution:\n",
    "    def jump(self, nums) -> int:\n",
    "        \n",
    "\n",
    "        dp = [float('inf')] * len(nums)\n",
    "        dp[0] = 0\n",
    "\n",
    "        for i in range(len(nums)-1):\n",
    "\n",
    "            r = nums[i]\n",
    "            for j in range(i+1, i+r+1):\n",
    "                if j < len(nums):\n",
    "                    dp[j] = min(1+dp[i], dp[j])\n",
    "            \n",
    "\n",
    "        return dp[-1]\n",
    "\n",
    "Solution().jump([2,3, 1, 1, 4])"
   ]
  },
  {
   "cell_type": "code",
   "execution_count": 15,
   "id": "3186cd56-9b74-41d3-86d0-0d3ad2a221f3",
   "metadata": {},
   "outputs": [],
   "source": [
    "from typing import List\n",
    "\n",
    "class Solution:\n",
    "    \n",
    "    def mergeTriplets(self, triplets: List[List[int]], target: List[int]) -> bool:\n",
    "\n",
    "        res = set()\n",
    "\n",
    "        for t in triplets:\n",
    "\n",
    "            if t[0] < target[0] or t[1] < target[1] or t[2] < target[2]: \n",
    "                continue\n",
    "\n",
    "            for i, v in enumerate(t):\n",
    "                if v[i] == t[i]:\n",
    "                    res.add(i)\n",
    "\n",
    "        return len(res) == 3"
   ]
  },
  {
   "cell_type": "code",
   "execution_count": 16,
   "id": "0173b782-94ac-42c5-9ef7-c85e511da903",
   "metadata": {},
   "outputs": [],
   "source": [
    "\n",
    "class Solution:\n",
    "    def partitionLabels(self, s: str) -> List[int]:\n",
    "\n",
    "        # create the last index dict\n",
    "        lastindex = {}\n",
    "        for i,c in enumerate(s):\n",
    "            lastindex[c] = i\n",
    "\n",
    "        res = []\n",
    "        size = 0\n",
    "        end = 0\n",
    "        for i, c in enumerate(s):\n",
    "\n",
    "            size += 1\n",
    "            end = max(last_index[c], end)\n",
    "\n",
    "            if i == end:\n",
    "                res.append(size)\n",
    "                size = 0\n",
    "                \n",
    "\n",
    "        return res\n",
    "        "
   ]
  },
  {
   "cell_type": "code",
   "execution_count": 19,
   "id": "dffcc6d3-74df-44a9-a35c-331a50202f4d",
   "metadata": {},
   "outputs": [
    {
     "data": {
      "text/plain": [
       "3"
      ]
     },
     "execution_count": 19,
     "metadata": {},
     "output_type": "execute_result"
    }
   ],
   "source": [
    "## Car Fleet\n",
    "\n",
    "class Solution:\n",
    "    def carFleet(self, target: int, position: List[int], speed: List[int]) -> int:\n",
    "\n",
    "        fleets = 0\n",
    "\n",
    "        while min(position) < target:\n",
    "\n",
    "            reached_target = 0\n",
    "            \n",
    "            for i in range(len(position)):\n",
    "                \n",
    "                if position[i] < target:\n",
    "                    position[i] += speed[i]\n",
    "                    if position[i] >= target:\n",
    "                        reached_target += 1\n",
    "                    \n",
    "            if reached_target > 0:\n",
    "                fleets += 1\n",
    "        \n",
    "        return fleets\n",
    "\n",
    "\n",
    "Solution().carFleet(10, [4,1,0,7], [2,2,1,1])"
   ]
  },
  {
   "cell_type": "code",
   "execution_count": null,
   "id": "77a99933-f024-4e36-a254-3eee5ca0cb22",
   "metadata": {},
   "outputs": [],
   "source": []
  }
 ],
 "metadata": {
  "kernelspec": {
   "display_name": "Python 3 (ipykernel)",
   "language": "python",
   "name": "python3"
  },
  "language_info": {
   "codemirror_mode": {
    "name": "ipython",
    "version": 3
   },
   "file_extension": ".py",
   "mimetype": "text/x-python",
   "name": "python",
   "nbconvert_exporter": "python",
   "pygments_lexer": "ipython3",
   "version": "3.10.10"
  }
 },
 "nbformat": 4,
 "nbformat_minor": 5
}
