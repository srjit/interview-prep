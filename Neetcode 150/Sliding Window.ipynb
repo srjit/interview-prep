{
 "cells": [
  {
   "cell_type": "code",
   "execution_count": 1,
   "id": "358a315b-8a6a-405d-ba8c-b993c6a4c3e3",
   "metadata": {},
   "outputs": [
    {
     "data": {
      "text/plain": [
       "6"
      ]
     },
     "execution_count": 1,
     "metadata": {},
     "output_type": "execute_result"
    }
   ],
   "source": [
    "from typing import List\n",
    "\n",
    "class Solution:\n",
    "    \n",
    "    def maxProfit(self, prices: List[int]) -> int:\n",
    "\n",
    "        minBuyPrice = prices[0]\n",
    "        maxProfit = 0\n",
    "        for price in prices:\n",
    "\n",
    "            maxProfit = max(price-minBuyPrice, maxProfit)\n",
    "            minBuyPrice = min(minBuyPrice, price)\n",
    "\n",
    "        return maxProfit\n",
    "            \n",
    "\n",
    "prices = [10,1,5,6,7,1]\n",
    "Solution().maxProfit(prices)"
   ]
  },
  {
   "cell_type": "code",
   "execution_count": 2,
   "id": "96546664-5423-42bb-8fe3-c2b47511b457",
   "metadata": {},
   "outputs": [
    {
     "data": {
      "text/plain": [
       "3"
      ]
     },
     "execution_count": 2,
     "metadata": {},
     "output_type": "execute_result"
    }
   ],
   "source": [
    "# Given a string s, find the length of the \n",
    "# `longest substring` without duplicate characters.\n",
    "\n",
    "class Solution:\n",
    "    \n",
    "    def lengthOfLongestSubstring(self, s: str) -> int:\n",
    "\n",
    "        letters = set()\n",
    "        longest = 0\n",
    "        l = 0\n",
    "        \n",
    "        for r, c in enumerate(s):\n",
    "            \n",
    "            while c in letters:\n",
    "                letters.remove(s[l])\n",
    "                l += 1\n",
    "\n",
    "            letters.add(c)\n",
    "            longest = max(longest, r-l+1)\n",
    "\n",
    "        return longest\n",
    "\n",
    "Solution().lengthOfLongestSubstring(\"pwwkew\")"
   ]
  },
  {
   "cell_type": "code",
   "execution_count": 3,
   "id": "25ba48f3-9934-4f07-94f9-4acc1dfa88c6",
   "metadata": {},
   "outputs": [
    {
     "data": {
      "text/plain": [
       "5"
      ]
     },
     "execution_count": 3,
     "metadata": {},
     "output_type": "execute_result"
    }
   ],
   "source": [
    "from collections import defaultdict\n",
    "\n",
    "class Solution:\n",
    "    \n",
    "    def characterReplacement(self, s: str, k: int) -> int:\n",
    "\n",
    "        count = {}\n",
    "        res = 0\n",
    "        l = 0 \n",
    "\n",
    "        for r in range(len(s)):\n",
    "            \n",
    "            count[s[r]] = 1 + count.get(s[r], 0)\n",
    "            max_freq = max(count.values())\n",
    "\n",
    "            while (r-l+1) - max_freq > k:\n",
    "                count[s[l]] -= 1\n",
    "                l += 1\n",
    "                \n",
    "                \n",
    "            res = max(res, r-l + 1)\n",
    "        return res\n",
    "            \n",
    "            \n",
    "\n",
    "Solution().characterReplacement(\"AAABABB\", k=1)\n"
   ]
  },
  {
   "cell_type": "code",
   "execution_count": null,
   "id": "ac706f59-3c32-4cec-908d-83398bffaaf5",
   "metadata": {},
   "outputs": [],
   "source": []
  },
  {
   "cell_type": "code",
   "execution_count": 6,
   "id": "f67d314b-851e-492e-b5fb-12d729c01bfe",
   "metadata": {},
   "outputs": [
    {
     "data": {
      "text/plain": [
       "['a',\n",
       " 'a',\n",
       " 'a',\n",
       " 'a',\n",
       " 'a',\n",
       " 'a',\n",
       " 'a',\n",
       " 'a',\n",
       " 'a',\n",
       " 'a',\n",
       " 'a',\n",
       " 'a',\n",
       " 'a',\n",
       " 'a',\n",
       " 'a',\n",
       " 'a',\n",
       " 'a',\n",
       " 'a',\n",
       " 'a',\n",
       " 'a',\n",
       " 'a',\n",
       " 'a',\n",
       " 'a',\n",
       " 'a',\n",
       " 'a',\n",
       " 'a',\n",
       " 'a',\n",
       " 'a']"
      ]
     },
     "execution_count": 6,
     "metadata": {},
     "output_type": "execute_result"
    }
   ],
   "source": [
    "class Solution:\n",
    "    def checkInclusion(self, s1: str, s2: str) -> bool:\n",
    "\n",
    "        result = []\n",
    "        \n",
    "        def permute(s):\n",
    "            \n",
    "            if len(s) == 1:\n",
    "                return s\n",
    "\n",
    "            for i in range(len(s)):\n",
    "\n",
    "                _l = s[-1]\n",
    "                _s = s[:-1]\n",
    "                permutations = permute(_s)\n",
    "\n",
    "                for perm in permutations:\n",
    "                    perm += _l\n",
    "                \n",
    "                result.extend(permutations)\n",
    "\n",
    "            return result\n",
    "\n",
    "        return permute(\"abc\")\n",
    "\n",
    "\n",
    "Solution().checkInclusion(\"abc\", \"lecaabee\")"
   ]
  },
  {
   "cell_type": "code",
   "execution_count": null,
   "id": "6d86a4d4-1f16-4c58-9392-bef575038dee",
   "metadata": {},
   "outputs": [],
   "source": []
  }
 ],
 "metadata": {
  "kernelspec": {
   "display_name": "Python 3 (ipykernel)",
   "language": "python",
   "name": "python3"
  },
  "language_info": {
   "codemirror_mode": {
    "name": "ipython",
    "version": 3
   },
   "file_extension": ".py",
   "mimetype": "text/x-python",
   "name": "python",
   "nbconvert_exporter": "python",
   "pygments_lexer": "ipython3",
   "version": "3.10.10"
  }
 },
 "nbformat": 4,
 "nbformat_minor": 5
}
