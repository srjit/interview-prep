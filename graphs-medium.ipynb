{
 "cells": [
  {
   "cell_type": "markdown",
   "id": "e32e557a-8cd5-4420-9e89-c46bfdc721ed",
   "metadata": {},
   "source": [
    "## Graph Problems"
   ]
  },
  {
   "cell_type": "markdown",
   "id": "0520bca8-3976-4dc6-a932-7018f3645f70",
   "metadata": {},
   "source": [
    "### Pacific Atlantic Water flow"
   ]
  },
  {
   "cell_type": "code",
   "execution_count": 3,
   "id": "9258f829-7a83-4aa9-a061-a423f1b11d6f",
   "metadata": {},
   "outputs": [],
   "source": [
    "from typing import List \n",
    "\n",
    "class Solution:\n",
    "\n",
    "    def pacificAtlantic(self, height: List[List[int]]) -> List[List[int]]:\n",
    "\n",
    "        ROWS, COLS = len(height), len(height[0])\n",
    "        atl, pac = set(), set()\n",
    "\n",
    "\n",
    "        def dfs(r, c, visit, prev):\n",
    "\n",
    "            if (r < 0) or (r >= ROWS) or (c < 0) or (c >= COLS) or ((r,c) in visit) or (height[r][c] < prev):\n",
    "                return\n",
    "            visit.add((r, c))\n",
    "            dfs(r-1, c, visit, height[r][c])\n",
    "            dfs(r+1, c, visit, height[r][c])\n",
    "            dfs(r, c-1, visit, height[r][c])\n",
    "            dfs(r, c+1, visit, height[r][c])\n",
    "\n",
    "\n",
    "        # add the border columns to pacific and atlantic\n",
    "        for r in range(ROWS):\n",
    "\n",
    "            # start from cells where all water can reach - set prev height = current height for them\n",
    "            dfs(r, 0, pac, height[r][0])\n",
    "            dfs(r, COLS-1, atl, height[r][COLS-1])\n",
    "\n",
    "        for c in range(COLS):\n",
    "\n",
    "            dfs(0, c, pac, height[0][c])\n",
    "            dfs(ROWS-1, c, atl, height[ROWS-1][c])\n",
    "\n",
    "\n",
    "        op = []\n",
    "        for r in range(ROWS):\n",
    "            for c in range(COLS):\n",
    "                if ((r, c) in pac) & ((r, c) in atl):\n",
    "                    op.append((r, c))\n",
    "\n",
    "        return op"
   ]
  },
  {
   "cell_type": "markdown",
   "id": "88025856-ff61-4589-bf79-8db5d8f1ad61",
   "metadata": {},
   "source": [
    "### Number of Islands"
   ]
  },
  {
   "cell_type": "code",
   "execution_count": 4,
   "id": "66e7ba6d-c1cd-4e26-8ffb-125e1ea52d81",
   "metadata": {},
   "outputs": [],
   "source": [
    "class Solution:\n",
    "\n",
    "    def numIslands(self, grid: List[List[str]]) -> int:\n",
    "\n",
    "        ROWS, COLS = len(grid), len(grid[0])\n",
    "        visit = set()\n",
    "\n",
    "        def dfs(r, c):\n",
    "\n",
    "            if (r < 0) or (r >= ROWS) or (c < 0) or (c >= COLS) or ((r, c) in visit):\n",
    "                return\n",
    "            visit.add(r, c)\n",
    "            neighbors = [(-1, 0), (1, 0), (0, -1), (0, 1)]\n",
    "            for dr, dc in neighbors:\n",
    "                _r, _c = r+dr, c+dc\n",
    "                if not ((_r < 0) or (_c < 0) or (_r >= ROWS) or (_c >= COLS) or ((_r, _c) in visit) or (grid[_r][_c] != '1')):\n",
    "                    dfs(_r, _c)\n",
    "                \n",
    "                \n",
    "        islands = 0\n",
    "        for r in range(ROWS):\n",
    "            for c in range(COLS):\n",
    "                if grid[r][c] == '1' and ((r, c) not in visit):\n",
    "                    dfs(r, c)\n",
    "                    islands += 1\n",
    "\n",
    "        return islands"
   ]
  },
  {
   "cell_type": "markdown",
   "id": "4964839d-09df-4cd9-b14a-c2dabd6676ba",
   "metadata": {},
   "source": [
    "### Clone Graph"
   ]
  },
  {
   "cell_type": "code",
   "execution_count": 5,
   "id": "9140de04-ca7a-4bb9-b5d4-90730058c4a1",
   "metadata": {},
   "outputs": [],
   "source": [
    "from typing import Optional\n",
    "\n",
    "class Node:\n",
    "    def __init__(self, val = 0, neighbors = None):\n",
    "        self.val = val\n",
    "        self.neighbors = neighbors if neighbors is not None else []\n",
    "\n",
    "class Solution:\n",
    "    \n",
    "    def cloneGraph(self, node: Optional['Node']) -> Optional['Node']:\n",
    "\n",
    "        _d = {}\n",
    "        def copy(node):\n",
    "\n",
    "            if node in _d:\n",
    "                return _d[node]\n",
    "            # copy dictionary\n",
    "            copy = Node(node.val)\n",
    "            _d[node] = copy\n",
    "            for neighbor in node.neighbors:\n",
    "                copy.neighbors.append(dfs(neighbor))\n",
    "\n",
    "        return dfs(node) if node else None\n"
   ]
  },
  {
   "cell_type": "code",
   "execution_count": 4,
   "id": "38436b2f-b968-44e3-9626-6adb3ae09f01",
   "metadata": {},
   "outputs": [],
   "source": [
    "### Course Schedule\n",
    "\n",
    "from typing import List\n",
    "\n",
    "class Solution:\n",
    "\n",
    "    def canFinish(self, numCourses: int, prerequisites: List[List[int]]) -> bool:\n",
    "\n",
    "        # build the requirement dict\n",
    "        preReq = {x: [] for x in range(numCourses)}\n",
    "        for c1, c2 in prerequisites:\n",
    "            preReq[c1].append(c2)\n",
    "\n",
    "        visit = set()\n",
    "        def dfs(crs):\n",
    "            if crs in visit:\n",
    "                return False\n",
    "            if preReq[crs] == []:\n",
    "                return True\n",
    "            visit.add(crs)\n",
    "            for pre in preReq[crs]:\n",
    "                if not dfs(pre): return False\n",
    "            \n",
    "            visit.remove(crs)\n",
    "            preReq[crs] = []\n",
    "            return True\n",
    "            \n",
    "        for c in range(numCourses):\n",
    "            if not dfs(c):\n",
    "                return False\n",
    "        return True"
   ]
  },
  {
   "cell_type": "code",
   "execution_count": null,
   "id": "aab7f819-4055-4e0d-bbd6-41d4805e0b13",
   "metadata": {},
   "outputs": [],
   "source": []
  }
 ],
 "metadata": {
  "kernelspec": {
   "display_name": "transformers",
   "language": "python",
   "name": "transformers"
  },
  "language_info": {
   "codemirror_mode": {
    "name": "ipython",
    "version": 3
   },
   "file_extension": ".py",
   "mimetype": "text/x-python",
   "name": "python",
   "nbconvert_exporter": "python",
   "pygments_lexer": "ipython3",
   "version": "3.9.9"
  }
 },
 "nbformat": 4,
 "nbformat_minor": 5
}
