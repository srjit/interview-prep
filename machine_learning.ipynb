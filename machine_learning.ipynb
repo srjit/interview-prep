{
 "cells": [
  {
   "cell_type": "code",
   "execution_count": 1,
   "id": "943f3d0a-1294-426b-8175-17dd60daf5c7",
   "metadata": {},
   "outputs": [],
   "source": [
    "## Linear Regression (Forward)"
   ]
  },
  {
   "cell_type": "code",
   "execution_count": 2,
   "id": "93040891-28f8-4613-9097-a467adf02ddf",
   "metadata": {},
   "outputs": [],
   "source": [
    "import numpy as np\n",
    "from numpy.typing import NDArray\n",
    "\n",
    "\n",
    "class Solution:\n",
    "    \n",
    "    def get_model_prediction(self, X: NDArray[np.float64], weights: NDArray[np.float64]) -> NDArray[np.float64]:\n",
    "        # X is an Nx3 NumPy array\n",
    "        # weights is a 3x1 NumPy array\n",
    "        # HINT: np.matmul() will be useful\n",
    "        # return np.round(your_answer, 5)\n",
    "        pred = np.matmul(X, weights)\n",
    "        return np.round(pred, 5)\n",
    "\n",
    "\n",
    "    def get_error(self, model_prediction: NDArray[np.float64], ground_truth: NDArray[np.float64]) -> float:\n",
    "        # model_prediction is an Nx1 NumPy array\n",
    "        # ground_truth is an Nx1 NumPy array\n",
    "        # HINT: np.mean(), np.square() will be useful\n",
    "        # return round(your_answer, 5)\n",
    "\n",
    "        error = np.mean(np.square(model_prediction - ground_truth))\n",
    "        return round(error, 5)"
   ]
  },
  {
   "cell_type": "code",
   "execution_count": 3,
   "id": "b98b10ff-1a06-441d-bb8f-2d831e5dfbbc",
   "metadata": {},
   "outputs": [],
   "source": [
    "## Linear Regression (Training)"
   ]
  },
  {
   "cell_type": "code",
   "execution_count": 4,
   "id": "6f926b20-c155-40cd-a410-4392e86a7e03",
   "metadata": {},
   "outputs": [],
   "source": [
    "import numpy as np\n",
    "from numpy.typing import NDArray\n",
    "\n",
    "\n",
    "class Solution:\n",
    "    def get_derivative(self, model_prediction: NDArray[np.float64], ground_truth: NDArray[np.float64], N: int, X: NDArray[np.float64], desired_weight: int) -> float:\n",
    "        # note that N is just len(X)\n",
    "        return -2 * np.dot(ground_truth - model_prediction, X[:, desired_weight]) / N\n",
    "\n",
    "    def get_model_prediction(self, X: NDArray[np.float64], weights: NDArray[np.float64]) -> NDArray[np.float64]:\n",
    "        return np.squeeze(np.matmul(X, weights))\n",
    "\n",
    "    learning_rate = 0.01\n",
    "\n",
    "    def train_model(\n",
    "        self, \n",
    "        X: NDArray[np.float64], \n",
    "        Y: NDArray[np.float64], \n",
    "        num_iterations: int, \n",
    "        initial_weights: NDArray[np.float64]\n",
    "    ) -> NDArray[np.float64]:\n",
    "\n",
    "        # you will need to call get_derivative() for each weight\n",
    "        # and update each one separately based on the learning rate!\n",
    "        # return np.round(your_answer, 5)\n",
    "        weights = initial_weights\n",
    "        for _ in range(num_iterations):\n",
    "            \n",
    "            predictions = self.get_model_prediction(X, weights)\n",
    "            \n",
    "            d1 = self.get_derivative(predictions, Y, len(X), X, 0)\n",
    "            d2 = self.get_derivative(predictions, Y, len(X), X, 1)\n",
    "            d3 = self.get_derivative(predictions, Y, len(X), X, 2)\n",
    "\n",
    "            weights[0] = weights[0] - self.learning_rate * d1\n",
    "            weights[1] = weights[1] - self.learning_rate * d2\n",
    "            weights[2] = weights[2] - self.learning_rate * d3\n",
    "        \n",
    "        return np.round(weights, 5)"
   ]
  },
  {
   "cell_type": "code",
   "execution_count": 5,
   "id": "b568d52f-ec8f-42c4-88f7-ca1512bdb5fe",
   "metadata": {},
   "outputs": [],
   "source": [
    "## Digits"
   ]
  },
  {
   "cell_type": "code",
   "execution_count": 1,
   "id": "a01449e2-044b-4c14-a387-305938a7d0ce",
   "metadata": {},
   "outputs": [],
   "source": [
    "import torch\n",
    "import torch.nn as nn\n",
    "from torchtyping import TensorType\n",
    "\n",
    "class Solution(nn.Module):\n",
    "    def __init__(self):\n",
    "        super().__init__()\n",
    "        torch.manual_seed(0)\n",
    "        self.l1 = nn.Linear(784, 512)\n",
    "        self.relu = nn.ReLU()\n",
    "        self.dropout = nn.Dropout(p=0.2)\n",
    "        self.l2 = nn.Linear(512, 10)\n",
    "        self.l3 = nn.Sigmoid()\n",
    "        \n",
    "    \n",
    "    def forward(self, images: TensorType[float]) -> TensorType[float]:\n",
    "        \n",
    "        torch.manual_seed(0)\n",
    "        pred = self.l3(self.l2(self.dropout(self.relu(self.l1(images)))))\n",
    "        return  torch.round(pred, decimals=4)"
   ]
  },
  {
   "cell_type": "code",
   "execution_count": 2,
   "id": "66741dab-91df-4e06-8b56-a3488344a85d",
   "metadata": {},
   "outputs": [],
   "source": [
    "## NLP Basics"
   ]
  },
  {
   "cell_type": "code",
   "execution_count": 4,
   "id": "49c634e6-997f-41fc-9992-6001623c738e",
   "metadata": {},
   "outputs": [],
   "source": [
    "import torch\n",
    "import torch.nn as nn\n",
    "from torchtyping import TensorType\n",
    "from typing import List\n",
    "\n",
    "# torch.tensor(python_list) returns a Python list as a tensor\n",
    "class Solution:\n",
    "    def get_dataset(self, positive: List[str], negative: List[str]) -> TensorType[float]:\n",
    "        \n",
    "        _l = positive + negative\n",
    "        words = set()\n",
    "        for sentence in _l:\n",
    "            words.update(sentence.split())\n",
    "\n",
    "        d_ = {word:i+1 for i, word in enumerate(sorted(list(words)))}\n",
    "        rev = {i+1: word for word, i in d_.items()}\n",
    "\n",
    "        encode = lambda x: [d_[w] for w in x.split()]\n",
    "        decode = lambda y: \" \".join([rev[i] for i in y])\n",
    "\n",
    "        var_len_tensors = []\n",
    "        for sentence in _l:\n",
    "            var_len_tensors.append(torch.tensor(encode(sentence)))\n",
    "        \n",
    "        return nn.utils.rnn.pad_sequence(var_len_tensors, batch_first=True)"
   ]
  },
  {
   "cell_type": "code",
   "execution_count": null,
   "id": "8c2bd893-a09f-4365-8e8f-73ceb0383bfc",
   "metadata": {},
   "outputs": [],
   "source": []
  }
 ],
 "metadata": {
  "kernelspec": {
   "display_name": "llms",
   "language": "python",
   "name": "llms"
  },
  "language_info": {
   "codemirror_mode": {
    "name": "ipython",
    "version": 3
   },
   "file_extension": ".py",
   "mimetype": "text/x-python",
   "name": "python",
   "nbconvert_exporter": "python",
   "pygments_lexer": "ipython3",
   "version": "3.10.10"
  }
 },
 "nbformat": 4,
 "nbformat_minor": 5
}
