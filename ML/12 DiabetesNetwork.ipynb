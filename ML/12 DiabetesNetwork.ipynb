{
 "cells": [
  {
   "cell_type": "code",
   "execution_count": 10,
   "id": "4352eaa5-7c0d-48b6-b030-683314efa249",
   "metadata": {},
   "outputs": [],
   "source": [
    "import torch\n",
    "import torch.nn as nn\n",
    "from torch.utils.data import Dataset\n",
    "from torch.utils.data import DataLoader\n",
    "from torch.utils.data import random_split\n",
    "\n",
    "from ucimlrepo import fetch_ucirepo\n",
    "from tqdm import tqdm"
   ]
  },
  {
   "cell_type": "code",
   "execution_count": 2,
   "id": "b899eaaf-0239-4241-bb93-6c77f65af667",
   "metadata": {},
   "outputs": [],
   "source": [
    "class DiabetesDataset(Dataset):\n",
    "\n",
    "    def __init__(self):\n",
    "\n",
    "        cdc_diabetes_health_indicators = fetch_ucirepo(id=891) \n",
    "\n",
    "        self.X = torch.tensor(cdc_diabetes_health_indicators.data.features.values,\n",
    "                              dtype=torch.float32)\n",
    "        self.y = torch.tensor(cdc_diabetes_health_indicators.data.targets.values,\n",
    "                              dtype=torch.float32)\n",
    "\n",
    "    def __len__(self):\n",
    "        return len(self.X)\n",
    "\n",
    "    def __getitem__(self, index):\n",
    "        return self.X[index], self.y[index]"
   ]
  },
  {
   "cell_type": "code",
   "execution_count": 3,
   "id": "15c66288-c9ce-4c1a-a91e-d97641ce0020",
   "metadata": {},
   "outputs": [],
   "source": [
    "dataset = DiabetesDataset()\n",
    "\n",
    "train_size = int(0.8 * len(dataset)) \n",
    "test_size = len(dataset) - train_size"
   ]
  },
  {
   "cell_type": "code",
   "execution_count": 4,
   "id": "556dd954-05ff-4c5f-8979-0bbdb4efcdd1",
   "metadata": {},
   "outputs": [],
   "source": [
    "train_dataset, test_dataset = random_split(dataset, [train_size, test_size])"
   ]
  },
  {
   "cell_type": "code",
   "execution_count": 5,
   "id": "aabb50ae-1084-4f77-abce-33fc9de5a2d4",
   "metadata": {},
   "outputs": [],
   "source": [
    "batch_size = 32\n",
    "shuffle = True\n",
    "\n",
    "train_dataloader, test_dataloader = DataLoader(\n",
    "    train_dataset,\n",
    "    batch_size=batch_size,\n",
    "    shuffle=True\n",
    "), DataLoader(\n",
    "    test_dataset,\n",
    "    batch_size=batch_size,\n",
    "    shuffle=True\n",
    ")"
   ]
  },
  {
   "cell_type": "code",
   "execution_count": 6,
   "id": "2ba9ad60-edf4-4946-820e-d52b3c2a3dcc",
   "metadata": {},
   "outputs": [],
   "source": [
    "cdc_diabetes_health_indicators = fetch_ucirepo(id=891)\n",
    "X = cdc_diabetes_health_indicators.data.features\n",
    "y = cdc_diabetes_health_indicators.data.targets"
   ]
  },
  {
   "cell_type": "code",
   "execution_count": 7,
   "id": "77eb7c85-5cef-4442-83ba-29076d99df86",
   "metadata": {},
   "outputs": [],
   "source": [
    "# Create the neural net\n",
    "\n",
    "class SimpleNN(nn.Module):\n",
    "\n",
    "    def __init__(self):\n",
    "\n",
    "        super(SimpleNN, self).__init__()\n",
    "        \n",
    "        self.l1 = nn.Linear(21, 50)\n",
    "        self.relu = nn.ReLU()\n",
    "        self.l2 = nn.Linear(50, 1)\n",
    "        self.sigmoid = nn.Sigmoid() \n",
    "        \n",
    "\n",
    "    def forward(self, x):\n",
    "\n",
    "        return self.sigmoid(self.l2(self.relu(self.l1(x))))"
   ]
  },
  {
   "cell_type": "code",
   "execution_count": 8,
   "id": "2d44728e-46db-4e41-9f8d-fa7e2e5fdfc4",
   "metadata": {},
   "outputs": [],
   "source": [
    "model = SimpleNN()\n",
    "\n",
    "optimizer = torch.optim.Adam(\n",
    "    model.parameters(),\n",
    "    lr=0.01\n",
    ")\n",
    "loss_fn = torch.nn.BCELoss()"
   ]
  },
  {
   "cell_type": "code",
   "execution_count": 14,
   "id": "3f73b473-2073-4a53-beb3-7ba625d4e032",
   "metadata": {},
   "outputs": [
    {
     "name": "stdout",
     "output_type": "stream",
     "text": [
      "Epoch [1/50], Loss: 0.3205\n",
      "Epoch [2/50], Loss: 0.3202\n",
      "Epoch [3/50], Loss: 0.3202\n",
      "Epoch [4/50], Loss: 0.3201\n",
      "Epoch [5/50], Loss: 0.3202\n",
      "Epoch [6/50], Loss: 0.3204\n",
      "Epoch [7/50], Loss: 0.3202\n",
      "Epoch [8/50], Loss: 0.3202\n",
      "Epoch [9/50], Loss: 0.3206\n",
      "Epoch [10/50], Loss: 0.3206\n",
      "Epoch [11/50], Loss: 0.3200\n",
      "Epoch [12/50], Loss: 0.3198\n",
      "Epoch [13/50], Loss: 0.3197\n",
      "Epoch [14/50], Loss: 0.3202\n",
      "Epoch [15/50], Loss: 0.3205\n",
      "Epoch [16/50], Loss: 0.3202\n",
      "Epoch [17/50], Loss: 0.3199\n",
      "Epoch [18/50], Loss: 0.3200\n",
      "Epoch [19/50], Loss: 0.3197\n",
      "Epoch [20/50], Loss: 0.3199\n",
      "Epoch [21/50], Loss: 0.3197\n",
      "Epoch [22/50], Loss: 0.3194\n",
      "Epoch [23/50], Loss: 0.3199\n",
      "Epoch [24/50], Loss: 0.3197\n",
      "Epoch [25/50], Loss: 0.3194\n",
      "Epoch [26/50], Loss: 0.3196\n",
      "Epoch [27/50], Loss: 0.3196\n",
      "Epoch [28/50], Loss: 0.3196\n",
      "Epoch [29/50], Loss: 0.3194\n",
      "Epoch [30/50], Loss: 0.3196\n",
      "Epoch [31/50], Loss: 0.3197\n",
      "Epoch [32/50], Loss: 0.3195\n",
      "Epoch [33/50], Loss: 0.3196\n",
      "Epoch [34/50], Loss: 0.3194\n",
      "Epoch [35/50], Loss: 0.3195\n",
      "Epoch [36/50], Loss: 0.3197\n",
      "Epoch [37/50], Loss: 0.3195\n",
      "Epoch [38/50], Loss: 0.3196\n",
      "Epoch [39/50], Loss: 0.3197\n",
      "Epoch [40/50], Loss: 0.3198\n",
      "Epoch [41/50], Loss: 0.3193\n",
      "Epoch [42/50], Loss: 0.3196\n",
      "Epoch [43/50], Loss: 0.3194\n",
      "Epoch [44/50], Loss: 0.3192\n",
      "Epoch [45/50], Loss: 0.3197\n",
      "Epoch [46/50], Loss: 0.3194\n",
      "Epoch [47/50], Loss: 0.3192\n",
      "Epoch [48/50], Loss: 0.3192\n",
      "Epoch [49/50], Loss: 0.3191\n",
      "Epoch [50/50], Loss: 0.3192\n"
     ]
    }
   ],
   "source": [
    "# Training\n",
    "\n",
    "n_epochs = 50\n",
    "\n",
    "\n",
    "for epoch in range(n_epochs):\n",
    "\n",
    "    epoch_loss = 0.0\n",
    "\n",
    "    for inputs, targets in train_dataloader:\n",
    "\n",
    "        optimizer.zero_grad()\n",
    "        outputs = model(inputs)\n",
    "\n",
    "        loss = loss_fn(outputs, targets)\n",
    "        loss.backward()\n",
    "\n",
    "        optimizer.step()\n",
    "        epoch_loss += loss.item()\n",
    "\n",
    "    epoch_loss /= len(train_dataloader)\n",
    "    print(f'Epoch [{epoch + 1}/{n_epochs}], Loss: {epoch_loss:.4f}')"
   ]
  },
  {
   "cell_type": "code",
   "execution_count": null,
   "id": "4503d925-63f0-4b9d-b46c-f4271106c8dc",
   "metadata": {},
   "outputs": [],
   "source": []
  }
 ],
 "metadata": {
  "kernelspec": {
   "display_name": "llms",
   "language": "python",
   "name": "llms"
  },
  "language_info": {
   "codemirror_mode": {
    "name": "ipython",
    "version": 3
   },
   "file_extension": ".py",
   "mimetype": "text/x-python",
   "name": "python",
   "nbconvert_exporter": "python",
   "pygments_lexer": "ipython3",
   "version": "3.10.10"
  }
 },
 "nbformat": 4,
 "nbformat_minor": 5
}
