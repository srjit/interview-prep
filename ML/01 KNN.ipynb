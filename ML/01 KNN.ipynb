{
 "cells": [
  {
   "cell_type": "raw",
   "id": "b04712ca-0c1e-4caa-85a2-35b1f998a54d",
   "metadata": {},
   "source": [
    "'''\n",
    "    1. Calculate euclidean distance between two points\n",
    "    2. KNN inference    \n",
    "    \n",
    "'''"
   ]
  },
  {
   "cell_type": "code",
   "execution_count": 2,
   "id": "0a5fa716-4ef9-4772-af02-c63dcf74774d",
   "metadata": {},
   "outputs": [],
   "source": [
    "import numpy as np\n",
    "import math"
   ]
  },
  {
   "cell_type": "code",
   "execution_count": 3,
   "id": "cf258ff5-5339-47a6-904a-83aff38c813c",
   "metadata": {},
   "outputs": [],
   "source": [
    "def euclidean_distance(x: np.ndarray, y: np.ndarray) -> float:\n",
    "\n",
    "    #vectorized\n",
    "    return np.sqrt((x-y).T.dot(x-y))\n",
    "    \n",
    "    "
   ]
  },
  {
   "cell_type": "code",
   "execution_count": 4,
   "id": "3ad2a121-dc8a-442d-9c65-4f4a92270666",
   "metadata": {},
   "outputs": [],
   "source": [
    "def k_nearest(X_train: np.ndarray, y_train: np.ndarray, X_new: np.ndarray, k=3) -> int:\n",
    "    distances = []\n",
    "\n",
    "    # get euclidean distance of X_new with each row in X_train\n",
    "    for Xi in X_train:\n",
    "        distance = euclidean_distance(Xi, X_new)\n",
    "        distances.append(distance)\n",
    "\n",
    "    print(distances)\n",
    "\n",
    "    # Sort out the indices of k minimum distances\n",
    "    top_k_indices = np.argsort(distances)[:k]\n",
    "    \n",
    "    # Get the labels\n",
    "    top_k_labels = [y_train[i] for i in top_k_indices]\n",
    "\n",
    "    if sum(top_k_labels) > k/2:\n",
    "        return 1\n",
    "\n",
    "    return 0"
   ]
  },
  {
   "cell_type": "code",
   "execution_count": 5,
   "id": "24df9364-7eb2-4724-96ed-e463c38175d8",
   "metadata": {},
   "outputs": [
    {
     "name": "stdout",
     "output_type": "stream",
     "text": [
      "[0.0, 1.0, 2.0, 2.8284271247461903, 2.23606797749979]\n"
     ]
    },
    {
     "data": {
      "text/plain": [
       "0"
      ]
     },
     "execution_count": 5,
     "metadata": {},
     "output_type": "execute_result"
    }
   ],
   "source": [
    "X_train = np.array([\n",
    "    [0, 0],\n",
    "    [0, 1],\n",
    "    [2, 0],\n",
    "    [2, 2],\n",
    "    [2, 1]\n",
    "])\n",
    "y_train = np.array([0, 0, 0, 1, 1])\n",
    "\n",
    "X_new = np.array([0, 0])\n",
    "\n",
    "k_nearest(X_train, y_train, X_new)"
   ]
  },
  {
   "cell_type": "code",
   "execution_count": null,
   "id": "4cc7f920-006d-4694-a1a2-17f6d9bfc81a",
   "metadata": {},
   "outputs": [],
   "source": []
  },
  {
   "cell_type": "code",
   "execution_count": null,
   "id": "d9cf816a-8634-489e-9339-2589e90df2bb",
   "metadata": {},
   "outputs": [],
   "source": []
  }
 ],
 "metadata": {
  "kernelspec": {
   "display_name": "transformers",
   "language": "python",
   "name": "transformers"
  },
  "language_info": {
   "codemirror_mode": {
    "name": "ipython",
    "version": 3
   },
   "file_extension": ".py",
   "mimetype": "text/x-python",
   "name": "python",
   "nbconvert_exporter": "python",
   "pygments_lexer": "ipython3",
   "version": "3.9.9"
  }
 },
 "nbformat": 4,
 "nbformat_minor": 5
}
