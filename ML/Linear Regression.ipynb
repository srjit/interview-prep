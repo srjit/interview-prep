{
 "cells": [
  {
   "cell_type": "code",
   "execution_count": 1,
   "id": "1147ed81-0285-4f29-97b3-a55ea906ec63",
   "metadata": {},
   "outputs": [],
   "source": [
    "import pandas as pd\n",
    "import matplotlib.pyplot as plt"
   ]
  },
  {
   "cell_type": "code",
   "execution_count": 2,
   "id": "c8abb2d2-2083-4de6-baa2-b3329de27342",
   "metadata": {},
   "outputs": [
    {
     "name": "stderr",
     "output_type": "stream",
     "text": [
      "/var/folders/gh/tdqdcp611d5c7yv0b0np772c0000gn/T/ipykernel_9358/128162166.py:1: DtypeWarning: Columns (7,8,18,25) have mixed types. Specify dtype option on import or set low_memory=False.\n",
      "  df = pd.read_csv(\"data/Summary of Weather.csv\")\n"
     ]
    },
    {
     "data": {
      "text/html": [
       "<div>\n",
       "<style scoped>\n",
       "    .dataframe tbody tr th:only-of-type {\n",
       "        vertical-align: middle;\n",
       "    }\n",
       "\n",
       "    .dataframe tbody tr th {\n",
       "        vertical-align: top;\n",
       "    }\n",
       "\n",
       "    .dataframe thead th {\n",
       "        text-align: right;\n",
       "    }\n",
       "</style>\n",
       "<table border=\"1\" class=\"dataframe\">\n",
       "  <thead>\n",
       "    <tr style=\"text-align: right;\">\n",
       "      <th></th>\n",
       "      <th>STA</th>\n",
       "      <th>Date</th>\n",
       "      <th>Precip</th>\n",
       "      <th>WindGustSpd</th>\n",
       "      <th>MaxTemp</th>\n",
       "      <th>MinTemp</th>\n",
       "      <th>MeanTemp</th>\n",
       "      <th>Snowfall</th>\n",
       "      <th>PoorWeather</th>\n",
       "      <th>YR</th>\n",
       "      <th>...</th>\n",
       "      <th>FB</th>\n",
       "      <th>FTI</th>\n",
       "      <th>ITH</th>\n",
       "      <th>PGT</th>\n",
       "      <th>TSHDSBRSGF</th>\n",
       "      <th>SD3</th>\n",
       "      <th>RHX</th>\n",
       "      <th>RHN</th>\n",
       "      <th>RVG</th>\n",
       "      <th>WTE</th>\n",
       "    </tr>\n",
       "  </thead>\n",
       "  <tbody>\n",
       "    <tr>\n",
       "      <th>0</th>\n",
       "      <td>10001</td>\n",
       "      <td>1942-7-1</td>\n",
       "      <td>1.016</td>\n",
       "      <td>NaN</td>\n",
       "      <td>25.555556</td>\n",
       "      <td>22.222222</td>\n",
       "      <td>23.888889</td>\n",
       "      <td>0.0</td>\n",
       "      <td>NaN</td>\n",
       "      <td>42</td>\n",
       "      <td>...</td>\n",
       "      <td>NaN</td>\n",
       "      <td>NaN</td>\n",
       "      <td>NaN</td>\n",
       "      <td>NaN</td>\n",
       "      <td>NaN</td>\n",
       "      <td>NaN</td>\n",
       "      <td>NaN</td>\n",
       "      <td>NaN</td>\n",
       "      <td>NaN</td>\n",
       "      <td>NaN</td>\n",
       "    </tr>\n",
       "    <tr>\n",
       "      <th>1</th>\n",
       "      <td>10001</td>\n",
       "      <td>1942-7-2</td>\n",
       "      <td>0</td>\n",
       "      <td>NaN</td>\n",
       "      <td>28.888889</td>\n",
       "      <td>21.666667</td>\n",
       "      <td>25.555556</td>\n",
       "      <td>0.0</td>\n",
       "      <td>NaN</td>\n",
       "      <td>42</td>\n",
       "      <td>...</td>\n",
       "      <td>NaN</td>\n",
       "      <td>NaN</td>\n",
       "      <td>NaN</td>\n",
       "      <td>NaN</td>\n",
       "      <td>NaN</td>\n",
       "      <td>NaN</td>\n",
       "      <td>NaN</td>\n",
       "      <td>NaN</td>\n",
       "      <td>NaN</td>\n",
       "      <td>NaN</td>\n",
       "    </tr>\n",
       "    <tr>\n",
       "      <th>2</th>\n",
       "      <td>10001</td>\n",
       "      <td>1942-7-3</td>\n",
       "      <td>2.54</td>\n",
       "      <td>NaN</td>\n",
       "      <td>26.111111</td>\n",
       "      <td>22.222222</td>\n",
       "      <td>24.444444</td>\n",
       "      <td>0.0</td>\n",
       "      <td>NaN</td>\n",
       "      <td>42</td>\n",
       "      <td>...</td>\n",
       "      <td>NaN</td>\n",
       "      <td>NaN</td>\n",
       "      <td>NaN</td>\n",
       "      <td>NaN</td>\n",
       "      <td>NaN</td>\n",
       "      <td>NaN</td>\n",
       "      <td>NaN</td>\n",
       "      <td>NaN</td>\n",
       "      <td>NaN</td>\n",
       "      <td>NaN</td>\n",
       "    </tr>\n",
       "    <tr>\n",
       "      <th>3</th>\n",
       "      <td>10001</td>\n",
       "      <td>1942-7-4</td>\n",
       "      <td>2.54</td>\n",
       "      <td>NaN</td>\n",
       "      <td>26.666667</td>\n",
       "      <td>22.222222</td>\n",
       "      <td>24.444444</td>\n",
       "      <td>0.0</td>\n",
       "      <td>NaN</td>\n",
       "      <td>42</td>\n",
       "      <td>...</td>\n",
       "      <td>NaN</td>\n",
       "      <td>NaN</td>\n",
       "      <td>NaN</td>\n",
       "      <td>NaN</td>\n",
       "      <td>NaN</td>\n",
       "      <td>NaN</td>\n",
       "      <td>NaN</td>\n",
       "      <td>NaN</td>\n",
       "      <td>NaN</td>\n",
       "      <td>NaN</td>\n",
       "    </tr>\n",
       "    <tr>\n",
       "      <th>4</th>\n",
       "      <td>10001</td>\n",
       "      <td>1942-7-5</td>\n",
       "      <td>0</td>\n",
       "      <td>NaN</td>\n",
       "      <td>26.666667</td>\n",
       "      <td>21.666667</td>\n",
       "      <td>24.444444</td>\n",
       "      <td>0.0</td>\n",
       "      <td>NaN</td>\n",
       "      <td>42</td>\n",
       "      <td>...</td>\n",
       "      <td>NaN</td>\n",
       "      <td>NaN</td>\n",
       "      <td>NaN</td>\n",
       "      <td>NaN</td>\n",
       "      <td>NaN</td>\n",
       "      <td>NaN</td>\n",
       "      <td>NaN</td>\n",
       "      <td>NaN</td>\n",
       "      <td>NaN</td>\n",
       "      <td>NaN</td>\n",
       "    </tr>\n",
       "  </tbody>\n",
       "</table>\n",
       "<p>5 rows × 31 columns</p>\n",
       "</div>"
      ],
      "text/plain": [
       "     STA      Date Precip  WindGustSpd    MaxTemp    MinTemp   MeanTemp  \\\n",
       "0  10001  1942-7-1  1.016          NaN  25.555556  22.222222  23.888889   \n",
       "1  10001  1942-7-2      0          NaN  28.888889  21.666667  25.555556   \n",
       "2  10001  1942-7-3   2.54          NaN  26.111111  22.222222  24.444444   \n",
       "3  10001  1942-7-4   2.54          NaN  26.666667  22.222222  24.444444   \n",
       "4  10001  1942-7-5      0          NaN  26.666667  21.666667  24.444444   \n",
       "\n",
       "  Snowfall PoorWeather  YR  ...  FB  FTI ITH  PGT  TSHDSBRSGF  SD3  RHX  RHN  \\\n",
       "0      0.0         NaN  42  ... NaN  NaN NaN  NaN         NaN  NaN  NaN  NaN   \n",
       "1      0.0         NaN  42  ... NaN  NaN NaN  NaN         NaN  NaN  NaN  NaN   \n",
       "2      0.0         NaN  42  ... NaN  NaN NaN  NaN         NaN  NaN  NaN  NaN   \n",
       "3      0.0         NaN  42  ... NaN  NaN NaN  NaN         NaN  NaN  NaN  NaN   \n",
       "4      0.0         NaN  42  ... NaN  NaN NaN  NaN         NaN  NaN  NaN  NaN   \n",
       "\n",
       "  RVG  WTE  \n",
       "0 NaN  NaN  \n",
       "1 NaN  NaN  \n",
       "2 NaN  NaN  \n",
       "3 NaN  NaN  \n",
       "4 NaN  NaN  \n",
       "\n",
       "[5 rows x 31 columns]"
      ]
     },
     "execution_count": 2,
     "metadata": {},
     "output_type": "execute_result"
    }
   ],
   "source": [
    "df = pd.read_csv(\"data/Summary of Weather.csv\")\n",
    "df.head()"
   ]
  },
  {
   "cell_type": "code",
   "execution_count": 27,
   "id": "370c2415-a0e0-4002-a4f1-ca40dd2b5e0c",
   "metadata": {},
   "outputs": [
    {
     "data": {
      "text/plain": [
       "119040"
      ]
     },
     "execution_count": 27,
     "metadata": {},
     "output_type": "execute_result"
    }
   ],
   "source": [
    "len(df)"
   ]
  },
  {
   "cell_type": "code",
   "execution_count": 23,
   "id": "ba777f47-76db-4b0c-ac76-09a63dd8c7e7",
   "metadata": {},
   "outputs": [
    {
     "data": {
      "text/plain": [
       "('1940-1-1', '1945-9-9')"
      ]
     },
     "execution_count": 23,
     "metadata": {},
     "output_type": "execute_result"
    }
   ],
   "source": [
    "df['Date'].min(), df['Date'].max()"
   ]
  },
  {
   "cell_type": "code",
   "execution_count": 24,
   "id": "49feea5d-8afd-42e0-9fcc-dda7ddd4af89",
   "metadata": {},
   "outputs": [],
   "source": [
    "# Can you predict the maximum temperature given the minimum temperature? "
   ]
  },
  {
   "cell_type": "code",
   "execution_count": null,
   "id": "c2b90105-6dd1-4c6f-aa89-190f9e30f503",
   "metadata": {},
   "outputs": [],
   "source": []
  },
  {
   "cell_type": "code",
   "execution_count": 4,
   "id": "d205635f-ea0e-40a9-b78f-5e4afbf05321",
   "metadata": {},
   "outputs": [
    {
     "data": {
      "text/plain": [
       "Index(['STA', 'Date', 'Precip', 'WindGustSpd', 'MaxTemp', 'MinTemp',\n",
       "       'MeanTemp', 'Snowfall', 'PoorWeather', 'YR', 'MO', 'DA', 'PRCP', 'DR',\n",
       "       'SPD', 'MAX', 'MIN', 'MEA', 'SNF', 'SND', 'FT', 'FB', 'FTI', 'ITH',\n",
       "       'PGT', 'TSHDSBRSGF', 'SD3', 'RHX', 'RHN', 'RVG', 'WTE'],\n",
       "      dtype='object')"
      ]
     },
     "execution_count": 4,
     "metadata": {},
     "output_type": "execute_result"
    }
   ],
   "source": [
    "df.columns"
   ]
  },
  {
   "cell_type": "code",
   "execution_count": 5,
   "id": "282fe55b-d7f9-43b5-8014-24b432c05c25",
   "metadata": {},
   "outputs": [
    {
     "data": {
      "text/plain": [
       "<Axes: >"
      ]
     },
     "execution_count": 5,
     "metadata": {},
     "output_type": "execute_result"
    },
    {
     "data": {
      "image/png": "[encoded data removed]",
      "text/plain": [
       "<Figure size 640x480 with 1 Axes>"
      ]
     },
     "metadata": {},
     "output_type": "display_data"
    }
   ],
   "source": [
    "df['MaxTemp'].hist()"
   ]
  },
  {
   "cell_type": "code",
   "execution_count": 6,
   "id": "a1b84f55-a390-4472-8338-f75686bfb5ae",
   "metadata": {},
   "outputs": [
    {
     "data": {
      "text/plain": [
       "<Axes: >"
      ]
     },
     "execution_count": 6,
     "metadata": {},
     "output_type": "execute_result"
    },
    {
     "data": {
      "image/png": "[encoded data removed]",
      "text/plain": [
       "<Figure size 640x480 with 1 Axes>"
      ]
     },
     "metadata": {},
     "output_type": "display_data"
    }
   ],
   "source": [
    "df['MinTemp'].hist()"
   ]
  },
  {
   "cell_type": "code",
   "execution_count": 7,
   "id": "d8366533-2538-47bf-9e17-ecc58801332a",
   "metadata": {},
   "outputs": [],
   "source": [
    "df = df[~(df['MinTemp'].isna()) | ~(df['MaxTemp'].isna()) ]"
   ]
  },
  {
   "cell_type": "code",
   "execution_count": 22,
   "id": "d191090f-e560-472b-afb3-70226df02574",
   "metadata": {},
   "outputs": [
    {
     "data": {
      "text/plain": [
       "STA              int64\n",
       "Date            object\n",
       "Precip          object\n",
       "WindGustSpd    float64\n",
       "MaxTemp        float64\n",
       "MinTemp        float64\n",
       "MeanTemp       float64\n",
       "Snowfall        object\n",
       "PoorWeather     object\n",
       "YR               int64\n",
       "MO               int64\n",
       "DA               int64\n",
       "PRCP            object\n",
       "DR             float64\n",
       "SPD            float64\n",
       "MAX            float64\n",
       "MIN            float64\n",
       "MEA            float64\n",
       "SNF             object\n",
       "SND            float64\n",
       "FT             float64\n",
       "FB             float64\n",
       "FTI            float64\n",
       "ITH            float64\n",
       "PGT            float64\n",
       "TSHDSBRSGF      object\n",
       "SD3            float64\n",
       "RHX            float64\n",
       "RHN            float64\n",
       "RVG            float64\n",
       "WTE            float64\n",
       "dtype: object"
      ]
     },
     "execution_count": 22,
     "metadata": {},
     "output_type": "execute_result"
    }
   ],
   "source": [
    "df.dtypes"
   ]
  },
  {
   "cell_type": "code",
   "execution_count": 32,
   "id": "68ffa897-df4c-4c1b-8b92-5344a2315b74",
   "metadata": {},
   "outputs": [
    {
     "data": {
      "text/plain": [
       "array([nan, 32., 44., 54., 34., 33., 22., 55., 12., 56., 78., 76., 77.,\n",
       "       66.,  7.,  9., 29., 27., 25.,  5., 14., 16., 11., 20.,  2., 18.,\n",
       "       23.])"
      ]
     },
     "execution_count": 32,
     "metadata": {},
     "output_type": "execute_result"
    }
   ],
   "source": [
    "# categorical columns\n",
    "df['DR'].unique()"
   ]
  },
  {
   "cell_type": "code",
   "execution_count": 20,
   "id": "974096b2-5a78-4dec-aaa1-35e1b22288ea",
   "metadata": {},
   "outputs": [
    {
     "name": "stdout",
     "output_type": "stream",
     "text": [
      "% Unique values for STA: 0.13\n",
      "% Unique values for Date: 1.84\n",
      "% Unique values for Precip: 0.45\n",
      "% Unique values for WindGustSpd: 0.03\n",
      "% Unique values for MaxTemp: 0.13\n",
      "% Unique values for MinTemp: 0.11\n",
      "% Unique values for MeanTemp: 0.11\n",
      "% Unique values for Snowfall: 0.04\n",
      "% Unique values for PoorWeather: 0.03\n",
      "% Unique values for YR: 0.01\n",
      "% Unique values for MO: 0.01\n",
      "% Unique values for DA: 0.03\n",
      "% Unique values for PRCP: 0.45\n",
      "% Unique values for DR: 0.02\n",
      "% Unique values for SPD: 0.03\n",
      "% Unique values for MAX: 0.13\n",
      "% Unique values for MIN: 0.11\n",
      "% Unique values for MEA: 0.11\n",
      "% Unique values for SNF: 0.04\n",
      "% Unique values for SND: 0.0\n",
      "% Unique values for FT: 0.0\n",
      "% Unique values for FB: 0.0\n",
      "% Unique values for FTI: 0.0\n",
      "% Unique values for ITH: 0.0\n",
      "% Unique values for PGT: 0.15\n",
      "% Unique values for TSHDSBRSGF: 0.03\n",
      "% Unique values for SD3: 0.0\n",
      "% Unique values for RHX: 0.0\n",
      "% Unique values for RHN: 0.0\n",
      "% Unique values for RVG: 0.0\n",
      "% Unique values for WTE: 0.0\n"
     ]
    }
   ],
   "source": [
    "# what % of columns have NA values\n",
    "\n",
    "len_ = len(df)\n",
    "\n",
    "for col in df.columns:\n",
    "\n",
    "    tmp = df[df[col].isna()]\n",
    "    uniq = df[col].nunique()\n",
    "    p_uniq = round(uniq*100/len_, 2)\n",
    "    \n",
    "    # print(f\"% NAs for {col}: {round(len(tmp)*100/len_, 2)}\")\n",
    "    #print(f\"% Unique values for {col}: {p_uniq}\")\n",
    "    # if p_uniq >= 10:\n",
    "    #     print(f\"Select: {col}\")"
   ]
  },
  {
   "cell_type": "code",
   "execution_count": null,
   "id": "d85468ae-27e3-4a4a-bdf3-6185d7bbdbda",
   "metadata": {},
   "outputs": [],
   "source": []
  }
 ],
 "metadata": {
  "kernelspec": {
   "display_name": "transformers",
   "language": "python",
   "name": "transformers"
  },
  "language_info": {
   "codemirror_mode": {
    "name": "ipython",
    "version": 3
   },
   "file_extension": ".py",
   "mimetype": "text/x-python",
   "name": "python",
   "nbconvert_exporter": "python",
   "pygments_lexer": "ipython3",
   "version": "3.9.9"
  }
 },
 "nbformat": 4,
 "nbformat_minor": 5
}
