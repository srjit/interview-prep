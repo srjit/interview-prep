{
 "cells": [
  {
   "cell_type": "code",
   "execution_count": 1,
   "id": "894b03ee-0a70-4a46-8418-d68ea85fa1dd",
   "metadata": {},
   "outputs": [],
   "source": [
    "from ucimlrepo import fetch_ucirepo \n",
    "from collections import defaultdict\n",
    "\n",
    "wine_quality = fetch_ucirepo(id=186)"
   ]
  },
  {
   "cell_type": "code",
   "execution_count": 2,
   "id": "1d843d51-4744-4dd4-9462-1ee18a004da4",
   "metadata": {},
   "outputs": [],
   "source": [
    "X = wine_quality.data.features \n",
    "y_raw = wine_quality.data.targets \n",
    "\n",
    "d = defaultdict(int)\n",
    "d[6] = 1\n",
    "d[5] = 2\n",
    "\n",
    "y = y_raw['quality'].map(d)"
   ]
  },
  {
   "cell_type": "code",
   "execution_count": 3,
   "id": "a6b3253d-28f3-460c-a390-117ad562a1fc",
   "metadata": {},
   "outputs": [],
   "source": [
    "import torch\n",
    "import torch.nn as nn\n",
    "from torch.utils.data import Dataset, DataLoader, random_split\n",
    "import torch.optim as optim"
   ]
  },
  {
   "cell_type": "code",
   "execution_count": 4,
   "id": "19fbe7ba-c822-4b77-91d7-7c8fbf7dc60f",
   "metadata": {},
   "outputs": [],
   "source": [
    "import pandas as pd\n",
    "from sklearn.preprocessing import StandardScaler\n",
    "from sklearn.model_selection import train_test_split"
   ]
  },
  {
   "cell_type": "code",
   "execution_count": 5,
   "id": "b19bbfc1-75b4-4e4e-9dd6-dd36fff1d179",
   "metadata": {},
   "outputs": [
    {
     "data": {
      "text/html": [
       "<div>\n",
       "<style scoped>\n",
       "    .dataframe tbody tr th:only-of-type {\n",
       "        vertical-align: middle;\n",
       "    }\n",
       "\n",
       "    .dataframe tbody tr th {\n",
       "        vertical-align: top;\n",
       "    }\n",
       "\n",
       "    .dataframe thead th {\n",
       "        text-align: right;\n",
       "    }\n",
       "</style>\n",
       "<table border=\"1\" class=\"dataframe\">\n",
       "  <thead>\n",
       "    <tr style=\"text-align: right;\">\n",
       "      <th></th>\n",
       "      <th>fixed_acidity</th>\n",
       "      <th>volatile_acidity</th>\n",
       "      <th>citric_acid</th>\n",
       "      <th>residual_sugar</th>\n",
       "      <th>chlorides</th>\n",
       "      <th>free_sulfur_dioxide</th>\n",
       "      <th>total_sulfur_dioxide</th>\n",
       "      <th>density</th>\n",
       "      <th>pH</th>\n",
       "      <th>sulphates</th>\n",
       "      <th>alcohol</th>\n",
       "      <th>quality</th>\n",
       "    </tr>\n",
       "  </thead>\n",
       "  <tbody>\n",
       "    <tr>\n",
       "      <th>0</th>\n",
       "      <td>7.4</td>\n",
       "      <td>0.70</td>\n",
       "      <td>0.00</td>\n",
       "      <td>1.9</td>\n",
       "      <td>0.076</td>\n",
       "      <td>11.0</td>\n",
       "      <td>34.0</td>\n",
       "      <td>0.9978</td>\n",
       "      <td>3.51</td>\n",
       "      <td>0.56</td>\n",
       "      <td>9.4</td>\n",
       "      <td>2</td>\n",
       "    </tr>\n",
       "    <tr>\n",
       "      <th>1</th>\n",
       "      <td>7.8</td>\n",
       "      <td>0.88</td>\n",
       "      <td>0.00</td>\n",
       "      <td>2.6</td>\n",
       "      <td>0.098</td>\n",
       "      <td>25.0</td>\n",
       "      <td>67.0</td>\n",
       "      <td>0.9968</td>\n",
       "      <td>3.20</td>\n",
       "      <td>0.68</td>\n",
       "      <td>9.8</td>\n",
       "      <td>2</td>\n",
       "    </tr>\n",
       "    <tr>\n",
       "      <th>2</th>\n",
       "      <td>7.8</td>\n",
       "      <td>0.76</td>\n",
       "      <td>0.04</td>\n",
       "      <td>2.3</td>\n",
       "      <td>0.092</td>\n",
       "      <td>15.0</td>\n",
       "      <td>54.0</td>\n",
       "      <td>0.9970</td>\n",
       "      <td>3.26</td>\n",
       "      <td>0.65</td>\n",
       "      <td>9.8</td>\n",
       "      <td>2</td>\n",
       "    </tr>\n",
       "    <tr>\n",
       "      <th>3</th>\n",
       "      <td>11.2</td>\n",
       "      <td>0.28</td>\n",
       "      <td>0.56</td>\n",
       "      <td>1.9</td>\n",
       "      <td>0.075</td>\n",
       "      <td>17.0</td>\n",
       "      <td>60.0</td>\n",
       "      <td>0.9980</td>\n",
       "      <td>3.16</td>\n",
       "      <td>0.58</td>\n",
       "      <td>9.8</td>\n",
       "      <td>1</td>\n",
       "    </tr>\n",
       "    <tr>\n",
       "      <th>4</th>\n",
       "      <td>7.4</td>\n",
       "      <td>0.70</td>\n",
       "      <td>0.00</td>\n",
       "      <td>1.9</td>\n",
       "      <td>0.076</td>\n",
       "      <td>11.0</td>\n",
       "      <td>34.0</td>\n",
       "      <td>0.9978</td>\n",
       "      <td>3.51</td>\n",
       "      <td>0.56</td>\n",
       "      <td>9.4</td>\n",
       "      <td>2</td>\n",
       "    </tr>\n",
       "  </tbody>\n",
       "</table>\n",
       "</div>"
      ],
      "text/plain": [
       "   fixed_acidity  volatile_acidity  citric_acid  residual_sugar  chlorides  \\\n",
       "0            7.4              0.70         0.00             1.9      0.076   \n",
       "1            7.8              0.88         0.00             2.6      0.098   \n",
       "2            7.8              0.76         0.04             2.3      0.092   \n",
       "3           11.2              0.28         0.56             1.9      0.075   \n",
       "4            7.4              0.70         0.00             1.9      0.076   \n",
       "\n",
       "   free_sulfur_dioxide  total_sulfur_dioxide  density    pH  sulphates  \\\n",
       "0                 11.0                  34.0   0.9978  3.51       0.56   \n",
       "1                 25.0                  67.0   0.9968  3.20       0.68   \n",
       "2                 15.0                  54.0   0.9970  3.26       0.65   \n",
       "3                 17.0                  60.0   0.9980  3.16       0.58   \n",
       "4                 11.0                  34.0   0.9978  3.51       0.56   \n",
       "\n",
       "   alcohol  quality  \n",
       "0      9.4        2  \n",
       "1      9.8        2  \n",
       "2      9.8        2  \n",
       "3      9.8        1  \n",
       "4      9.4        2  "
      ]
     },
     "execution_count": 5,
     "metadata": {},
     "output_type": "execute_result"
    }
   ],
   "source": [
    "data = pd.concat([X, y], axis=1)\n",
    "data.head()"
   ]
  },
  {
   "cell_type": "code",
   "execution_count": 16,
   "id": "14fc1bda-eddd-461a-bc73-4523d0b9bdae",
   "metadata": {},
   "outputs": [],
   "source": [
    "test_split_size = .20\n",
    "train_X, test_X, train_y, test_y = train_test_split(X, y, test_size=test_split_size)"
   ]
  },
  {
   "cell_type": "code",
   "execution_count": 17,
   "id": "a998f64e-7f3a-4f1d-88bb-fc6adc58ae86",
   "metadata": {},
   "outputs": [
    {
     "data": {
      "text/plain": [
       "((5197, 11), (5197,), (1300, 11), (1300,))"
      ]
     },
     "execution_count": 17,
     "metadata": {},
     "output_type": "execute_result"
    }
   ],
   "source": [
    "train_X.shape, train_y.shape, test_X.shape, test_y.shape"
   ]
  },
  {
   "cell_type": "code",
   "execution_count": 19,
   "id": "9db5b831-eaa9-41c6-8669-7d136a10ae79",
   "metadata": {},
   "outputs": [],
   "source": [
    "scaler = StandardScaler()\n",
    "train_X = pd.DataFrame(scaler.fit_transform(train_X), columns=train_X.columns)\n",
    "test_X = pd.DataFrame(scaler.transform(test_X), columns=train_X.columns)"
   ]
  },
  {
   "cell_type": "code",
   "execution_count": 25,
   "id": "ed884b29-e90d-4d13-91bf-108c38bf9699",
   "metadata": {},
   "outputs": [],
   "source": [
    "class WineDataSet(Dataset):\n",
    "\n",
    "    def __init__(self, data, targets):\n",
    "\n",
    "        # import ipdb\n",
    "        # ipdb.set_trace()\n",
    "        \n",
    "        self.X = torch.tensor(data.values)\n",
    "        self.y = torch.tensor(targets.values)\n",
    "\n",
    "\n",
    "    def __len__(self):\n",
    "        return len(self.X)\n",
    "\n",
    "\n",
    "    def __getitem__(self, idx):\n",
    "        return self.X[idx], self.y[idx]"
   ]
  },
  {
   "cell_type": "code",
   "execution_count": 26,
   "id": "2f7eab97-b4bb-43e1-a435-4afed4778642",
   "metadata": {},
   "outputs": [],
   "source": [
    "train_dataset = WineDataSet(train_X, train_y)\n",
    "test_dataset = WineDataSet(test_X, test_y)\n",
    "\n",
    "batch_size = 32\n",
    "train_dl, test_dl = DataLoader(\n",
    "    train_dataset,\n",
    "    batch_size=batch_size,\n",
    "    shuffle=True\n",
    "), DataLoader(\n",
    "    test_dataset,\n",
    "    batch_size=batch_size,\n",
    "    shuffle=True\n",
    ")"
   ]
  },
  {
   "cell_type": "code",
   "execution_count": 29,
   "id": "cb068e1a-aff9-4e86-be35-7784925facbb",
   "metadata": {},
   "outputs": [],
   "source": [
    "l1_neurons = train_X.shape[0]\n",
    "h1 = 50\n",
    "h2 = 75\n"
   ]
  },
  {
   "cell_type": "code",
   "execution_count": null,
   "id": "7e630908-af6b-4a17-9edf-acb610a1e613",
   "metadata": {},
   "outputs": [],
   "source": [
    "# Build the neural net, optimizer and loss\n",
    "\n",
    "class WineNeuralNet(nn.Module):\n",
    "\n",
    "    def __init__(self):\n",
    "        super().__init__()\n",
    "        self.l1 = nn.Linear(l1_neurons, )"
   ]
  },
  {
   "cell_type": "code",
   "execution_count": 9,
   "id": "5dbf356c-fc47-4e65-919d-e45e861add63",
   "metadata": {},
   "outputs": [
    {
     "data": {
      "text/plain": [
       "<Axes: >"
      ]
     },
     "execution_count": 9,
     "metadata": {},
     "output_type": "execute_result"
    },
    {
     "data": {
      "image/png": "[encoded data removed]",
      "text/plain": [
       "<Figure size 640x480 with 1 Axes>"
      ]
     },
     "metadata": {},
     "output_type": "display_data"
    }
   ],
   "source": [
    "data['pH'].hist()"
   ]
  },
  {
   "cell_type": "code",
   "execution_count": null,
   "id": "41c26164-43a0-4ce0-991e-7f0d2b55d512",
   "metadata": {},
   "outputs": [],
   "source": []
  }
 ],
 "metadata": {
  "kernelspec": {
   "display_name": "llms",
   "language": "python",
   "name": "llms"
  },
  "language_info": {
   "codemirror_mode": {
    "name": "ipython",
    "version": 3
   },
   "file_extension": ".py",
   "mimetype": "text/x-python",
   "name": "python",
   "nbconvert_exporter": "python",
   "pygments_lexer": "ipython3",
   "version": "3.10.10"
  }
 },
 "nbformat": 4,
 "nbformat_minor": 5
}
