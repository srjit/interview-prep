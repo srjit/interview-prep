{
 "cells": [
  {
   "cell_type": "code",
   "execution_count": 2,
   "id": "c5451efe-144e-43a0-8fc7-a931b3b2d5e4",
   "metadata": {},
   "outputs": [],
   "source": [
    "import pandas as pd\n",
    "import numpy as np\n",
    "\n",
    "from ucimlrepo import fetch_ucirepo"
   ]
  },
  {
   "cell_type": "code",
   "execution_count": 3,
   "id": "59f6bd70-8442-4006-ab60-9940a0ff3355",
   "metadata": {},
   "outputs": [],
   "source": [
    "def get_data():\n",
    "    _data = fetch_ucirepo(id=2)\n",
    "    \n",
    "    raw = _data.data.features\n",
    "    targets = _data.data.targets\n",
    "    \n",
    "    num_features = ['age', 'capital-gain', 'capital-loss', 'hours-per-week']\n",
    "    cat_features = ['workclass', 'education', 'marital-status', \n",
    "                    'occupation', 'relationship', 'race', 'sex', 'native-country']\n",
    "\n",
    "    df1 = pd.get_dummies(raw[cat_features], dtype=float)\n",
    "    df2 = raw[num_features]\n",
    "\n",
    "    df = pd.concat([df1, df2], axis=1)\n",
    "\n",
    "    _d = {\n",
    "        \"<=50K\" : 0,\n",
    "        \"<=50K.\" : 0,\n",
    "        \">50K\" : 1,\n",
    "        \">50K.\" : 1\n",
    "    }        \n",
    "    targets = targets[\"income\"].map(_d)\n",
    "\n",
    "    return df, targets"
   ]
  },
  {
   "cell_type": "code",
   "execution_count": 4,
   "id": "885567f3-53dc-4fcd-bb16-8f3a2313c6ec",
   "metadata": {},
   "outputs": [],
   "source": [
    "df, targets = get_data()"
   ]
  },
  {
   "cell_type": "code",
   "execution_count": 5,
   "id": "628dab87-bc5a-4f23-a82f-0bebc0e352e8",
   "metadata": {},
   "outputs": [],
   "source": [
    "train_len = int(0.8 * len(df))\n",
    "test_len = len(df) - train_len\n",
    "train_data, test_data = df.iloc[:train_len], df.iloc[train_len:]\n",
    "train_targets, test_targets = targets.iloc[:train_len], targets.iloc[train_len:]"
   ]
  },
  {
   "cell_type": "code",
   "execution_count": 7,
   "id": "a6d33815-dcb8-48be-8aed-4d5403d7f43a",
   "metadata": {},
   "outputs": [],
   "source": [
    "from sklearn.preprocessing import StandardScaler"
   ]
  },
  {
   "cell_type": "code",
   "execution_count": 8,
   "id": "3b15bf09-a964-485d-b982-57b83d31f25b",
   "metadata": {},
   "outputs": [],
   "source": [
    "scaler = StandardScaler()\n",
    "train_data = pd.DataFrame(scaler.fit_transform(train_data), columns=train_data.columns)\n",
    "test_data = pd.DataFrame(scaler.transform(test_data), columns=test_data.columns)"
   ]
  },
  {
   "cell_type": "code",
   "execution_count": 10,
   "id": "ff2703da-be9c-41fc-ad32-491358c5e225",
   "metadata": {},
   "outputs": [],
   "source": [
    "import torch\n",
    "import torch.nn as nn\n",
    "from torch.utils.data import Dataset, DataLoader, random_split"
   ]
  },
  {
   "cell_type": "code",
   "execution_count": 11,
   "id": "a943ebff-b0ae-4342-993e-644f7e750150",
   "metadata": {},
   "outputs": [],
   "source": [
    "class DiabetesDataset(Dataset):\n",
    "    \n",
    "    def __init__(self, data, targets):\n",
    "        self.X = torch.tensor(data.values, dtype=torch.float32)\n",
    "        self.y = torch.tensor(targets.values, dtype=torch.float32).reshape(-1, 1)\n",
    "        \n",
    "    def __len__(self):\n",
    "        return len(self.X)\n",
    "    \n",
    "    def __getitem__(self, idx):\n",
    "        return self.X[idx], self.y[idx]"
   ]
  },
  {
   "cell_type": "code",
   "execution_count": 12,
   "id": "b46df31e-7265-4480-85f5-75418fd6c202",
   "metadata": {},
   "outputs": [],
   "source": [
    "train_dataset = DiabetesDataset(train_data, train_targets)\n",
    "test_dataset = DiabetesDataset(test_data, test_targets)\n",
    "\n",
    "batch_size = 32\n",
    "train_dl = DataLoader(train_dataset, shuffle=True, batch_size=batch_size)\n",
    "test_dl = DataLoader(test_dataset, shuffle=False, batch_size=batch_size)"
   ]
  },
  {
   "cell_type": "code",
   "execution_count": 14,
   "id": "e156b7ac-a586-4951-bb0c-3bd4c60a22fb",
   "metadata": {},
   "outputs": [],
   "source": [
    "import torch.optim as optim"
   ]
  },
  {
   "cell_type": "code",
   "execution_count": 15,
   "id": "093c30fa-def9-48ab-abed-38d35b6a81a5",
   "metadata": {},
   "outputs": [],
   "source": [
    "feature_size = train_dataset.X.shape[1]\n",
    "hidden_size1 = 150\n",
    "output_size = 1\n",
    "\n",
    "class DBModel(nn.Module):\n",
    "    def __init__(self):\n",
    "        super().__init__()\n",
    "        self.l1 = nn.Linear(feature_size, hidden_size1)\n",
    "        self.relu1 = nn.ReLU()\n",
    "        self.l2 = nn.Linear(hidden_size1, output_size)\n",
    "        self.op = nn.Sigmoid()\n",
    "    \n",
    "    def forward(self, x):\n",
    "        return self.op(self.l2(self.relu1(self.l1(x))))\n",
    "\n",
    "model = DBModel()\n",
    "optimizer = optim.Adam(model.parameters(), lr=0.01)\n",
    "loss_fn = nn.BCELoss()"
   ]
  },
  {
   "cell_type": "code",
   "execution_count": 16,
   "id": "e16b7650-cee4-4383-8e12-e5797e8941ec",
   "metadata": {},
   "outputs": [
    {
     "name": "stdout",
     "output_type": "stream",
     "text": [
      "Epoch 1/50, Loss: 459.8313, Train Accuracy: 0.8405\n",
      "Test Accuracy: 0.8486\n",
      "\n",
      "Epoch 2/50, Loss: 440.5209, Train Accuracy: 0.8485\n",
      "Epoch 3/50, Loss: 427.0266, Train Accuracy: 0.8495\n",
      "Epoch 4/50, Loss: 446.1654, Train Accuracy: 0.8512\n",
      "Epoch 5/50, Loss: 461.4412, Train Accuracy: 0.8525\n",
      "Epoch 6/50, Loss: 438.7478, Train Accuracy: 0.8537\n",
      "Epoch 7/50, Loss: 422.4259, Train Accuracy: 0.8551\n",
      "Epoch 8/50, Loss: 427.2044, Train Accuracy: 0.8564\n",
      "Epoch 9/50, Loss: 454.2737, Train Accuracy: 0.8553\n",
      "Epoch 10/50, Loss: 420.7595, Train Accuracy: 0.8581\n",
      "Epoch 11/50, Loss: 435.1024, Train Accuracy: 0.8571\n",
      "Test Accuracy: 0.8522\n",
      "\n",
      "Epoch 12/50, Loss: 477.1595, Train Accuracy: 0.8575\n",
      "Epoch 13/50, Loss: 457.3715, Train Accuracy: 0.8571\n",
      "Epoch 14/50, Loss: 535.7233, Train Accuracy: 0.8589\n",
      "Epoch 15/50, Loss: 445.8385, Train Accuracy: 0.8575\n",
      "Epoch 16/50, Loss: 423.9448, Train Accuracy: 0.8604\n",
      "Epoch 17/50, Loss: 424.9641, Train Accuracy: 0.8608\n",
      "Epoch 18/50, Loss: 434.2736, Train Accuracy: 0.8588\n",
      "Epoch 19/50, Loss: 445.3595, Train Accuracy: 0.8600\n",
      "Epoch 20/50, Loss: 438.6625, Train Accuracy: 0.8607\n",
      "Epoch 21/50, Loss: 414.8126, Train Accuracy: 0.8606\n",
      "Test Accuracy: 0.8535\n",
      "\n",
      "Epoch 22/50, Loss: 477.5581, Train Accuracy: 0.8620\n",
      "Epoch 23/50, Loss: 453.4312, Train Accuracy: 0.8627\n",
      "Epoch 24/50, Loss: 430.5195, Train Accuracy: 0.8636\n",
      "Epoch 25/50, Loss: 452.9308, Train Accuracy: 0.8640\n",
      "Epoch 26/50, Loss: 444.0007, Train Accuracy: 0.8645\n",
      "Epoch 27/50, Loss: 410.7501, Train Accuracy: 0.8648\n",
      "Epoch 28/50, Loss: 433.1986, Train Accuracy: 0.8630\n",
      "Epoch 29/50, Loss: 444.5587, Train Accuracy: 0.8646\n",
      "Epoch 30/50, Loss: 442.7583, Train Accuracy: 0.8632\n",
      "Epoch 31/50, Loss: 416.9441, Train Accuracy: 0.8654\n",
      "Test Accuracy: 0.8525\n",
      "\n",
      "Epoch 32/50, Loss: 423.6193, Train Accuracy: 0.8663\n",
      "Epoch 33/50, Loss: 494.6259, Train Accuracy: 0.8652\n",
      "Epoch 34/50, Loss: 465.2474, Train Accuracy: 0.8651\n",
      "Epoch 35/50, Loss: 461.2094, Train Accuracy: 0.8659\n",
      "Epoch 36/50, Loss: 435.5712, Train Accuracy: 0.8691\n",
      "Epoch 37/50, Loss: 527.5081, Train Accuracy: 0.8663\n",
      "Epoch 38/50, Loss: 435.9335, Train Accuracy: 0.8685\n",
      "Epoch 39/50, Loss: 419.9061, Train Accuracy: 0.8681\n",
      "Epoch 40/50, Loss: 490.9817, Train Accuracy: 0.8658\n",
      "Epoch 41/50, Loss: 496.9137, Train Accuracy: 0.8674\n",
      "Test Accuracy: 0.8484\n",
      "\n",
      "Epoch 42/50, Loss: 539.0958, Train Accuracy: 0.8690\n",
      "Epoch 43/50, Loss: 508.9752, Train Accuracy: 0.8658\n",
      "Epoch 44/50, Loss: 450.1694, Train Accuracy: 0.8694\n",
      "Epoch 45/50, Loss: 488.4322, Train Accuracy: 0.8681\n",
      "Epoch 46/50, Loss: 506.1778, Train Accuracy: 0.8676\n",
      "Epoch 47/50, Loss: 497.6118, Train Accuracy: 0.8674\n",
      "Epoch 48/50, Loss: 468.3055, Train Accuracy: 0.8703\n",
      "Epoch 49/50, Loss: 734.1218, Train Accuracy: 0.8655\n",
      "Epoch 50/50, Loss: 559.1735, Train Accuracy: 0.8689\n"
     ]
    }
   ],
   "source": [
    "epochs = 50\n",
    "for epoch in range(epochs):\n",
    "    epoch_loss = 0.0\n",
    "    batch_accuracy = []\n",
    "    \n",
    "    model.train()\n",
    "    for inputs, targets in train_dl:\n",
    "        optimizer.zero_grad()\n",
    "        outputs = model(inputs)\n",
    "        loss = loss_fn(outputs, targets)\n",
    "        loss.backward()\n",
    "        optimizer.step()\n",
    "        epoch_loss += loss.item()\n",
    "        \n",
    "        with torch.no_grad():\n",
    "            pred = (outputs > 0.5).float()\n",
    "            correct_predictions = (pred == targets).sum().item()\n",
    "            accuracy = correct_predictions / targets.size(0)\n",
    "            batch_accuracy.append(accuracy)\n",
    "            \n",
    "    print(f\"Epoch {epoch+1}/{epochs}, Loss: {epoch_loss:.4f}, Train Accuracy: {np.mean(batch_accuracy):.4f}\")\n",
    "    \n",
    "    # Evaluation on test data every 10 epochs\n",
    "    if epoch % 10 == 0:\n",
    "        model.eval()\n",
    "        batch_test_acc = []\n",
    "        with torch.no_grad():\n",
    "            for inputs, targets in test_dl:\n",
    "                outputs = model(inputs)\n",
    "                pred = (outputs > 0.5).float()\n",
    "                correct_predictions = (pred == targets).sum().item()\n",
    "                accuracy = correct_predictions / targets.size(0)\n",
    "                batch_test_acc.append(accuracy)\n",
    "                \n",
    "        print(f\"Test Accuracy: {np.mean(batch_test_acc):.4f}\\n\")"
   ]
  },
  {
   "cell_type": "code",
   "execution_count": null,
   "id": "c3ccc843-fe59-4c0e-99e5-928ed0d11a96",
   "metadata": {},
   "outputs": [],
   "source": []
  }
 ],
 "metadata": {
  "kernelspec": {
   "display_name": "llms",
   "language": "python",
   "name": "llms"
  },
  "language_info": {
   "codemirror_mode": {
    "name": "ipython",
    "version": 3
   },
   "file_extension": ".py",
   "mimetype": "text/x-python",
   "name": "python",
   "nbconvert_exporter": "python",
   "pygments_lexer": "ipython3",
   "version": "3.10.10"
  }
 },
 "nbformat": 4,
 "nbformat_minor": 5
}
