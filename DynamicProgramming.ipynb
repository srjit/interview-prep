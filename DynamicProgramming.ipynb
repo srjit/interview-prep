{
 "cells": [
  {
   "cell_type": "code",
   "execution_count": 1,
   "id": "2b741cd1-43c1-40b5-9d45-ac9b974ed9dc",
   "metadata": {},
   "outputs": [],
   "source": [
    "### House Robber 1"
   ]
  },
  {
   "cell_type": "code",
   "execution_count": 3,
   "id": "4cff4b01-b886-4e27-8a00-f3562968bd8d",
   "metadata": {},
   "outputs": [],
   "source": [
    "from typing import List"
   ]
  },
  {
   "cell_type": "code",
   "execution_count": 4,
   "id": "e5f715a4-d4f6-48ce-bc15-4dbcf8530a6c",
   "metadata": {},
   "outputs": [],
   "source": [
    "class Solution:\n",
    "\n",
    "    def rob(self, nums: List[int]) -> int:\n",
    "\n",
    "        one, two = 0, 0\n",
    "        for i in range(len(nums)):\n",
    "            tmp = one\n",
    "            one = max(two + nums[i], one)\n",
    "            two = tmp\n",
    "\n",
    "        return one"
   ]
  },
  {
   "cell_type": "code",
   "execution_count": 5,
   "id": "5eace912-568b-437f-b934-ba4a66f9247e",
   "metadata": {},
   "outputs": [],
   "source": [
    "### Word Break"
   ]
  },
  {
   "cell_type": "code",
   "execution_count": 6,
   "id": "ebfc033c-9a9b-483d-a7b6-33d72cd9d2f9",
   "metadata": {},
   "outputs": [],
   "source": [
    "class Solution:\n",
    "\n",
    "    def wordBreak(self, s: str, wordDict: List[str]) -> bool:\n",
    "\n",
    "        dp = [False] * (len(s)+1)\n",
    "        dp[len(s)] = True\n",
    "        \n",
    "        for i in range(len(s)-1, -1, -1):\n",
    "            for w in wordDict:\n",
    "                if (i + len(w) <= len(s)) and s[i:i+len(w)] == w:\n",
    "                    dp[i] = dp[i+len(w)]\n",
    "                if dp[i]:\n",
    "                    break\n",
    "\n",
    "        return dp[0]"
   ]
  },
  {
   "cell_type": "code",
   "execution_count": 7,
   "id": "51eefeaa-4144-46fc-a98f-12a72d8afd1e",
   "metadata": {},
   "outputs": [],
   "source": [
    "### Coin Change"
   ]
  },
  {
   "cell_type": "code",
   "execution_count": 8,
   "id": "af9d6cbc-a8f5-4820-aebe-d2f919457580",
   "metadata": {},
   "outputs": [],
   "source": [
    "class Solution:\n",
    "\n",
    "    def coinChange(self, coins: List[int], amount: int) -> int:\n",
    "\n",
    "        dp = [(amount+1)] * (amount+1)\n",
    "        dp[0] = 0\n",
    "        for amt in range(1, amount+1):\n",
    "            for c in coins:\n",
    "                if (amt - c >= 0):\n",
    "                    dp[amt] = min(dp[amt], 1+dp[amt-c])\n",
    "        return dp[amount] if dp[amount] != amount + 1 else -1"
   ]
  },
  {
   "cell_type": "code",
   "execution_count": 9,
   "id": "93823efe-3480-4457-b0b4-61c23aa6e767",
   "metadata": {},
   "outputs": [],
   "source": [
    "### Longest Increasing Subsequence"
   ]
  },
  {
   "cell_type": "code",
   "execution_count": null,
   "id": "36c5f66a-5c37-4e3f-9c8b-8ecee0ef63b4",
   "metadata": {},
   "outputs": [],
   "source": [
    "class Solution:\n",
    "\n",
    "    def lengthOfLIS(self, nums: List[int]) -> int:\n",
    "\n",
    "        dp = [1] * len(nums)\n",
    "        for i in range(len(nums)-1, -1, -1):\n",
    "            for j in range(i, len(nums)):\n",
    "                if nums[i] < nums[j]:\n",
    "                    dp[i] = max(dp[i], 1 + dp[j])\n",
    "        return max(dp)"
   ]
  },
  {
   "cell_type": "code",
   "execution_count": 1,
   "id": "f47adf52-95e6-493c-a1b9-2f25e7dd3c68",
   "metadata": {},
   "outputs": [],
   "source": [
    "### 120. Triangle"
   ]
  },
  {
   "cell_type": "code",
   "execution_count": 5,
   "id": "a0a3dbdd-dd79-45b4-a084-72336af0b975",
   "metadata": {},
   "outputs": [
    {
     "data": {
      "text/plain": [
       "11"
      ]
     },
     "execution_count": 5,
     "metadata": {},
     "output_type": "execute_result"
    }
   ],
   "source": [
    "from typing import List\n",
    "\n",
    "class Solution:\n",
    "    \n",
    "    def minimumTotal(self, triangle: List[List[int]]) -> int:\n",
    "\n",
    "        limit = len(triangle)\n",
    "        def minpathsum(row_index, node_index):\n",
    "            if row_index + 1 == limit:\n",
    "                return triangle[row_index][node_index]\n",
    "            \n",
    "            val = triangle[row_index][node_index]\n",
    "            return min(val + minpathsum(row_index+1, node_index), \n",
    "                       val + minpathsum(row_index+1, node_index+1))\n",
    "\n",
    "        return minpathsum(0, 0)\n",
    "\n",
    "triangle = [[2],[3,4],[6,5,7],[4,1,8,3]]\n",
    "Solution().minimumTotal(triangle)"
   ]
  },
  {
   "cell_type": "code",
   "execution_count": 7,
   "id": "dc960e9a-ecc0-4615-8f83-2759458a1a64",
   "metadata": {},
   "outputs": [],
   "source": [
    "# Bottom up solution of the problem above\n",
    "# ---------------------------------------"
   ]
  },
  {
   "cell_type": "code",
   "execution_count": 9,
   "id": "e965816c-43c6-4e22-b363-a06cc739ae47",
   "metadata": {},
   "outputs": [
    {
     "data": {
      "text/plain": [
       "11"
      ]
     },
     "execution_count": 9,
     "metadata": {},
     "output_type": "execute_result"
    }
   ],
   "source": [
    "from typing import List\n",
    "\n",
    "class Solution:\n",
    "    \n",
    "    def minimumTotal(self, triangle: List[List[int]]) -> int:\n",
    "\n",
    "        dp = [0] * (len(triangle)+1)\n",
    "        for row in triangle[::-1]:\n",
    "            for i, n in enumerate(row):\n",
    "                dp[i] = n + min(dp[i], dp[i+1])\n",
    "                \n",
    "        return dp[0]\n",
    "        \n",
    "        \n",
    "\n",
    "        \n",
    "\n",
    "triangle = [[2],[3,4],[6,5,7],[4,1,8,3]]\n",
    "Solution().minimumTotal(triangle)"
   ]
  },
  {
   "cell_type": "code",
   "execution_count": null,
   "id": "6160f265-db6e-4026-89bc-2c47afc860b0",
   "metadata": {},
   "outputs": [],
   "source": [
    "\n",
    "class Solution:\n",
    "    \n",
    "    def minPathSum(self, grid: List[List[int]]) -> int:\n",
    "\n",
    "        "
   ]
  }
 ],
 "metadata": {
  "kernelspec": {
   "display_name": "Python 3 (ipykernel)",
   "language": "python",
   "name": "python3"
  },
  "language_info": {
   "codemirror_mode": {
    "name": "ipython",
    "version": 3
   },
   "file_extension": ".py",
   "mimetype": "text/x-python",
   "name": "python",
   "nbconvert_exporter": "python",
   "pygments_lexer": "ipython3",
   "version": "3.10.10"
  }
 },
 "nbformat": 4,
 "nbformat_minor": 5
}
