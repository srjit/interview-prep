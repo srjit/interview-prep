{
 "cells": [
  {
   "cell_type": "code",
   "execution_count": 2,
   "id": "05a824df-5777-45db-9095-7ab0695f387d",
   "metadata": {},
   "outputs": [],
   "source": [
    "#x^2 = 2x"
   ]
  },
  {
   "cell_type": "code",
   "execution_count": 4,
   "id": "eb7f55b9-edc9-41a2-b279-5a9eebcd4383",
   "metadata": {},
   "outputs": [],
   "source": [
    "X = list(range(36))\n",
    "y = [x*x for x in X]"
   ]
  },
  {
   "cell_type": "code",
   "execution_count": 11,
   "id": "883197d7-3a2f-4532-8162-ec404533d780",
   "metadata": {},
   "outputs": [],
   "source": [
    "def iterate(initial_guess=5, lr=0.001, n_iter=5000000):\n",
    "\n",
    "    guess = initial_guess\n",
    "    for _ in range(n_iter):\n",
    "\n",
    "        derivative = 2* guess\n",
    "        guess = guess - lr * derivative\n",
    "        \n",
    "    return guess"
   ]
  },
  {
   "cell_type": "code",
   "execution_count": 17,
   "id": "5b1d604f-38a7-4467-91eb-63c89c7b4399",
   "metadata": {},
   "outputs": [
    {
     "data": {
      "text/plain": [
       "3"
      ]
     },
     "execution_count": 17,
     "metadata": {},
     "output_type": "execute_result"
    }
   ],
   "source": [
    "class Solution:\n",
    "    \n",
    "    def lengthOfLongestSubstring(self, s: str) -> int:\n",
    "\n",
    "        maxl = 0\n",
    "        left = 0\n",
    "        visited = set()\n",
    "        \n",
    "        for right, c in enumerate(s):\n",
    "\n",
    "            while c in visited:\n",
    "                visited.remove(s[left])\n",
    "                left += 1\n",
    "\n",
    "\n",
    "            visited.add(c)\n",
    "            length = right - left + 1\n",
    "            maxl = max(length, maxl)\n",
    "\n",
    "\n",
    "        return maxl\n",
    "\n",
    "Solution().lengthOfLongestSubstring(\"zxyzxyz\")"
   ]
  },
  {
   "cell_type": "code",
   "execution_count": null,
   "id": "8c93b29e-b59c-4caf-a099-fe6aafb2a531",
   "metadata": {},
   "outputs": [],
   "source": [
    "from collections import defaultdict\n",
    "\n",
    "class TimeMap:\n",
    "\n",
    "    def __init__(self):\n",
    "        self.store = defaultdict(list)\n",
    "\n",
    "    def set(self, key: str, value: str, timestamp: int) -> None:\n",
    "        self.store[key].append([value, timestamp])\n",
    "        \n",
    "\n",
    "    def get(self, key: str, timestamp: int) -> str:\n",
    "        if not key in self.store:\n",
    "            return \"\"\n",
    "        vals = self.store[key]\n",
    "        l, r = 0, len(vals)-1\n",
    "        while l < r:\n",
    "            m = l + (r-l)//2\n",
    "            ts_m = vals[m][1]\n",
    "            if ts_m == timestamp:\n",
    "                return vals[m][0]\n",
    "            elif ts_m < timestamp:\n",
    "                l = m + 1\n",
    "            else:\n",
    "                r = m\n",
    "        return vals[l][0]\n",
    "        "
   ]
  },
  {
   "cell_type": "code",
   "execution_count": 3,
   "id": "4cf21244-e1ee-4eb9-b848-fc6c60dd1837",
   "metadata": {},
   "outputs": [
    {
     "name": "stdout",
     "output_type": "stream",
     "text": [
      "[1, 0, 1, 0]\n",
      "[1, 0, 0, 0]\n",
      "[1, 0, 0, 1]\n"
     ]
    },
    {
     "data": {
      "text/plain": [
       "2"
      ]
     },
     "execution_count": 3,
     "metadata": {},
     "output_type": "execute_result"
    }
   ],
   "source": [
    "class Solution:\n",
    "    def bulbSwitch(self, n: int) -> int:\n",
    "        \n",
    "        bulbs = [1 for i in range(n)]\n",
    "\n",
    "        def toggle(x):\n",
    "            return 1 if x == 0 else 0\n",
    "        \n",
    "        for i in range(2, n+1):\n",
    "            bulbs = [toggle(x) if (j+1)%i == 0 else x for j, x in enumerate(bulbs)]\n",
    "        \n",
    "        return sum(bulbs)\n",
    "\n",
    "\n",
    "Solution().bulbSwitch(4)"
   ]
  },
  {
   "cell_type": "code",
   "execution_count": 5,
   "id": "330091a3-95f8-492f-9c73-cb6a2928a233",
   "metadata": {},
   "outputs": [
    {
     "data": {
      "text/plain": [
       "4"
      ]
     },
     "execution_count": 5,
     "metadata": {},
     "output_type": "execute_result"
    }
   ],
   "source": [
    "## 209. Minimum Size Subarray Sum\n",
    "from typing import List\n",
    "\n",
    "class Solution:\n",
    "\n",
    "    def minSubArrayLen(self, target: int, nums: List[int]) -> int:\n",
    "\n",
    "        l, minlen = 0, float('inf')\n",
    "\n",
    "        windowSum = 0\n",
    "        for r in range(len(nums)):\n",
    "            windowSum += nums[r]\n",
    "            while windowSum >= target:\n",
    "                minlen = min(minlen, r-l+1)\n",
    "                windowSum -= nums[l]\n",
    "                l += 1\n",
    "        return minlen\n",
    "\n",
    "Solution().minSubArrayLen(7,  [2,3,1,2,4,3])"
   ]
  },
  {
   "cell_type": "code",
   "execution_count": 6,
   "id": "fc8f5787-bf82-4c59-a7e5-5bef2530f329",
   "metadata": {},
   "outputs": [],
   "source": [
    "## 2233. Maximum Product After K Increments\n",
    "\n",
    "class Solution:\n",
    "    def maximumProduct(self, nums: List[int], k: int) -> int:\n",
    "        \n",
    "        heapq.heapify(nums)\n",
    "        while k:\n",
    "            heapq.heappush(nums, heapq.heappop(nums)+1)\n",
    "            k -= 1\n",
    "        \n",
    "        ans = 1\n",
    "        for x in nums:\n",
    "            ans = (ans * x) % 1000000007\n",
    "        \n",
    "        return ans"
   ]
  },
  {
   "cell_type": "code",
   "execution_count": 7,
   "id": "df42f04b-74f6-4431-82df-5c224f1227e6",
   "metadata": {},
   "outputs": [
    {
     "data": {
      "text/plain": [
       "25"
      ]
     },
     "execution_count": 7,
     "metadata": {},
     "output_type": "execute_result"
    }
   ],
   "source": [
    "class Solution:\n",
    "\n",
    "    def maxSubArray(self, nums: List[int]) -> int:\n",
    "\n",
    "        maxsum = nums[0]\n",
    "        _max_until_current = nums[0]\n",
    "        for i in range(1, len(nums)):\n",
    "\n",
    "            _max_until_current = (max(_max_until_current + nums[i], nums[i]))\n",
    "\n",
    "            if maxsum < _max_until_current:\n",
    "                maxsum = _max_until_current\n",
    "\n",
    "        return maxsum\n",
    "\n",
    "\n",
    "Solution().maxSubArray([-2, -3, 25, -8 -9, 1, 2, 3])"
   ]
  },
  {
   "cell_type": "code",
   "execution_count": null,
   "id": "f077b6f3-92ef-48fe-bb29-bfde0bc9e0c8",
   "metadata": {},
   "outputs": [],
   "source": []
  }
 ],
 "metadata": {
  "kernelspec": {
   "display_name": "Python 3 (ipykernel)",
   "language": "python",
   "name": "python3"
  },
  "language_info": {
   "codemirror_mode": {
    "name": "ipython",
    "version": 3
   },
   "file_extension": ".py",
   "mimetype": "text/x-python",
   "name": "python",
   "nbconvert_exporter": "python",
   "pygments_lexer": "ipython3",
   "version": "3.10.10"
  }
 },
 "nbformat": 4,
 "nbformat_minor": 5
}
