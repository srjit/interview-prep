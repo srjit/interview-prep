{
 "cells": [
  {
   "cell_type": "code",
   "execution_count": 2,
   "id": "c8498655-f46d-4799-94f4-7edd316e5002",
   "metadata": {},
   "outputs": [],
   "source": [
    "from typing import List"
   ]
  },
  {
   "cell_type": "code",
   "execution_count": 5,
   "id": "ecb2de20-1514-4dbe-83af-be1046b3b84a",
   "metadata": {},
   "outputs": [
    {
     "data": {
      "text/plain": [
       "[[9, 9], [8, 6]]"
      ]
     },
     "execution_count": 5,
     "metadata": {},
     "output_type": "execute_result"
    }
   ],
   "source": [
    "class Solution:\n",
    "    def largestLocal(self, grid: List[List[int]]) -> List[List[int]]:\n",
    "\n",
    "        ROWS, COLS = len(grid), len(grid[0])\n",
    "\n",
    "        res = []\n",
    "        for i in range(1, ROWS-1):\n",
    "            row = []\n",
    "            for j in range(1, COLS-1):\n",
    "                _max = max(grid[i-1][j-1], grid[i-1][j], grid[i-1][j+1],\n",
    "                        grid[i][j-1], grid[i][j], grid[i][j+1],\n",
    "                        grid[i+1][j-1],grid[i+1][j], grid[i+1][j+1])\n",
    "                row.append(_max)\n",
    "            res.append(row)\n",
    "        return res\n",
    "                        \n",
    "                        \n",
    "Solution().largestLocal([[9,9,8,1],[5,6,2,6],[8,2,6,4],[6,2,2,2]])"
   ]
  },
  {
   "cell_type": "code",
   "execution_count": 6,
   "id": "f85f51a9-1412-42ed-8d0d-d879e23a36be",
   "metadata": {},
   "outputs": [
    {
     "data": {
      "text/plain": [
       "[[2, 2, 2], [2, 2, 2], [2, 2, 2]]"
      ]
     },
     "execution_count": 6,
     "metadata": {},
     "output_type": "execute_result"
    }
   ],
   "source": [
    "Solution().largestLocal([[1,1,1,1,1],[1,1,1,1,1],[1,1,2,1,1],[1,1,1,1,1],[1,1,1,1,1]])"
   ]
  },
  {
   "cell_type": "code",
   "execution_count": null,
   "id": "fcdc4afa-7928-43af-ae52-4125c77790d7",
   "metadata": {},
   "outputs": [],
   "source": []
  }
 ],
 "metadata": {
  "kernelspec": {
   "display_name": "Python 3 (ipykernel)",
   "language": "python",
   "name": "python3"
  },
  "language_info": {
   "codemirror_mode": {
    "name": "ipython",
    "version": 3
   },
   "file_extension": ".py",
   "mimetype": "text/x-python",
   "name": "python",
   "nbconvert_exporter": "python",
   "pygments_lexer": "ipython3",
   "version": "3.10.10"
  }
 },
 "nbformat": 4,
 "nbformat_minor": 5
}
