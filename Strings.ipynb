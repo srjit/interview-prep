{
 "cells": [
  {
   "cell_type": "code",
   "execution_count": 15,
   "id": "7a8dbb9f-a3af-4534-ba59-44327ecca6ab",
   "metadata": {},
   "outputs": [],
   "source": [
    "class Solution:\n",
    "\n",
    "    def isPalindrome(self, s: str) -> bool:\n",
    "\n",
    "        _s = \"\"\n",
    "        for c in s.lower():\n",
    "            if c in 'abcdefghijklmnopqrstuvwxyz':\n",
    "                _s += c\n",
    "\n",
    "        for i in range((len(_s)//2)+1):\n",
    "            if _s[i] != _s[len(_s)-1-i]:\n",
    "                return False\n",
    "        return True"
   ]
  },
  {
   "cell_type": "code",
   "execution_count": 16,
   "id": "c31bb6c1-1805-4461-82c7-918d8d902821",
   "metadata": {},
   "outputs": [
    {
     "data": {
      "text/plain": [
       "True"
      ]
     },
     "execution_count": 16,
     "metadata": {},
     "output_type": "execute_result"
    }
   ],
   "source": [
    "Solution().isPalindrome(\"A man, a plan, a canal: Panama\")"
   ]
  },
  {
   "cell_type": "code",
   "execution_count": 19,
   "id": "af9b9a59-a98e-49c5-bdf7-01c4f41e5b45",
   "metadata": {},
   "outputs": [],
   "source": [
    "from typing import List\n",
    "\n",
    "class Solution:\n",
    "\n",
    "    def twoSum(self, numbers: List[int], target: int) -> List[int]:\n",
    "\n",
    "        i, j = 0, len(numbers)-1\n",
    "        while i < j:\n",
    "            _sum = numbers[i] + numbers[j]\n",
    "            if _sum == target:\n",
    "                return [i+1, j+1]\n",
    "            if _sum < target:\n",
    "                i += 1\n",
    "            else:\n",
    "                j -= 1\n",
    "        return [-1, -1]"
   ]
  },
  {
   "cell_type": "code",
   "execution_count": 22,
   "id": "777e4aef-99f2-4d3e-9302-2b3267ead24a",
   "metadata": {},
   "outputs": [
    {
     "data": {
      "text/plain": [
       "[1, 3]"
      ]
     },
     "execution_count": 22,
     "metadata": {},
     "output_type": "execute_result"
    }
   ],
   "source": [
    "Solution().twoSum([2,3,4], 6)"
   ]
  },
  {
   "cell_type": "code",
   "execution_count": 34,
   "id": "36c239a2-d07c-4da1-80d0-10f2bc386bec",
   "metadata": {},
   "outputs": [
    {
     "data": {
      "text/plain": [
       "True"
      ]
     },
     "execution_count": 34,
     "metadata": {},
     "output_type": "execute_result"
    }
   ],
   "source": [
    "class Solution:\n",
    "    def isIsomorphic(self, s: str, t: str) -> bool:\n",
    "\n",
    "        if len(s) != len(t):\n",
    "            return False\n",
    "        \n",
    "        replacement_s = {}\n",
    "        replacement_t = {}\n",
    "        \n",
    "        for i, c in enumerate(s):\n",
    "            \n",
    "            if c in replacement_s and t[i] in replacement_t:\n",
    "                print(f\"{i, c, replacement_s[c]}\")\n",
    "                if (replacement_s[c] != t[i]) or (replacement_t[t[i]] != c):\n",
    "                    return False\n",
    "            else:\n",
    "                replacement_s[c] = t[i]\n",
    "                replacement_t[t[i]] = c\n",
    "\n",
    "            \n",
    "                \n",
    "        return True\n",
    "                \n",
    "            \n",
    "\n",
    "Solution().isIsomorphic(\"badc\", \"baba\")"
   ]
  },
  {
   "cell_type": "code",
   "execution_count": 35,
   "id": "b04bb328-be7d-46e3-b5d1-41d0725ce30b",
   "metadata": {},
   "outputs": [],
   "source": [
    "class Solution:\n",
    "    def wordPattern(self, pattern: str, s: str) -> bool:\n",
    "\n",
    "        zipped_set = set(zip_longest(pattern, s.split()))\n",
    "        return len(zipped_set) == len(set(pattern)) == len(set(s.split()))"
   ]
  },
  {
   "cell_type": "markdown",
   "id": "7cfd7288-ee30-4e81-bf09-a9f59c61ddac",
   "metadata": {},
   "source": [
    "### 1249. Minimum Remove to Make Valid Parentheses"
   ]
  },
  {
   "cell_type": "code",
   "execution_count": 36,
   "id": "deb66a0f-2de1-4ce9-aba4-edb850523c64",
   "metadata": {},
   "outputs": [],
   "source": [
    "class Solution:\n",
    "\n",
    "    def minRemoveToMakeValid(self, s: str) -> str:\n",
    "\n",
    "        res = []\n",
    "        cnt = 0\n",
    "        for c in s:\n",
    "            if c == '(':\n",
    "                res.append(c)\n",
    "                cnt += 1\n",
    "            elif c == ')' and cnt > 0:\n",
    "                res.append(c)\n",
    "                cnt -= 1\n",
    "            elif c != ')':\n",
    "                res.append(c)\n",
    "\n",
    "        # process from reverse direction\n",
    "        # always remove the negatives from the back end\n",
    "        filtered = []\n",
    "        for c in res[::-1]:\n",
    "            if c == '(' and cnt > 0:\n",
    "                cnt -= 1\n",
    "            else:\n",
    "                filtered.append(c)\n",
    "        \n",
    "        return \"\".join(filtered[::-1])"
   ]
  },
  {
   "cell_type": "markdown",
   "id": "43786e5e-a104-43bc-aaf5-cba712f66098",
   "metadata": {},
   "source": [
    "## 921. Minimum Add to Make Parentheses Valid"
   ]
  },
  {
   "cell_type": "code",
   "execution_count": 42,
   "id": "b2752c3e-70c1-4064-8632-5fc3c7d8f3ee",
   "metadata": {},
   "outputs": [],
   "source": [
    "class Solution:\n",
    "    def minAddToMakeValid(self, s: str) -> int:\n",
    "\n",
    "        moves = 0\n",
    "        cnt = 0\n",
    "        tmp = []\n",
    "        for c in s:\n",
    "            if c == '(':\n",
    "                cnt += 1\n",
    "                tmp.append(\"(\")\n",
    "            elif c == ')' and cnt > 0:\n",
    "                cnt -= 1\n",
    "                tmp.append(\")\")\n",
    "            elif c == ')' and cnt <= 0:\n",
    "                # removing unnecessary )\n",
    "                moves += 1\n",
    "            \n",
    "\n",
    "        for c in tmp[::-1]:\n",
    "            if c == '(' and cnt > 0:\n",
    "                moves += 1\n",
    "                cnt -= 1\n",
    "        \n",
    "        return moves"
   ]
  },
  {
   "cell_type": "code",
   "execution_count": 43,
   "id": "8ca826a5-99a5-4698-8c4a-dbe7c1aa038f",
   "metadata": {},
   "outputs": [
    {
     "data": {
      "text/plain": [
       "1"
      ]
     },
     "execution_count": 43,
     "metadata": {},
     "output_type": "execute_result"
    }
   ],
   "source": [
    "s = \"())\"\n",
    "Solution().minAddToMakeValid(s)"
   ]
  },
  {
   "cell_type": "markdown",
   "id": "c7b9bb8b-47f9-4e4b-8bb2-3681fd5cbf95",
   "metadata": {},
   "source": [
    "## 71. Simplify Path"
   ]
  },
  {
   "cell_type": "code",
   "execution_count": 62,
   "id": "9f3d6099-4f84-40e4-803e-7a27ce605709",
   "metadata": {},
   "outputs": [
    {
     "data": {
      "text/plain": [
       "'/'"
      ]
     },
     "execution_count": 62,
     "metadata": {},
     "output_type": "execute_result"
    }
   ],
   "source": [
    "import re, os\n",
    "\n",
    "class Solution:\n",
    "    def simplifyPath(self, path: str) -> str:\n",
    "\n",
    "        folders = list(filter(lambda x: x != '', re.split(r'/+', path)))\n",
    "\n",
    "        struct = []\n",
    "\n",
    "        for comp in folders:\n",
    "            if comp == '..' and struct:\n",
    "                del struct[-1]\n",
    "            elif comp == '..':\n",
    "                continue\n",
    "            elif comp == '.':\n",
    "                continue\n",
    "            else:\n",
    "                struct.append(comp)\n",
    "\n",
    "        return \"/\" + \"/\".join(struct)\n",
    "\n",
    "\n",
    "Solution().simplifyPath(\"/../\")\n",
    "        "
   ]
  },
  {
   "cell_type": "markdown",
   "id": "d21ac404-46c8-4bff-b3ba-0af2afd9d869",
   "metadata": {},
   "source": [
    "### 2390. Removing Stars From a String"
   ]
  },
  {
   "cell_type": "code",
   "execution_count": 65,
   "id": "cb50a581-2203-4726-bba4-5d588687eacf",
   "metadata": {},
   "outputs": [],
   "source": [
    "from collections import deque\n",
    "\n",
    "class Solution:\n",
    "    def removeStars(self, s: str) -> str:\n",
    "        \n",
    "        q = deque()\n",
    "\n",
    "        for c in s:\n",
    "            if c == '*' and q:\n",
    "                q.pop()\n",
    "            else:\n",
    "                q.append(c)\n",
    "\n",
    "        return \"\".join(q)"
   ]
  },
  {
   "cell_type": "code",
   "execution_count": 67,
   "id": "12d58649-4c24-48ab-91ff-39f1a8b31707",
   "metadata": {},
   "outputs": [
    {
     "data": {
      "text/plain": [
       "''"
      ]
     },
     "execution_count": 67,
     "metadata": {},
     "output_type": "execute_result"
    }
   ],
   "source": [
    "Solution().removeStars('erase*****')"
   ]
  },
  {
   "cell_type": "markdown",
   "id": "3c080a95-a642-46cc-b201-9e153df1ad9e",
   "metadata": {},
   "source": [
    "### 155. Min Stack"
   ]
  },
  {
   "cell_type": "code",
   "execution_count": 72,
   "id": "5ae1086d-510d-4db5-a163-8cdc7460af3e",
   "metadata": {},
   "outputs": [
    {
     "data": {
      "text/plain": [
       "-2"
      ]
     },
     "execution_count": 72,
     "metadata": {},
     "output_type": "execute_result"
    }
   ],
   "source": [
    "class MinStack:\n",
    "\n",
    "    def __init__(self):\n",
    "\n",
    "        self.stack = []\n",
    "        self.min_stack = []\n",
    "        \n",
    "\n",
    "    def push(self, val: int) -> None:\n",
    "        self.stack.append(val)\n",
    "        val = min(val, self.min_stack[-1] if self.min_stack else val)\n",
    "        self.min_stack.append(val)\n",
    "\n",
    "    def pop(self) -> None:\n",
    "        self.stack.pop()\n",
    "        self.min_stack.pop()\n",
    "\n",
    "    def top(self) -> int:\n",
    "        return self.stack[-1]\n",
    "\n",
    "    def getMin(self) -> int:\n",
    "        return self.min_stack[-1]\n",
    "\n",
    "\n",
    "# Your MinStack object will be instantiated and called as such:\n",
    "# obj = MinStack()\n",
    "# obj.push(val)\n",
    "# obj.pop()\n",
    "# param_3 = obj.top()\n",
    "# param_4 = obj.getMin()\n",
    "\n",
    "ms = MinStack()\n",
    "ms.push(-2)\n",
    "ms.push(0)\n",
    "ms.push(-3)\n",
    "ms.getMin()\n",
    "ms.pop()\n",
    "ms.top()\n",
    "ms.getMin()"
   ]
  },
  {
   "cell_type": "code",
   "execution_count": 75,
   "id": "6dc67a3d-5b8f-4a43-bf40-621ff2b35b58",
   "metadata": {},
   "outputs": [
    {
     "data": {
      "text/plain": [
       "22"
      ]
     },
     "execution_count": 75,
     "metadata": {},
     "output_type": "execute_result"
    }
   ],
   "source": [
    "class Solution:\n",
    "    def evalRPN(self, tokens: List[str]) -> int:\n",
    "\n",
    "        stack = deque()\n",
    "        operators = ['+', '-', '*', '/']\n",
    "\n",
    "        for token in tokens:\n",
    "            if token in operators:\n",
    "                \n",
    "                operand2 = stack.pop()\n",
    "                operand1 = stack.pop()\n",
    "\n",
    "                if token == '+':\n",
    "                    res = operand1 + operand2\n",
    "                elif token == '-':\n",
    "                    res = operand1 - operand2\n",
    "                elif token == '*':\n",
    "                    res = operand1 * operand2\n",
    "                elif token == '/':\n",
    "                    res = int(operand1/operand2)\n",
    "                \n",
    "                stack.append(res)\n",
    "            else:\n",
    "                stack.append(int(token))\n",
    "        \n",
    "        return stack.pop()\n",
    "\n",
    "\n",
    "tokens = [\"10\",\"6\",\"9\",\"3\",\"+\",\"-11\",\"*\",\"/\",\"*\",\"17\",\"+\",\"5\",\"+\"]\n",
    "Solution().evalRPN(tokens)"
   ]
  },
  {
   "cell_type": "raw",
   "id": "9793c38f-021a-42b0-83e6-c9f790e3080e",
   "metadata": {},
   "source": [
    "10, 6, 12, -11, *\n",
    "10, 6, -132, /\n",
    "10, 0, * \n",
    "0, 17, + \n",
    "22"
   ]
  },
  {
   "cell_type": "code",
   "execution_count": null,
   "id": "cb6fd7de-b2f8-43c2-885f-45eab6ed5168",
   "metadata": {},
   "outputs": [],
   "source": [
    "6//-132"
   ]
  },
  {
   "cell_type": "code",
   "execution_count": 80,
   "id": "9e77c849-1177-45ad-9954-ac35f459c0dc",
   "metadata": {},
   "outputs": [
    {
     "data": {
      "text/plain": [
       "8"
      ]
     },
     "execution_count": 80,
     "metadata": {},
     "output_type": "execute_result"
    }
   ],
   "source": [
    "def fib(n):\n",
    "\n",
    "    one, two = 1, 1\n",
    "    if n == 0 or n == 1:\n",
    "            return 1\n",
    "    for i in range(2, n+1):\n",
    "        one, two = two, one + two\n",
    "    return two\n",
    "\n",
    "fact(5)"
   ]
  },
  {
   "cell_type": "code",
   "execution_count": 86,
   "id": "76573d30-099d-4a53-b7f4-9e8f1fb761df",
   "metadata": {},
   "outputs": [
    {
     "data": {
      "text/plain": [
       "120"
      ]
     },
     "execution_count": 86,
     "metadata": {},
     "output_type": "execute_result"
    }
   ],
   "source": [
    "def fact(n):\n",
    "\n",
    "    f = 1\n",
    "    if n == 0 or n == 1:\n",
    "            return 1\n",
    "    for i in range(2, n+1):\n",
    "        f *= i\n",
    "        \n",
    "    return f\n",
    "\n",
    "fact(5)"
   ]
  },
  {
   "cell_type": "code",
   "execution_count": 90,
   "id": "7ae3faec-a34d-4daf-8d91-8bfa18ab5f96",
   "metadata": {},
   "outputs": [
    {
     "name": "stdout",
     "output_type": "stream",
     "text": [
      "021\n",
      "> \u001b[0;32m/var/folders/gh/tdqdcp611d5c7yv0b0np772c0000gn/T/ipykernel_42082/3047001964.py\u001b[0m(17)\u001b[0;36mtrailingZeroes\u001b[0;34m()\u001b[0m\n",
      "\u001b[0;32m     16 \u001b[0;31m            \u001b[0mipdb\u001b[0m\u001b[0;34m.\u001b[0m\u001b[0mset_trace\u001b[0m\u001b[0;34m(\u001b[0m\u001b[0;34m)\u001b[0m\u001b[0;34m\u001b[0m\u001b[0;34m\u001b[0m\u001b[0m\n",
      "\u001b[0m\u001b[0;32m---> 17 \u001b[0;31m            \u001b[0;32mif\u001b[0m \u001b[0mc\u001b[0m \u001b[0;34m!=\u001b[0m \u001b[0;34m'0'\u001b[0m\u001b[0;34m:\u001b[0m\u001b[0;34m\u001b[0m\u001b[0;34m\u001b[0m\u001b[0m\n",
      "\u001b[0m\u001b[0;32m     18 \u001b[0;31m                \u001b[0;32mbreak\u001b[0m\u001b[0;34m\u001b[0m\u001b[0;34m\u001b[0m\u001b[0m\n",
      "\u001b[0m\n"
     ]
    },
    {
     "name": "stdin",
     "output_type": "stream",
     "text": [
      "ipdb>  q\n"
     ]
    }
   ],
   "source": [
    "class Solution:\n",
    "    def trailingZeroes(self, n: int) -> int:\n",
    "        \n",
    "        f = 1\n",
    "        if n == 0 or n == 1:\n",
    "                return 1\n",
    "        for i in range(2, n+1):\n",
    "            f *= i\n",
    "\n",
    "\n",
    "        op = str(f)[::-1]\n",
    "        print(op)\n",
    "        zeros = 0\n",
    "        for c in op:\n",
    "            import ipdb\n",
    "            ipdb.set_trace()\n",
    "            if c != '0':\n",
    "                break\n",
    "            zeros += 1\n",
    "        return zeros\n",
    "\n",
    "        \n",
    "Solution().trailingZeroes(5)   "
   ]
  },
  {
   "cell_type": "code",
   "execution_count": 1,
   "id": "c61c57b1-1c2c-4180-8fd2-8e754d61453c",
   "metadata": {},
   "outputs": [],
   "source": [
    "## Longest Palindromic Substring"
   ]
  },
  {
   "cell_type": "code",
   "execution_count": null,
   "id": "f452e995-1448-4d9c-9314-1f65faa6684f",
   "metadata": {},
   "outputs": [],
   "source": [
    "\n",
    "class Solution:\n",
    "    \n",
    "    def longestPalindrome(self, s: str) -> str:\n",
    "\n",
    "        maxlen = 0\n",
    "        res = \"\"\n",
    "        for i in range(len(s)):\n",
    "\n",
    "            l, r = i, i\n",
    "            while l>=0 and r < len(s) and s[l] == s[r]:\n",
    "                if r-l+1 > maxlen:\n",
    "                    maxlen = r-l+1\n",
    "                    res = s[l:r+1]\n",
    "                r += 1\n",
    "                l -= 1\n",
    "\n",
    "            l, r = i, i+1\n",
    "            while l>=0 and r < len(s) and s[l] == s[r]:\n",
    "                if r-l+1 > maxlen:\n",
    "                    maxlen = r-l+1\n",
    "                    res = s[l:r+1]\n",
    "                r += 1\n",
    "                l -= 1\n",
    "\n",
    "        return res"
   ]
  }
 ],
 "metadata": {
  "kernelspec": {
   "display_name": "Python 3 (ipykernel)",
   "language": "python",
   "name": "python3"
  },
  "language_info": {
   "codemirror_mode": {
    "name": "ipython",
    "version": 3
   },
   "file_extension": ".py",
   "mimetype": "text/x-python",
   "name": "python",
   "nbconvert_exporter": "python",
   "pygments_lexer": "ipython3",
   "version": "3.10.10"
  }
 },
 "nbformat": 4,
 "nbformat_minor": 5
}
