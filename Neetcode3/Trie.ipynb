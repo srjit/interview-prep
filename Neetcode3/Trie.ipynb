{
 "cells": [
  {
   "cell_type": "code",
   "execution_count": 1,
   "id": "891eec1d-4a5a-4c7f-bcaf-63643192cb76",
   "metadata": {},
   "outputs": [],
   "source": [
    "class Node:\n",
    "\n",
    "    def __init__(self):\n",
    "        self.children = {}\n",
    "        self.endOfWord = False"
   ]
  },
  {
   "cell_type": "code",
   "execution_count": 2,
   "id": "e0282db5-516c-463a-8e23-481d1579f0a6",
   "metadata": {},
   "outputs": [],
   "source": [
    "# Trie\n",
    "\n",
    "class PrefixTree:\n",
    "\n",
    "    def __init__(self):\n",
    "        self.root = Node()\n",
    "\n",
    "    def insert(self, word: str) -> None:\n",
    "        \n",
    "        cur = self.root\n",
    "        for c in word:\n",
    "            if c not in cur.children:\n",
    "                cur.children[c] = Node()\n",
    "            cur = cur.children[c]\n",
    "        cur.endOfWord = True\n",
    "\n",
    "    def search(self, word: str) -> bool:\n",
    "\n",
    "        cur = self.root\n",
    "        for c in word:\n",
    "            if c not in cur.children:\n",
    "                return False\n",
    "            cur = cur.children[c]\n",
    "        return cur.endOfWord()\n",
    "\n",
    "    def startsWith(self, prefix: str) -> bool:\n",
    "\n",
    "        cur = self.root\n",
    "        for c in prefix:\n",
    "            if c not in cur.children:\n",
    "                return False\n",
    "            cur = cur.children[c]\n",
    "        return True"
   ]
  },
  {
   "cell_type": "code",
   "execution_count": null,
   "id": "4caa74e1-b557-4ee0-8508-3adc2d4d9936",
   "metadata": {},
   "outputs": [],
   "source": [
    "class Node:\n",
    "\n",
    "    def __init__(self):\n",
    "        self.children = {}\n",
    "        self.complete = False\n",
    "\n",
    "class WordDictionary:\n",
    "\n",
    "    def __init__(self):\n",
    "        self.root = Node()\n",
    "\n",
    "    def addWord(self, word: str) -> None:\n",
    "\n",
    "        cur = self.root\n",
    "        for c in word:\n",
    "            if c not in cur.children:\n",
    "                cur.children[c] = Node()\n",
    "            cur = cur.children[c]\n",
    "        cur.complete = True\n",
    "\n",
    "    def search(self, word: str) -> bool:\n",
    "\n",
    "        def dfs(j, node):\n",
    "            cur = node\n",
    "            for i in range(j, len(word)):\n",
    "                c = word[i]\n",
    "                if c == \".\":\n",
    "                    for child in cur.children.values():\n",
    "                        if dfs(i+1, child): return True\n",
    "                    return False\n",
    "                else:\n",
    "                    if c not in cur.children:\n",
    "                        cur.children[c] = Node()\n",
    "                    cur = cur.children[c]\n",
    "                return cur.complete\n",
    "\n",
    "        return dfs(0, self.root)"
   ]
  }
 ],
 "metadata": {
  "kernelspec": {
   "display_name": "transformers",
   "language": "python",
   "name": "transformers"
  },
  "language_info": {
   "codemirror_mode": {
    "name": "ipython",
    "version": 3
   },
   "file_extension": ".py",
   "mimetype": "text/x-python",
   "name": "python",
   "nbconvert_exporter": "python",
   "pygments_lexer": "ipython3",
   "version": "3.9.9"
  }
 },
 "nbformat": 4,
 "nbformat_minor": 5
}
