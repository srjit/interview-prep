{
 "cells": [
  {
   "cell_type": "code",
   "execution_count": 2,
   "id": "ca44439c-d836-490f-bc49-757551a28e5a",
   "metadata": {},
   "outputs": [],
   "source": [
    "from typing import List"
   ]
  },
  {
   "cell_type": "code",
   "execution_count": 3,
   "id": "08d66e60-7c14-41d1-b180-60c6bf4fa381",
   "metadata": {},
   "outputs": [
    {
     "data": {
      "text/plain": [
       "[[3, 2, 1], [2, 3, 1], [1, 3, 2], [3, 1, 2], [2, 1, 3], [1, 2, 3]]"
      ]
     },
     "execution_count": 3,
     "metadata": {},
     "output_type": "execute_result"
    }
   ],
   "source": [
    "## Permutation\n",
    "\n",
    "class Solution:\n",
    "\n",
    "    def permute(self, nums: List[int]) -> List[List[int]]:\n",
    "\n",
    "        res = []\n",
    "\n",
    "        if len(nums) == 1:\n",
    "            return [nums]\n",
    "\n",
    "        for i in range(len(nums)):\n",
    "            \n",
    "            elt = nums.pop(0)\n",
    "            permutations = self.permute(nums)\n",
    "\n",
    "            for perm in permutations:\n",
    "                res.append(perm + [elt])\n",
    "\n",
    "            nums.append(elt)\n",
    "            \n",
    "        return res\n",
    "                \n",
    "Solution().permute([1, 2, 3])"
   ]
  },
  {
   "cell_type": "code",
   "execution_count": 7,
   "id": "dc891912-d6cf-4987-bc05-73e3f9585c4c",
   "metadata": {},
   "outputs": [
    {
     "data": {
      "text/plain": [
       "[[1, 2, 5], [2, 2, 4], [2, 6]]"
      ]
     },
     "execution_count": 7,
     "metadata": {},
     "output_type": "execute_result"
    }
   ],
   "source": [
    "class Solution:\n",
    "    \n",
    "    def combinationSum2(self, nums, target: int):\n",
    "\n",
    "        nums.sort()\n",
    "        res, cur = [], []\n",
    "        def backtrack(start, rem):\n",
    "\n",
    "            if rem == 0:\n",
    "                res.append(cur.copy())\n",
    "                return\n",
    "\n",
    "            if start >= len(nums) or rem < 0:\n",
    "                return\n",
    "\n",
    "            prev = -1\n",
    "            for i in range(start, len(nums)):\n",
    "                if nums[i] == prev:\n",
    "                    continue\n",
    "                cur.append(nums[i])\n",
    "                backtrack(i+1, rem-nums[i])\n",
    "                prev = nums[i]\n",
    "                cur.pop()\n",
    "\n",
    "        backtrack(0, target)\n",
    "        return res\n",
    "\n",
    "candidates = [9,2,2,4,6,1,5]\n",
    "target = 8\n",
    "Solution().combinationSum2(candidates, target)\n"
   ]
  },
  {
   "cell_type": "code",
   "execution_count": null,
   "id": "a6f8a303-6241-47c4-8573-27c07d646df4",
   "metadata": {},
   "outputs": [],
   "source": []
  }
 ],
 "metadata": {
  "kernelspec": {
   "display_name": "Python 3 (ipykernel)",
   "language": "python",
   "name": "python3"
  },
  "language_info": {
   "codemirror_mode": {
    "name": "ipython",
    "version": 3
   },
   "file_extension": ".py",
   "mimetype": "text/x-python",
   "name": "python",
   "nbconvert_exporter": "python",
   "pygments_lexer": "ipython3",
   "version": "3.9.9"
  }
 },
 "nbformat": 4,
 "nbformat_minor": 5
}
