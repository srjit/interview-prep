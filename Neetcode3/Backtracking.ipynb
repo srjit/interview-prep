{
 "cells": [
  {
   "cell_type": "code",
   "execution_count": 6,
   "id": "db694a60-99f3-4311-82f3-ad9ef037b19c",
   "metadata": {},
   "outputs": [],
   "source": [
    "from typing import List"
   ]
  },
  {
   "cell_type": "code",
   "execution_count": 10,
   "id": "babd1e65-c3fd-4c8d-8aaa-e582db8d2b17",
   "metadata": {},
   "outputs": [
    {
     "data": {
      "text/plain": [
       "[[1, 2, 3], [1, 2], [1, 3], [1], [2, 3], [2], [3], []]"
      ]
     },
     "execution_count": 10,
     "metadata": {},
     "output_type": "execute_result"
    }
   ],
   "source": [
    "class Solution:\n",
    "\n",
    "    def subsets(self, nums: List[int]) -> List[List[int]]:\n",
    "\n",
    "        res = []\n",
    "        subset = []\n",
    "\n",
    "        def backtrack(i):\n",
    "        \n",
    "            if i == len(nums):\n",
    "                res.append(subset.copy())\n",
    "                return\n",
    "\n",
    "            subset.append(nums[i])\n",
    "            backtrack(i+1)\n",
    "            subset.pop()\n",
    "            backtrack(i+1)\n",
    "        \n",
    "        backtrack(0)\n",
    "        return res\n",
    "\n",
    "Solution().subsets([1,2,3])"
   ]
  },
  {
   "cell_type": "code",
   "execution_count": 13,
   "id": "0fce9e5e-6eed-4ce3-9f1a-f0336d036256",
   "metadata": {},
   "outputs": [
    {
     "data": {
      "text/plain": [
       "[[2, 2, 5], [9]]"
      ]
     },
     "execution_count": 13,
     "metadata": {},
     "output_type": "execute_result"
    }
   ],
   "source": [
    "class Solution:\n",
    "\n",
    "    def combinationSum(self, nums: List[int], target: int) -> List[List[int]]:\n",
    "\n",
    "        res = []\n",
    "        buffer = []\n",
    "\n",
    "        def backtrack(i):\n",
    "\n",
    "            if sum(buffer) == target:\n",
    "                res.append(buffer.copy())\n",
    "                return\n",
    "\n",
    "            if i >= len(nums) or sum(buffer) > target:\n",
    "                return\n",
    "\n",
    "            buffer.append(nums[i])\n",
    "            backtrack(i)\n",
    "            buffer.pop()\n",
    "            backtrack(i+1)\n",
    "            \n",
    "\n",
    "        backtrack(0)\n",
    "        return res\n",
    "\n",
    "\n",
    "Solution().combinationSum([2,5,6,9], 9)"
   ]
  },
  {
   "cell_type": "code",
   "execution_count": 18,
   "id": "c99d03a7-f6c0-4158-8ad0-6ec3c060ccf7",
   "metadata": {},
   "outputs": [
    {
     "data": {
      "text/plain": [
       "[[3, 2, 1], [2, 3, 1], [1, 3, 2], [3, 1, 2], [2, 1, 3], [1, 2, 3]]"
      ]
     },
     "execution_count": 18,
     "metadata": {},
     "output_type": "execute_result"
    }
   ],
   "source": [
    "class Solution:\n",
    "\n",
    "    def permute(self, nums: List[int]) -> List[List[int]]:\n",
    "\n",
    "        res = []\n",
    "\n",
    "        if len(nums) == 1:\n",
    "            return [nums]\n",
    "\n",
    "        for i in range(len(nums)):\n",
    "            \n",
    "            elt = nums.pop(0)\n",
    "            permutations = self.permute(nums)\n",
    "\n",
    "            for p in permutations:\n",
    "                res.append(p + [elt])\n",
    "\n",
    "            nums.append(elt)\n",
    "            \n",
    "        return res\n",
    "        \n",
    "Solution().permute([1, 2, 3])            "
   ]
  },
  {
   "cell_type": "code",
   "execution_count": 19,
   "id": "bf80c0fb-b288-48b6-acac-9edd8da12ee1",
   "metadata": {},
   "outputs": [
    {
     "data": {
      "text/plain": [
       "[[1, 1, 2], [1, 1], [1, 2], [1], [2], []]"
      ]
     },
     "execution_count": 19,
     "metadata": {},
     "output_type": "execute_result"
    }
   ],
   "source": [
    "class Solution:\n",
    "    def subsetsWithDup(self, nums: List[int]) -> List[List[int]]:\n",
    "\n",
    "        nums.sort()\n",
    "\n",
    "        res = []\n",
    "        cur = []\n",
    "\n",
    "        def backtrack(i):\n",
    "\n",
    "            if i == len(nums):\n",
    "                res.append(cur.copy())\n",
    "                return\n",
    "\n",
    "            cur.append(nums[i])\n",
    "            backtrack(i+1)\n",
    "            cur.pop()\n",
    "\n",
    "            while i+1 < len(nums) and nums[i] == nums[i+1]:\n",
    "                i+=1\n",
    "            backtrack(i+1)\n",
    "\n",
    "        backtrack(0)\n",
    "        return res\n",
    "\n",
    "Solution().subsetsWithDup([1, 2, 1])"
   ]
  },
  {
   "cell_type": "code",
   "execution_count": 25,
   "id": "d01e59cf-3edc-4dc7-b2a8-3a093d82e141",
   "metadata": {},
   "outputs": [
    {
     "data": {
      "text/plain": [
       "[[1, 2, 5], [2, 2, 4], [2, 6]]"
      ]
     },
     "execution_count": 25,
     "metadata": {},
     "output_type": "execute_result"
    }
   ],
   "source": [
    "class Solution:\n",
    "    \n",
    "    def combinationSum2(self, nums, target: int):\n",
    "\n",
    "        nums.sort()\n",
    "        res, cur = [], []\n",
    "\n",
    "        def backtrack(start, rem):\n",
    "\n",
    "            if rem == 0:\n",
    "                res.append(cur.copy())\n",
    "                return\n",
    "\n",
    "            if start >= len(nums) or rem < 0:\n",
    "                return\n",
    "\n",
    "            prev = -1\n",
    "            for i in range(start, len(nums)):\n",
    "                if nums[i] == prev:\n",
    "                    continue\n",
    "                cur.append(nums[i])\n",
    "                backtrack(i+1, rem-nums[i])\n",
    "                cur.remove(nums[i])\n",
    "                prev = nums[i]\n",
    "\n",
    "        backtrack(0, target)\n",
    "        return res\n",
    "\n",
    "candidates = [9,2,2,4,6,1,5]\n",
    "target = 8\n",
    "Solution().combinationSum2(candidates, target)"
   ]
  },
  {
   "cell_type": "code",
   "execution_count": 23,
   "id": "1f4af787-d3be-40fb-a488-4f9aaf8459c9",
   "metadata": {},
   "outputs": [
    {
     "data": {
      "text/plain": [
       "False"
      ]
     },
     "execution_count": 23,
     "metadata": {},
     "output_type": "execute_result"
    }
   ],
   "source": [
    "class Solution:\n",
    "    \n",
    "    def exist(self, board: List[List[str]], word: str) -> bool:\n",
    "\n",
    "        if not board:\n",
    "            return False\n",
    "\n",
    "        rows, cols = len(board), len(board[0])\n",
    "        visited = set()\n",
    "\n",
    "        def dfs(r, c, i):\n",
    "\n",
    "            if i == len(word) :\n",
    "                return True\n",
    "            if r < 0 or c < 0 or r >= rows or c >= cols or (r, c) in visited or board[r][c] != word[i]:\n",
    "                return False\n",
    "\n",
    "            visited.add((r, c))\n",
    "            nei = [(-1,0), (1,0), (0,-1),(0, 1)]\n",
    "            for dr, dc in nei:\n",
    "                op = dfs(r+dr, c+dc, i+1)\n",
    "                if op:\n",
    "                    return True\n",
    "\n",
    "            visited.remove((r, c))\n",
    "            return False\n",
    "\n",
    "        for r in range(rows):\n",
    "            for c in range(cols):\n",
    "                if dfs(r, c, 0):\n",
    "                    return True\n",
    "        return False\n",
    "                \n",
    "            \n",
    "board = [\n",
    "  [\"A\",\"B\",\"C\",\"D\"],\n",
    "  [\"S\",\"A\",\"A\",\"T\"],\n",
    "  [\"A\",\"C\",\"A\",\"E\"]\n",
    "]\n",
    "word = \"CATS\"                \n",
    "Solution().exist(board, word) "
   ]
  },
  {
   "cell_type": "code",
   "execution_count": 29,
   "id": "f68afff3-d223-4019-b273-6696fd13c3c8",
   "metadata": {},
   "outputs": [
    {
     "data": {
      "text/plain": [
       "[['a', 'a', 'b'], ['aa', 'b']]"
      ]
     },
     "execution_count": 29,
     "metadata": {},
     "output_type": "execute_result"
    }
   ],
   "source": [
    "class Solution:\n",
    "    def partition(self, s: str) -> List[List[str]]:\n",
    "\n",
    "        def ispal(s, l, r):\n",
    "            while l < r:\n",
    "                if s[l] != s[r]:\n",
    "                    return False\n",
    "                l+=1\n",
    "                r-=1\n",
    "            return True\n",
    "            \n",
    "\n",
    "        res, cur = [], []\n",
    "\n",
    "        def backtrack(start):\n",
    "\n",
    "            if start == len(s):\n",
    "                res.append(cur.copy())\n",
    "                return\n",
    "\n",
    "            for i in range(start, len(s)):\n",
    "                if ispal(s, start, i):\n",
    "                    cur.append(s[start:i+1])\n",
    "                    backtrack(i+1)\n",
    "                    cur.pop()\n",
    "        backtrack(0)\n",
    "        return res\n",
    "\n",
    "\n",
    "Solution().partition(\"aab\")"
   ]
  },
  {
   "cell_type": "code",
   "execution_count": 32,
   "id": "51f1bd0d-3994-45bc-af96-eb6054d865c9",
   "metadata": {},
   "outputs": [
    {
     "data": {
      "text/plain": [
       "['dg', 'dh', 'di', 'eg', 'eh', 'ei', 'fg', 'fh', 'fi']"
      ]
     },
     "execution_count": 32,
     "metadata": {},
     "output_type": "execute_result"
    }
   ],
   "source": [
    "## Letter combinations of phone number\n",
    "\n",
    "class Solution:\n",
    "\n",
    "    def letterCombinations(self, digits: str) -> List[str]:\n",
    "\n",
    "        res = []\n",
    "        digitstochar = {\n",
    "            \"2\": \"abc\", \n",
    "            \"3\": \"def\", \n",
    "            \"4\": \"ghi\", \n",
    "            \"5\": \"jkl\", \n",
    "            \"6\": \"mno\", \n",
    "            \"7\": \"pqrs\", \n",
    "            \"8\": \"tuv\", \n",
    "            \"9\": \"wxyz\"\n",
    "        }\n",
    "\n",
    "        def backtrack(i, letters):\n",
    "\n",
    "            if len(digits) == len(letters): \n",
    "                res.append(letters)\n",
    "                return\n",
    "\n",
    "            mapped = digitstochar[digits[i]]\n",
    "            \n",
    "            for c in mapped:\n",
    "                backtrack(i+1, letters+c)\n",
    "\n",
    "        if digits:\n",
    "            backtrack(0, \"\")\n",
    "\n",
    "        return res\n",
    "        \n",
    "        \n",
    "Solution().letterCombinations(\"34\")                            "
   ]
  },
  {
   "cell_type": "code",
   "execution_count": 33,
   "id": "d34d45ed-1844-4ba6-8117-e84f5d7fc554",
   "metadata": {},
   "outputs": [],
   "source": [
    "## N-Queens\n",
    "\n",
    "class Solution:\n",
    "    def solveNQueens(self, n: int) -> List[List[str]]:\n",
    "\n",
    "        res = []\n",
    "        posdiag, negdiag = set(), set()\n",
    "        col = set()\n",
    "        board = [[\".\"] * n for _ in range(n)]\n",
    "\n",
    "        def backtrack(r):\n",
    "\n",
    "            if r == n:\n",
    "                board_ = [\"\".join(row) for row in board]\n",
    "                res.append(board_)\n",
    "                return\n",
    "\n",
    "            for c in range(n):\n",
    "\n",
    "                if c in col or (r+c) in posdiag or (r-c) in negdiag:\n",
    "                    continue\n",
    "\n",
    "                col.add(c)\n",
    "                posdiag.add(r+c)\n",
    "                negdiag.add(r-c)\n",
    "\n",
    "                board[r][c] = 'Q'\n",
    "                backtrack(r+1)\n",
    "\n",
    "                col.remove(c)\n",
    "                posdiag.remove(r+c)\n",
    "                negdiag.remove(r-c)\n",
    "                board[r][c] = '.'\n",
    "\n",
    "        backtrack(0)\n",
    "        return res\n",
    "        \n"
   ]
  },
  {
   "cell_type": "code",
   "execution_count": null,
   "id": "8994ea94-299c-4a6a-8a30-44f802290bb2",
   "metadata": {},
   "outputs": [],
   "source": []
  }
 ],
 "metadata": {
  "kernelspec": {
   "display_name": "Python 3 (ipykernel)",
   "language": "python",
   "name": "python3"
  },
  "language_info": {
   "codemirror_mode": {
    "name": "ipython",
    "version": 3
   },
   "file_extension": ".py",
   "mimetype": "text/x-python",
   "name": "python",
   "nbconvert_exporter": "python",
   "pygments_lexer": "ipython3",
   "version": "3.9.9"
  }
 },
 "nbformat": 4,
 "nbformat_minor": 5
}
