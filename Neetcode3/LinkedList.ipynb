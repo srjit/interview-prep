{
 "cells": [
  {
   "cell_type": "code",
   "execution_count": 3,
   "id": "82a2ba8f-1969-41d1-9000-0734cfdc1337",
   "metadata": {},
   "outputs": [],
   "source": [
    "from typing import List, Optional"
   ]
  },
  {
   "cell_type": "code",
   "execution_count": 4,
   "id": "d512d444-6eb5-47cf-b822-523e108f2f1a",
   "metadata": {},
   "outputs": [],
   "source": [
    "class ListNode:\n",
    "    \n",
    "    def __init__(self, val=0, next=None):\n",
    "        self.val = val\n",
    "        self.next = next"
   ]
  },
  {
   "cell_type": "code",
   "execution_count": 5,
   "id": "daa98fc7-d22f-4541-b936-1b1c04feee26",
   "metadata": {},
   "outputs": [],
   "source": [
    "## Reverse a Linked List\n",
    "\n",
    "class Solution:\n",
    "    \n",
    "    def reverseList(self, head: Optional[ListNode]) -> Optional[ListNode]:\n",
    "\n",
    "        if not head:\n",
    "            return None\n",
    "\n",
    "        prev = head\n",
    "        current = head.next\n",
    "\n",
    "        while current:\n",
    "            tmp = current.next\n",
    "            current.next = prev\n",
    "            prev = current\n",
    "            current = tmp\n",
    "\n",
    "        head.next = None\n",
    "        return prev"
   ]
  },
  {
   "cell_type": "code",
   "execution_count": 6,
   "id": "afaf398a-6afb-42ba-8533-d3f084a5ff78",
   "metadata": {},
   "outputs": [],
   "source": [
    "class Solution:\n",
    "    \n",
    "    def mergeTwoLists(self, list1: Optional[ListNode], \n",
    "                      list2: Optional[ListNode]) -> Optional[ListNode]:\n",
    "\n",
    "        dummy = ListNode(-1)\n",
    "        tail = dummy\n",
    "\n",
    "        while list1 and list2:\n",
    "            if list1.val < list2.val:\n",
    "                tail.next = list1\n",
    "                list1 = list1.next\n",
    "            else:\n",
    "                tail.next = list2\n",
    "                list2 = list2.next\n",
    "            tail = tail.next\n",
    "                \n",
    "        if list1:\n",
    "            tail.next = list1\n",
    "        if list2:\n",
    "            tail.next = list2\n",
    "\n",
    "        return dummy.next"
   ]
  },
  {
   "cell_type": "code",
   "execution_count": null,
   "id": "ab7109d6-8f36-40a2-afc4-80223a65face",
   "metadata": {},
   "outputs": [],
   "source": []
  }
 ],
 "metadata": {
  "kernelspec": {
   "display_name": "Python 3 (ipykernel)",
   "language": "python",
   "name": "python3"
  },
  "language_info": {
   "codemirror_mode": {
    "name": "ipython",
    "version": 3
   },
   "file_extension": ".py",
   "mimetype": "text/x-python",
   "name": "python",
   "nbconvert_exporter": "python",
   "pygments_lexer": "ipython3",
   "version": "3.9.9"
  }
 },
 "nbformat": 4,
 "nbformat_minor": 5
}
