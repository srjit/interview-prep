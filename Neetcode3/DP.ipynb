{
 "cells": [
  {
   "cell_type": "code",
   "execution_count": 2,
   "id": "9a1b8578-3fc1-4838-927c-7144bf7494d2",
   "metadata": {},
   "outputs": [],
   "source": [
    "from typing import List"
   ]
  },
  {
   "cell_type": "code",
   "execution_count": 4,
   "id": "45147305-7e9c-4750-b2eb-723b38e45d70",
   "metadata": {},
   "outputs": [
    {
     "data": {
      "text/plain": [
       "2"
      ]
     },
     "execution_count": 4,
     "metadata": {},
     "output_type": "execute_result"
    }
   ],
   "source": [
    "## Max Product\n",
    "\n",
    "class Solution:\n",
    "    def maxProduct(self, nums: List[int]) -> int:\n",
    "\n",
    "        res = nums[0]\n",
    "        curMin , curMax = 1,1\n",
    "\n",
    "        for n in nums:\n",
    "            curMin, curMax = min(n, curMin * n, curMax * n), max(n, curMax * n, curMin * n)\n",
    "            res = max(res, curMax)\n",
    "\n",
    "        return res\n",
    "\n",
    "#nums = [1,2,-3,4]\n",
    "nums = [-2,-1]\n",
    "\n",
    "Solution().maxProduct(nums)        "
   ]
  },
  {
   "cell_type": "code",
   "execution_count": 7,
   "id": "7aa55a09-c4f8-4c8f-899e-e28e5f43b9be",
   "metadata": {},
   "outputs": [
    {
     "data": {
      "text/plain": [
       "3"
      ]
     },
     "execution_count": 7,
     "metadata": {},
     "output_type": "execute_result"
    }
   ],
   "source": [
    "## Climbing Stairs\n",
    "\n",
    "class Solution:\n",
    "    def climbStairs(self, n: int) -> int:\n",
    "\n",
    "        one, two = 1, 1\n",
    "        for i in range(n-1, -1, -1):\n",
    "            one, two = one+two, one\n",
    "        return two\n",
    "\n",
    "Solution().climbStairs(3)"
   ]
  },
  {
   "cell_type": "code",
   "execution_count": null,
   "id": "8f5ac254-2be1-412c-8e29-ae9bca0565e0",
   "metadata": {},
   "outputs": [],
   "source": [
    "## Minimum cost of climbing stairs\n",
    "\n",
    "\n",
    "class Solution:\n",
    "\n",
    "    def minCostClimbingStairs(self, cost: List[int]) -> int:\n",
    "\n",
    "        dp = [0] * len(cost) + 1\n",
    "        dp[]"
   ]
  }
 ],
 "metadata": {
  "kernelspec": {
   "display_name": "Python 3 (ipykernel)",
   "language": "python",
   "name": "python3"
  },
  "language_info": {
   "codemirror_mode": {
    "name": "ipython",
    "version": 3
   },
   "file_extension": ".py",
   "mimetype": "text/x-python",
   "name": "python",
   "nbconvert_exporter": "python",
   "pygments_lexer": "ipython3",
   "version": "3.9.9"
  }
 },
 "nbformat": 4,
 "nbformat_minor": 5
}
