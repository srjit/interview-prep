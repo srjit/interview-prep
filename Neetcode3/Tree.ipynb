{
 "cells": [
  {
   "cell_type": "code",
   "execution_count": 2,
   "id": "30904327-b982-4398-873e-7f063ae4b76e",
   "metadata": {},
   "outputs": [],
   "source": [
    "from typing import List, Optional"
   ]
  },
  {
   "cell_type": "code",
   "execution_count": 4,
   "id": "cfedeccb-fb8a-4ccf-824b-73d28d3003c2",
   "metadata": {},
   "outputs": [],
   "source": [
    "class TreeNode:\n",
    "    def __init__(self, val=0, left=None, right=None):\n",
    "        self.val = val\n",
    "        self.left = left\n",
    "        self.right = right"
   ]
  },
  {
   "cell_type": "code",
   "execution_count": 5,
   "id": "1aef3e72-5612-4e37-b2e5-1bcc972b9328",
   "metadata": {},
   "outputs": [],
   "source": [
    "## invert tree\n",
    "\n",
    "class Solution:\n",
    "\n",
    "    def invertTree(self, root: Optional[TreeNode]) -> Optional[TreeNode]:\n",
    "\n",
    "        if not root:\n",
    "            return\n",
    "\n",
    "        \n",
    "        root.left, root.right = root.right, root.left\n",
    "        self.invertTree(root.left)\n",
    "        self.invertTree(root.right)"
   ]
  },
  {
   "cell_type": "code",
   "execution_count": 10,
   "id": "4e82f391-2f99-4397-ae10-40a4d619cbdd",
   "metadata": {},
   "outputs": [
    {
     "data": {
      "text/plain": [
       "3"
      ]
     },
     "execution_count": 10,
     "metadata": {},
     "output_type": "execute_result"
    }
   ],
   "source": [
    "## Maximum depth of binary tree\n",
    "\n",
    "class Solution:\n",
    "    def maxDepth(self, root: Optional[TreeNode]) -> int:\n",
    "\n",
    "        if not root:\n",
    "            return 0\n",
    "\n",
    "        return max(\n",
    "            1 + self.maxDepth(root.left),\n",
    "            1 + self.maxDepth(root.right),\n",
    "        )\n",
    "\n",
    "\n",
    "root = [1,2,3,None,None,4]\n",
    "tree = TreeNode(1, TreeNode(2), TreeNode(TreeNode(3), TreeNode(4), None))\n",
    "Solution().maxDepth(tree)"
   ]
  },
  {
   "cell_type": "code",
   "execution_count": 13,
   "id": "e9ca4871-06bc-4358-9910-73a96867821a",
   "metadata": {},
   "outputs": [],
   "source": [
    "## Diameter of Binary Tree\n",
    "\n",
    "class Solution:\n",
    "\n",
    "    def __init__(self):\n",
    "        self.diameter = 0\n",
    "\n",
    "    def depth(self, node):\n",
    "\n",
    "        # get left depth & right depth\n",
    "        left = self.depth(node.left) if node.left else 0\n",
    "        right = self.depth(node.right) if node.right else 0\n",
    "\n",
    "        self.diameter = max(self.diameter, left+right)\n",
    "        return 1 + max(left, right)\n",
    "    \n",
    "    def diameterOfBinaryTree(self, root: Optional[TreeNode]) -> int:\n",
    "\n",
    "        self.depth(root)\n",
    "        return self.diameter"
   ]
  },
  {
   "cell_type": "code",
   "execution_count": 15,
   "id": "748651b8-35af-4aa4-8224-541e87448e10",
   "metadata": {},
   "outputs": [],
   "source": [
    "## Balanced Tree\n",
    "\n",
    "class Solution:\n",
    "    \n",
    "    def isBalanced(self, root: Optional[TreeNode]) -> bool:\n",
    "\n",
    "        def depth_check(node):\n",
    "\n",
    "            if not node: return [0, True]\n",
    "\n",
    "            l, r = depth_check(node.left), depth_check(node.right)\n",
    "            balanced = l[1] and r[1] and abs(l[0] - r[0]) <= 1\n",
    "            return [1+ max(l, r), balanced]\n",
    "\n",
    "        return depth_check(root)"
   ]
  },
  {
   "cell_type": "code",
   "execution_count": 16,
   "id": "afa193f9-7476-4072-9801-901c1d11a6d8",
   "metadata": {},
   "outputs": [],
   "source": [
    "## Same tree\n",
    "\n",
    "class Solution:\n",
    "\n",
    "    def isSameTree(self, p: Optional[TreeNode], q: Optional[TreeNode]) -> bool:\n",
    "\n",
    "        if p is None and q is None: return True\n",
    "\n",
    "        if p and q:\n",
    "            if p.val == q.val and \\\n",
    "                self.isSameTree(p.left, q.left) and \\\n",
    "                self.isSameTree(p.right, q.right):\n",
    "                return True\n",
    "        return False"
   ]
  },
  {
   "cell_type": "code",
   "execution_count": 17,
   "id": "16e3d937-10b7-4b32-b5ea-13c730d059ae",
   "metadata": {},
   "outputs": [],
   "source": [
    "## Sub Tree\n",
    "\n",
    "class Solution:   \n",
    "    \n",
    "    def isSubtree(self, root: Optional, subRoot: Optional) -> bool:\n",
    "\n",
    "        def isSameTree(p, q):\n",
    "\n",
    "            if p is None and q is None: return True\n",
    "            if p and q:\n",
    "                if p.val == q.val and isSameTree(p.left, q.left) and isSameTree(p.right, q.right):\n",
    "                    return True\n",
    "            return False\n",
    "\n",
    "        if not subRoot: return True\n",
    "        if not root: return False\n",
    "        if isSameTree(root, subRoot): return True\n",
    "        return self.isSubtree(root.left, subRoot) or self.isSubtree(root.right, subRoot)"
   ]
  },
  {
   "cell_type": "code",
   "execution_count": 18,
   "id": "902eb48c-d7e1-4ab6-bcdd-fd23f8a89f8f",
   "metadata": {},
   "outputs": [],
   "source": [
    "## Lowest Common Ancestor in Binary Search Tree\n",
    "\n",
    "class Solution:\n",
    "    \n",
    "    def lowestCommonAncestor(self, root: TreeNode, p: TreeNode, q: TreeNode) -> TreeNode:\n",
    "\n",
    "        while True:\n",
    "\n",
    "            if root.val > p.val and root.val > q.val:\n",
    "                root = root.left\n",
    "            elif root.val < p.val and root.val < q.val:\n",
    "                root = root.right\n",
    "            else:\n",
    "                return root"
   ]
  },
  {
   "cell_type": "code",
   "execution_count": 23,
   "id": "2d1dc806-1db1-403b-bbe7-8c143bf33f5b",
   "metadata": {},
   "outputs": [
    {
     "data": {
      "text/plain": [
       "[[1], [2, 3], [4, 5, 6, 7]]"
      ]
     },
     "execution_count": 23,
     "metadata": {},
     "output_type": "execute_result"
    }
   ],
   "source": [
    "## Level order traversal\n",
    "\n",
    "from collections import deque\n",
    "\n",
    "class Solution:\n",
    "    \n",
    "    def levelOrder(self, root: Optional[TreeNode]) -> List[List[int]]:\n",
    "\n",
    "        if not root:\n",
    "            return []\n",
    "\n",
    "        q = deque()\n",
    "        q.append(root)\n",
    "\n",
    "        res = []\n",
    "        while q:\n",
    "\n",
    "            level = []\n",
    "            for i in range(len(q)):\n",
    "                node = q.popleft()\n",
    "                level.append(node.val)\n",
    "\n",
    "                if node.left: q.append(node.left)\n",
    "                if node.right: q.append(node.right)\n",
    "                    \n",
    "            res.append(level)\n",
    "        return res\n",
    "\n",
    "\n",
    "# [1,2,3,4,5,6,7]\n",
    "tree = TreeNode(1, TreeNode(2, TreeNode(4), TreeNode(5)), TreeNode(3, TreeNode(6), TreeNode(7)))\n",
    "Solution().levelOrder(tree)"
   ]
  },
  {
   "cell_type": "code",
   "execution_count": 25,
   "id": "ddd7c5ee-ffed-4de3-8624-e8db0519af3c",
   "metadata": {},
   "outputs": [
    {
     "data": {
      "text/plain": [
       "[1, 3, 7]"
      ]
     },
     "execution_count": 25,
     "metadata": {},
     "output_type": "execute_result"
    }
   ],
   "source": [
    "## Binary Tree Right Side View\n",
    "\n",
    "class Solution:\n",
    "    def rightSideView(self, root: Optional[TreeNode]) -> List[int]:\n",
    "\n",
    "        if not root:\n",
    "            return []\n",
    "\n",
    "        q = deque()\n",
    "        q.append(root)\n",
    "\n",
    "        res = []\n",
    "        while q:\n",
    "\n",
    "            level = []\n",
    "            for i in range(len(q)):\n",
    "                node = q.popleft()\n",
    "                level.append(node.val)\n",
    "\n",
    "                if node.left: q.append(node.left)\n",
    "                if node.right: q.append(node.right)\n",
    "                    \n",
    "            res.append(level[-1])\n",
    "        \n",
    "        return res\n",
    "\n",
    "tree = TreeNode(1, TreeNode(2, TreeNode(4), TreeNode(5)), TreeNode(3, TreeNode(6), TreeNode(7)))\n",
    "Solution().rightSideView(tree)"
   ]
  },
  {
   "cell_type": "code",
   "execution_count": 26,
   "id": "dbc4f91b-5777-49d6-b7b8-326926915126",
   "metadata": {},
   "outputs": [],
   "source": [
    "\n",
    "# Count Good Nodes in Binary Tree\n",
    "\n",
    "class Solution:\n",
    "    \n",
    "    def goodNodes(self, root: TreeNode) -> int:\n",
    "\n",
    "        good_nodes = 0\n",
    "\n",
    "        def dfs(node, max_val):\n",
    "\n",
    "            nonlocal good_nodes\n",
    "\n",
    "            if not node: return\n",
    "\n",
    "            if node.val >= max_val:\n",
    "                good_nodes += 1\n",
    "                max_val = node.val\n",
    "\n",
    "            if node.left: dfs(node.left, max_val)\n",
    "            if node.right: dfs(node.right, max_val)\n",
    "\n",
    "        dfs(root, root.val)\n",
    "        return good_nodes"
   ]
  },
  {
   "cell_type": "code",
   "execution_count": 27,
   "id": "9dd1c919-a3d1-4113-b182-d64a8e290e0c",
   "metadata": {},
   "outputs": [],
   "source": [
    "# Valid Binary Search Tree\n",
    "\n",
    "class Solution:\n",
    "    def isValidBST(self, root: Optional[TreeNode]) -> bool:\n",
    "\n",
    "        def validNode(node, low, high):\n",
    "            if not node:\n",
    "                return True\n",
    "                \n",
    "            if node.val <= low or node.val >= high:\n",
    "                return False\n",
    "\n",
    "            return isValidNode(node.left, low, node.val) and isValid(node.right, node.val, high)\n",
    "\n",
    "\n",
    "        return validNode(root, -float(\"inf\"), float(\"inf\"))"
   ]
  },
  {
   "cell_type": "code",
   "execution_count": 28,
   "id": "1e9c976a-2bfe-4df8-811f-55381c2d47aa",
   "metadata": {},
   "outputs": [],
   "source": [
    "# Binary tree inorder traversal gives elements in sorted order\n",
    "\n",
    "class Solution:\n",
    "    \n",
    "    def kthSmallest(self, root: Optional[TreeNode], k: int) -> int:\n",
    "\n",
    "        elts = []\n",
    "        def inorder(node):\n",
    "            if not node: return\n",
    "            inorder(node.left)\n",
    "            elts.append(node)\n",
    "            inorder(node.right)\n",
    "\n",
    "        return inorder(root)[k-1]\n",
    "            "
   ]
  },
  {
   "cell_type": "code",
   "execution_count": null,
   "id": "fc69c62e-1d83-4fdd-8acb-46a4d39e01dd",
   "metadata": {},
   "outputs": [],
   "source": [
    "\n",
    "# Pre order and inorder traversal\n",
    "\n",
    "class Solution:\n",
    "    \n",
    "    def buildTree(self, preorder: List[int], inorder: List[int]) -> Optional[TreeNode]:\n",
    "\n",
    "        if not preorder or not inorder:\n",
    "            return None\n",
    "\n",
    "        mid = inorder.index(preorder[0])\n",
    "\n",
    "        root = TreeNode(preorder[0])\n",
    "        root.left = self.buildTree(preorder[1:mid+1], inorder[:mid])\n",
    "        root.right = self.buildTree(preorder[mid+1:], inorder[mid+1:])\n",
    "\n",
    "        return root\n",
    "        \n"
   ]
  }
 ],
 "metadata": {
  "kernelspec": {
   "display_name": "Python 3 (ipykernel)",
   "language": "python",
   "name": "python3"
  },
  "language_info": {
   "codemirror_mode": {
    "name": "ipython",
    "version": 3
   },
   "file_extension": ".py",
   "mimetype": "text/x-python",
   "name": "python",
   "nbconvert_exporter": "python",
   "pygments_lexer": "ipython3",
   "version": "3.9.9"
  }
 },
 "nbformat": 4,
 "nbformat_minor": 5
}
