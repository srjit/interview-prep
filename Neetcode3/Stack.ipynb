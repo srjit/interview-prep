{
 "cells": [
  {
   "cell_type": "code",
   "execution_count": 5,
   "id": "2559673d-8853-4cb9-8957-54aa7864c7fa",
   "metadata": {},
   "outputs": [
    {
     "data": {
      "text/plain": [
       "False"
      ]
     },
     "execution_count": 5,
     "metadata": {},
     "output_type": "execute_result"
    }
   ],
   "source": [
    "## Valid Paranthesis\n",
    "\n",
    "class Solution:\n",
    "    def isValid(self, s: str) -> bool:\n",
    "\n",
    "        complement = {\n",
    "            \"}\": \"{\",\n",
    "            \"]\": \"[\",\n",
    "            \")\": \"(\"\n",
    "        }\n",
    "\n",
    "        stack = []\n",
    "        for c in s:\n",
    "            if c in complement:\n",
    "                if not stack or stack.pop() != complement[c]:\n",
    "                    return False\n",
    "            else:\n",
    "                stack.append(c)\n",
    "        if stack:\n",
    "            return False\n",
    "        return True\n",
    "\n",
    "Solution().isValid(\"([{])\")"
   ]
  },
  {
   "cell_type": "code",
   "execution_count": null,
   "id": "2a50436b-aed2-4fe7-87f9-70a448d3890b",
   "metadata": {},
   "outputs": [],
   "source": [
    "## Minimum Stack\n",
    "\n",
    "class MinStack:\n",
    "\n",
    "    def __init__(self):\n",
    "        self.store = []\n",
    "        self.min_keeper = []\n",
    "\n",
    "    def push(self, val: int) -> None:\n",
    "\n",
    "        self.store.append(val)\n",
    "        min_val = min(self.min_keeper[-1], val) if self.min_keeper else val\n",
    "        self.min_keeper.append(min_val)\n",
    "\n",
    "    def pop(self) -> None:\n",
    "\n",
    "        self.store.pop()\n",
    "        self.min_keeper.pop()\n",
    "\n",
    "    def top(self) -> int:\n",
    "\n",
    "        return self.store[-1]\n",
    "\n",
    "    def getMin(self) -> int:\n",
    "\n",
    "        return self.min_keeper[-1]"
   ]
  },
  {
   "cell_type": "code",
   "execution_count": 8,
   "id": "ccbae5ec-396b-4a2a-b1d8-557df7f85c81",
   "metadata": {},
   "outputs": [
    {
     "data": {
      "text/plain": [
       "5"
      ]
     },
     "execution_count": 8,
     "metadata": {},
     "output_type": "execute_result"
    }
   ],
   "source": [
    "\n",
    "## Evaluate Reverse Polish Notation\n",
    "from typing import List\n",
    "\n",
    "class Solution:\n",
    "    \n",
    "    def evalRPN(self, tokens: List[str]) -> int:\n",
    "\n",
    "        stack = []\n",
    "        operations = [\"+\", \"-\", \"*\", \"/\"]\n",
    "\n",
    "        for token in tokens:\n",
    "            if token in operations:\n",
    "                op1 = stack.pop()\n",
    "                op2 = stack.pop()\n",
    "                res = None\n",
    "                if token == \"+\":\n",
    "                    res = op1 + op2\n",
    "                elif token == \"-\":\n",
    "                    res = op2 - op1\n",
    "                elif token == \"*\":\n",
    "                    res = op1 * op2\n",
    "                elif token == \"/\":\n",
    "                    res = int(op2 / op1)\n",
    "                stack.append(res)\n",
    "            else:\n",
    "                stack.append(int(token))\n",
    "        return stack.pop()\n",
    "                    \n",
    "tokens = [\"1\",\"2\",\"+\",\"3\",\"*\",\"4\",\"-\"]\n",
    "Solution().evalRPN(tokens)        \n",
    "     "
   ]
  },
  {
   "cell_type": "code",
   "execution_count": 12,
   "id": "7966869b-5412-44a4-9075-74fa3c4a0ec2",
   "metadata": {},
   "outputs": [
    {
     "data": {
      "text/plain": [
       "['((()))', '(()())', '(())()', '()(())', '()()()']"
      ]
     },
     "execution_count": 12,
     "metadata": {},
     "output_type": "execute_result"
    }
   ],
   "source": [
    "## Generate Paranthesis\n",
    "\n",
    "class Solution:\n",
    "    \n",
    "    def generateParenthesis(self, n: int) -> List[str]:\n",
    "\n",
    "        res = []\n",
    "        stack = []\n",
    "        def backtrack(open_count, closed_count):\n",
    "            if open_count == closed_count == n:\n",
    "                res.append(\"\".join(stack))\n",
    "                return\n",
    "            if open_count < n:\n",
    "                stack.append(\"(\")\n",
    "                backtrack(open_count+1, closed_count)\n",
    "                stack.pop()\n",
    "            if closed_count < open_count:\n",
    "                stack.append(\")\")\n",
    "                backtrack(open_count, closed_count+1)\n",
    "                stack.pop()\n",
    "        backtrack(0, 0)\n",
    "        return res\n",
    "\n",
    "Solution().generateParenthesis(3)"
   ]
  },
  {
   "cell_type": "code",
   "execution_count": 13,
   "id": "ad5455f2-b329-4645-90ce-26e69869a14a",
   "metadata": {},
   "outputs": [],
   "source": [
    "\n",
    "## Daily Temperatures\n",
    "\n",
    "class Solution:\n",
    "    \n",
    "    def dailyTemperatures(self, temperatures: List[int]) -> List[int]:\n",
    "\n",
    "        res = [0] * len(temperatures)\n",
    "        stack = []\n",
    "\n",
    "        for i, t in enumerate(temperatures):\n",
    "\n",
    "            # if the coming temperature is greater than what we have in stack\n",
    "            while stack and t > stack[-1][0]:\n",
    "                stackT, stackIndex = stack.pop()\n",
    "                res[stackIndex] = (i - stackIndex)\n",
    "\n",
    "            stack.append([t, i])\n",
    "\n",
    "        return res"
   ]
  },
  {
   "cell_type": "code",
   "execution_count": 14,
   "id": "8cbdd60e-fdba-4e20-a387-025f3c2199f8",
   "metadata": {},
   "outputs": [],
   "source": [
    "class Solution:\n",
    "    \n",
    "    def dailyTemperatures(self, temperatures: List[int]) -> List[int]:\n",
    "\n",
    "        res = [0] * len(temperatures)\n",
    "        stack = []\n",
    "        for i, t in enumerate(temperatures):\n",
    "\n",
    "            while stack and t > stack[-1][0]:\n",
    "                stackT, stackIndex = stack.pop()\n",
    "                res[stackIndex] = (i - stackIndex)\n",
    "\n",
    "            stack.append([t, i])\n",
    "        return res"
   ]
  },
  {
   "cell_type": "code",
   "execution_count": null,
   "id": "e389af3f-bfd0-467c-8f7e-0fd0079542e2",
   "metadata": {},
   "outputs": [],
   "source": []
  }
 ],
 "metadata": {
  "kernelspec": {
   "display_name": "Python 3 (ipykernel)",
   "language": "python",
   "name": "python3"
  },
  "language_info": {
   "codemirror_mode": {
    "name": "ipython",
    "version": 3
   },
   "file_extension": ".py",
   "mimetype": "text/x-python",
   "name": "python",
   "nbconvert_exporter": "python",
   "pygments_lexer": "ipython3",
   "version": "3.9.9"
  }
 },
 "nbformat": 4,
 "nbformat_minor": 5
}
