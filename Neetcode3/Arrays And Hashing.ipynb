{
 "cells": [
  {
   "cell_type": "code",
   "execution_count": 2,
   "id": "657976f2-6283-4ca9-a221-39e065753183",
   "metadata": {},
   "outputs": [],
   "source": [
    "from typing import List"
   ]
  },
  {
   "cell_type": "code",
   "execution_count": 3,
   "id": "238919d0-49ee-4e79-9470-7aa18a96f059",
   "metadata": {},
   "outputs": [],
   "source": [
    "## Has duplicate\n",
    "\n",
    "class Solution:\n",
    "\n",
    "    def hasDuplicate(self, nums: List[int]) -> bool:\n",
    "\n",
    "        hs = set()\n",
    "        for num in nums:\n",
    "            if num in hs:\n",
    "                return True\n",
    "            hs.add(num)\n",
    "        return False"
   ]
  },
  {
   "cell_type": "code",
   "execution_count": 10,
   "id": "45258efd-eed2-4eb9-9c8d-5ae562e09b06",
   "metadata": {},
   "outputs": [
    {
     "data": {
      "text/plain": [
       "False"
      ]
     },
     "execution_count": 10,
     "metadata": {},
     "output_type": "execute_result"
    }
   ],
   "source": [
    "from collections import defaultdict\n",
    "\n",
    "class Solution:\n",
    "\n",
    "    def isAnagram(self, s: str, t: str) -> bool:\n",
    "\n",
    "        d = defaultdict(int)\n",
    "        for c in s:\n",
    "            d[c] += 1\n",
    "\n",
    "        for c in t:\n",
    "            if c not in t or d[c] <= 0:\n",
    "                return False\n",
    "            d[c] -= 1\n",
    "            \n",
    "        return sum(d.values()) == 0\n",
    "            \n",
    "        \n",
    "    \n",
    "Solution().isAnagram(\"jar\", \"jam\")"
   ]
  },
  {
   "cell_type": "code",
   "execution_count": 12,
   "id": "80dcc0e9-a166-4056-9cb0-73bbdcb2d0cc",
   "metadata": {},
   "outputs": [
    {
     "data": {
      "text/plain": [
       "[0, 2]"
      ]
     },
     "execution_count": 12,
     "metadata": {},
     "output_type": "execute_result"
    }
   ],
   "source": [
    "class Solution:\n",
    "    def twoSum(self, nums: List[int], target: int) -> List[int]:\n",
    "\n",
    "        complement_dict = {}\n",
    "        for i, num in enumerate(nums):\n",
    "            if num in complement_dict:\n",
    "                return [complement_dict[num], i]\n",
    "            complement = target - num\n",
    "            complement_dict[complement] = i\n",
    "        return [-1,-1]\n",
    "            \n",
    "Solution().twoSum([4,5,6], 10)"
   ]
  },
  {
   "cell_type": "code",
   "execution_count": 15,
   "id": "8545f232-4873-4910-80d2-ba9dab8fc331",
   "metadata": {},
   "outputs": [
    {
     "data": {
      "text/plain": [
       "[['act', 'cat'], ['pots', 'tops', 'stop'], ['hat']]"
      ]
     },
     "execution_count": 15,
     "metadata": {},
     "output_type": "execute_result"
    }
   ],
   "source": [
    "## group anagrams\n",
    "\n",
    "from typing import List\n",
    "from collections import defaultdict\n",
    "\n",
    "class Solution:\n",
    "    \n",
    "    def groupAnagrams(self, strs: List[str]) -> List[List[str]]:\n",
    "\n",
    "        res = defaultdict(list)\n",
    "        for s in strs:\n",
    "            key = [0] * 26\n",
    "            for c in s:\n",
    "                key[ord(c) - ord(\"a\")] += 1\n",
    "            res[tuple(key)].append(s)\n",
    "        return list(res.values())\n",
    "\n",
    "\n",
    "Solution().groupAnagrams([\"act\",\"pots\",\"tops\",\"cat\",\"stop\",\"hat\"])"
   ]
  },
  {
   "cell_type": "code",
   "execution_count": 16,
   "id": "356225c4-0fca-4cbb-bfc9-329e66c37769",
   "metadata": {},
   "outputs": [],
   "source": [
    "## k most freq elements\n",
    "from typing import List\n",
    "\n",
    "## Top K Elements in List\n",
    "\n",
    "class Solution:\n",
    "\n",
    "    def topKFrequent(self, nums: List[int], k: int) -> List[int]:\n",
    "\n",
    "        # find freq of each element\n",
    "        count = defaultdict(int)\n",
    "        for n in nums:\n",
    "            count[n] += 1\n",
    "\n",
    "        # each possible frequncy is a list\n",
    "        freq = [[] for i in range(len(nums) + 1)]\n",
    "        for n, c in count.items():\n",
    "            freq[c].append(n)\n",
    "\n",
    "        res = []\n",
    "        for i in range(len(freq)-1, -1, -1):\n",
    "            for n in freq[i]:\n",
    "                res.append(n)\n",
    "                if len(res) >= k:\n",
    "                    return res"
   ]
  },
  {
   "cell_type": "code",
   "execution_count": 29,
   "id": "4718a237-0973-4fb3-bba3-3325cd2b3dae",
   "metadata": {},
   "outputs": [
    {
     "data": {
      "text/plain": [
       "['neet', 'code', 'love', 'you']"
      ]
     },
     "execution_count": 29,
     "metadata": {},
     "output_type": "execute_result"
    }
   ],
   "source": [
    "## encode and decode strings\n",
    "\n",
    "from typing import List\n",
    "\n",
    "class Solution:\n",
    "\n",
    "    def encode(self, strs: List[str]) -> str:\n",
    "\n",
    "        op = \"\"\n",
    "        for tmp in strs:\n",
    "            op += str(len(tmp)) + \"#\" + tmp\n",
    "        return op\n",
    "\n",
    "    def decode(self, s: str) -> List[str]:\n",
    "        \n",
    "        op = []\n",
    "        i = 0\n",
    "\n",
    "        tmpstr = ''\n",
    "        while i < len(s):\n",
    "            \n",
    "            if s[i] == '#':\n",
    "                strlen = int(tmpstr)\n",
    "                word = s[i+1:i+strlen+1]\n",
    "                op.append(word)\n",
    "                tmpstr = ''\n",
    "                i = i + strlen + 1\n",
    "            else:\n",
    "                tmpstr += s[i]\n",
    "                i+=1\n",
    "        return op\n",
    "\n",
    "s = [\"neet\",\"code\",\"love\",\"you\"]\n",
    "encoded_str = Solution().encode(s)\n",
    "Solution().decode(encoded_str)"
   ]
  },
  {
   "cell_type": "code",
   "execution_count": 32,
   "id": "c63613db-f0dd-46a6-a986-a7121f3ec8bd",
   "metadata": {},
   "outputs": [
    {
     "data": {
      "text/plain": [
       "[48, 24, 12, 8]"
      ]
     },
     "execution_count": 32,
     "metadata": {},
     "output_type": "execute_result"
    }
   ],
   "source": [
    "## product of array except self\n",
    "\n",
    "class Solution:\n",
    "\n",
    "    def productExceptSelf(self, nums: List[int]) -> List[int]:\n",
    "\n",
    "        prefix, suffix = [1], [1]\n",
    "        res = []\n",
    "\n",
    "        for i in range(1, len(nums)):\n",
    "            prefix.append(prefix[-1] * nums[i-1])\n",
    "\n",
    "        for i in range(len(nums)-2, -1, -1):\n",
    "            suffix.append(suffix[-1] * nums[i+1])\n",
    "\n",
    "        for i in range(len(nums)):\n",
    "            res.append(prefix[i] * suffix[len(nums)-i-1])\n",
    "\n",
    "        return res\n",
    "\n",
    "Solution().productExceptSelf([1,2,4,6])        "
   ]
  },
  {
   "cell_type": "code",
   "execution_count": 33,
   "id": "c4ba81d8-6271-4aeb-bff3-c32eb0ff66e7",
   "metadata": {},
   "outputs": [],
   "source": [
    "# Valid sudoku\n",
    "\n",
    "from collections import defaultdict\n",
    "\n",
    "class Solution:\n",
    "    \n",
    "    def isValidSudoku(self, board: List[List[str]]) -> bool:\n",
    "\n",
    "        rows = defaultdict(list)\n",
    "        cols = defaultdict(list)\n",
    "        squares = defaultdict(list)\n",
    "\n",
    "        for r in range(9):\n",
    "            for c in range(9):\n",
    "                if board[r][c] == \".\":\n",
    "                    continue\n",
    "                if board[r][c] in rows[r] or \\\n",
    "                    board[r][c] in cols[c] or \\\n",
    "                    board[r][c] in squares[(r//3,c//3)]:\n",
    "                    return False\n",
    "                rows[r].append(board[r][c])\n",
    "                cols[c].append(board[r][c])\n",
    "                squares[(r//3,c//3)].append(board[r][c])\n",
    "\n",
    "        return True"
   ]
  },
  {
   "cell_type": "code",
   "execution_count": 37,
   "id": "eaecba7d-fdd4-4c86-8f74-c87aaee134e8",
   "metadata": {},
   "outputs": [
    {
     "data": {
      "text/plain": [
       "7"
      ]
     },
     "execution_count": 37,
     "metadata": {},
     "output_type": "execute_result"
    }
   ],
   "source": [
    "\n",
    "## Longest consequtive string\n",
    "\n",
    "class Solution:\n",
    "    \n",
    "    def longestConsecutive(self, nums: List[int]) -> int:\n",
    "\n",
    "        elements = set(nums)\n",
    "        visited = set()\n",
    "        maxlen = 0\n",
    "\n",
    "        for num in nums:\n",
    "            if num not in visited and num-1 not in elements:\n",
    "\n",
    "                tmp = 0\n",
    "                while num + tmp in elements:\n",
    "                    tmp += 1\n",
    "                    visited.add(num+tmp)\n",
    "\n",
    "                maxlen = max(maxlen, tmp)\n",
    "        return maxlen\n",
    "                \n",
    "Solution().longestConsecutive([0,3,2,5,4,6,1,1])                    "
   ]
  },
  {
   "cell_type": "markdown",
   "id": "dcd687d2-a716-4bc9-89c3-bfcae2faa72d",
   "metadata": {},
   "source": [
    "## Two Pointers"
   ]
  },
  {
   "cell_type": "code",
   "execution_count": 48,
   "id": "58a65e2f-d76c-43cc-ba67-934f0b777a38",
   "metadata": {},
   "outputs": [
    {
     "data": {
      "text/plain": [
       "True"
      ]
     },
     "execution_count": 48,
     "metadata": {},
     "output_type": "execute_result"
    }
   ],
   "source": [
    "import string\n",
    "\n",
    "class Solution:\n",
    "    def isPalindrome(self, s: str) -> bool:\n",
    "        \n",
    "        s = \"\".join([x.lower() for x in s if x in string.ascii_letters + string.digits])\n",
    "        i = 0\n",
    "        while s and i < len(s) // 2 + 1:\n",
    "            if s[i] != s[len(s)-i-1]:\n",
    "                return False\n",
    "            i += 1\n",
    "        \n",
    "        return True\n",
    "\n",
    "s = \" \"\n",
    "Solution().isPalindrome(s)"
   ]
  },
  {
   "cell_type": "code",
   "execution_count": 49,
   "id": "2199822c-817a-4fb3-bd2e-777812e33cc0",
   "metadata": {},
   "outputs": [
    {
     "data": {
      "text/plain": [
       "[0, 1]"
      ]
     },
     "execution_count": 49,
     "metadata": {},
     "output_type": "execute_result"
    }
   ],
   "source": [
    "## input array is sorted\n",
    "\n",
    "from typing import List\n",
    "\n",
    "class Solution:\n",
    "\n",
    "    def twoSum(self, numbers: List[int], target: int) -> List[int]:\n",
    "\n",
    "        i, j = 0, len(numbers)-1\n",
    "        while i < j:\n",
    "            cursum = numbers[i] + numbers[j]\n",
    "            if cursum == target:\n",
    "                return [i, j]\n",
    "            elif cursum < target:\n",
    "                i += 1\n",
    "            else:\n",
    "                j -= 1\n",
    "        return [-1, -1]\n",
    "\n",
    "numbers = [1,2,3,4]\n",
    "target = 3\n",
    "Solution().twoSum(numbers, target)"
   ]
  },
  {
   "cell_type": "code",
   "execution_count": 60,
   "id": "0f459c82-15a5-4c6e-8f93-b8c4e4cc92a5",
   "metadata": {},
   "outputs": [
    {
     "data": {
      "text/plain": [
       "[(-1, 0, 1), (2, -1, -1)]"
      ]
     },
     "execution_count": 60,
     "metadata": {},
     "output_type": "execute_result"
    }
   ],
   "source": [
    "## three sum\n",
    "from collections import defaultdict\n",
    "\n",
    "class Solution:\n",
    "\n",
    "    def threeSum(self, nums):\n",
    "\n",
    "        pos, neg = defaultdict(int), defaultdict(int)\n",
    "        zeros = 0\n",
    "\n",
    "        for num in nums:\n",
    "            if num == 0:\n",
    "                zeros += 1\n",
    "            elif num > 0:\n",
    "                pos[num] += 1\n",
    "            else:\n",
    "                neg[num] += 1\n",
    "\n",
    "        res = []\n",
    "        if zeros:\n",
    "            for n in pos:\n",
    "                if -n in neg:\n",
    "                    res.append([-n, 0, n])\n",
    "            if zeros >= 3:\n",
    "                res.append([0, 0, 0])\n",
    "\n",
    "        for d1, d2 in [(pos, neg), (neg, pos)]:\n",
    "            for i, (d1_k1, d1_v1) in enumerate(d1.items()):\n",
    "                for d1_k2, d1_v2 in list(d1.items())[i:]:\n",
    "\n",
    "                    if (d1_k1 != d1_k2) or ((d1_k1 == d1_k2) and  (d1_v1 > 1)):\n",
    "                        breakpoint()\n",
    "                        if -(d1_k1 + d1_k2) in d2:\n",
    "                            res.append([-(d1_k1 + d1_k2),\n",
    "                                       d1_k1,\n",
    "                                       d1_k2])\n",
    "        return res\n",
    "\n",
    "#Output: [[-1,-1,2],[-1,0,1]]\n",
    "\n",
    "nums = [-1,0,1,2,-1,-4]\n",
    "Solution().threeSum(nums)"
   ]
  },
  {
   "cell_type": "code",
   "execution_count": 62,
   "id": "962770ce-aa7f-4a5c-8c6c-5e90b6762309",
   "metadata": {},
   "outputs": [
    {
     "data": {
      "text/plain": [
       "36"
      ]
     },
     "execution_count": 62,
     "metadata": {},
     "output_type": "execute_result"
    }
   ],
   "source": [
    "## Container with most water \n",
    "\n",
    "class Solution:\n",
    "    def maxArea(self, height: List[int]) -> int:\n",
    "\n",
    "        maxArea = 0\n",
    "        i, j = 0, len(height)-1\n",
    "\n",
    "        while i < j:\n",
    "\n",
    "            area = min(height[i], height[j]) * (j-i)\n",
    "            maxArea = max(area, maxArea)\n",
    "\n",
    "            if height[i] < height[j]:\n",
    "                i += 1\n",
    "            else:\n",
    "                j -= 1\n",
    "\n",
    "        return maxArea\n",
    "\n",
    "Solution().maxArea([1,7,2,5,4,7,3,6])"
   ]
  },
  {
   "cell_type": "code",
   "execution_count": 64,
   "id": "5e8830e4-de58-4c74-9e78-6576961bf0b1",
   "metadata": {},
   "outputs": [
    {
     "data": {
      "text/plain": [
       "6"
      ]
     },
     "execution_count": 64,
     "metadata": {},
     "output_type": "execute_result"
    }
   ],
   "source": [
    "## Best time to buy and sell stock\n",
    "\n",
    "from typing import List\n",
    "\n",
    "class Solution:\n",
    "    \n",
    "    def maxProfit(self, prices: List[int]) -> int:\n",
    "\n",
    "        minPrev = prices[0]\n",
    "        maxProfit = 0\n",
    "\n",
    "        for i in range(1, len(prices)):\n",
    "            profit = prices[i] - minPrev\n",
    "            maxProfit = max(profit, maxProfit)\n",
    "            minPrev = min(prices[i], minPrev)\n",
    "\n",
    "        return maxProfit\n",
    "\n",
    "prices = [10,1,5,6,7,1]\n",
    "Solution().maxProfit(prices)"
   ]
  },
  {
   "cell_type": "code",
   "execution_count": 75,
   "id": "e9ebf3ed-47d4-4ff3-a2f6-cc6f4ee05ac9",
   "metadata": {},
   "outputs": [
    {
     "data": {
      "text/plain": [
       "3"
      ]
     },
     "execution_count": 75,
     "metadata": {},
     "output_type": "execute_result"
    }
   ],
   "source": [
    "## Longest substring without repeating characters\n",
    "\n",
    "class Solution:\n",
    "    \n",
    "    def lengthOfLongestSubstring(self, s: str) -> int:\n",
    "\n",
    "        maxl = 0\n",
    "        l = 0\n",
    "        buffer = set()\n",
    "\n",
    "        for r in range(len(s)):\n",
    "\n",
    "            while s[r] in buffer:\n",
    "                \n",
    "                buffer.remove(s[l])\n",
    "                l += 1\n",
    "\n",
    "            buffer.add(s[r])\n",
    "            maxl = max(maxl, r-l+1)\n",
    "\n",
    "        return maxl\n",
    "            \n",
    "      \n",
    "Solution().lengthOfLongestSubstring(\"pwwkew\")"
   ]
  },
  {
   "cell_type": "code",
   "execution_count": 79,
   "id": "a5249f85-8e57-41a4-bc29-4d8e6567131f",
   "metadata": {},
   "outputs": [
    {
     "data": {
      "text/plain": [
       "5"
      ]
     },
     "execution_count": 79,
     "metadata": {},
     "output_type": "execute_result"
    }
   ],
   "source": [
    "class Solution:\n",
    "    \n",
    "    def characterReplacement(self, s: str, k: int) -> int:\n",
    "\n",
    "        l, maxl = 0, 0 \n",
    "        counts = defaultdict(int)\n",
    "\n",
    "        for r in range(len(s)):\n",
    "\n",
    "            counts[s[r]] += 1\n",
    "            max_freq = max(counts.values())\n",
    "\n",
    "            if (r-l+1) - max_freq > k:\n",
    "\n",
    "                counts[s[l]] -= 1\n",
    "                l += 1\n",
    "\n",
    "            maxl = max(maxl, r-l+1)\n",
    "\n",
    "        return maxl\n",
    "\n",
    "Solution().characterReplacement(\"AAABABB\", 1)"
   ]
  },
  {
   "cell_type": "code",
   "execution_count": 80,
   "id": "824e0218-521d-40ae-aeab-9fbb3decee3e",
   "metadata": {},
   "outputs": [],
   "source": [
    "## permutation of substring\n",
    "from collections import Counter\n",
    "\n",
    "class Solution:\n",
    "    def checkInclusion(self, s1: str, s2: str) -> bool:\n",
    "\n",
    "        s1_len = len(s1)\n",
    "        s1_freq = Counter(s1)\n",
    "\n",
    "        for i in range(len(s2)-s1_len+1):\n",
    "\n",
    "            s2_sub = s2[i:i+s1_len]\n",
    "            if s1_freq == Counter(s2_sub):\n",
    "                return True\n",
    "\n",
    "        return False"
   ]
  },
  {
   "cell_type": "code",
   "execution_count": null,
   "id": "a2c3fb5e-9acb-452b-b1ee-fc92e06a70d5",
   "metadata": {},
   "outputs": [],
   "source": []
  }
 ],
 "metadata": {
  "kernelspec": {
   "display_name": "transformers",
   "language": "python",
   "name": "transformers"
  },
  "language_info": {
   "codemirror_mode": {
    "name": "ipython",
    "version": 3
   },
   "file_extension": ".py",
   "mimetype": "text/x-python",
   "name": "python",
   "nbconvert_exporter": "python",
   "pygments_lexer": "ipython3",
   "version": "3.9.9"
  }
 },
 "nbformat": 4,
 "nbformat_minor": 5
}
