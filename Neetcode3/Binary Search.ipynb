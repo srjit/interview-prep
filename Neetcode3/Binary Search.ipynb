{
 "cells": [
  {
   "cell_type": "code",
   "execution_count": 3,
   "id": "27126b1d-7849-457b-8cbb-aab7ea7b031b",
   "metadata": {},
   "outputs": [
    {
     "data": {
      "text/plain": [
       "3"
      ]
     },
     "execution_count": 3,
     "metadata": {},
     "output_type": "execute_result"
    }
   ],
   "source": [
    "## Binary Search\n",
    "\n",
    "\n",
    "from typing import List\n",
    "\n",
    "class Solution:\n",
    "    def search(self, nums: List[int], target: int) -> int:\n",
    "\n",
    "        l, r = 0, len(nums)-1\n",
    "        while l <= r:\n",
    "            m = l + (r-l)//2\n",
    "            if nums[m] == target:\n",
    "                return m\n",
    "            elif nums[m] < target:\n",
    "                l = m + 1\n",
    "            else:\n",
    "                r = m - 1\n",
    "        return -1\n",
    "\n",
    "\n",
    "\n",
    "nums = [-1,0,2,4,6,8]\n",
    "target = 4\n",
    "Solution().search(nums, target)"
   ]
  },
  {
   "cell_type": "code",
   "execution_count": 20,
   "id": "88e06ac0-92c3-4fb6-9474-3501f1a1b5aa",
   "metadata": {},
   "outputs": [
    {
     "data": {
      "text/plain": [
       "True"
      ]
     },
     "execution_count": 20,
     "metadata": {},
     "output_type": "execute_result"
    }
   ],
   "source": [
    "\n",
    "class Solution:\n",
    "    \n",
    "    def searchMatrix(self, matrix: List[List[int]], target: int) -> bool:\n",
    "\n",
    "        def search(nums: List[int], target: int) -> int:\n",
    "            l, r = 0, len(nums)-1\n",
    "            while l <= r:\n",
    "                m = l + (r-l)//2\n",
    "                if nums[m] == target:\n",
    "                    return True\n",
    "                elif nums[m] < target:\n",
    "                    l = m + 1\n",
    "                else:\n",
    "                    r = m - 1\n",
    "            return False\n",
    "\n",
    "        \n",
    "        m, n = len(matrix), len(matrix[0])\n",
    "        \n",
    "        for r in range(m):\n",
    "            \n",
    "            if matrix[r][0] <= target and  target <= matrix[r][-1]:\n",
    "                return search(matrix[r], target)\n",
    "\n",
    "        return False\n",
    "\n",
    "matrix = [[1,3,5,7],[10,11,16,20],[23,30,34,60]]\n",
    "target = 3\n",
    "Solution().searchMatrix(matrix, target)\n"
   ]
  },
  {
   "cell_type": "code",
   "execution_count": 26,
   "id": "d29b2dbb-5b42-44f9-8adc-9a188759821b",
   "metadata": {},
   "outputs": [
    {
     "data": {
      "text/plain": [
       "2"
      ]
     },
     "execution_count": 26,
     "metadata": {},
     "output_type": "execute_result"
    }
   ],
   "source": [
    "import math\n",
    "class Solution:\n",
    "    \n",
    "    def minEatingSpeed(self, piles: List[int], H: int) -> int:\n",
    "\n",
    "        def feasible(speed):\n",
    "            return sum([math.ceil(pile/speed) for pile in piles]) <= H\n",
    "\n",
    "        # max number of bananas\n",
    "        l, r = 1, max(piles)\n",
    "\n",
    "        # how many bananas do we meet is a number between these inclusive\n",
    "        while l < r:\n",
    "\n",
    "            m = l + (r-l)//2\n",
    "            if feasible(m):\n",
    "                # try to reduce the number of possible bananas\n",
    "                r = m\n",
    "            else:\n",
    "                # increase the number of possible bananas\n",
    "                l = m+1\n",
    "\n",
    "        # least number of possible bananas is in l\n",
    "        return l\n",
    "        \n",
    "\n",
    "piles = [1,4,3,2]\n",
    "h = 9\n",
    "Solution().minEatingSpeed(piles, h)\n",
    "            "
   ]
  },
  {
   "cell_type": "code",
   "execution_count": 29,
   "id": "9d20e14f-8c18-414e-9074-e73caf924f15",
   "metadata": {},
   "outputs": [
    {
     "data": {
      "text/plain": [
       "1"
      ]
     },
     "execution_count": 29,
     "metadata": {},
     "output_type": "execute_result"
    }
   ],
   "source": [
    "## Find Minimum in Rotated Sorted Array\n",
    "\n",
    "class Solution:\n",
    "    \n",
    "    def findMin(self, nums: List[int]) -> int:\n",
    "\n",
    "        l, r = 0, len(nums)-1\n",
    "        while l < r:\n",
    "            m = l + (r-l)//2\n",
    "\n",
    "            # right part is sorted - we have to adjust 'r'\n",
    "            if nums[m] <= nums[r]:\n",
    "                r = m\n",
    "            # right part is not sorted - minimum is somewhere in this\n",
    "            # change the left to move up one position\n",
    "            else:\n",
    "                l = m + 1\n",
    "        return nums[l]\n",
    "\n",
    "\n",
    "nums = [3,4,5,6,1,2]\n",
    "Solution().findMin(nums)"
   ]
  },
  {
   "cell_type": "code",
   "execution_count": 30,
   "id": "f3586e2f-d2aa-446d-bdd0-e3e30797fa2f",
   "metadata": {},
   "outputs": [
    {
     "data": {
      "text/plain": [
       "4"
      ]
     },
     "execution_count": 30,
     "metadata": {},
     "output_type": "execute_result"
    }
   ],
   "source": [
    "class Solution:\n",
    "    def search(self, nums: List[int], target: int) -> int:\n",
    "\n",
    "        l, r = 0, len(nums)-1\n",
    "        while l <= r:\n",
    "            m = l + (r-l)//2\n",
    "\n",
    "            if nums[m] == target:\n",
    "                return m\n",
    "\n",
    "            # right side is sorted\n",
    "            elif nums[m] < nums[r]:\n",
    "                if nums[m] <= target <= nums[r]:\n",
    "                    l = m + 1\n",
    "                else:\n",
    "                    r = m - 1\n",
    "            # left side is sorted\n",
    "            else:\n",
    "                if nums[l] <= target <= nums[m]:\n",
    "                    r = m - 1\n",
    "                else:\n",
    "                    l = m + 1\n",
    "        return -1\n",
    "\n",
    "nums = [3,4,5,6,1,2]\n",
    "target = 1\n",
    "Solution().search(nums, target)"
   ]
  },
  {
   "cell_type": "code",
   "execution_count": 31,
   "id": "16fbeb9c-5dbd-4c11-8000-234436c92f80",
   "metadata": {},
   "outputs": [],
   "source": [
    "## Time based Key Value Store\n",
    "\n",
    "from collections import defaultdict\n",
    "\n",
    "class TimeMap:\n",
    "\n",
    "    def __init__(self):\n",
    "        self.store = defaultdict(list)\n",
    "\n",
    "    def set(self, key: str, value: str, timestamp: int) -> None:\n",
    "        self.store[key].append([value, timestamp])\n",
    "\n",
    "    def get(self, key: str, timestamp: int) -> str:\n",
    "\n",
    "        vals = self.store[key]\n",
    "        l, r = 0, len(vals)-1\n",
    "        res = \"\"\n",
    "\n",
    "        while l <= r:\n",
    "            m = l + (r-l)//2\n",
    "            ts_mid = vals[m][1]\n",
    "\n",
    "            if ts_mid <= timestamp:\n",
    "                res = vals[m][0]\n",
    "                l = m+1\n",
    "            else:\n",
    "                r = m-1\n",
    "        return res"
   ]
  },
  {
   "cell_type": "code",
   "execution_count": null,
   "id": "469c70e5-5662-4f52-ab5d-a9f0e11ad780",
   "metadata": {},
   "outputs": [],
   "source": []
  }
 ],
 "metadata": {
  "kernelspec": {
   "display_name": "Python 3 (ipykernel)",
   "language": "python",
   "name": "python3"
  },
  "language_info": {
   "codemirror_mode": {
    "name": "ipython",
    "version": 3
   },
   "file_extension": ".py",
   "mimetype": "text/x-python",
   "name": "python",
   "nbconvert_exporter": "python",
   "pygments_lexer": "ipython3",
   "version": "3.9.9"
  }
 },
 "nbformat": 4,
 "nbformat_minor": 5
}
