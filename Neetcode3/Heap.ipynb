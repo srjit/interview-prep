{
 "cells": [
  {
   "cell_type": "code",
   "execution_count": 1,
   "id": "3a1bc25b-3e5e-4c81-84f7-89f725c8789c",
   "metadata": {},
   "outputs": [],
   "source": [
    "from typing import List\n",
    "import heapq"
   ]
  },
  {
   "cell_type": "code",
   "execution_count": 2,
   "id": "b57d4268-cd65-4a7e-a25d-85061c945964",
   "metadata": {},
   "outputs": [],
   "source": [
    "## Kth Largest Integer in a Stream\n",
    "\n",
    "class KthLargest:\n",
    "\n",
    "    def __init__(self, k: int, nums: List[int]):\n",
    "\n",
    "        self.nums = nums\n",
    "        self.k = k\n",
    "\n",
    "        heapq.heapify(self.nums)\n",
    "        while len(nums) > k:\n",
    "            heapq.heappop(self.nums)\n",
    "\n",
    "    def add(self, val: int) -> int:\n",
    "\n",
    "        heapq.heappush(self.nums, val)\n",
    "        while len(nums) > k:\n",
    "            heapq.heappop(self.nums)\n",
    "\n",
    "        return self.nums[0]"
   ]
  },
  {
   "cell_type": "code",
   "execution_count": 4,
   "id": "74393076-95c0-4e7f-ab64-e9b9518b0e51",
   "metadata": {},
   "outputs": [
    {
     "data": {
      "text/plain": [
       "1"
      ]
     },
     "execution_count": 4,
     "metadata": {},
     "output_type": "execute_result"
    }
   ],
   "source": [
    "## Last stone weight\n",
    "\n",
    "class Solution:\n",
    "    def lastStoneWeight(self, stones: List[int]) -> int:\n",
    "\n",
    "        stones = [-1 * x for x in stones]\n",
    "        heapq.heapify(stones)\n",
    "\n",
    "        while len(stones) > 1:\n",
    "\n",
    "            stone1 = heapq.heappop(stones)\n",
    "            stone2 = heapq.heappop(stones)\n",
    "\n",
    "            if stone2 > stone1:\n",
    "                heapq.heappush(stones, stone2 - stone1)\n",
    "\n",
    "        stones.append(0)\n",
    "        return abs(stones[0])\n",
    "\n",
    "stones = [2,3,6,2,4]\n",
    "Solution().lastStoneWeight(stones)        "
   ]
  },
  {
   "cell_type": "code",
   "execution_count": 7,
   "id": "f622b326-c986-4d38-a3c5-b4673f71b7fb",
   "metadata": {},
   "outputs": [
    {
     "data": {
      "text/plain": [
       "[[0, 2], [2, 0]]"
      ]
     },
     "execution_count": 7,
     "metadata": {},
     "output_type": "execute_result"
    }
   ],
   "source": [
    "## K Points close to the origin\n",
    "\n",
    "class Solution:\n",
    "\n",
    "    def kClosest(self, points: List[List[int]], k: int) -> List[List[int]]:\n",
    "\n",
    "        def distanceFromOrigin(point):\n",
    "            x, y = point[0], point[1]\n",
    "            return x**2 + y**2\n",
    "\n",
    "        distances = [(distanceFromOrigin(point), point) for point in points]\n",
    "        heapq.heapify(distances)\n",
    "\n",
    "        res = []\n",
    "        i = 0\n",
    "        while i < k:\n",
    "            _, point = heapq.heappop(distances)\n",
    "            res.append(point)\n",
    "            i+=1\n",
    "        return res\n",
    "points = [[0,2],[2,0],[2,2]]\n",
    "k = 2\n",
    "Solution().kClosest(points, k)"
   ]
  },
  {
   "cell_type": "code",
   "execution_count": 8,
   "id": "aaceb4b7-b3fd-4f77-9f6c-fac34c2d1b32",
   "metadata": {},
   "outputs": [
    {
     "data": {
      "text/plain": [
       "4"
      ]
     },
     "execution_count": 8,
     "metadata": {},
     "output_type": "execute_result"
    }
   ],
   "source": [
    "## Kth Largest Element in an Array\n",
    "\n",
    "import heapq\n",
    "\n",
    "class Solution:\n",
    "    \n",
    "    def findKthLargest(self, nums: List[int], k: int) -> int:\n",
    "\n",
    "        nums = [-num for num in nums]\n",
    "        heapq.heapify(nums)\n",
    "\n",
    "        while k > 0:\n",
    "            val = heapq.heappop(nums)\n",
    "            k -= 1\n",
    "\n",
    "        return -val\n",
    "\n",
    "nums = [2,3,1,5,4]\n",
    "k = 2\n",
    "Solution().findKthLargest(nums, k)"
   ]
  },
  {
   "cell_type": "code",
   "execution_count": 10,
   "id": "0016dbcc-5ec0-47ee-b942-623b2842bd97",
   "metadata": {},
   "outputs": [],
   "source": [
    "## Median in a stream\n",
    "\n",
    "import heapq\n",
    "\n",
    "class MedianFinder:\n",
    "    \n",
    "\n",
    "    def __init__(self):\n",
    "        self.small, self.big = [], []\n",
    "\n",
    "\n",
    "    def addNum(self, num: int) -> None:\n",
    "        \n",
    "        heapq.heappush(self.small, -1 * num)\n",
    "\n",
    "        # if the largest element in the small array is bigger than the smallest element in\n",
    "        # the large array\n",
    "        if self.small and self.big and (-1 * self.small[0] > self.big[0]):\n",
    "            biggest_element = -1 * heapq.heappop(self.small)\n",
    "            heapq.heappush(self.big, biggest_element)\n",
    "\n",
    "        if len(self.small) > len(self.big) + 1:\n",
    "            biggest = -heapq.heappop(self.small)\n",
    "            heapq.heappush(self.big, biggest)\n",
    "\n",
    "        if len(self.big) > len(self.small)+1:\n",
    "            smallest = heapq.heappop(self.big)\n",
    "            heapq.heappush(self.small, -smallest)\n",
    "\n",
    "    def findMedian(self) -> float:\n",
    "\n",
    "        if len(self.small) > len(self.big):\n",
    "            return -self.small[0]\n",
    "        elif len(self.big) > len(self.small):\n",
    "            return self.big[0]\n",
    "        else:\n",
    "            return (-self.small[0] + self.big[0]) / 2"
   ]
  },
  {
   "cell_type": "code",
   "execution_count": null,
   "id": "4b1fbcb1-c969-42db-a074-43bdc9472e36",
   "metadata": {},
   "outputs": [],
   "source": []
  }
 ],
 "metadata": {
  "kernelspec": {
   "display_name": "Python 3 (ipykernel)",
   "language": "python",
   "name": "python3"
  },
  "language_info": {
   "codemirror_mode": {
    "name": "ipython",
    "version": 3
   },
   "file_extension": ".py",
   "mimetype": "text/x-python",
   "name": "python",
   "nbconvert_exporter": "python",
   "pygments_lexer": "ipython3",
   "version": "3.9.9"
  }
 },
 "nbformat": 4,
 "nbformat_minor": 5
}
