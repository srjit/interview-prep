{
 "cells": [
  {
   "cell_type": "code",
   "execution_count": 2,
   "id": "3238ef8f-6f73-4e65-85cb-4916905e6344",
   "metadata": {},
   "outputs": [],
   "source": [
    "from typing import List"
   ]
  },
  {
   "cell_type": "code",
   "execution_count": 3,
   "id": "b50914d4-07d2-4574-8125-f61f7e18a5a6",
   "metadata": {},
   "outputs": [
    {
     "data": {
      "text/plain": [
       "8"
      ]
     },
     "execution_count": 3,
     "metadata": {},
     "output_type": "execute_result"
    }
   ],
   "source": [
    "class Solution:\n",
    "    def maxSubArray(self, nums: List[int]) -> int:\n",
    "\n",
    "        globalMax = localMax = nums[0]\n",
    "\n",
    "        for num in nums[1:]:\n",
    "            localMax = max(localMax+num, num)\n",
    "            globalMax = max(globalMax, localMax)\n",
    "\n",
    "        return globalMax\n",
    "\n",
    "nums = [2,-3,4,-2,2,1,-1,4]\n",
    "Solution().maxSubArray(nums)        "
   ]
  },
  {
   "cell_type": "code",
   "execution_count": null,
   "id": "852e274d-109f-4471-99bd-73445664af75",
   "metadata": {},
   "outputs": [],
   "source": []
  }
 ],
 "metadata": {
  "kernelspec": {
   "display_name": "Python 3 (ipykernel)",
   "language": "python",
   "name": "python3"
  },
  "language_info": {
   "codemirror_mode": {
    "name": "ipython",
    "version": 3
   },
   "file_extension": ".py",
   "mimetype": "text/x-python",
   "name": "python",
   "nbconvert_exporter": "python",
   "pygments_lexer": "ipython3",
   "version": "3.9.9"
  }
 },
 "nbformat": 4,
 "nbformat_minor": 5
}
