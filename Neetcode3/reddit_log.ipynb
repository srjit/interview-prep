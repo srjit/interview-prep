{
 "cells": [
  {
   "cell_type": "code",
   "execution_count": 5,
   "id": "277df839-f595-4e12-8615-3ddfcc7a1682",
   "metadata": {},
   "outputs": [],
   "source": [
    "transactions_data = [\n",
    "    {\"transaction_date\": \"2024-08-01\", \"sales_price\": 250.75, \"quantity\": 3},\n",
    "    {\"transaction_date\": \"2024-08-02\", \"sales_price\": 145.20, \"quantity\": 2},\n",
    "    {\"transaction_date\": \"2024-08-03\", \"sales_price\": 320.50, \"quantity\": 5},\n",
    "    {\"transaction_date\": \"2024-08-04\", \"sales_price\": 198.99, \"quantity\": 4},\n",
    "    {\"transaction_date\": \"2024-08-05\", \"sales_price\": 275.30, \"quantity\": 6},\n",
    "    {\"transaction_date\": \"2024-08-06\", \"sales_price\": 430.00, \"quantity\": 1},\n",
    "    {\"transaction_date\": \"2024-08-07\", \"sales_price\": 150.75, \"quantity\": 2},\n",
    "    {\"transaction_date\": \"2024-08-08\", \"sales_price\": 299.99, \"quantity\": 7},\n",
    "    {\"transaction_date\": \"2024-08-09\", \"sales_price\": 125.50, \"quantity\": 3},\n",
    "    {\"transaction_date\": \"2024-08-10\", \"sales_price\": 475.80, \"quantity\": 8}\n",
    "]"
   ]
  },
  {
   "cell_type": "code",
   "execution_count": 8,
   "id": "f1d3567a-c819-4ba0-90a5-339d06ffd01b",
   "metadata": {},
   "outputs": [
    {
     "name": "stdout",
     "output_type": "stream",
     "text": [
      "Total Sales Price: $2672.78\n",
      "Total Quantity: 41\n"
     ]
    }
   ],
   "source": [
    "class Transaction:\n",
    "    \n",
    "    def __init__(self, transaction_date, sales_price, quantity):\n",
    "        self.transaction_date = transaction_date\n",
    "        self.sales_price = sales_price\n",
    "        self.quantity = quantity\n",
    "\n",
    "\n",
    "class TransactionProcessor:\n",
    "\n",
    "    def __init__(self, transactions_data):\n",
    "        self.transactions = self._parse_transactions(transactions_data)\n",
    "\n",
    "    def _parse_transactions(self, transactions_data):\n",
    "\n",
    "        transactions = []\n",
    "        for data in transactions_data:\n",
    "            transaction = Transaction(\n",
    "                transaction_date=data[\"transaction_date\"],\n",
    "                sales_price=data[\"sales_price\"],\n",
    "                quantity=data[\"quantity\"]\n",
    "            )\n",
    "            transactions.append(transaction)\n",
    "\n",
    "        return transactions\n",
    "\n",
    "    \n",
    "    def calculate_totals(self):\n",
    "\n",
    "        total_sales_price=0\n",
    "        total_sales_quantity=0\n",
    "\n",
    "        for transaction in self.transactions:\n",
    "            total_sales_price += transaction.sales_price\n",
    "            total_sales_quantity += transaction.quantity\n",
    "\n",
    "        return total_sales_price, total_sales_quantity\n",
    "            \n",
    "\n",
    "\n",
    "# Process transactions\n",
    "processor = TransactionProcessor(transactions_data)\n",
    "total_sales_price, total_quantity = processor.calculate_totals()\n",
    "\n",
    "print(f\"Total Sales Price: ${total_sales_price}\")\n",
    "print(f\"Total Quantity: {total_quantity}\")"
   ]
  },
  {
   "cell_type": "code",
   "execution_count": null,
   "id": "8704ebb1-bb3f-459e-a928-076d346fd573",
   "metadata": {},
   "outputs": [],
   "source": []
  }
 ],
 "metadata": {
  "kernelspec": {
   "display_name": "Python 3 (ipykernel)",
   "language": "python",
   "name": "python3"
  },
  "language_info": {
   "codemirror_mode": {
    "name": "ipython",
    "version": 3
   },
   "file_extension": ".py",
   "mimetype": "text/x-python",
   "name": "python",
   "nbconvert_exporter": "python",
   "pygments_lexer": "ipython3",
   "version": "3.9.9"
  }
 },
 "nbformat": 4,
 "nbformat_minor": 5
}
